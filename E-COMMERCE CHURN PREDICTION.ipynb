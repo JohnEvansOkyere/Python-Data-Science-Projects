{
 "cells": [
  {
   "cell_type": "code",
   "execution_count": null,
   "id": "dd207ee3",
   "metadata": {},
   "outputs": [],
   "source": []
  },
  {
   "cell_type": "code",
   "execution_count": 3,
   "id": "f49e1038",
   "metadata": {},
   "outputs": [],
   "source": [
    "import pandas as pd\n",
    "import numpy as np\n",
    "import seaborn as sns\n",
    "import matplotlib.pyplot as plt\n",
    "from sklearn.pipeline import Pipeline\n",
    "from sklearn.model_selection import train_test_split\n",
    "from sklearn.preprocessing import OneHotEncoder\n",
    "from sklearn.impute import SimpleImputer\n",
    "from sklearn.preprocessing import StandardScaler\n",
    "from sklearn.compose import ColumnTransformer\n",
    "\n",
    "\n",
    "from sklearn.ensemble import RandomForestRegressor\n",
    "from sklearn.metrics import mean_squared_error, mean_absolute_error, r2_score\n",
    "from sklearn.metrics import accuracy_score, classification_report, confusion_matrix\n",
    "\n",
    "#CROSS VALIDATION\n",
    "from sklearn.model_selection import cross_val_score\n",
    "\n",
    "\n",
    "import warnings\n",
    "warnings.filterwarnings(\"ignore\")\n"
   ]
  },
  {
   "cell_type": "code",
   "execution_count": 4,
   "id": "8336bc8e",
   "metadata": {},
   "outputs": [
    {
     "data": {
      "text/html": [
       "<div>\n",
       "<style scoped>\n",
       "    .dataframe tbody tr th:only-of-type {\n",
       "        vertical-align: middle;\n",
       "    }\n",
       "\n",
       "    .dataframe tbody tr th {\n",
       "        vertical-align: top;\n",
       "    }\n",
       "\n",
       "    .dataframe thead th {\n",
       "        text-align: right;\n",
       "    }\n",
       "</style>\n",
       "<table border=\"1\" class=\"dataframe\">\n",
       "  <thead>\n",
       "    <tr style=\"text-align: right;\">\n",
       "      <th></th>\n",
       "      <th>CustomerID</th>\n",
       "      <th>Churn</th>\n",
       "      <th>Tenure</th>\n",
       "      <th>PreferredLoginDevice</th>\n",
       "      <th>CityTier</th>\n",
       "      <th>WarehouseToHome</th>\n",
       "      <th>PreferredPaymentMode</th>\n",
       "      <th>Gender</th>\n",
       "      <th>HourSpendOnApp</th>\n",
       "      <th>NumberOfDeviceRegistered</th>\n",
       "      <th>PreferedOrderCat</th>\n",
       "      <th>SatisfactionScore</th>\n",
       "      <th>MaritalStatus</th>\n",
       "      <th>NumberOfAddress</th>\n",
       "      <th>Complain</th>\n",
       "      <th>OrderAmountHikeFromlastYear</th>\n",
       "      <th>CouponUsed</th>\n",
       "      <th>OrderCount</th>\n",
       "      <th>DaySinceLastOrder</th>\n",
       "      <th>CashbackAmount</th>\n",
       "    </tr>\n",
       "  </thead>\n",
       "  <tbody>\n",
       "    <tr>\n",
       "      <th>0</th>\n",
       "      <td>50001</td>\n",
       "      <td>1</td>\n",
       "      <td>4.0</td>\n",
       "      <td>Mobile Phone</td>\n",
       "      <td>3</td>\n",
       "      <td>6.0</td>\n",
       "      <td>Debit Card</td>\n",
       "      <td>Female</td>\n",
       "      <td>3.0</td>\n",
       "      <td>3</td>\n",
       "      <td>Laptop &amp; Accessory</td>\n",
       "      <td>2</td>\n",
       "      <td>Single</td>\n",
       "      <td>9</td>\n",
       "      <td>1</td>\n",
       "      <td>11.0</td>\n",
       "      <td>1.0</td>\n",
       "      <td>1.0</td>\n",
       "      <td>5.0</td>\n",
       "      <td>160</td>\n",
       "    </tr>\n",
       "    <tr>\n",
       "      <th>1</th>\n",
       "      <td>50002</td>\n",
       "      <td>1</td>\n",
       "      <td>NaN</td>\n",
       "      <td>Phone</td>\n",
       "      <td>1</td>\n",
       "      <td>8.0</td>\n",
       "      <td>UPI</td>\n",
       "      <td>Male</td>\n",
       "      <td>3.0</td>\n",
       "      <td>4</td>\n",
       "      <td>Mobile</td>\n",
       "      <td>3</td>\n",
       "      <td>Single</td>\n",
       "      <td>7</td>\n",
       "      <td>1</td>\n",
       "      <td>15.0</td>\n",
       "      <td>0.0</td>\n",
       "      <td>1.0</td>\n",
       "      <td>0.0</td>\n",
       "      <td>121</td>\n",
       "    </tr>\n",
       "    <tr>\n",
       "      <th>2</th>\n",
       "      <td>50003</td>\n",
       "      <td>1</td>\n",
       "      <td>NaN</td>\n",
       "      <td>Phone</td>\n",
       "      <td>1</td>\n",
       "      <td>30.0</td>\n",
       "      <td>Debit Card</td>\n",
       "      <td>Male</td>\n",
       "      <td>2.0</td>\n",
       "      <td>4</td>\n",
       "      <td>Mobile</td>\n",
       "      <td>3</td>\n",
       "      <td>Single</td>\n",
       "      <td>6</td>\n",
       "      <td>1</td>\n",
       "      <td>14.0</td>\n",
       "      <td>0.0</td>\n",
       "      <td>1.0</td>\n",
       "      <td>3.0</td>\n",
       "      <td>120</td>\n",
       "    </tr>\n",
       "    <tr>\n",
       "      <th>3</th>\n",
       "      <td>50004</td>\n",
       "      <td>1</td>\n",
       "      <td>0.0</td>\n",
       "      <td>Phone</td>\n",
       "      <td>3</td>\n",
       "      <td>15.0</td>\n",
       "      <td>Debit Card</td>\n",
       "      <td>Male</td>\n",
       "      <td>2.0</td>\n",
       "      <td>4</td>\n",
       "      <td>Laptop &amp; Accessory</td>\n",
       "      <td>5</td>\n",
       "      <td>Single</td>\n",
       "      <td>8</td>\n",
       "      <td>0</td>\n",
       "      <td>23.0</td>\n",
       "      <td>0.0</td>\n",
       "      <td>1.0</td>\n",
       "      <td>3.0</td>\n",
       "      <td>134</td>\n",
       "    </tr>\n",
       "    <tr>\n",
       "      <th>4</th>\n",
       "      <td>50005</td>\n",
       "      <td>1</td>\n",
       "      <td>0.0</td>\n",
       "      <td>Phone</td>\n",
       "      <td>1</td>\n",
       "      <td>12.0</td>\n",
       "      <td>CC</td>\n",
       "      <td>Male</td>\n",
       "      <td>NaN</td>\n",
       "      <td>3</td>\n",
       "      <td>Mobile</td>\n",
       "      <td>5</td>\n",
       "      <td>Single</td>\n",
       "      <td>3</td>\n",
       "      <td>0</td>\n",
       "      <td>11.0</td>\n",
       "      <td>1.0</td>\n",
       "      <td>1.0</td>\n",
       "      <td>3.0</td>\n",
       "      <td>130</td>\n",
       "    </tr>\n",
       "  </tbody>\n",
       "</table>\n",
       "</div>"
      ],
      "text/plain": [
       "   CustomerID  Churn  Tenure PreferredLoginDevice  CityTier  WarehouseToHome  \\\n",
       "0       50001      1     4.0         Mobile Phone         3              6.0   \n",
       "1       50002      1     NaN                Phone         1              8.0   \n",
       "2       50003      1     NaN                Phone         1             30.0   \n",
       "3       50004      1     0.0                Phone         3             15.0   \n",
       "4       50005      1     0.0                Phone         1             12.0   \n",
       "\n",
       "  PreferredPaymentMode  Gender  HourSpendOnApp  NumberOfDeviceRegistered  \\\n",
       "0           Debit Card  Female             3.0                         3   \n",
       "1                  UPI    Male             3.0                         4   \n",
       "2           Debit Card    Male             2.0                         4   \n",
       "3           Debit Card    Male             2.0                         4   \n",
       "4                   CC    Male             NaN                         3   \n",
       "\n",
       "     PreferedOrderCat  SatisfactionScore MaritalStatus  NumberOfAddress  \\\n",
       "0  Laptop & Accessory                  2        Single                9   \n",
       "1              Mobile                  3        Single                7   \n",
       "2              Mobile                  3        Single                6   \n",
       "3  Laptop & Accessory                  5        Single                8   \n",
       "4              Mobile                  5        Single                3   \n",
       "\n",
       "   Complain  OrderAmountHikeFromlastYear  CouponUsed  OrderCount  \\\n",
       "0         1                         11.0         1.0         1.0   \n",
       "1         1                         15.0         0.0         1.0   \n",
       "2         1                         14.0         0.0         1.0   \n",
       "3         0                         23.0         0.0         1.0   \n",
       "4         0                         11.0         1.0         1.0   \n",
       "\n",
       "   DaySinceLastOrder  CashbackAmount  \n",
       "0                5.0             160  \n",
       "1                0.0             121  \n",
       "2                3.0             120  \n",
       "3                3.0             134  \n",
       "4                3.0             130  "
      ]
     },
     "execution_count": 4,
     "metadata": {},
     "output_type": "execute_result"
    }
   ],
   "source": [
    "dataset = pd.read_csv(\"e-ccomerce_data.csv\")\n",
    "\n",
    "dataset.head()"
   ]
  },
  {
   "cell_type": "markdown",
   "id": "767ba1df",
   "metadata": {},
   "source": [
    "## DESCRIPTIVE STATITISTICS"
   ]
  },
  {
   "cell_type": "code",
   "execution_count": 5,
   "id": "665482d4",
   "metadata": {},
   "outputs": [
    {
     "name": "stdout",
     "output_type": "stream",
     "text": [
      "<class 'pandas.core.frame.DataFrame'>\n",
      "RangeIndex: 5630 entries, 0 to 5629\n",
      "Data columns (total 20 columns):\n",
      " #   Column                       Non-Null Count  Dtype  \n",
      "---  ------                       --------------  -----  \n",
      " 0   CustomerID                   5630 non-null   int64  \n",
      " 1   Churn                        5630 non-null   int64  \n",
      " 2   Tenure                       5366 non-null   float64\n",
      " 3   PreferredLoginDevice         5630 non-null   object \n",
      " 4   CityTier                     5630 non-null   int64  \n",
      " 5   WarehouseToHome              5379 non-null   float64\n",
      " 6   PreferredPaymentMode         5630 non-null   object \n",
      " 7   Gender                       5630 non-null   object \n",
      " 8   HourSpendOnApp               5375 non-null   float64\n",
      " 9   NumberOfDeviceRegistered     5630 non-null   int64  \n",
      " 10  PreferedOrderCat             5630 non-null   object \n",
      " 11  SatisfactionScore            5630 non-null   int64  \n",
      " 12  MaritalStatus                5630 non-null   object \n",
      " 13  NumberOfAddress              5630 non-null   int64  \n",
      " 14  Complain                     5630 non-null   int64  \n",
      " 15  OrderAmountHikeFromlastYear  5365 non-null   float64\n",
      " 16  CouponUsed                   5374 non-null   float64\n",
      " 17  OrderCount                   5372 non-null   float64\n",
      " 18  DaySinceLastOrder            5323 non-null   float64\n",
      " 19  CashbackAmount               5630 non-null   int64  \n",
      "dtypes: float64(7), int64(8), object(5)\n",
      "memory usage: 879.8+ KB\n"
     ]
    }
   ],
   "source": [
    "dataset.info()"
   ]
  },
  {
   "cell_type": "code",
   "execution_count": 6,
   "id": "a613b849",
   "metadata": {},
   "outputs": [
    {
     "data": {
      "text/plain": [
       "CustomerID                       0\n",
       "Churn                            0\n",
       "Tenure                         264\n",
       "PreferredLoginDevice             0\n",
       "CityTier                         0\n",
       "WarehouseToHome                251\n",
       "PreferredPaymentMode             0\n",
       "Gender                           0\n",
       "HourSpendOnApp                 255\n",
       "NumberOfDeviceRegistered         0\n",
       "PreferedOrderCat                 0\n",
       "SatisfactionScore                0\n",
       "MaritalStatus                    0\n",
       "NumberOfAddress                  0\n",
       "Complain                         0\n",
       "OrderAmountHikeFromlastYear    265\n",
       "CouponUsed                     256\n",
       "OrderCount                     258\n",
       "DaySinceLastOrder              307\n",
       "CashbackAmount                   0\n",
       "dtype: int64"
      ]
     },
     "execution_count": 6,
     "metadata": {},
     "output_type": "execute_result"
    }
   ],
   "source": [
    "#Checking missin values\n",
    "\n",
    "dataset.isnull().sum()"
   ]
  },
  {
   "cell_type": "code",
   "execution_count": 7,
   "id": "cf8e87c8",
   "metadata": {},
   "outputs": [
    {
     "data": {
      "text/html": [
       "<div>\n",
       "<style scoped>\n",
       "    .dataframe tbody tr th:only-of-type {\n",
       "        vertical-align: middle;\n",
       "    }\n",
       "\n",
       "    .dataframe tbody tr th {\n",
       "        vertical-align: top;\n",
       "    }\n",
       "\n",
       "    .dataframe thead th {\n",
       "        text-align: right;\n",
       "    }\n",
       "</style>\n",
       "<table border=\"1\" class=\"dataframe\">\n",
       "  <thead>\n",
       "    <tr style=\"text-align: right;\">\n",
       "      <th></th>\n",
       "      <th>count</th>\n",
       "      <th>mean</th>\n",
       "      <th>std</th>\n",
       "      <th>min</th>\n",
       "      <th>25%</th>\n",
       "      <th>50%</th>\n",
       "      <th>75%</th>\n",
       "      <th>max</th>\n",
       "    </tr>\n",
       "  </thead>\n",
       "  <tbody>\n",
       "    <tr>\n",
       "      <th>CustomerID</th>\n",
       "      <td>5630.0</td>\n",
       "      <td>52815.500000</td>\n",
       "      <td>1625.385339</td>\n",
       "      <td>50001.0</td>\n",
       "      <td>51408.25</td>\n",
       "      <td>52815.5</td>\n",
       "      <td>54222.75</td>\n",
       "      <td>55630.0</td>\n",
       "    </tr>\n",
       "    <tr>\n",
       "      <th>Churn</th>\n",
       "      <td>5630.0</td>\n",
       "      <td>0.168384</td>\n",
       "      <td>0.374240</td>\n",
       "      <td>0.0</td>\n",
       "      <td>0.00</td>\n",
       "      <td>0.0</td>\n",
       "      <td>0.00</td>\n",
       "      <td>1.0</td>\n",
       "    </tr>\n",
       "    <tr>\n",
       "      <th>Tenure</th>\n",
       "      <td>5366.0</td>\n",
       "      <td>10.189899</td>\n",
       "      <td>8.557241</td>\n",
       "      <td>0.0</td>\n",
       "      <td>2.00</td>\n",
       "      <td>9.0</td>\n",
       "      <td>16.00</td>\n",
       "      <td>61.0</td>\n",
       "    </tr>\n",
       "    <tr>\n",
       "      <th>CityTier</th>\n",
       "      <td>5630.0</td>\n",
       "      <td>1.654707</td>\n",
       "      <td>0.915389</td>\n",
       "      <td>1.0</td>\n",
       "      <td>1.00</td>\n",
       "      <td>1.0</td>\n",
       "      <td>3.00</td>\n",
       "      <td>3.0</td>\n",
       "    </tr>\n",
       "    <tr>\n",
       "      <th>WarehouseToHome</th>\n",
       "      <td>5379.0</td>\n",
       "      <td>15.639896</td>\n",
       "      <td>8.531475</td>\n",
       "      <td>5.0</td>\n",
       "      <td>9.00</td>\n",
       "      <td>14.0</td>\n",
       "      <td>20.00</td>\n",
       "      <td>127.0</td>\n",
       "    </tr>\n",
       "    <tr>\n",
       "      <th>HourSpendOnApp</th>\n",
       "      <td>5375.0</td>\n",
       "      <td>2.931535</td>\n",
       "      <td>0.721926</td>\n",
       "      <td>0.0</td>\n",
       "      <td>2.00</td>\n",
       "      <td>3.0</td>\n",
       "      <td>3.00</td>\n",
       "      <td>5.0</td>\n",
       "    </tr>\n",
       "    <tr>\n",
       "      <th>NumberOfDeviceRegistered</th>\n",
       "      <td>5630.0</td>\n",
       "      <td>3.688988</td>\n",
       "      <td>1.023999</td>\n",
       "      <td>1.0</td>\n",
       "      <td>3.00</td>\n",
       "      <td>4.0</td>\n",
       "      <td>4.00</td>\n",
       "      <td>6.0</td>\n",
       "    </tr>\n",
       "    <tr>\n",
       "      <th>SatisfactionScore</th>\n",
       "      <td>5630.0</td>\n",
       "      <td>3.066785</td>\n",
       "      <td>1.380194</td>\n",
       "      <td>1.0</td>\n",
       "      <td>2.00</td>\n",
       "      <td>3.0</td>\n",
       "      <td>4.00</td>\n",
       "      <td>5.0</td>\n",
       "    </tr>\n",
       "    <tr>\n",
       "      <th>NumberOfAddress</th>\n",
       "      <td>5630.0</td>\n",
       "      <td>4.214032</td>\n",
       "      <td>2.583586</td>\n",
       "      <td>1.0</td>\n",
       "      <td>2.00</td>\n",
       "      <td>3.0</td>\n",
       "      <td>6.00</td>\n",
       "      <td>22.0</td>\n",
       "    </tr>\n",
       "    <tr>\n",
       "      <th>Complain</th>\n",
       "      <td>5630.0</td>\n",
       "      <td>0.284902</td>\n",
       "      <td>0.451408</td>\n",
       "      <td>0.0</td>\n",
       "      <td>0.00</td>\n",
       "      <td>0.0</td>\n",
       "      <td>1.00</td>\n",
       "      <td>1.0</td>\n",
       "    </tr>\n",
       "    <tr>\n",
       "      <th>OrderAmountHikeFromlastYear</th>\n",
       "      <td>5365.0</td>\n",
       "      <td>15.707922</td>\n",
       "      <td>3.675485</td>\n",
       "      <td>11.0</td>\n",
       "      <td>13.00</td>\n",
       "      <td>15.0</td>\n",
       "      <td>18.00</td>\n",
       "      <td>26.0</td>\n",
       "    </tr>\n",
       "    <tr>\n",
       "      <th>CouponUsed</th>\n",
       "      <td>5374.0</td>\n",
       "      <td>1.751023</td>\n",
       "      <td>1.894621</td>\n",
       "      <td>0.0</td>\n",
       "      <td>1.00</td>\n",
       "      <td>1.0</td>\n",
       "      <td>2.00</td>\n",
       "      <td>16.0</td>\n",
       "    </tr>\n",
       "    <tr>\n",
       "      <th>OrderCount</th>\n",
       "      <td>5372.0</td>\n",
       "      <td>3.008004</td>\n",
       "      <td>2.939680</td>\n",
       "      <td>1.0</td>\n",
       "      <td>1.00</td>\n",
       "      <td>2.0</td>\n",
       "      <td>3.00</td>\n",
       "      <td>16.0</td>\n",
       "    </tr>\n",
       "    <tr>\n",
       "      <th>DaySinceLastOrder</th>\n",
       "      <td>5323.0</td>\n",
       "      <td>4.543491</td>\n",
       "      <td>3.654433</td>\n",
       "      <td>0.0</td>\n",
       "      <td>2.00</td>\n",
       "      <td>3.0</td>\n",
       "      <td>7.00</td>\n",
       "      <td>46.0</td>\n",
       "    </tr>\n",
       "    <tr>\n",
       "      <th>CashbackAmount</th>\n",
       "      <td>5630.0</td>\n",
       "      <td>177.221492</td>\n",
       "      <td>49.193869</td>\n",
       "      <td>0.0</td>\n",
       "      <td>146.00</td>\n",
       "      <td>163.0</td>\n",
       "      <td>196.00</td>\n",
       "      <td>325.0</td>\n",
       "    </tr>\n",
       "  </tbody>\n",
       "</table>\n",
       "</div>"
      ],
      "text/plain": [
       "                              count          mean          std      min  \\\n",
       "CustomerID                   5630.0  52815.500000  1625.385339  50001.0   \n",
       "Churn                        5630.0      0.168384     0.374240      0.0   \n",
       "Tenure                       5366.0     10.189899     8.557241      0.0   \n",
       "CityTier                     5630.0      1.654707     0.915389      1.0   \n",
       "WarehouseToHome              5379.0     15.639896     8.531475      5.0   \n",
       "HourSpendOnApp               5375.0      2.931535     0.721926      0.0   \n",
       "NumberOfDeviceRegistered     5630.0      3.688988     1.023999      1.0   \n",
       "SatisfactionScore            5630.0      3.066785     1.380194      1.0   \n",
       "NumberOfAddress              5630.0      4.214032     2.583586      1.0   \n",
       "Complain                     5630.0      0.284902     0.451408      0.0   \n",
       "OrderAmountHikeFromlastYear  5365.0     15.707922     3.675485     11.0   \n",
       "CouponUsed                   5374.0      1.751023     1.894621      0.0   \n",
       "OrderCount                   5372.0      3.008004     2.939680      1.0   \n",
       "DaySinceLastOrder            5323.0      4.543491     3.654433      0.0   \n",
       "CashbackAmount               5630.0    177.221492    49.193869      0.0   \n",
       "\n",
       "                                  25%      50%       75%      max  \n",
       "CustomerID                   51408.25  52815.5  54222.75  55630.0  \n",
       "Churn                            0.00      0.0      0.00      1.0  \n",
       "Tenure                           2.00      9.0     16.00     61.0  \n",
       "CityTier                         1.00      1.0      3.00      3.0  \n",
       "WarehouseToHome                  9.00     14.0     20.00    127.0  \n",
       "HourSpendOnApp                   2.00      3.0      3.00      5.0  \n",
       "NumberOfDeviceRegistered         3.00      4.0      4.00      6.0  \n",
       "SatisfactionScore                2.00      3.0      4.00      5.0  \n",
       "NumberOfAddress                  2.00      3.0      6.00     22.0  \n",
       "Complain                         0.00      0.0      1.00      1.0  \n",
       "OrderAmountHikeFromlastYear     13.00     15.0     18.00     26.0  \n",
       "CouponUsed                       1.00      1.0      2.00     16.0  \n",
       "OrderCount                       1.00      2.0      3.00     16.0  \n",
       "DaySinceLastOrder                2.00      3.0      7.00     46.0  \n",
       "CashbackAmount                 146.00    163.0    196.00    325.0  "
      ]
     },
     "execution_count": 7,
     "metadata": {},
     "output_type": "execute_result"
    }
   ],
   "source": [
    "#STATISTICS SUMMARY\n",
    "\n",
    "dataset.describe().T"
   ]
  },
  {
   "cell_type": "markdown",
   "id": "478a3f1a",
   "metadata": {},
   "source": [
    "The statistics summary reveals some interesting features about my dataset.\n",
    "Churn is a boolean, mean satisfaction score exceed that of complain score which seems to be a positive sign, maximum days \n",
    "last order of a customer is 46 days, one and half months"
   ]
  },
  {
   "cell_type": "code",
   "execution_count": 8,
   "id": "e17a1be8",
   "metadata": {},
   "outputs": [
    {
     "data": {
      "text/html": [
       "<div>\n",
       "<style scoped>\n",
       "    .dataframe tbody tr th:only-of-type {\n",
       "        vertical-align: middle;\n",
       "    }\n",
       "\n",
       "    .dataframe tbody tr th {\n",
       "        vertical-align: top;\n",
       "    }\n",
       "\n",
       "    .dataframe thead th {\n",
       "        text-align: right;\n",
       "    }\n",
       "</style>\n",
       "<table border=\"1\" class=\"dataframe\">\n",
       "  <thead>\n",
       "    <tr style=\"text-align: right;\">\n",
       "      <th></th>\n",
       "      <th>PreferredLoginDevice</th>\n",
       "      <th>PreferredPaymentMode</th>\n",
       "      <th>Gender</th>\n",
       "      <th>PreferedOrderCat</th>\n",
       "      <th>MaritalStatus</th>\n",
       "    </tr>\n",
       "  </thead>\n",
       "  <tbody>\n",
       "    <tr>\n",
       "      <th>0</th>\n",
       "      <td>Mobile Phone</td>\n",
       "      <td>Debit Card</td>\n",
       "      <td>Female</td>\n",
       "      <td>Laptop &amp; Accessory</td>\n",
       "      <td>Single</td>\n",
       "    </tr>\n",
       "    <tr>\n",
       "      <th>1</th>\n",
       "      <td>Phone</td>\n",
       "      <td>UPI</td>\n",
       "      <td>Male</td>\n",
       "      <td>Mobile</td>\n",
       "      <td>Single</td>\n",
       "    </tr>\n",
       "    <tr>\n",
       "      <th>2</th>\n",
       "      <td>Phone</td>\n",
       "      <td>Debit Card</td>\n",
       "      <td>Male</td>\n",
       "      <td>Mobile</td>\n",
       "      <td>Single</td>\n",
       "    </tr>\n",
       "    <tr>\n",
       "      <th>3</th>\n",
       "      <td>Phone</td>\n",
       "      <td>Debit Card</td>\n",
       "      <td>Male</td>\n",
       "      <td>Laptop &amp; Accessory</td>\n",
       "      <td>Single</td>\n",
       "    </tr>\n",
       "    <tr>\n",
       "      <th>4</th>\n",
       "      <td>Phone</td>\n",
       "      <td>CC</td>\n",
       "      <td>Male</td>\n",
       "      <td>Mobile</td>\n",
       "      <td>Single</td>\n",
       "    </tr>\n",
       "  </tbody>\n",
       "</table>\n",
       "</div>"
      ],
      "text/plain": [
       "  PreferredLoginDevice PreferredPaymentMode  Gender    PreferedOrderCat  \\\n",
       "0         Mobile Phone           Debit Card  Female  Laptop & Accessory   \n",
       "1                Phone                  UPI    Male              Mobile   \n",
       "2                Phone           Debit Card    Male              Mobile   \n",
       "3                Phone           Debit Card    Male  Laptop & Accessory   \n",
       "4                Phone                   CC    Male              Mobile   \n",
       "\n",
       "  MaritalStatus  \n",
       "0        Single  \n",
       "1        Single  \n",
       "2        Single  \n",
       "3        Single  \n",
       "4        Single  "
      ]
     },
     "execution_count": 8,
     "metadata": {},
     "output_type": "execute_result"
    }
   ],
   "source": [
    "#GROUPING DATA INTO CATEGORICAL AND NUMERICAL\n",
    "\n",
    "# Select numerical columns\n",
    "numerical = dataset.select_dtypes(include=['int', 'float'])\n",
    "\n",
    "# Select categorical columns\n",
    "categorical = dataset.select_dtypes(exclude=[\"int\", \"float\"])\n",
    "\n",
    "categorical.head()"
   ]
  },
  {
   "cell_type": "code",
   "execution_count": 9,
   "id": "d0961092",
   "metadata": {},
   "outputs": [
    {
     "name": "stdout",
     "output_type": "stream",
     "text": [
      "Caterical count for: PreferredLoginDevice\n",
      "PreferredLoginDevice\n",
      "Mobile Phone    2765\n",
      "Computer        1634\n",
      "Phone           1231\n",
      "Name: count, dtype: int64\n",
      "\n",
      "Caterical count for: PreferredPaymentMode\n",
      "PreferredPaymentMode\n",
      "Debit Card          2314\n",
      "Credit Card         1501\n",
      "E wallet             614\n",
      "UPI                  414\n",
      "COD                  365\n",
      "CC                   273\n",
      "Cash on Delivery     149\n",
      "Name: count, dtype: int64\n",
      "\n",
      "Caterical count for: Gender\n",
      "Gender\n",
      "Male      3384\n",
      "Female    2246\n",
      "Name: count, dtype: int64\n",
      "\n",
      "Caterical count for: PreferedOrderCat\n",
      "PreferedOrderCat\n",
      "Laptop & Accessory    2050\n",
      "Mobile Phone          1271\n",
      "Fashion                826\n",
      "Mobile                 809\n",
      "Grocery                410\n",
      "Others                 264\n",
      "Name: count, dtype: int64\n",
      "\n",
      "Caterical count for: MaritalStatus\n",
      "MaritalStatus\n",
      "Married     2986\n",
      "Single      1796\n",
      "Divorced     848\n",
      "Name: count, dtype: int64\n",
      "\n"
     ]
    }
   ],
   "source": [
    "#COUNTING CATEGORICAL VALUES\n",
    "\n",
    "for col in categorical:\n",
    "    print(f\"Caterical count for: {col}\")\n",
    "    count = dataset[col].value_counts()\n",
    "    print(count)\n",
    "    print()"
   ]
  },
  {
   "cell_type": "code",
   "execution_count": 10,
   "id": "1a7364a9",
   "metadata": {},
   "outputs": [
    {
     "data": {
      "image/png": "[encoded data removed]",
      "text/plain": [
       "<Figure size 432x288 with 1 Axes>"
      ]
     },
     "metadata": {
      "needs_background": "light"
     },
     "output_type": "display_data"
    },
    {
     "data": {
      "image/png": "[encoded data removed]",
      "text/plain": [
       "<Figure size 432x288 with 1 Axes>"
      ]
     },
     "metadata": {
      "needs_background": "light"
     },
     "output_type": "display_data"
    },
    {
     "data": {
      "image/png": "[encoded data removed]",
      "text/plain": [
       "<Figure size 432x288 with 1 Axes>"
      ]
     },
     "metadata": {
      "needs_background": "light"
     },
     "output_type": "display_data"
    },
    {
     "data": {
      "image/png": "[encoded data removed]",
      "text/plain": [
       "<Figure size 432x288 with 1 Axes>"
      ]
     },
     "metadata": {
      "needs_background": "light"
     },
     "output_type": "display_data"
    },
    {
     "data": {
      "image/png": "[encoded data removed]",
      "text/plain": [
       "<Figure size 432x288 with 1 Axes>"
      ]
     },
     "metadata": {
      "needs_background": "light"
     },
     "output_type": "display_data"
    }
   ],
   "source": [
    "#PLOTTING OF CATEGORICAL\n",
    "for col in categorical:\n",
    "    plt.figure(figsize=(6, 4))\n",
    "    sns.countplot(data=dataset, x=col, palette=\"pastel\")\n",
    "    plt.title(f\"Count of {col}\")\n",
    "    plt.xlabel(col)\n",
    "    plt.ylabel(\"Count\")\n",
    "    plt.xticks(rotation=45)\n",
    "    plt.show()\n"
   ]
  },
  {
   "cell_type": "code",
   "execution_count": 11,
   "id": "d56df18f",
   "metadata": {},
   "outputs": [
    {
     "data": {
      "image/png": "[encoded data removed]",
      "text/plain": [
       "<Figure size 1080x1440 with 15 Axes>"
      ]
     },
     "metadata": {
      "needs_background": "light"
     },
     "output_type": "display_data"
    }
   ],
   "source": [
    "numerical_da = numerical.columns\n",
    "\n",
    "plt.figure(figsize=(15,20))\n",
    "\n",
    "# Loop through each numerical column to create a boxplot\n",
    "for i,col in enumerate(numerical_da):\n",
    "    plt.subplot(4,4 , i+1) #creating four rows, four columns\n",
    "    sns.boxplot(y = dataset[col], color=\"cornflowerblue\") # Plotting\n",
    "    plt.title(col)\n",
    "#Adjust layout to avaoid overllapping\n",
    "plt.tight_layout\n",
    "plt.show()"
   ]
  },
  {
   "cell_type": "markdown",
   "id": "bb9cf551",
   "metadata": {},
   "source": [
    "WarehouseToHome: Most deliveries are made within a certain range, but there are a few outliers where the delivery time was significantly longer.\n",
    "\n",
    "HourSpendOnApp: Most users spend between 2 and 4 hours on the app, with a few outliers who spend significantly more.\n",
    "\n",
    "NumberOfDeviceRegistered: Most users have registered a few devices, but a few have registered a large number of devices.\n",
    "\n",
    "SatisfactionScore: Most users have a satisfaction score between 3 and 4, with a few outliers who have very low or very high satisfaction scores.\n",
    "By analyzing these box plots, you can gain insights into the distribution of different variables and identify potential outliers or unusual patterns."
   ]
  },
  {
   "cell_type": "code",
   "execution_count": 12,
   "id": "c5ab53cc",
   "metadata": {},
   "outputs": [
    {
     "data": {
      "text/plain": [
       "Text(0.5, 1.0, 'Correlation Heatmap')"
      ]
     },
     "execution_count": 12,
     "metadata": {},
     "output_type": "execute_result"
    },
    {
     "data": {
      "image/png": "[encoded data removed]",
      "text/plain": [
       "<Figure size 1152x576 with 2 Axes>"
      ]
     },
     "metadata": {
      "needs_background": "light"
     },
     "output_type": "display_data"
    }
   ],
   "source": [
    "#CORRELATION MATRIX\n",
    "\n",
    "plt.figure(figsize=(16,8))\n",
    "\n",
    "#CREATE A MASK FOR DIAGONAL CORRELATION PLOT\n",
    "mask = np.triu(np.ones_like(numerical.corr(), dtype=np.bool))\n",
    "# PLOT THE HEATMAP\n",
    "heatmap = sns.heatmap(\n",
    "    numerical.corr(),\n",
    "    mask=mask,\n",
    "    annot=True,\n",
    "    cmap=\"Blues\",\n",
    "    fmt=\".2f\",  # Format to 2 decimal places\n",
    "    linewidths=0.5,  # Add gridlines for clarity\n",
    "    cbar_kws={\"shrink\": 0.8}  # Shrink colorbar for better fit\n",
    ")\n",
    "\n",
    "# SET TITLE FOR THE HEATMAP\n",
    "heatmap.set_title(\"Correlation Heatmap\", fontdict={\"fontsize\": 18}, pad=16)"
   ]
  },
  {
   "cell_type": "markdown",
   "id": "a26d0b0f",
   "metadata": {},
   "source": [
    "## CORRELATION BETWEEN TARGETS AND FIGURES"
   ]
  },
  {
   "cell_type": "code",
   "execution_count": 13,
   "id": "f8460edd",
   "metadata": {},
   "outputs": [
    {
     "data": {
      "text/plain": [
       "<AxesSubplot:xlabel='PreferredLoginDevice', ylabel='CustomerID'>"
      ]
     },
     "execution_count": 13,
     "metadata": {},
     "output_type": "execute_result"
    },
    {
     "data": {
      "image/png": "[encoded data removed]",
      "text/plain": [
       "<Figure size 576x360 with 1 Axes>"
      ]
     },
     "metadata": {
      "needs_background": "light"
     },
     "output_type": "display_data"
    }
   ],
   "source": [
    "plt.figure(figsize=(8,5))\n",
    "dataset1 = dataset.groupby([\"PreferredLoginDevice\", \"Churn\"]).agg({\"CustomerID\": \"nunique\"}).reset_index()\n",
    "sns.barplot(data = dataset1, x=\"PreferredLoginDevice\", y=\"CustomerID\", hue=\"Churn\")"
   ]
  },
  {
   "cell_type": "code",
   "execution_count": 14,
   "id": "20d0ffe7",
   "metadata": {},
   "outputs": [
    {
     "data": {
      "text/plain": [
       "<AxesSubplot:xlabel='PreferredPaymentMode', ylabel='CustomerID'>"
      ]
     },
     "execution_count": 14,
     "metadata": {},
     "output_type": "execute_result"
    },
    {
     "data": {
      "image/png": "[encoded data removed]",
      "text/plain": [
       "<Figure size 720x360 with 1 Axes>"
      ]
     },
     "metadata": {
      "needs_background": "light"
     },
     "output_type": "display_data"
    }
   ],
   "source": [
    "plt.figure(figsize=(10,5))\n",
    "dataset2 = dataset.groupby([\"PreferredPaymentMode\", \"Churn\"]).agg({\"CustomerID\":\"nunique\"}).reset_index()\n",
    "sns.barplot(data=dataset2, x = \"PreferredPaymentMode\", y=\"CustomerID\", hue=\"Churn\")"
   ]
  },
  {
   "cell_type": "code",
   "execution_count": 15,
   "id": "6f0c9964",
   "metadata": {},
   "outputs": [
    {
     "data": {
      "text/plain": [
       "<AxesSubplot:xlabel='Gender', ylabel='CustomerID'>"
      ]
     },
     "execution_count": 15,
     "metadata": {},
     "output_type": "execute_result"
    },
    {
     "data": {
      "image/png": "[encoded data removed]",
      "text/plain": [
       "<Figure size 576x360 with 1 Axes>"
      ]
     },
     "metadata": {
      "needs_background": "light"
     },
     "output_type": "display_data"
    }
   ],
   "source": [
    "plt.figure(figsize=(8,5))\n",
    "\n",
    "dataset3 = dataset.groupby([\"Gender\", \"Churn\"]).agg({\"CustomerID\":\"nunique\"}).reset_index()\n",
    "sns.barplot(data=dataset3, x='Gender', y='CustomerID', hue=\"Churn\")"
   ]
  },
  {
   "cell_type": "code",
   "execution_count": 16,
   "id": "03ccf4d9",
   "metadata": {},
   "outputs": [
    {
     "data": {
      "text/plain": [
       "<AxesSubplot:xlabel='PreferedOrderCat', ylabel='CustomerID'>"
      ]
     },
     "execution_count": 16,
     "metadata": {},
     "output_type": "execute_result"
    },
    {
     "data": {
      "image/png": "[encoded data removed]",
      "text/plain": [
       "<Figure size 720x360 with 1 Axes>"
      ]
     },
     "metadata": {
      "needs_background": "light"
     },
     "output_type": "display_data"
    }
   ],
   "source": [
    "plt.figure(figsize=(10, 5))\n",
    "dataset4 = dataset.groupby([\"PreferedOrderCat\", \"Churn\"]).agg({\"CustomerID\":\"nunique\"}).reset_index()\n",
    "sns.barplot(data=dataset4, x=\"PreferedOrderCat\", y=\"CustomerID\", hue=\"Churn\")"
   ]
  },
  {
   "cell_type": "code",
   "execution_count": 17,
   "id": "3a40a979",
   "metadata": {},
   "outputs": [
    {
     "data": {
      "text/plain": [
       "<AxesSubplot:xlabel='MaritalStatus', ylabel='CustomerID'>"
      ]
     },
     "execution_count": 17,
     "metadata": {},
     "output_type": "execute_result"
    },
    {
     "data": {
      "image/png": "[encoded data removed]",
      "text/plain": [
       "<Figure size 576x360 with 1 Axes>"
      ]
     },
     "metadata": {
      "needs_background": "light"
     },
     "output_type": "display_data"
    }
   ],
   "source": [
    "plt.figure(figsize=(8, 5))\n",
    "dataset4 = dataset.groupby([\"MaritalStatus\", \"Churn\"]).agg({\"CustomerID\":\"nunique\"}).reset_index()\n",
    "sns.barplot(data=dataset4, x=\"MaritalStatus\", y=\"CustomerID\", hue=\"Churn\")"
   ]
  },
  {
   "cell_type": "code",
   "execution_count": 18,
   "id": "e1b65b82",
   "metadata": {},
   "outputs": [],
   "source": [
    "# import pandas as pd\n",
    "\n",
    "# # Load the data\n",
    "# data = pd.read_csv(\"Copy of Shaq Express - September Pemier Base .csv\")\n",
    "\n",
    "# # Trim leading and trailing whitespaces in string columns\n",
    "# data = data.applymap(lambda x: x.strip() if isinstance(x, str) else x)\n",
    "\n",
    "# # Convert the DataFrame to JSON\n",
    "# # Use the \"records\" orient for a readable format\n",
    "# json_data = data.to_json(orient=\"records\", lines=False)\n",
    "\n",
    "# # Save JSON to a file\n",
    "# with open(\"shaq_premier2.json\", \"w\") as file:\n",
    "#     file.write(json_data)\n",
    "\n",
    "# # Print the JSON output\n",
    "# print(json_data)\n"
   ]
  },
  {
   "cell_type": "code",
   "execution_count": 19,
   "id": "ce359b8a",
   "metadata": {},
   "outputs": [
    {
     "data": {
      "image/png": "[encoded data removed]",
      "text/plain": [
       "<Figure size 432x288 with 1 Axes>"
      ]
     },
     "metadata": {
      "needs_background": "light"
     },
     "output_type": "display_data"
    }
   ],
   "source": [
    "#HOURS SPENT AND CHURN\n",
    "\n",
    "hours = pd.crosstab(dataset[\"HourSpendOnApp\"], dataset[\"Churn\"])\n",
    "hours.plot(kind=\"bar\", stacked=True, title=\"Hours Spent on App\")\n",
    "plt.xlabel(\"Hours Spent on App\")\n",
    "plt.ylabel(\"Customer Id\")\n",
    "plt.show()"
   ]
  },
  {
   "cell_type": "code",
   "execution_count": 20,
   "id": "b76f94c0",
   "metadata": {},
   "outputs": [
    {
     "data": {
      "text/html": [
       "<div>\n",
       "<style scoped>\n",
       "    .dataframe tbody tr th:only-of-type {\n",
       "        vertical-align: middle;\n",
       "    }\n",
       "\n",
       "    .dataframe tbody tr th {\n",
       "        vertical-align: top;\n",
       "    }\n",
       "\n",
       "    .dataframe thead th {\n",
       "        text-align: right;\n",
       "    }\n",
       "</style>\n",
       "<table border=\"1\" class=\"dataframe\">\n",
       "  <thead>\n",
       "    <tr style=\"text-align: right;\">\n",
       "      <th></th>\n",
       "      <th>HourSpendOnApp</th>\n",
       "      <th>Churn</th>\n",
       "      <th>CustomerID</th>\n",
       "    </tr>\n",
       "  </thead>\n",
       "  <tbody>\n",
       "    <tr>\n",
       "      <th>0</th>\n",
       "      <td>0.0</td>\n",
       "      <td>0</td>\n",
       "      <td>3</td>\n",
       "    </tr>\n",
       "    <tr>\n",
       "      <th>1</th>\n",
       "      <td>1.0</td>\n",
       "      <td>0</td>\n",
       "      <td>35</td>\n",
       "    </tr>\n",
       "    <tr>\n",
       "      <th>2</th>\n",
       "      <td>2.0</td>\n",
       "      <td>0</td>\n",
       "      <td>1239</td>\n",
       "    </tr>\n",
       "    <tr>\n",
       "      <th>3</th>\n",
       "      <td>2.0</td>\n",
       "      <td>1</td>\n",
       "      <td>232</td>\n",
       "    </tr>\n",
       "    <tr>\n",
       "      <th>4</th>\n",
       "      <td>3.0</td>\n",
       "      <td>0</td>\n",
       "      <td>2227</td>\n",
       "    </tr>\n",
       "    <tr>\n",
       "      <th>5</th>\n",
       "      <td>3.0</td>\n",
       "      <td>1</td>\n",
       "      <td>460</td>\n",
       "    </tr>\n",
       "    <tr>\n",
       "      <th>6</th>\n",
       "      <td>4.0</td>\n",
       "      <td>0</td>\n",
       "      <td>978</td>\n",
       "    </tr>\n",
       "    <tr>\n",
       "      <th>7</th>\n",
       "      <td>4.0</td>\n",
       "      <td>1</td>\n",
       "      <td>198</td>\n",
       "    </tr>\n",
       "    <tr>\n",
       "      <th>8</th>\n",
       "      <td>5.0</td>\n",
       "      <td>0</td>\n",
       "      <td>3</td>\n",
       "    </tr>\n",
       "  </tbody>\n",
       "</table>\n",
       "</div>"
      ],
      "text/plain": [
       "   HourSpendOnApp  Churn  CustomerID\n",
       "0             0.0      0           3\n",
       "1             1.0      0          35\n",
       "2             2.0      0        1239\n",
       "3             2.0      1         232\n",
       "4             3.0      0        2227\n",
       "5             3.0      1         460\n",
       "6             4.0      0         978\n",
       "7             4.0      1         198\n",
       "8             5.0      0           3"
      ]
     },
     "execution_count": 20,
     "metadata": {},
     "output_type": "execute_result"
    }
   ],
   "source": [
    "#COUNTING ACCORDING TO HOURS SPENT AND CHURN\n",
    "\n",
    "data1 = dataset.groupby([\"HourSpendOnApp\", \"Churn\"]).agg({\"CustomerID\":\"nunique\"}).reset_index()\n",
    "\n",
    "data1"
   ]
  },
  {
   "cell_type": "code",
   "execution_count": 21,
   "id": "d9d07226",
   "metadata": {},
   "outputs": [
    {
     "data": {
      "image/png": "[encoded data removed]",
      "text/plain": [
       "<Figure size 864x432 with 1 Axes>"
      ]
     },
     "metadata": {
      "needs_background": "light"
     },
     "output_type": "display_data"
    }
   ],
   "source": [
    "# Create the crosstab\n",
    "tenure = pd.crosstab(dataset[\"Tenure\"], dataset[\"Churn\"])\n",
    "\n",
    "# Create the figure and axes, and set the figure size\n",
    "fig, ax = plt.subplots(figsize=(12, 6)) \n",
    "# Plot the data using Matplotlib\n",
    "tenure.plot(kind=\"bar\", stacked=True, ax=ax)\n",
    "\n",
    "# Set labels and title\n",
    "ax.set_xlabel(\"Tenure\", fontsize=14)\n",
    "ax.set_ylabel(\"Customer Count\", fontsize=14)\n",
    "ax.set_title(\"Tenure of Customers\", fontsize=16)\n",
    "\n",
    "# Show the plot\n",
    "plt.show()\n"
   ]
  },
  {
   "cell_type": "code",
   "execution_count": 22,
   "id": "af2adac5",
   "metadata": {},
   "outputs": [],
   "source": [
    "#COUNT OF CUSTOMER TENURE\n",
    "\n",
    "data2 = dataset.groupby([\"Tenure\", \"Churn\"]).agg({\"CustomerID\":\"nunique\"}).reset_index()\n"
   ]
  },
  {
   "cell_type": "code",
   "execution_count": 23,
   "id": "361d853d",
   "metadata": {},
   "outputs": [
    {
     "data": {
      "text/html": [
       "<div>\n",
       "<style scoped>\n",
       "    .dataframe tbody tr th:only-of-type {\n",
       "        vertical-align: middle;\n",
       "    }\n",
       "\n",
       "    .dataframe tbody tr th {\n",
       "        vertical-align: top;\n",
       "    }\n",
       "\n",
       "    .dataframe thead th {\n",
       "        text-align: right;\n",
       "    }\n",
       "</style>\n",
       "<table border=\"1\" class=\"dataframe\">\n",
       "  <thead>\n",
       "    <tr style=\"text-align: right;\">\n",
       "      <th></th>\n",
       "      <th>PreferedOrderCat</th>\n",
       "      <th>Churn</th>\n",
       "      <th>CustomerID</th>\n",
       "    </tr>\n",
       "  </thead>\n",
       "  <tbody>\n",
       "    <tr>\n",
       "      <th>0</th>\n",
       "      <td>Fashion</td>\n",
       "      <td>0</td>\n",
       "      <td>698</td>\n",
       "    </tr>\n",
       "    <tr>\n",
       "      <th>1</th>\n",
       "      <td>Fashion</td>\n",
       "      <td>1</td>\n",
       "      <td>128</td>\n",
       "    </tr>\n",
       "    <tr>\n",
       "      <th>2</th>\n",
       "      <td>Grocery</td>\n",
       "      <td>0</td>\n",
       "      <td>390</td>\n",
       "    </tr>\n",
       "    <tr>\n",
       "      <th>3</th>\n",
       "      <td>Grocery</td>\n",
       "      <td>1</td>\n",
       "      <td>20</td>\n",
       "    </tr>\n",
       "    <tr>\n",
       "      <th>4</th>\n",
       "      <td>Laptop &amp; Accessory</td>\n",
       "      <td>0</td>\n",
       "      <td>1840</td>\n",
       "    </tr>\n",
       "    <tr>\n",
       "      <th>5</th>\n",
       "      <td>Laptop &amp; Accessory</td>\n",
       "      <td>1</td>\n",
       "      <td>210</td>\n",
       "    </tr>\n",
       "    <tr>\n",
       "      <th>6</th>\n",
       "      <td>Mobile</td>\n",
       "      <td>0</td>\n",
       "      <td>589</td>\n",
       "    </tr>\n",
       "    <tr>\n",
       "      <th>7</th>\n",
       "      <td>Mobile</td>\n",
       "      <td>1</td>\n",
       "      <td>220</td>\n",
       "    </tr>\n",
       "    <tr>\n",
       "      <th>8</th>\n",
       "      <td>Mobile Phone</td>\n",
       "      <td>0</td>\n",
       "      <td>921</td>\n",
       "    </tr>\n",
       "    <tr>\n",
       "      <th>9</th>\n",
       "      <td>Mobile Phone</td>\n",
       "      <td>1</td>\n",
       "      <td>350</td>\n",
       "    </tr>\n",
       "    <tr>\n",
       "      <th>10</th>\n",
       "      <td>Others</td>\n",
       "      <td>0</td>\n",
       "      <td>244</td>\n",
       "    </tr>\n",
       "    <tr>\n",
       "      <th>11</th>\n",
       "      <td>Others</td>\n",
       "      <td>1</td>\n",
       "      <td>20</td>\n",
       "    </tr>\n",
       "  </tbody>\n",
       "</table>\n",
       "</div>"
      ],
      "text/plain": [
       "      PreferedOrderCat  Churn  CustomerID\n",
       "0              Fashion      0         698\n",
       "1              Fashion      1         128\n",
       "2              Grocery      0         390\n",
       "3              Grocery      1          20\n",
       "4   Laptop & Accessory      0        1840\n",
       "5   Laptop & Accessory      1         210\n",
       "6               Mobile      0         589\n",
       "7               Mobile      1         220\n",
       "8         Mobile Phone      0         921\n",
       "9         Mobile Phone      1         350\n",
       "10              Others      0         244\n",
       "11              Others      1          20"
      ]
     },
     "execution_count": 23,
     "metadata": {},
     "output_type": "execute_result"
    }
   ],
   "source": [
    "#ORDER CATEGORY\n",
    "\n",
    "data3 = dataset.groupby([\"PreferedOrderCat\", \"Churn\"]).agg({\"CustomerID\": \"nunique\"}).reset_index()\n",
    "data3"
   ]
  },
  {
   "cell_type": "code",
   "execution_count": 24,
   "id": "a971f62f",
   "metadata": {},
   "outputs": [
    {
     "data": {
      "text/html": [
       "<div>\n",
       "<style scoped>\n",
       "    .dataframe tbody tr th:only-of-type {\n",
       "        vertical-align: middle;\n",
       "    }\n",
       "\n",
       "    .dataframe tbody tr th {\n",
       "        vertical-align: top;\n",
       "    }\n",
       "\n",
       "    .dataframe thead th {\n",
       "        text-align: right;\n",
       "    }\n",
       "</style>\n",
       "<table border=\"1\" class=\"dataframe\">\n",
       "  <thead>\n",
       "    <tr style=\"text-align: right;\">\n",
       "      <th></th>\n",
       "      <th>Complain</th>\n",
       "      <th>Churn</th>\n",
       "      <th>CustomerID</th>\n",
       "    </tr>\n",
       "  </thead>\n",
       "  <tbody>\n",
       "    <tr>\n",
       "      <th>0</th>\n",
       "      <td>0</td>\n",
       "      <td>0</td>\n",
       "      <td>3586</td>\n",
       "    </tr>\n",
       "    <tr>\n",
       "      <th>1</th>\n",
       "      <td>0</td>\n",
       "      <td>1</td>\n",
       "      <td>440</td>\n",
       "    </tr>\n",
       "    <tr>\n",
       "      <th>2</th>\n",
       "      <td>1</td>\n",
       "      <td>0</td>\n",
       "      <td>1096</td>\n",
       "    </tr>\n",
       "    <tr>\n",
       "      <th>3</th>\n",
       "      <td>1</td>\n",
       "      <td>1</td>\n",
       "      <td>508</td>\n",
       "    </tr>\n",
       "  </tbody>\n",
       "</table>\n",
       "</div>"
      ],
      "text/plain": [
       "   Complain  Churn  CustomerID\n",
       "0         0      0        3586\n",
       "1         0      1         440\n",
       "2         1      0        1096\n",
       "3         1      1         508"
      ]
     },
     "execution_count": 24,
     "metadata": {},
     "output_type": "execute_result"
    }
   ],
   "source": [
    "data4 = dataset.groupby([\"Complain\", \"Churn\"]).agg({\"CustomerID\": \"nunique\"}).reset_index()\n",
    "\n",
    "data4"
   ]
  },
  {
   "cell_type": "markdown",
   "id": "7cbcae4a",
   "metadata": {},
   "source": [
    "### IMPUTING NULL VALUES"
   ]
  },
  {
   "cell_type": "code",
   "execution_count": 25,
   "id": "44019cc0",
   "metadata": {},
   "outputs": [],
   "source": [
    "# #IMPUTTING MISSING VALUES\n",
    "\n",
    "\n",
    "# # Separate numerical and categorical columns\n",
    "# numerical_columns = dataset.select_dtypes(include=['int', 'float']).columns\n",
    "# categorical_columns = dataset.select_dtypes(include=['object']).columns\n",
    "\n",
    "# # Fill missing values\n",
    "# dataset[numerical_columns] = dataset[numerical_columns].fillna(dataset[numerical_columns].mean())\n",
    "# dataset[categorical_columns] = dataset[categorical_columns].fillna(dataset[categorical_columns].mode().iloc[0])\n",
    "\n",
    "\n",
    "# x = dataset.drop(columns = [\"CustomerID\", \"Churn\"])\n",
    "# y  = dataset[\"Churn\"]\n",
    "\n",
    "# #Training the dataset\n",
    "# x_train,x_test, y_train, y_test = train_test_split(x,y, test_size=0.02, random_state=42)\n",
    "\n",
    "# #converting categorical into numerical\n",
    "# encoder = OneHotEncoder()\n",
    "\n",
    "# X_train = encoder.fit_transform(x_train[categorical_columns]).toarray()\n",
    "# X_test =  encoder.fit_transform(x_test[categorical_columns]).toarray()\n",
    "\n",
    "\n",
    "# x_train_final = pd.concat([x_train[numerical_columns].reset_index(drop=True), X_train.reset_index(drop=True)], axis=1)\n",
    "# x_test_final = pd.concat([x_test[numerical_columns].reset_index(drop=True), X_test.reset_index(drop=True)], axis=1)\n",
    "\n",
    "# x_train_final"
   ]
  },
  {
   "cell_type": "markdown",
   "id": "9de19fbb",
   "metadata": {},
   "source": [
    "### PREPROCESSING USING PIPELINE\n",
    "\n",
    "#### SimpleImputer, StandardScaler and OneHotEncoding"
   ]
  },
  {
   "cell_type": "code",
   "execution_count": 26,
   "id": "8956e5a3",
   "metadata": {},
   "outputs": [],
   "source": [
    "from sklearn.ensemble import RandomForestClassifier\n",
    "from sklearn.compose import ColumnTransformer\n",
    "from sklearn.pipeline import Pipeline\n",
    "from sklearn.impute import SimpleImputer\n",
    "from sklearn.preprocessing import StandardScaler, OneHotEncoder\n",
    "from sklearn.metrics import mean_absolute_error\n",
    "from sklearn.model_selection import train_test_split\n",
    "\n",
    "# Assuming `dataset` is already loaded.\n",
    "x = dataset.drop(columns=[\"CustomerID\", \"Churn\"])\n",
    "y = dataset[\"Churn\"]\n",
    "\n",
    "#GROUPING INTO DATA TYPES\n",
    "numerical_columns = x.select_dtypes(include=[\"int64\", \"float\"]).columns\n",
    "categorical_columns = x.select_dtypes(include=[\"object\"]).columns\n",
    "\n",
    "x_train, x_test, y_train, y_test = train_test_split(x, y, test_size=0.2, random_state=42)\n",
    "\n",
    "# NUMERICAL PREPROCESSING\n",
    "numerical_transformer = Pipeline(steps=[\n",
    "    (\"imputer\", SimpleImputer(strategy=\"mean\")),\n",
    "    (\"scaler\", StandardScaler())\n",
    "])\n",
    "\n",
    "# CATEGORICAL PREPROCESSING\n",
    "categorical_transformer = Pipeline(steps=[\n",
    "    (\"imputer\", SimpleImputer(strategy=\"most_frequent\")),\n",
    "    (\"onehot\", OneHotEncoder(handle_unknown=\"ignore\"))\n",
    "])\n",
    "\n",
    "# Bundle preprocessing for numerical and categorical data\n",
    "preprocessor = ColumnTransformer(transformers=[\n",
    "    (\"num\", numerical_transformer, numerical_columns),\n",
    "    (\"cat\", categorical_transformer, categorical_columns)\n",
    "])\n",
    "\n"
   ]
  },
  {
   "cell_type": "markdown",
   "id": "4d2e2d14",
   "metadata": {},
   "source": [
    "### RANDOM FOREST CLASSIFIER"
   ]
  },
  {
   "cell_type": "code",
   "execution_count": 27,
   "id": "9b7cc4c3",
   "metadata": {},
   "outputs": [
    {
     "name": "stdout",
     "output_type": "stream",
     "text": [
      "MAE: 0.02930728241563055\n",
      "Classification Report:\n",
      " \n",
      "              precision    recall  f1-score   support\n",
      "\n",
      "           0       0.97      1.00      0.98       941\n",
      "           1       0.99      0.83      0.90       185\n",
      "\n",
      "    accuracy                           0.97      1126\n",
      "   macro avg       0.98      0.91      0.94      1126\n",
      "weighted avg       0.97      0.97      0.97      1126\n",
      "\n",
      "\n",
      "Confusion Matrix:\n",
      "[[940   1]\n",
      " [ 32 153]]\n"
     ]
    }
   ],
   "source": [
    "# Define the model\n",
    "model = RandomForestClassifier(random_state=42)\n",
    "\n",
    "# Bundle preprocessing and model into a pipeline\n",
    "my_pipeline = Pipeline(steps=[\n",
    "    (\"preprocessor\", preprocessor),\n",
    "    (\"model\", model)\n",
    "])\n",
    "\n",
    "# Fit the model\n",
    "my_pipeline.fit(x_train, y_train)\n",
    "\n",
    "# Get predictions for the test set\n",
    "preds = my_pipeline.predict(x_test)\n",
    "\n",
    "# Evaluate the model\n",
    "score = mean_absolute_error(y_test, preds)\n",
    "print('MAE:', score)\n",
    "\n",
    "print(\"Classification Report:\")\n",
    "print(\" \")\n",
    "print(classification_report(y_test, preds))\n",
    "\n",
    "print(\"\\nConfusion Matrix:\")\n",
    "print(confusion_matrix(y_test, preds))"
   ]
  },
  {
   "cell_type": "code",
   "execution_count": 28,
   "id": "1b99ea60",
   "metadata": {},
   "outputs": [
    {
     "name": "stdout",
     "output_type": "stream",
     "text": [
      "Mean Squared Error (MSE): 0.03\n",
      "Mean Absolute Error (MAE): 0.03\n",
      "R-squared (R²): 0.79\n"
     ]
    }
   ],
   "source": [
    "from sklearn.metrics import mean_squared_error, mean_absolute_error, r2_score\n",
    "\n",
    "# Evaluate the regression model\n",
    "mse = mean_squared_error(y_test, preds)\n",
    "mae = mean_absolute_error(y_test, preds)\n",
    "r2 = r2_score(y_test, preds)\n",
    "\n",
    "print(f\"Mean Squared Error (MSE): {mse:.2f}\")\n",
    "print(f\"Mean Absolute Error (MAE): {mae:.2f}\")\n",
    "print(f\"R-squared (R²): {r2:.2f}\")\n"
   ]
  },
  {
   "cell_type": "markdown",
   "id": "236cf2a7",
   "metadata": {},
   "source": [
    "### DECISION TREE"
   ]
  },
  {
   "cell_type": "code",
   "execution_count": 64,
   "id": "6219ef68",
   "metadata": {},
   "outputs": [
    {
     "name": "stdout",
     "output_type": "stream",
     "text": [
      "Accuracy: 0.98\n",
      "\n",
      "Classification Report:\n",
      "              precision    recall  f1-score   support\n",
      "\n",
      "           0       0.98      0.99      0.99       941\n",
      "           1       0.94      0.91      0.93       185\n",
      "\n",
      "    accuracy                           0.98      1126\n",
      "   macro avg       0.96      0.95      0.96      1126\n",
      "weighted avg       0.98      0.98      0.98      1126\n",
      "\n",
      "\n",
      "Confusion Matrix:\n",
      "[[930  11]\n",
      " [ 16 169]]\n"
     ]
    }
   ],
   "source": [
    "from sklearn.tree import DecisionTreeClassifier\n",
    "\n",
    "# Define the Decision Tree model\n",
    "model1 = DecisionTreeClassifier(random_state=42)\n",
    "\n",
    "# Create the pipeline with the preprocessor and the model\n",
    "my_pipeline1 = Pipeline(steps=[\n",
    "    (\"preprocessor\", preprocessor),  # Note the use of a tuple here\n",
    "    (\"model1\", model1)                # Specify model1 for Decision Tree\n",
    "])\n",
    "\n",
    "# Fit the model\n",
    "my_pipeline1.fit(x_train, y_train)\n",
    "\n",
    "# Get predictions for the test set\n",
    "preds1 = my_pipeline1.predict(x_test)\n",
    "\n",
    "# Evaluate the model\n",
    "accuracy = accuracy_score(y_test, preds1)\n",
    "print(f'Accuracy: {accuracy:.2f}')\n",
    "\n",
    "print(\"\\nClassification Report:\")\n",
    "print(classification_report(y_test, preds1))\n",
    "\n",
    "print(\"\\nConfusion Matrix:\")\n",
    "print(confusion_matrix(y_test, preds1))\n"
   ]
  },
  {
   "cell_type": "markdown",
   "id": "b7688a4d",
   "metadata": {},
   "source": [
    "### LOGISTIC REGRESSION"
   ]
  },
  {
   "cell_type": "code",
   "execution_count": 55,
   "id": "fea81e40",
   "metadata": {},
   "outputs": [
    {
     "name": "stdout",
     "output_type": "stream",
     "text": [
      "Accuracy: 0.915631\n",
      "\n",
      "Classification Report:\n",
      "              precision    recall  f1-score   support\n",
      "\n",
      "           0       0.92      0.98      0.95       941\n",
      "           1       0.87      0.57      0.69       185\n",
      "\n",
      "    accuracy                           0.92      1126\n",
      "   macro avg       0.90      0.78      0.82      1126\n",
      "weighted avg       0.91      0.92      0.91      1126\n",
      "\n",
      "\n",
      "Confusion Matrix:\n",
      "[[925  16]\n",
      " [ 79 106]]\n"
     ]
    }
   ],
   "source": [
    "from sklearn.linear_model import LogisticRegression\n",
    "\n",
    "model2 = LogisticRegression(max_iter=1000,random_state=42)\n",
    "\n",
    "my_pipeline2 = Pipeline(steps=[\n",
    "    (\"preprocessor\", preprocessor),\n",
    "    (\"model2\", model2)\n",
    "])\n",
    "\n",
    "my_pipeline2.fit(x_train, y_train)\n",
    "\n",
    "\n",
    "preds2 = my_pipeline2.predict(x_test)\n",
    "\n",
    "accuracy = accuracy_score(y_test, preds2)\n",
    "\n",
    "print(f\"Accuracy: {accuracy:2f}\")\n",
    "\n",
    "print(\"\\nClassification Report:\")\n",
    "print(classification_report(y_test, preds2))\n",
    "\n",
    "print(\"\\nConfusion Matrix:\")\n",
    "print(confusion_matrix(y_test, preds2))"
   ]
  },
  {
   "cell_type": "markdown",
   "id": "6fa5400e",
   "metadata": {},
   "source": [
    "### XGBoost"
   ]
  },
  {
   "cell_type": "code",
   "execution_count": 66,
   "id": "45ad6587",
   "metadata": {},
   "outputs": [
    {
     "name": "stdout",
     "output_type": "stream",
     "text": [
      "Accuracy: 0.98\n",
      "\n",
      "Classification Report:\n",
      "              precision    recall  f1-score   support\n",
      "\n",
      "           0       0.98      0.99      0.99       941\n",
      "           1       0.96      0.90      0.93       185\n",
      "\n",
      "    accuracy                           0.98      1126\n",
      "   macro avg       0.97      0.95      0.96      1126\n",
      "weighted avg       0.98      0.98      0.98      1126\n",
      "\n",
      "\n",
      "Confusion Matrix:\n",
      "[[934   7]\n",
      " [ 18 167]]\n"
     ]
    }
   ],
   "source": [
    "from xgboost import XGBClassifier\n",
    "\n",
    "# Define the XGBoost model\n",
    "model_xgb = XGBClassifier(use_label_encoder=False, eval_metric=\"logloss\", random_state=42)\n",
    "\n",
    "# Create the pipeline with the preprocessor and the model\n",
    "my_pipeline_xgb = Pipeline(steps=[\n",
    "    (\"preprocessor\", preprocessor),  # Preprocessor for numerical and categorical data\n",
    "    (\"model3\", model_xgb)             # XGBoost Classifier\n",
    "])\n",
    "\n",
    "# Fit the model\n",
    "my_pipeline_xgb.fit(x_train, y_train)\n",
    "\n",
    "# Get predictions for the test set\n",
    "preds_xgb = my_pipeline_xgb.predict(x_test)\n",
    "\n",
    "# Evaluate the model\n",
    "accuracy_xgb = accuracy_score(y_test, preds_xgb)\n",
    "print(f'Accuracy: {accuracy_xgb:.2f}')\n",
    "\n",
    "print(\"\\nClassification Report:\")\n",
    "print(classification_report(y_test, preds_xgb))\n",
    "\n",
    "print(\"\\nConfusion Matrix:\")\n",
    "print(confusion_matrix(y_test, preds_xgb))\n"
   ]
  },
  {
   "cell_type": "code",
   "execution_count": 40,
   "id": "6db378fe",
   "metadata": {},
   "outputs": [
    {
     "name": "stdout",
     "output_type": "stream",
     "text": [
      "Random Forest Classifier's accuracy: 0.97\n",
      "Decision Tree's accuracy: 0.97\n",
      "Logistic Regression's accuracy: 0.92\n",
      "XBGoost's accuracy: 0.98\n"
     ]
    }
   ],
   "source": [
    "#MODEL SUMMARY\n",
    "\n",
    "print(\"\"\"Random Forest Classifier's accuracy: 0.97\n",
    "Decision Tree's accuracy: 0.97\n",
    "Logistic Regression's accuracy: 0.92\n",
    "XBGoost's accuracy: 0.98\"\"\")"
   ]
  },
  {
   "cell_type": "markdown",
   "id": "c70264c7",
   "metadata": {},
   "source": [
    "### PERFORMING CROSS_VALIDATION ON THE DATA MODELS"
   ]
  },
  {
   "cell_type": "code",
   "execution_count": 34,
   "id": "60ddd400",
   "metadata": {},
   "outputs": [
    {
     "name": "stdout",
     "output_type": "stream",
     "text": [
      "0.96 accuracy with a standard deviation of 0.01\n"
     ]
    }
   ],
   "source": [
    "#For Random Forest Classifier\n",
    "\n",
    "from sklearn.model_selection import cross_val_score,KFold\n",
    "\n",
    "K = 5\n",
    "kf = KFold(n_splits=K, shuffle=True, random_state=42)\n",
    "\n",
    "scores = cross_val_score(my_pipeline, x,y, cv=kf)\n",
    "\n",
    "print(\"%0.2f accuracy with a standard deviation of %0.2f\" % (scores.mean(), scores.std()))"
   ]
  },
  {
   "cell_type": "code",
   "execution_count": 62,
   "id": "eb3e05fb",
   "metadata": {},
   "outputs": [
    {
     "name": "stdout",
     "output_type": "stream",
     "text": [
      "0.96 accuracy with a standard deviation of 0.01\n"
     ]
    }
   ],
   "source": [
    "#For Decision Tree\n",
    "\n",
    "scores1 = cross_val_score(my_pipeline1, x,y, cv=kf)\n",
    "\n",
    "print(\"%0.2f accuracy with a standard deviation of %0.2f\" % (scores1.mean(), scores1.std()))"
   ]
  },
  {
   "cell_type": "code",
   "execution_count": 43,
   "id": "42023b4d",
   "metadata": {},
   "outputs": [],
   "source": [
    "#For Logistic Regression"
   ]
  },
  {
   "cell_type": "code",
   "execution_count": 68,
   "id": "0272aa8d",
   "metadata": {},
   "outputs": [
    {
     "name": "stdout",
     "output_type": "stream",
     "text": [
      "0.89 accuracy with a standard deviation of 0.01\n"
     ]
    }
   ],
   "source": [
    "scores2 = cross_val_score(my_pipeline2, x,y, cv=kf)\n",
    "\n",
    "print(\"%0.2f accuracy with a standard deviation of %0.2f\" % (scores2.mean(), scores2.std()))"
   ]
  },
  {
   "cell_type": "code",
   "execution_count": 67,
   "id": "27293cd3",
   "metadata": {},
   "outputs": [
    {
     "name": "stdout",
     "output_type": "stream",
     "text": [
      "0.97 accuracy with a standard deviation of 0.01\n"
     ]
    }
   ],
   "source": [
    "scores3 = cross_val_score(my_pipeline_xgb, x,y, cv=kf)\n",
    "\n",
    "print(\"%0.2f accuracy with a standard deviation of %0.2f\" % (scores3.mean(), scores3.std()))"
   ]
  },
  {
   "cell_type": "code",
   "execution_count": 46,
   "id": "eb30b085",
   "metadata": {},
   "outputs": [
    {
     "name": "stdout",
     "output_type": "stream",
     "text": [
      "\n",
      "Random Forest Classifier's accuracy: 0.97 vs cross_validation prediction: 0.96\n",
      "Decision Tree's accuracy: 0.97 vs cross_validation prediction: 0.96\n",
      "Logistic Regression's accuracy: 0.92 vs cross_validation prediction: 0.89\n",
      "XBGoost's accuracy: 0.98 vs cross_validation prediction: 0.97\n",
      "\n"
     ]
    }
   ],
   "source": [
    "print(\"\"\"\n",
    "Random Forest Classifier's accuracy: 0.97 vs cross_validation prediction: 0.96\n",
    "Decision Tree's accuracy: 0.97 vs cross_validation prediction: 0.96\n",
    "Logistic Regression's accuracy: 0.92 vs cross_validation prediction: 0.89\n",
    "XBGoost's accuracy: 0.98 vs cross_validation prediction: 0.97\n",
    "\"\"\")"
   ]
  },
  {
   "cell_type": "markdown",
   "id": "e2dbc877",
   "metadata": {},
   "source": [
    "### Hyperparameter Tuning"
   ]
  },
  {
   "cell_type": "code",
   "execution_count": 48,
   "id": "f08cbc3d",
   "metadata": {},
   "outputs": [
    {
     "name": "stdout",
     "output_type": "stream",
     "text": [
      "Best Parameters for Random Forest: {'model__max_depth': None, 'model__max_features': 'sqrt', 'model__min_samples_leaf': 1, 'model__min_samples_split': 2, 'model__n_estimators': 100}\n",
      "Best Accuracy for Random Forest: 0.9522666173387595\n"
     ]
    }
   ],
   "source": [
    "#Random ForestClassifier\n",
    "\n",
    "from sklearn.ensemble import RandomForestClassifier\n",
    "from sklearn.model_selection import GridSearchCV\n",
    "\n",
    "# Define hyperparameters for Random Forest\n",
    "param_grid_rf = {\n",
    "    \"model__n_estimators\": [50, 100, 200],\n",
    "    \"model__max_depth\": [None, 10, 20, 30],\n",
    "    \"model__min_samples_split\": [2, 5, 10],\n",
    "    \"model__min_samples_leaf\": [1, 2, 5],\n",
    "    \"model__max_features\": [\"sqrt\", \"log2\"]\n",
    "}\n",
    "\n",
    "# Define pipeline with Random Forest\n",
    "# pipeline_rf = Pipeline(steps=[\n",
    "#     (\"preprocessor\", preprocessor),\n",
    "#     (\"model\", RandomForestClassifier(random_state=42))\n",
    "# ])\n",
    "\n",
    "# Perform GridSearchCV\n",
    "grid_search_rf = GridSearchCV(my_pipeline, param_grid_rf, cv=5, scoring=\"accuracy\", n_jobs=-1)\n",
    "grid_search_rf.fit(x_train, y_train)\n",
    "\n",
    "# Results\n",
    "print(\"Best Parameters for Random Forest:\", grid_search_rf.best_params_)\n",
    "print(\"Best Accuracy for Random Forest:\", grid_search_rf.best_score_)\n"
   ]
  },
  {
   "cell_type": "code",
   "execution_count": 65,
   "id": "efc6817d",
   "metadata": {},
   "outputs": [
    {
     "name": "stdout",
     "output_type": "stream",
     "text": [
      "Best Parameters for Decision Tree: {'model1__criterion': 'entropy', 'model1__max_depth': 20, 'model1__min_samples_leaf': 1, 'model1__min_samples_split': 2}\n",
      "Best Accuracy for Decision Tree: 0.9402747564434579\n"
     ]
    }
   ],
   "source": [
    "# Define hyperparameters for Decision Tree\n",
    "\n",
    "\n",
    "param_grid_dt = {\n",
    "    \"model1__max_depth\": [5, 10, 20, None],\n",
    "    \"model1__min_samples_split\": [2, 10, 20],\n",
    "    \"model1__min_samples_leaf\": [1, 5, 10],\n",
    "    \"model1__criterion\": [\"gini\", \"entropy\"]\n",
    "}\n",
    "\n",
    "# Define pipeline with Decision Tree\n",
    "# pipeline_dt = Pipeline(steps=[\n",
    "#     (\"preprocessor\", preprocessor),\n",
    "#     (\"model\", DecisionTreeClassifier(random_state=42))\n",
    "# ])\n",
    "\n",
    "# Perform GridSearchCV\n",
    "grid_search_dt = GridSearchCV(my_pipeline1, param_grid_dt, cv=5, scoring=\"accuracy\", n_jobs=-1)\n",
    "grid_search_dt.fit(x_train, y_train)\n",
    "\n",
    "# Results\n",
    "print(\"Best Parameters for Decision Tree:\", grid_search_dt.best_params_)\n",
    "print(\"Best Accuracy for Decision Tree:\", grid_search_dt.best_score_)\n"
   ]
  },
  {
   "cell_type": "code",
   "execution_count": 58,
   "id": "1015e704",
   "metadata": {},
   "outputs": [
    {
     "name": "stdout",
     "output_type": "stream",
     "text": [
      "Best Parameters for Logistic Regression: {'model2__C': 10, 'model2__penalty': 'l2', 'model2__solver': 'liblinear'}\n",
      "Best Accuracy for Logistic Regression: 0.883659884079418\n"
     ]
    }
   ],
   "source": [
    "# Define hyperparameters for Logistic Regression\n",
    "\n",
    "param_grid_lr = {\n",
    "    \"model2__C\": [0.1, 1, 10],\n",
    "    \"model2__solver\": [\"liblinear\", \"lbfgs\"],\n",
    "    \"model2__penalty\": [\"l2\"]\n",
    "}\n",
    "\n",
    "# Define pipeline with Logistic Regression\n",
    "# pipeline_lr = Pipeline(steps=[\n",
    "#     (\"preprocessor\", preprocessor),\n",
    "#     (\"model\", LogisticRegression(max_iter=1000, random_state=42))\n",
    "# ])\n",
    "\n",
    "# Perform GridSearchCV\n",
    "grid_search_lr = GridSearchCV(my_pipeline2, param_grid_lr, cv=5, scoring=\"accuracy\", n_jobs=-1)\n",
    "grid_search_lr.fit(x_train, y_train)\n",
    "\n",
    "# Results\n",
    "print(\"Best Parameters for Logistic Regression:\", grid_search_lr.best_params_)\n",
    "print(\"Best Accuracy for Logistic Regression:\", grid_search_lr.best_score_)\n"
   ]
  },
  {
   "cell_type": "code",
   "execution_count": 69,
   "id": "62e55433",
   "metadata": {},
   "outputs": [
    {
     "name": "stdout",
     "output_type": "stream",
     "text": [
      "Best Parameters for XGBoost: {'model3__colsample_bytree': 0.8, 'model3__learning_rate': 0.1, 'model3__max_depth': 10, 'model3__n_estimators': 200, 'model3__subsample': 1.0}\n",
      "Best Accuracy for XGBoost: 0.9618145270686892\n"
     ]
    }
   ],
   "source": [
    "# Define hyperparameters for XGBoost\n",
    "\n",
    "param_grid_xgb = {\n",
    "    \"model3__n_estimators\": [50, 100, 200],\n",
    "    \"model3__learning_rate\": [0.01, 0.1, 0.2],\n",
    "    \"model3__max_depth\": [3, 5, 10],\n",
    "    \"model3__subsample\": [0.5, 0.8, 1.0],\n",
    "    \"model3__colsample_bytree\": [0.5, 0.8, 1.0]\n",
    "}\n",
    "\n",
    "# Define pipeline with XGBoost\n",
    "# pipeline_xgb = Pipeline(steps=[\n",
    "#     (\"preprocessor\", preprocessor),\n",
    "#     (\"model\", XGBClassifier(random_state=42, use_label_encoder=False, eval_metric='logloss'))\n",
    "# ])\n",
    "\n",
    "# Perform GridSearchCV\n",
    "grid_search_xgb = GridSearchCV(my_pipeline_xgb, param_grid_xgb, cv=5, scoring=\"accuracy\", n_jobs=-1)\n",
    "grid_search_xgb.fit(x_train, y_train)\n",
    "\n",
    "# Results\n",
    "print(\"Best Parameters for XGBoost:\", grid_search_xgb.best_params_)\n",
    "print(\"Best Accuracy for XGBoost:\", grid_search_xgb.best_score_)\n"
   ]
  },
  {
   "cell_type": "code",
   "execution_count": 70,
   "id": "983e17dc",
   "metadata": {},
   "outputs": [
    {
     "name": "stdout",
     "output_type": "stream",
     "text": [
      "\n",
      "Random Forest Classifier's accuracy: 0.97 vs cross_validation prediction: 0.96 and tuning:95 \n",
      "\n",
      "Decision Tree's accuracy: 0.97 vs cross_validation prediction: 0.96 and Tuning: 94\n",
      "\n",
      "Logistic Regression's accuracy: 0.92 vs cross_validation prediction: 0.89 and Tuning: 88\n",
      "\n",
      "XBGoost's accuracy: 0.98 vs cross_validation prediction: 0.97 and Tuning: 96\n",
      "\n"
     ]
    }
   ],
   "source": [
    "print(\"\"\"\n",
    "Random Forest Classifier's accuracy: 0.97 vs cross_validation prediction: 0.96 and tuning:95 \n",
    "\n",
    "Decision Tree's accuracy: 0.97 vs cross_validation prediction: 0.96 and Tuning: 94\n",
    "\n",
    "Logistic Regression's accuracy: 0.92 vs cross_validation prediction: 0.89 and Tuning: 88\n",
    "\n",
    "XBGoost's accuracy: 0.98 vs cross_validation prediction: 0.97 and Tuning: 96\n",
    "\"\"\")"
   ]
  },
  {
   "cell_type": "markdown",
   "id": "6bd17fb5",
   "metadata": {},
   "source": [
    "## E-Commerce Churn Prediction: A Deep Dive Project\n",
    "\n",
    "### Objective\n",
    "\n",
    "This project aimed to predict e-commerce customer churn by analyzing key factors such as complaints, satisfaction scores, the number of devices registered, hours spent on the app, warehouse-to-home distance, and city tier. These factors, identified through a heatmap, showed the highest positive correlation with churn.\n",
    "\n",
    "### Motivation\n",
    "I completed this project over five days, using it as an opportunity to deepen my understanding of machine learning concepts I had previously applied without fully grasping their underlying mechanisms. I extensively read resources from:\n",
    "Scikit-learn documentation,\n",
    "FreeCodeCamp,\n",
    "DataCamp,\n",
    "GeeksforGeeks,\n",
    "Stack Overflow, and\n",
    "ChatGPT,\n",
    "The project was not only a technical challenge but also an excellent learning experience.\n",
    "\n",
    "### Key Challenges and Solutions\n",
    "\n",
    "#### Preprocessing the Data\n",
    "\n",
    "Challenges: This was my first time implementing pipelines, which initially felt overwhelming. I decided to use them after learning about their benefits in a Kaggle intermediate course.\n",
    "\n",
    "Solution:\n",
    "\n",
    "Used StandardScaler to scale numerical variables.\n",
    "Applied SimpleImputer to handle missing values: replacing numerical nulls with the mean and categorical nulls with the mode.\n",
    "Utilized OneHotEncoder to transform categorical variables into numerical format.\n",
    "Learning Outcome: Pipelines ensured that preprocessing steps were automated and consistent across the training and testing datasets.\n",
    "\n",
    "Cross-Validation\n",
    "\n",
    "Challenges: Understanding and implementing cross-validation took considerable effort.\n",
    "\n",
    "Solution:\n",
    "\n",
    "Applied 5-fold cross-validation to divide the dataset into five parts. Each fold reserved one part for testing while training on the remaining four, iterating across all folds.\n",
    "\n",
    "Benefits: Cross-validation reduced overfitting, ensuring the model performed better on unseen data. \n",
    "Overfitting occurs when a model learns the training data too well, leading to poor generalization.\n",
    "\n",
    "Hyperparameter Tuning\n",
    "\n",
    "Challenges: This was the most difficult part of the project and took two days to understand fully. Hyperparameters are not learned by the model but are external parameters that must be manually tuned to optimize performance.\n",
    "\n",
    "Solution:\n",
    "\n",
    "Used GridSearchCV for hyperparameter tuning instead of RandomizedSearchCV due to its suitability for structured datasets. GridSearch systematically searched the parameter grid to find the best model configuration.\n",
    "Learning Outcome: While hyperparameter tuning remains a complex topic, I now understand its role in enhancing model performance and plan to explore it further.\n",
    "\n",
    "Models and Results\n",
    "\n",
    "After preprocessing, cross-validation, and hyperparameter tuning, the following models achieved the best results:\n",
    "\n",
    "XGBoost Classifier: Achieved an accuracy of 96%.\n",
    "\n",
    "Random Forest Classifier: Achieved an accuracy of 95%.\n",
    "\n",
    "These results demonstrated the models' ability to accurately predict churn based on the identified features.\n",
    "\n",
    "### Key Learnings\n",
    "\n",
    "Documentation and Practice: Reading official documentation and experimenting with code was crucial for understanding concepts like pipelines, cross-validation, and hyperparameter tuning.\n",
    "\n",
    "Pipelines: Automating preprocessing steps streamlined the workflow and reduced the chances of data leakage.\n",
    "\n",
    "Cross-Validation: This technique was instrumental in ensuring that the models generalized well to unseen data.\n",
    "\n",
    "Hyperparameter Tuning: Although challenging, it significantly improved model performance and helped me appreciate the importance of parameter optimization.\n",
    "\n",
    "Conclusion\n",
    "\n",
    "This project has been a blend of fun, challenges, and learning. It allowed me to strengthen my grasp of essential machine learning concepts and techniques. While I am proud of my progress, I recognize there is more to learn—especially in hyperparameter tuning and advanced model evaluation.\n",
    "\n",
    "I plan to continue building projects that challenge me to explore new concepts and refine my skills.\n",
    "\n"
   ]
  },
  {
   "cell_type": "code",
   "execution_count": null,
   "id": "d30a8760",
   "metadata": {},
   "outputs": [],
   "source": []
  }
 ],
 "metadata": {
  "kernelspec": {
   "display_name": "Python 3 (ipykernel)",
   "language": "python",
   "name": "python3"
  },
  "language_info": {
   "codemirror_mode": {
    "name": "ipython",
    "version": 3
   },
   "file_extension": ".py",
   "mimetype": "text/x-python",
   "name": "python",
   "nbconvert_exporter": "python",
   "pygments_lexer": "ipython3",
   "version": "3.9.12"
  }
 },
 "nbformat": 4,
 "nbformat_minor": 5
}
