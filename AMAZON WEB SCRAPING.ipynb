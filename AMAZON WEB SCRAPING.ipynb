{
 "cells": [
  {
   "cell_type": "code",
   "execution_count": 2,
   "id": "3d521899",
   "metadata": {},
   "outputs": [
    {
     "name": "stdout",
     "output_type": "stream",
     "text": [
      "Collecting seaborn\n",
      "  Downloading seaborn-0.13.2-py3-none-any.whl.metadata (5.4 kB)\n",
      "Requirement already satisfied: numpy!=1.24.0,>=1.20 in c:\\python312\\lib\\site-packages (from seaborn) (2.0.0)\n",
      "Requirement already satisfied: pandas>=1.2 in c:\\python312\\lib\\site-packages (from seaborn) (2.2.2)\n",
      "Requirement already satisfied: matplotlib!=3.6.1,>=3.4 in c:\\python312\\lib\\site-packages (from seaborn) (3.9.1)\n",
      "Requirement already satisfied: contourpy>=1.0.1 in c:\\python312\\lib\\site-packages (from matplotlib!=3.6.1,>=3.4->seaborn) (1.2.1)\n",
      "Requirement already satisfied: cycler>=0.10 in c:\\python312\\lib\\site-packages (from matplotlib!=3.6.1,>=3.4->seaborn) (0.12.1)\n",
      "Requirement already satisfied: fonttools>=4.22.0 in c:\\python312\\lib\\site-packages (from matplotlib!=3.6.1,>=3.4->seaborn) (4.53.1)\n",
      "Requirement already satisfied: kiwisolver>=1.3.1 in c:\\python312\\lib\\site-packages (from matplotlib!=3.6.1,>=3.4->seaborn) (1.4.5)\n",
      "Requirement already satisfied: packaging>=20.0 in c:\\users\\grejoy\\appdata\\roaming\\python\\python312\\site-packages (from matplotlib!=3.6.1,>=3.4->seaborn) (24.1)\n",
      "Requirement already satisfied: pillow>=8 in c:\\python312\\lib\\site-packages (from matplotlib!=3.6.1,>=3.4->seaborn) (10.4.0)\n",
      "Requirement already satisfied: pyparsing>=2.3.1 in c:\\python312\\lib\\site-packages (from matplotlib!=3.6.1,>=3.4->seaborn) (3.1.2)\n",
      "Requirement already satisfied: python-dateutil>=2.7 in c:\\users\\grejoy\\appdata\\roaming\\python\\python312\\site-packages (from matplotlib!=3.6.1,>=3.4->seaborn) (2.9.0.post0)\n",
      "Requirement already satisfied: pytz>=2020.1 in c:\\python312\\lib\\site-packages (from pandas>=1.2->seaborn) (2024.1)\n",
      "Requirement already satisfied: tzdata>=2022.7 in c:\\python312\\lib\\site-packages (from pandas>=1.2->seaborn) (2024.1)\n",
      "Requirement already satisfied: six>=1.5 in c:\\users\\grejoy\\appdata\\roaming\\python\\python312\\site-packages (from python-dateutil>=2.7->matplotlib!=3.6.1,>=3.4->seaborn) (1.16.0)\n",
      "Downloading seaborn-0.13.2-py3-none-any.whl (294 kB)\n",
      "   ---------------------------------------- 0.0/294.9 kB ? eta -:--:--\n",
      "   ---------------------------------------- 0.0/294.9 kB ? eta -:--:--\n",
      "   ---------------------------------------- 0.0/294.9 kB ? eta -:--:--\n",
      "   ---------------------------------------- 0.0/294.9 kB ? eta -:--:--\n",
      "   - -------------------------------------- 10.2/294.9 kB ? eta -:--:--\n",
      "   - -------------------------------------- 10.2/294.9 kB ? eta -:--:--\n",
      "   - -------------------------------------- 10.2/294.9 kB ? eta -:--:--\n",
      "   -- ------------------------------------- 20.5/294.9 kB 81.9 kB/s eta 0:00:04\n",
      "   -- ------------------------------------- 20.5/294.9 kB 81.9 kB/s eta 0:00:04\n",
      "   ---- ---------------------------------- 30.7/294.9 kB 100.9 kB/s eta 0:00:03\n",
      "   ---- ---------------------------------- 30.7/294.9 kB 100.9 kB/s eta 0:00:03\n",
      "   ---- ---------------------------------- 30.7/294.9 kB 100.9 kB/s eta 0:00:03\n",
      "   ----- ---------------------------------- 41.0/294.9 kB 89.3 kB/s eta 0:00:03\n",
      "   ----- ---------------------------------- 41.0/294.9 kB 89.3 kB/s eta 0:00:03\n",
      "   ----- ---------------------------------- 41.0/294.9 kB 89.3 kB/s eta 0:00:03\n",
      "   -------- ------------------------------ 61.4/294.9 kB 109.2 kB/s eta 0:00:03\n",
      "   -------- ------------------------------ 61.4/294.9 kB 109.2 kB/s eta 0:00:03\n",
      "   -------- ------------------------------ 61.4/294.9 kB 109.2 kB/s eta 0:00:03\n",
      "   -------- ------------------------------ 61.4/294.9 kB 109.2 kB/s eta 0:00:03\n",
      "   --------- ------------------------------ 71.7/294.9 kB 95.8 kB/s eta 0:00:03\n",
      "   --------- ------------------------------ 71.7/294.9 kB 95.8 kB/s eta 0:00:03\n",
      "   ------------ -------------------------- 92.2/294.9 kB 109.2 kB/s eta 0:00:02\n",
      "   ------------ -------------------------- 92.2/294.9 kB 109.2 kB/s eta 0:00:02\n",
      "   ------------ -------------------------- 92.2/294.9 kB 109.2 kB/s eta 0:00:02\n",
      "   -------------- ----------------------- 112.6/294.9 kB 119.1 kB/s eta 0:00:02\n",
      "   -------------- ----------------------- 112.6/294.9 kB 119.1 kB/s eta 0:00:02\n",
      "   --------------- ---------------------- 122.9/294.9 kB 116.2 kB/s eta 0:00:02\n",
      "   --------------- ---------------------- 122.9/294.9 kB 116.2 kB/s eta 0:00:02\n",
      "   --------------- ---------------------- 122.9/294.9 kB 116.2 kB/s eta 0:00:02\n",
      "   ------------------ ------------------- 143.4/294.9 kB 123.5 kB/s eta 0:00:02\n",
      "   ------------------ ------------------- 143.4/294.9 kB 123.5 kB/s eta 0:00:02\n",
      "   ------------------- ------------------ 153.6/294.9 kB 122.3 kB/s eta 0:00:02\n",
      "   ------------------- ------------------ 153.6/294.9 kB 122.3 kB/s eta 0:00:02\n",
      "   ---------------------- --------------- 174.1/294.9 kB 127.8 kB/s eta 0:00:01\n",
      "   ---------------------- --------------- 174.1/294.9 kB 127.8 kB/s eta 0:00:01\n",
      "   ---------------------- --------------- 174.1/294.9 kB 127.8 kB/s eta 0:00:01\n",
      "   ------------------------- ------------ 194.6/294.9 kB 132.5 kB/s eta 0:00:01\n",
      "   ------------------------- ------------ 194.6/294.9 kB 132.5 kB/s eta 0:00:01\n",
      "   ------------------------- ------------ 194.6/294.9 kB 132.5 kB/s eta 0:00:01\n",
      "   -------------------------- ----------- 204.8/294.9 kB 128.3 kB/s eta 0:00:01\n",
      "   -------------------------- ----------- 204.8/294.9 kB 128.3 kB/s eta 0:00:01\n",
      "   ----------------------------- -------- 225.3/294.9 kB 132.3 kB/s eta 0:00:01\n",
      "   ----------------------------- -------- 225.3/294.9 kB 132.3 kB/s eta 0:00:01\n",
      "   ----------------------------- -------- 225.3/294.9 kB 132.3 kB/s eta 0:00:01\n",
      "   ----------------------------- -------- 225.3/294.9 kB 132.3 kB/s eta 0:00:01\n",
      "   ----------------------------- -------- 225.3/294.9 kB 132.3 kB/s eta 0:00:01\n",
      "   ----------------------------- -------- 225.3/294.9 kB 132.3 kB/s eta 0:00:01\n",
      "   ------------------------------ ------- 235.5/294.9 kB 121.1 kB/s eta 0:00:01\n",
      "   ------------------------------ ------- 235.5/294.9 kB 121.1 kB/s eta 0:00:01\n",
      "   ------------------------------ ------- 235.5/294.9 kB 121.1 kB/s eta 0:00:01\n",
      "   -------------------------------- ----- 256.0/294.9 kB 122.9 kB/s eta 0:00:01\n",
      "   -------------------------------- ----- 256.0/294.9 kB 122.9 kB/s eta 0:00:01\n",
      "   -------------------------------- ----- 256.0/294.9 kB 122.9 kB/s eta 0:00:01\n",
      "   -------------------------------- ----- 256.0/294.9 kB 122.9 kB/s eta 0:00:01\n",
      "   ----------------------------------- -- 276.5/294.9 kB 123.4 kB/s eta 0:00:01\n",
      "   ----------------------------------- -- 276.5/294.9 kB 123.4 kB/s eta 0:00:01\n",
      "   ------------------------------------ - 286.7/294.9 kB 122.9 kB/s eta 0:00:01\n",
      "   -------------------------------------- 294.9/294.9 kB 125.6 kB/s eta 0:00:00\n",
      "Installing collected packages: seaborn\n",
      "Successfully installed seaborn-0.13.2\n",
      "Note: you may need to restart the kernel to use updated packages.\n"
     ]
    }
   ],
   "source": [
    "pip install seaborn"
   ]
  },
  {
   "cell_type": "code",
   "execution_count": 1,
   "id": "0d826b33",
   "metadata": {},
   "outputs": [],
   "source": [
    "import pandas as pd\n",
    "import numpy as np\n",
    "import matplotlib.pyplot as plt\n",
    "import seaborn as sns\n",
    "import time\n",
    "import datetime\n",
    "import smtplib\n",
    "%matplotlib inline"
   ]
  },
  {
   "cell_type": "code",
   "execution_count": 2,
   "id": "f367e14a",
   "metadata": {},
   "outputs": [],
   "source": [
    "from bs4 import BeautifulSoup\n",
    "import requests"
   ]
  },
  {
   "cell_type": "code",
   "execution_count": 7,
   "id": "71fed2bf",
   "metadata": {},
   "outputs": [
    {
     "name": "stdout",
     "output_type": "stream",
     "text": [
      "None\n",
      "None\n"
     ]
    }
   ],
   "source": [
    "url = \"https://www.jumia.com.gh/catalog/?q=iphones\"\n",
    "\n",
    "#headers for request\n",
    "\n",
    "HEADERS =  {\"User-Agent\": \"Mozilla/5.0 (Windows NT 10.0; Win64; x64) AppleWebKit/537.36 (KHTML, like Gecko) Chrome/126.0.0.0 Safari/537.36\", \n",
    "    \"X-Amzn-Trace-Id\": \"Root=1-6679f5b3-258bfcf634a347d314af720c\"}\n",
    "\n",
    "\n",
    "page = requests.get(url, headers = HEADERS)\n",
    "\n",
    "soup1 = BeautifulSoup(page.content, \"html.parser\")\n",
    "\n",
    "soup2 = BeautifulSoup(soup1.prettify(), \"html.parser\")\n",
    "\n",
    "title = soup2.find(\"div\", class_= \"info\")\n",
    "\n",
    "price = soup2.find(class_=\"prc\")\n",
    "\n",
    "print(title)\n",
    "print(price)\n",
    "\n",
    "\n"
   ]
  },
  {
   "cell_type": "code",
   "execution_count": 13,
   "id": "79185136",
   "metadata": {},
   "outputs": [
    {
     "name": "stdout",
     "output_type": "stream",
     "text": [
      "488.\n"
     ]
    }
   ],
   "source": [
    "html_content = '''\n",
    "<span class=\"a-price-whole\">\n",
    "    488\n",
    "    <span class=\"a-price-decimal\">\n",
    "        .\n",
    "    </span>\n",
    "</span>\n",
    "'''\n",
    "\n",
    "soup = BeautifulSoup(html_content, 'html.parser')\n",
    "price_whole = soup.find('span', class_='a-price-whole').get_text(strip=True)\n",
    "price_decimal = soup.find('span', class_='a-price-decimal').get_text(strip=True)\n",
    "\n",
    "# Combine the whole and decimal parts if needed\n",
    "\n",
    "\n",
    "print(price)  # Output: 488."
   ]
  },
  {
   "cell_type": "code",
   "execution_count": 31,
   "id": "5efffe06",
   "metadata": {},
   "outputs": [
    {
     "name": "stdout",
     "output_type": "stream",
     "text": [
      "4.3\n"
     ]
    }
   ],
   "source": [
    "from bs4 import BeautifulSoup\n",
    "\n",
    "# Example HTML content\n",
    "html_content = '''\n",
    "<div id=\"averageCustomerReviews\">\n",
    "    4.3\n",
    "    <br>\n",
    "    4.3 out of 5 stars\n",
    "    <br>\n",
    "    793 ratings\n",
    "</div>\n",
    "'''\n",
    "\n",
    "# Parse the HTML\n",
    "soup2 = BeautifulSoup(html_content, 'html.parser')\n",
    "\n",
    "# Find the element and extract the text\n",
    "review_element = soup2.find(id=\"averageCustomerReviews\")\n",
    "if review_element:\n",
    "    review_text = review_element.get_text().strip()\n",
    "    # Split the text by newlines and extra spaces\n",
    "    review_lines = [line.strip() for line in review_text.splitlines() if line.strip()]\n",
    "    # Print the first occurrence\n",
    "    if review_lines:\n",
    "        print(review_lines[0])\n",
    "    else:\n",
    "        print(\"No review text found\")\n",
    "else:\n",
    "    print(\"Element with id 'averageCustomerReviews' not found\")\n"
   ]
  },
  {
   "cell_type": "code",
   "execution_count": 19,
   "id": "32d37bd0",
   "metadata": {},
   "outputs": [
    {
     "name": "stdout",
     "output_type": "stream",
     "text": [
      "2024-06-27\n"
     ]
    }
   ],
   "source": [
    "import datetime\n",
    "\n",
    "today = datetime.date.today()\n",
    "\n",
    "print(today)"
   ]
  },
  {
   "cell_type": "code",
   "execution_count": 37,
   "id": "b1fb6cb5",
   "metadata": {},
   "outputs": [],
   "source": [
    "import csv\n",
    "\n",
    "header = [\"Title\", \"Price\", \"today\", \"Review\"]\n",
    "data  = [title, price, today,review_lines]\n",
    "\n",
    "with open(\"amazondataser.csv\", \"a+\", newline='', encoding='UTF8')as f:\n",
    "    writer = csv.writer(f)\n",
    "    writer.writerow(data)"
   ]
  },
  {
   "cell_type": "code",
   "execution_count": 38,
   "id": "ffb050c9",
   "metadata": {},
   "outputs": [
    {
     "data": {
      "text/html": [
       "<div>\n",
       "<style scoped>\n",
       "    .dataframe tbody tr th:only-of-type {\n",
       "        vertical-align: middle;\n",
       "    }\n",
       "\n",
       "    .dataframe tbody tr th {\n",
       "        vertical-align: top;\n",
       "    }\n",
       "\n",
       "    .dataframe thead th {\n",
       "        text-align: right;\n",
       "    }\n",
       "</style>\n",
       "<table border=\"1\" class=\"dataframe\">\n",
       "  <thead>\n",
       "    <tr style=\"text-align: right;\">\n",
       "      <th></th>\n",
       "      <th>Title</th>\n",
       "      <th>Price</th>\n",
       "      <th>today</th>\n",
       "      <th>Review</th>\n",
       "    </tr>\n",
       "  </thead>\n",
       "  <tbody>\n",
       "    <tr>\n",
       "      <th>0</th>\n",
       "      <td>HP 17 Laptop, 17.3” HD+ Display, 11th Gen Inte...</td>\n",
       "      <td>488.0</td>\n",
       "      <td>2024-06-27</td>\n",
       "      <td>['4.3', '4.3 out of 5 stars', '793 ratings']</td>\n",
       "    </tr>\n",
       "    <tr>\n",
       "      <th>1</th>\n",
       "      <td>HP 17 Laptop, 17.3” HD+ Display, 11th Gen Inte...</td>\n",
       "      <td>488.0</td>\n",
       "      <td>2024-06-27</td>\n",
       "      <td>['4.3', '4.3 out of 5 stars', '793 ratings']</td>\n",
       "    </tr>\n",
       "    <tr>\n",
       "      <th>2</th>\n",
       "      <td>HP 17 Laptop, 17.3” HD+ Display, 11th Gen Inte...</td>\n",
       "      <td>488.0</td>\n",
       "      <td>2024-06-27</td>\n",
       "      <td>['4.3', '4.3 out of 5 stars', '793 ratings']</td>\n",
       "    </tr>\n",
       "  </tbody>\n",
       "</table>\n",
       "</div>"
      ],
      "text/plain": [
       "                                               Title  Price       today  \\\n",
       "0  HP 17 Laptop, 17.3” HD+ Display, 11th Gen Inte...  488.0  2024-06-27   \n",
       "1  HP 17 Laptop, 17.3” HD+ Display, 11th Gen Inte...  488.0  2024-06-27   \n",
       "2  HP 17 Laptop, 17.3” HD+ Display, 11th Gen Inte...  488.0  2024-06-27   \n",
       "\n",
       "                                         Review  \n",
       "0  ['4.3', '4.3 out of 5 stars', '793 ratings']  \n",
       "1  ['4.3', '4.3 out of 5 stars', '793 ratings']  \n",
       "2  ['4.3', '4.3 out of 5 stars', '793 ratings']  "
      ]
     },
     "execution_count": 38,
     "metadata": {},
     "output_type": "execute_result"
    }
   ],
   "source": [
    "import pandas as pd\n",
    "\n",
    "df = pd.read_csv(r\"C:\\Users\\GREJOY\\PYTHON PROJECTS IN DATA ANALYSIS\\amazondataser.csv\")\n",
    "df"
   ]
  },
  {
   "cell_type": "code",
   "execution_count": 43,
   "id": "de34aca7",
   "metadata": {},
   "outputs": [],
   "source": [
    "def check_price():\n",
    "    URL = \"https://www.amazon.com/HP-Display-i3-1125G4-Processor-Windows/dp/B0C3RNRB8W/ref=sr_1_4?crid=2QI30A9UR2FXR&dib=eyJ2IjoiMSJ9.UFjPkgR-7igBpdeIG772MUom8H2HXyoe4b_G889vAADQ6Inh4qlt3t84MY24Zd1fhltrNq-jcKZQCVAvtzkfIXZNaBwZ4s9t1T9i6btCZ_ArkgsrHLy12k-AsQKSu0zVN9y4ac8_yYB5yKCAhPBxpxKeJ20qvXBBcsAaRtiGwXyKn1ekZkh_h2vU9iXBDmDBWNaBRcxLjqBshOEchZ7mMwT4rIhDThu9IIq0KQJYq3o.p2QfLk4rZMCo3vRQW7UDZ-CrQAuwOxV-7YUcM9aIkng&dib_tag=se&keywords=laptop&qid=1718703507&sprefix=laptop%2Caps%2C573&sr=8-4&th=1\"\n",
    "\n",
    "\n",
    "    #headers for request\n",
    "\n",
    "    HEADERS =  {\"User-Agent\": \"Mozilla/5.0 (Windows NT 10.0; Win64; x64) AppleWebKit/537.36 (KHTML, like Gecko) Chrome/126.0.0.0 Safari/537.36\", \n",
    "        \"X-Amzn-Trace-Id\": \"Root=1-6679f5b3-258bfcf634a347d314af720c\"}\n",
    "\n",
    "\n",
    "    page = requests.get(URL, headers = HEADERS)\n",
    "\n",
    "    soup1 = BeautifulSoup(page.content, \"html.parser\")\n",
    "\n",
    "    soup2 = BeautifulSoup(soup1.prettify(), \"html.parser\")\n",
    "\n",
    "    title = soup2.find(id = \"title\").get_text()\n",
    "\n",
    "    price = soup2.find(class_=\"a-price-whole\")\n",
    "    \n",
    "    \n",
    "    \n",
    "    #title\n",
    "    title = title.strip()\n",
    "    \n",
    "    #Price\n",
    "    html_content = '''\n",
    "    <span class=\"a-price-whole\">\n",
    "        488\n",
    "        <span class=\"a-price-decimal\">\n",
    "            .\n",
    "        </span>\n",
    "    </span>\n",
    "    '''\n",
    "\n",
    "    soup = BeautifulSoup(html_content, 'html.parser')\n",
    "    price_whole = soup.find('span', class_='a-price-whole').get_text(strip=True)\n",
    "    price_decimal = soup.find('span', class_='a-price-decimal').get_text(strip=True)\n",
    "    \n",
    "    \n",
    "    #DateTime\n",
    "    import datetime\n",
    "\n",
    "    today = datetime.date.today()\n",
    "\n",
    "   \n",
    "    #Ratings\n",
    "    \n",
    "    # Example HTML content\n",
    "    html_content = '''\n",
    "    <div id=\"averageCustomerReviews\">\n",
    "        4.3\n",
    "        <br>\n",
    "        4.3 out of 5 stars\n",
    "        <br>\n",
    "        793 ratings\n",
    "    </div>\n",
    "    '''\n",
    "\n",
    "    # Parse the HTML\n",
    "    soup2 = BeautifulSoup(html_content, 'html.parser')\n",
    "\n",
    "    # Find the element and extract the text\n",
    "    review_element = soup2.find(id=\"averageCustomerReviews\")\n",
    "    if review_element:\n",
    "        review_text = review_element.get_text().strip()\n",
    "        # Split the text by newlines and extra spaces\n",
    "        review_lines = [line.strip() for line in review_text.splitlines() if line.strip()]\n",
    "        # Print the first occurrence\n",
    "        if review_lines:\n",
    "            print(review_lines[0])\n",
    "        else:\n",
    "            print(\"No review text found\")\n",
    "    else:\n",
    "        print(\"Element with id 'averageCustomerReviews' not found\")\n",
    "        \n",
    "        \n",
    "    import csv\n",
    "\n",
    "    header = [\"Title\", \"Price\", \"today\", \"Review\"]\n",
    "    data  = [title, price, today,review_lines]\n",
    "    \n",
    "    with open(\"amazondataser.csv\", \"a+\", newline='', encoding='UTF8')as f:\n",
    "        writer = csv.writer(f)\n",
    "        writer.writerow(data)\n",
    "\n",
    "\n",
    "    \n",
    "\n",
    "\n",
    "\n",
    "    "
   ]
  },
  {
   "cell_type": "code",
   "execution_count": 52,
   "id": "ea0fbcb5",
   "metadata": {},
   "outputs": [
    {
     "name": "stdout",
     "output_type": "stream",
     "text": [
      "4.3\n"
     ]
    },
    {
     "ename": "AttributeError",
     "evalue": "'NoneType' object has no attribute 'get_text'",
     "output_type": "error",
     "traceback": [
      "\u001b[1;31m---------------------------------------------------------------------------\u001b[0m",
      "\u001b[1;31mAttributeError\u001b[0m                            Traceback (most recent call last)",
      "Input \u001b[1;32mIn [52]\u001b[0m, in \u001b[0;36m<cell line: 2>\u001b[1;34m()\u001b[0m\n\u001b[0;32m      1\u001b[0m \u001b[38;5;28;01mwhile\u001b[39;00m(\u001b[38;5;28;01mTrue\u001b[39;00m):\n\u001b[1;32m----> 2\u001b[0m     \u001b[43mcheck_price\u001b[49m\u001b[43m(\u001b[49m\u001b[43m)\u001b[49m\n\u001b[0;32m      3\u001b[0m     time\u001b[38;5;241m.\u001b[39msleep(\u001b[38;5;241m5\u001b[39m)\n",
      "Input \u001b[1;32mIn [43]\u001b[0m, in \u001b[0;36mcheck_price\u001b[1;34m()\u001b[0m\n\u001b[0;32m     13\u001b[0m soup1 \u001b[38;5;241m=\u001b[39m BeautifulSoup(page\u001b[38;5;241m.\u001b[39mcontent, \u001b[38;5;124m\"\u001b[39m\u001b[38;5;124mhtml.parser\u001b[39m\u001b[38;5;124m\"\u001b[39m)\n\u001b[0;32m     15\u001b[0m soup2 \u001b[38;5;241m=\u001b[39m BeautifulSoup(soup1\u001b[38;5;241m.\u001b[39mprettify(), \u001b[38;5;124m\"\u001b[39m\u001b[38;5;124mhtml.parser\u001b[39m\u001b[38;5;124m\"\u001b[39m)\n\u001b[1;32m---> 17\u001b[0m title \u001b[38;5;241m=\u001b[39m \u001b[43msoup2\u001b[49m\u001b[38;5;241;43m.\u001b[39;49m\u001b[43mfind\u001b[49m\u001b[43m(\u001b[49m\u001b[38;5;28;43mid\u001b[39;49m\u001b[43m \u001b[49m\u001b[38;5;241;43m=\u001b[39;49m\u001b[43m \u001b[49m\u001b[38;5;124;43m\"\u001b[39;49m\u001b[38;5;124;43mtitle\u001b[39;49m\u001b[38;5;124;43m\"\u001b[39;49m\u001b[43m)\u001b[49m\u001b[38;5;241;43m.\u001b[39;49m\u001b[43mget_text\u001b[49m()\n\u001b[0;32m     19\u001b[0m price \u001b[38;5;241m=\u001b[39m soup2\u001b[38;5;241m.\u001b[39mfind(class_\u001b[38;5;241m=\u001b[39m\u001b[38;5;124m\"\u001b[39m\u001b[38;5;124ma-price-whole\u001b[39m\u001b[38;5;124m\"\u001b[39m)\n\u001b[0;32m     23\u001b[0m \u001b[38;5;66;03m#title\u001b[39;00m\n",
      "\u001b[1;31mAttributeError\u001b[0m: 'NoneType' object has no attribute 'get_text'"
     ]
    }
   ],
   "source": [
    "while(True):\n",
    "    check_price()\n",
    "    time.sleep(5)"
   ]
  },
  {
   "cell_type": "code",
   "execution_count": null,
   "id": "5de28689",
   "metadata": {},
   "outputs": [],
   "source": [
    "import pandas as pd\n",
    "\n",
    "df = pd.read_csv(r\"C:\\Users\\GREJOY\\PYTHON PROJECTS IN DATA ANALYSIS\\amazondataser.csv\")\n",
    "df"
   ]
  },
  {
   "cell_type": "code",
   "execution_count": 55,
   "id": "1c43ba9d",
   "metadata": {},
   "outputs": [
    {
     "name": "stdout",
     "output_type": "stream",
     "text": [
      "Failed to retrieve data from the URL.\n"
     ]
    }
   ],
   "source": [
    "import requests\n",
    "from bs4 import BeautifulSoup\n",
    "import pandas as pd\n",
    "\n",
    "# URL to scrape\n",
    "url = 'https://www.jumia.com.gh/category-url-en-high-top-5537/#catalog-listing'\n",
    "\n",
    "headers = {\n",
    "    'User-Agent': 'Mozilla/5.0 (Windows NT 10.0; Win64; x64) AppleWebKit/537.36 (KHTML, like Gecko) Chrome/91.0.4472.124 Safari/537.36'\n",
    "}\n",
    "\n",
    "# Send a GET request to the URL\n",
    "response = requests.get(url)\n",
    "\n",
    "# Check if the request was successful\n",
    "if response.status_code == 200:\n",
    "    # Parse the HTML content\n",
    "    soup = BeautifulSoup(response.content, 'html.parser')\n",
    "    \n",
    "    # Initialize lists to store data\n",
    "    product_names = []\n",
    "    product_prices = []\n",
    "    \n",
    "    # Extract product names and prices\n",
    "    products = soup.find_all('div', id='catalog-listing')\n",
    "    for product in products:\n",
    "        # Product name\n",
    "        name = product.find('h3', class_='name').text.strip()\n",
    "        product_names.append(name)\n",
    "        \n",
    "        # Product price\n",
    "        price = product.find('div', class_='prc').text.strip()\n",
    "        product_prices.append(price)\n",
    "    \n",
    "    # Create a DataFrame\n",
    "    df = pd.DataFrame({\n",
    "        'Product Name': product_names,\n",
    "        'Price': product_prices\n",
    "    })\n",
    "    \n",
    "    # Print the DataFrame (optional)\n",
    "    print(df)\n",
    "    \n",
    "    # You can now manipulate or analyze the data in the DataFrame as needed\n",
    "else:\n",
    "    print('Failed to retrieve data from the URL.')\n"
   ]
  },
  {
   "cell_type": "code",
   "execution_count": null,
   "id": "ee0a2815",
   "metadata": {},
   "outputs": [],
   "source": []
  },
  {
   "cell_type": "code",
   "execution_count": null,
   "id": "2f17e708",
   "metadata": {},
   "outputs": [],
   "source": []
  }
 ],
 "metadata": {
  "kernelspec": {
   "display_name": "Python 3 (ipykernel)",
   "language": "python",
   "name": "python3"
  },
  "language_info": {
   "codemirror_mode": {
    "name": "ipython",
    "version": 3
   },
   "file_extension": ".py",
   "mimetype": "text/x-python",
   "name": "python",
   "nbconvert_exporter": "python",
   "pygments_lexer": "ipython3",
   "version": "3.12.4"
  }
 },
 "nbformat": 4,
 "nbformat_minor": 5
}
