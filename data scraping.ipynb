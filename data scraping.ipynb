{
 "cells": [
  {
   "cell_type": "code",
   "execution_count": 1,
   "id": "f0069dbd",
   "metadata": {},
   "outputs": [],
   "source": [
    "from bs4 import BeautifulSoup\n",
    "import requests\n",
    "import pandas as pd"
   ]
  },
  {
   "cell_type": "code",
   "execution_count": 2,
   "id": "89cbd33f",
   "metadata": {},
   "outputs": [],
   "source": [
    "URL= \"https://www.amazon.com/deal/292b9704/?_encoding=UTF8&_encoding=UTF8&showVariations=true&ref_=dlx_gate_dd_dcl_tlt_292b9704_dt_pd_hp_d_atf_unk&pd_rd_w=IfQqF&content-id=amzn1.sym.71a3aa33-6478-4bef-92f0-b32d06566f5a&pf_rd_p=71a3aa33-6478-4bef-92f0-b32d06566f5a&pf_rd_r=P3YTBTHWSE7GYVFRSW31&pd_rd_wg=Nba7Q&pd_rd_r=de3dfcac-d590-4512-8ed1-109c640a9db6\""
   ]
  },
  {
   "cell_type": "code",
   "execution_count": 3,
   "id": "c322c7a9",
   "metadata": {},
   "outputs": [],
   "source": [
    "#headers for request\n",
    "\n",
    "HEADERS = ({'user_agent': 'https://explore.whatismybrowser.com/useragents/parse/?analyse-my-user-agent=yes', 'Accept-Language': 'en-US, en;0.5',} )"
   ]
  },
  {
   "cell_type": "code",
   "execution_count": 4,
   "id": "ad212ed2",
   "metadata": {},
   "outputs": [],
   "source": [
    "#http request\n",
    "\n",
    "webpage = requests.get(URL, headers = HEADERS)"
   ]
  },
  {
   "cell_type": "code",
   "execution_count": 5,
   "id": "d66bd8ad",
   "metadata": {},
   "outputs": [
    {
     "data": {
      "text/plain": [
       "bytes"
      ]
     },
     "execution_count": 5,
     "metadata": {},
     "output_type": "execute_result"
    }
   ],
   "source": [
    "type(webpage.content)"
   ]
  },
  {
   "cell_type": "code",
   "execution_count": 6,
   "id": "9c482474",
   "metadata": {},
   "outputs": [],
   "source": [
    "#soup object containing all data\n",
    "\n",
    "soup = BeautifulSoup(webpage.content, \"html.parser\")"
   ]
  },
  {
   "cell_type": "code",
   "execution_count": null,
   "id": "ff3be5b7",
   "metadata": {},
   "outputs": [],
   "source": []
  },
  {
   "cell_type": "code",
   "execution_count": 7,
   "id": "0f9dbd16",
   "metadata": {},
   "outputs": [],
   "source": [
    "#fetch links as list of tag object\n",
    "\n",
    "links = soup.find_all(\"a\", attrs= {'class': '<a class=\"a-link-normal\" title=\"SAMSUNG 27&amp;#34; CF39 Series FHD 1080p Curved Computer Monitor, Ultra Slim Design, AMD FreeSync, 4ms response, HDMI, DisplayPort, VESA Compatible, Wide Viewing Angle, LC27F398FWNXZA, Black\" href=\"/Samsung-LC27F398FWNXZA-C27F398-Curved-Monitor/dp/B01CX26WIG?ref_=Oct_DLandingS_D_292b9704_0\"><div class=\"a-section octopus-dlp-image-shield\"></div> <img alt=\"SAMSUNG 27&amp;#34; CF39 Series FHD 1080p Curved Computer Monitor, Ultra Slim Design, AMD FreeSync, 4ms response, HDMI, DisplayPort, VESA Compatible, Wide Viewing Angle, LC27F398FWNXZA, Black\" src=\"https://m.media-amazon.com/images/I/51HXHFAQmtL._AC_SR400,600_.jpg\" class=\"octopus-dlp-asin-image\" width=\"100%\"></a>'})\n"
   ]
  },
  {
   "cell_type": "code",
   "execution_count": 8,
   "id": "de293372",
   "metadata": {},
   "outputs": [
    {
     "data": {
      "text/plain": [
       "[]"
      ]
     },
     "execution_count": 8,
     "metadata": {},
     "output_type": "execute_result"
    }
   ],
   "source": [
    "links"
   ]
  },
  {
   "cell_type": "code",
   "execution_count": 9,
   "id": "938b1e11",
   "metadata": {},
   "outputs": [
    {
     "name": "stdout",
     "output_type": "stream",
     "text": [
      "[<a aria-label=\"Click here to see current deals.\" class=\"a-link-normal\" href=\"/gp/goldbox/ref=Oct_DLandingS_dsk_gb\">\n",
      "                Click here to see current deals.\n",
      "            </a>]\n"
     ]
    }
   ],
   "source": [
    "URL = \"https://www.amazon.com/deal/292b9704/?_encoding=UTF8&_encoding=UTF8&showVariations=true&ref_=dlx_gate_dd_dcl_tlt_292b9704_dt_pd_hp_d_atf_unk&pd_rd_w=IfQqF&content-id=amzn1.sym.71a3aa33-6478-4bef-92f0-b32d06566f5a&pf_rd_p=71a3aa33-6478-4bef-92f0-b32d06566f5a&pf_rd_r=P3YTBTHWSE7GYVFRSW31&pd_rd_wg=Nba7Q&pd_rd_r=de3dfcac-d590-4512-8ed1-109c640a9db6\"\n",
    "\n",
    "HEADERS = ({'user_agent': 'Mozilla/5.0 (Windows NT 10.0; Win64; x64) AppleWebKit/537.36 (KHTML, like Gecko) Chrome/58.0.3029.110 Safari/537.3', 'Accept-Language': 'en-US, en;0.5'})\n",
    "\n",
    "webpage = requests.get(URL, headers=HEADERS)\n",
    "soup = BeautifulSoup(webpage.content, \"html.parser\")\n",
    "\n",
    "links = soup.find_all(\"a\", attrs={\"class\": \"a-link-normal\"})\n",
    "\n",
    "print(links)"
   ]
  },
  {
   "cell_type": "code",
   "execution_count": 11,
   "id": "486b9447",
   "metadata": {},
   "outputs": [
    {
     "ename": "IndexError",
     "evalue": "list index out of range",
     "output_type": "error",
     "traceback": [
      "\u001b[1;31m---------------------------------------------------------------------------\u001b[0m",
      "\u001b[1;31mIndexError\u001b[0m                                Traceback (most recent call last)",
      "Input \u001b[1;32mIn [11]\u001b[0m, in \u001b[0;36m<cell line: 1>\u001b[1;34m()\u001b[0m\n\u001b[1;32m----> 1\u001b[0m link \u001b[38;5;241m=\u001b[39m \u001b[43mlinks\u001b[49m\u001b[43m[\u001b[49m\u001b[38;5;241;43m5\u001b[39;49m\u001b[43m]\u001b[49m\u001b[38;5;241m.\u001b[39mget(\u001b[38;5;124m'\u001b[39m\u001b[38;5;124mhref\u001b[39m\u001b[38;5;124m'\u001b[39m)\n",
      "\u001b[1;31mIndexError\u001b[0m: list index out of range"
     ]
    }
   ],
   "source": [
    "link = links[5].get('href')"
   ]
  },
  {
   "cell_type": "code",
   "execution_count": null,
   "id": "a5af962b",
   "metadata": {},
   "outputs": [],
   "source": [
    "product_list = \"https://amazon.com\" + link\n",
    "\n",
    "product_list"
   ]
  },
  {
   "cell_type": "code",
   "execution_count": null,
   "id": "2576ee1e",
   "metadata": {},
   "outputs": [],
   "source": [
    "new_webpage = requests.get(product_list, headers = HEADERS)"
   ]
  },
  {
   "cell_type": "code",
   "execution_count": null,
   "id": "6e4c9ec6",
   "metadata": {},
   "outputs": [],
   "source": [
    "new_webpage"
   ]
  },
  {
   "cell_type": "code",
   "execution_count": null,
   "id": "4bd65a97",
   "metadata": {},
   "outputs": [],
   "source": [
    "new_soup = BeautifulSoup(new_webpage.content, \"html.parser\")"
   ]
  },
  {
   "cell_type": "code",
   "execution_count": null,
   "id": "257d0a25",
   "metadata": {},
   "outputs": [],
   "source": []
  },
  {
   "cell_type": "code",
   "execution_count": null,
   "id": "2283da14",
   "metadata": {},
   "outputs": [],
   "source": []
  },
  {
   "cell_type": "code",
   "execution_count": null,
   "id": "4caa7485",
   "metadata": {},
   "outputs": [],
   "source": []
  },
  {
   "cell_type": "code",
   "execution_count": null,
   "id": "3220d224",
   "metadata": {},
   "outputs": [],
   "source": []
  }
 ],
 "metadata": {
  "kernelspec": {
   "display_name": "Python 3 (ipykernel)",
   "language": "python",
   "name": "python3"
  },
  "language_info": {
   "codemirror_mode": {
    "name": "ipython",
    "version": 3
   },
   "file_extension": ".py",
   "mimetype": "text/x-python",
   "name": "python",
   "nbconvert_exporter": "python",
   "pygments_lexer": "ipython3",
   "version": "3.9.12"
  }
 },
 "nbformat": 4,
 "nbformat_minor": 5
}
