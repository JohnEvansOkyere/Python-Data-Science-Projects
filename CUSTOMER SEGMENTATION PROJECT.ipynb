{
 "cells": [
  {
   "cell_type": "code",
   "execution_count": 1,
   "id": "acee1dc3",
   "metadata": {},
   "outputs": [],
   "source": [
    "import numpy as np\n",
    "import pandas as pd\n",
    "import seaborn as sns\n",
    "import matplotlib.pyplot as plt"
   ]
  },
  {
   "cell_type": "code",
   "execution_count": 2,
   "id": "3e87dc82",
   "metadata": {},
   "outputs": [
    {
     "data": {
      "text/html": [
       "<div>\n",
       "<style scoped>\n",
       "    .dataframe tbody tr th:only-of-type {\n",
       "        vertical-align: middle;\n",
       "    }\n",
       "\n",
       "    .dataframe tbody tr th {\n",
       "        vertical-align: top;\n",
       "    }\n",
       "\n",
       "    .dataframe thead th {\n",
       "        text-align: right;\n",
       "    }\n",
       "</style>\n",
       "<table border=\"1\" class=\"dataframe\">\n",
       "  <thead>\n",
       "    <tr style=\"text-align: right;\">\n",
       "      <th></th>\n",
       "      <th>DATE</th>\n",
       "      <th>STORE_NBR</th>\n",
       "      <th>LYLTY_CARD_NBR</th>\n",
       "      <th>TXN_ID</th>\n",
       "      <th>PROD_NBR</th>\n",
       "      <th>PROD_NAME</th>\n",
       "      <th>PROD_QTY</th>\n",
       "      <th>TOT_SALES</th>\n",
       "    </tr>\n",
       "  </thead>\n",
       "  <tbody>\n",
       "    <tr>\n",
       "      <th>0</th>\n",
       "      <td>43390</td>\n",
       "      <td>1</td>\n",
       "      <td>1000</td>\n",
       "      <td>1</td>\n",
       "      <td>5</td>\n",
       "      <td>Natural Chip        Compny SeaSalt175g</td>\n",
       "      <td>2</td>\n",
       "      <td>6.0</td>\n",
       "    </tr>\n",
       "    <tr>\n",
       "      <th>1</th>\n",
       "      <td>43599</td>\n",
       "      <td>1</td>\n",
       "      <td>1307</td>\n",
       "      <td>348</td>\n",
       "      <td>66</td>\n",
       "      <td>CCs Nacho Cheese    175g</td>\n",
       "      <td>3</td>\n",
       "      <td>6.3</td>\n",
       "    </tr>\n",
       "    <tr>\n",
       "      <th>2</th>\n",
       "      <td>43605</td>\n",
       "      <td>1</td>\n",
       "      <td>1343</td>\n",
       "      <td>383</td>\n",
       "      <td>61</td>\n",
       "      <td>Smiths Crinkle Cut  Chips Chicken 170g</td>\n",
       "      <td>2</td>\n",
       "      <td>2.9</td>\n",
       "    </tr>\n",
       "    <tr>\n",
       "      <th>3</th>\n",
       "      <td>43329</td>\n",
       "      <td>2</td>\n",
       "      <td>2373</td>\n",
       "      <td>974</td>\n",
       "      <td>69</td>\n",
       "      <td>Smiths Chip Thinly  S/Cream&amp;Onion 175g</td>\n",
       "      <td>5</td>\n",
       "      <td>15.0</td>\n",
       "    </tr>\n",
       "    <tr>\n",
       "      <th>4</th>\n",
       "      <td>43330</td>\n",
       "      <td>2</td>\n",
       "      <td>2426</td>\n",
       "      <td>1038</td>\n",
       "      <td>108</td>\n",
       "      <td>Kettle Tortilla ChpsHny&amp;Jlpno Chili 150g</td>\n",
       "      <td>3</td>\n",
       "      <td>13.8</td>\n",
       "    </tr>\n",
       "  </tbody>\n",
       "</table>\n",
       "</div>"
      ],
      "text/plain": [
       "    DATE  STORE_NBR  LYLTY_CARD_NBR  TXN_ID  PROD_NBR  \\\n",
       "0  43390          1            1000       1         5   \n",
       "1  43599          1            1307     348        66   \n",
       "2  43605          1            1343     383        61   \n",
       "3  43329          2            2373     974        69   \n",
       "4  43330          2            2426    1038       108   \n",
       "\n",
       "                                  PROD_NAME  PROD_QTY  TOT_SALES  \n",
       "0    Natural Chip        Compny SeaSalt175g         2        6.0  \n",
       "1                  CCs Nacho Cheese    175g         3        6.3  \n",
       "2    Smiths Crinkle Cut  Chips Chicken 170g         2        2.9  \n",
       "3    Smiths Chip Thinly  S/Cream&Onion 175g         5       15.0  \n",
       "4  Kettle Tortilla ChpsHny&Jlpno Chili 150g         3       13.8  "
      ]
     },
     "execution_count": 2,
     "metadata": {},
     "output_type": "execute_result"
    }
   ],
   "source": [
    "#Load customer transaction data first\n",
    "transa = pd.read_csv('QVI_transaction_data.csv')\n",
    "\n",
    "transa.head()\n"
   ]
  },
  {
   "cell_type": "code",
   "execution_count": 3,
   "id": "09c36388",
   "metadata": {},
   "outputs": [
    {
     "data": {
      "text/html": [
       "<div>\n",
       "<style scoped>\n",
       "    .dataframe tbody tr th:only-of-type {\n",
       "        vertical-align: middle;\n",
       "    }\n",
       "\n",
       "    .dataframe tbody tr th {\n",
       "        vertical-align: top;\n",
       "    }\n",
       "\n",
       "    .dataframe thead th {\n",
       "        text-align: right;\n",
       "    }\n",
       "</style>\n",
       "<table border=\"1\" class=\"dataframe\">\n",
       "  <thead>\n",
       "    <tr style=\"text-align: right;\">\n",
       "      <th></th>\n",
       "      <th>DATE</th>\n",
       "      <th>STORE_NBR</th>\n",
       "      <th>LYLTY_CARD_NBR</th>\n",
       "      <th>TXN_ID</th>\n",
       "      <th>PROD_NBR</th>\n",
       "      <th>PROD_QTY</th>\n",
       "      <th>TOT_SALES</th>\n",
       "    </tr>\n",
       "  </thead>\n",
       "  <tbody>\n",
       "    <tr>\n",
       "      <th>count</th>\n",
       "      <td>264836.000000</td>\n",
       "      <td>264836.00000</td>\n",
       "      <td>2.648360e+05</td>\n",
       "      <td>2.648360e+05</td>\n",
       "      <td>264836.000000</td>\n",
       "      <td>264836.000000</td>\n",
       "      <td>264836.000000</td>\n",
       "    </tr>\n",
       "    <tr>\n",
       "      <th>mean</th>\n",
       "      <td>43464.036260</td>\n",
       "      <td>135.08011</td>\n",
       "      <td>1.355495e+05</td>\n",
       "      <td>1.351583e+05</td>\n",
       "      <td>56.583157</td>\n",
       "      <td>1.907309</td>\n",
       "      <td>7.304200</td>\n",
       "    </tr>\n",
       "    <tr>\n",
       "      <th>std</th>\n",
       "      <td>105.389282</td>\n",
       "      <td>76.78418</td>\n",
       "      <td>8.057998e+04</td>\n",
       "      <td>7.813303e+04</td>\n",
       "      <td>32.826638</td>\n",
       "      <td>0.643654</td>\n",
       "      <td>3.083226</td>\n",
       "    </tr>\n",
       "    <tr>\n",
       "      <th>min</th>\n",
       "      <td>43282.000000</td>\n",
       "      <td>1.00000</td>\n",
       "      <td>1.000000e+03</td>\n",
       "      <td>1.000000e+00</td>\n",
       "      <td>1.000000</td>\n",
       "      <td>1.000000</td>\n",
       "      <td>1.500000</td>\n",
       "    </tr>\n",
       "    <tr>\n",
       "      <th>25%</th>\n",
       "      <td>43373.000000</td>\n",
       "      <td>70.00000</td>\n",
       "      <td>7.002100e+04</td>\n",
       "      <td>6.760150e+04</td>\n",
       "      <td>28.000000</td>\n",
       "      <td>2.000000</td>\n",
       "      <td>5.400000</td>\n",
       "    </tr>\n",
       "    <tr>\n",
       "      <th>50%</th>\n",
       "      <td>43464.000000</td>\n",
       "      <td>130.00000</td>\n",
       "      <td>1.303575e+05</td>\n",
       "      <td>1.351375e+05</td>\n",
       "      <td>56.000000</td>\n",
       "      <td>2.000000</td>\n",
       "      <td>7.400000</td>\n",
       "    </tr>\n",
       "    <tr>\n",
       "      <th>75%</th>\n",
       "      <td>43555.000000</td>\n",
       "      <td>203.00000</td>\n",
       "      <td>2.030942e+05</td>\n",
       "      <td>2.027012e+05</td>\n",
       "      <td>85.000000</td>\n",
       "      <td>2.000000</td>\n",
       "      <td>9.200000</td>\n",
       "    </tr>\n",
       "    <tr>\n",
       "      <th>max</th>\n",
       "      <td>43646.000000</td>\n",
       "      <td>272.00000</td>\n",
       "      <td>2.373711e+06</td>\n",
       "      <td>2.415841e+06</td>\n",
       "      <td>114.000000</td>\n",
       "      <td>200.000000</td>\n",
       "      <td>650.000000</td>\n",
       "    </tr>\n",
       "  </tbody>\n",
       "</table>\n",
       "</div>"
      ],
      "text/plain": [
       "                DATE     STORE_NBR  LYLTY_CARD_NBR        TXN_ID  \\\n",
       "count  264836.000000  264836.00000    2.648360e+05  2.648360e+05   \n",
       "mean    43464.036260     135.08011    1.355495e+05  1.351583e+05   \n",
       "std       105.389282      76.78418    8.057998e+04  7.813303e+04   \n",
       "min     43282.000000       1.00000    1.000000e+03  1.000000e+00   \n",
       "25%     43373.000000      70.00000    7.002100e+04  6.760150e+04   \n",
       "50%     43464.000000     130.00000    1.303575e+05  1.351375e+05   \n",
       "75%     43555.000000     203.00000    2.030942e+05  2.027012e+05   \n",
       "max     43646.000000     272.00000    2.373711e+06  2.415841e+06   \n",
       "\n",
       "            PROD_NBR       PROD_QTY      TOT_SALES  \n",
       "count  264836.000000  264836.000000  264836.000000  \n",
       "mean       56.583157       1.907309       7.304200  \n",
       "std        32.826638       0.643654       3.083226  \n",
       "min         1.000000       1.000000       1.500000  \n",
       "25%        28.000000       2.000000       5.400000  \n",
       "50%        56.000000       2.000000       7.400000  \n",
       "75%        85.000000       2.000000       9.200000  \n",
       "max       114.000000     200.000000     650.000000  "
      ]
     },
     "execution_count": 3,
     "metadata": {},
     "output_type": "execute_result"
    }
   ],
   "source": [
    "\n",
    "transa.describe()"
   ]
  },
  {
   "cell_type": "code",
   "execution_count": 4,
   "id": "83c206ef",
   "metadata": {},
   "outputs": [
    {
     "data": {
      "text/plain": [
       "DATE              0\n",
       "STORE_NBR         0\n",
       "LYLTY_CARD_NBR    0\n",
       "TXN_ID            0\n",
       "PROD_NBR          0\n",
       "PROD_NAME         0\n",
       "PROD_QTY          0\n",
       "TOT_SALES         0\n",
       "dtype: int64"
      ]
     },
     "execution_count": 4,
     "metadata": {},
     "output_type": "execute_result"
    }
   ],
   "source": [
    "#checking of null values\n",
    "\n",
    "transa.isnull().sum()"
   ]
  },
  {
   "cell_type": "code",
   "execution_count": 5,
   "id": "d297d198",
   "metadata": {},
   "outputs": [
    {
     "name": "stdout",
     "output_type": "stream",
     "text": [
      "<class 'pandas.core.frame.DataFrame'>\n",
      "RangeIndex: 264836 entries, 0 to 264835\n",
      "Data columns (total 8 columns):\n",
      " #   Column          Non-Null Count   Dtype  \n",
      "---  ------          --------------   -----  \n",
      " 0   DATE            264836 non-null  int64  \n",
      " 1   STORE_NBR       264836 non-null  int64  \n",
      " 2   LYLTY_CARD_NBR  264836 non-null  int64  \n",
      " 3   TXN_ID          264836 non-null  int64  \n",
      " 4   PROD_NBR        264836 non-null  int64  \n",
      " 5   PROD_NAME       264836 non-null  object \n",
      " 6   PROD_QTY        264836 non-null  int64  \n",
      " 7   TOT_SALES       264836 non-null  float64\n",
      "dtypes: float64(1), int64(6), object(1)\n",
      "memory usage: 16.2+ MB\n"
     ]
    }
   ],
   "source": [
    "\n",
    "transa.info()"
   ]
  },
  {
   "cell_type": "code",
   "execution_count": 6,
   "id": "0146f2ec",
   "metadata": {},
   "outputs": [
    {
     "data": {
      "text/plain": [
       "DATE              264836\n",
       "STORE_NBR         264836\n",
       "LYLTY_CARD_NBR    264836\n",
       "TXN_ID            264836\n",
       "PROD_NBR          264836\n",
       "PROD_NAME         264836\n",
       "PROD_QTY          264836\n",
       "TOT_SALES         264836\n",
       "dtype: int64"
      ]
     },
     "execution_count": 6,
     "metadata": {},
     "output_type": "execute_result"
    }
   ],
   "source": [
    "#counting the columns\n",
    "\n",
    "transa.count()"
   ]
  },
  {
   "cell_type": "code",
   "execution_count": 7,
   "id": "c0bb2d8e",
   "metadata": {},
   "outputs": [
    {
     "name": "stdout",
     "output_type": "stream",
     "text": [
      "1\n"
     ]
    }
   ],
   "source": [
    "#check duplicate values\n",
    "\n",
    "print(transa.duplicated().sum())"
   ]
  },
  {
   "cell_type": "code",
   "execution_count": 8,
   "id": "a1b8ac52",
   "metadata": {},
   "outputs": [
    {
     "name": "stdout",
     "output_type": "stream",
     "text": [
      "0\n"
     ]
    }
   ],
   "source": [
    "#removing dupicate value\n",
    "\n",
    "transa = transa.drop_duplicates()\n",
    "\n",
    "print(transa.duplicated().sum())"
   ]
  },
  {
   "cell_type": "code",
   "execution_count": 9,
   "id": "fdf97755",
   "metadata": {},
   "outputs": [
    {
     "data": {
      "image/png": "[encoded data removed]",
      "text/plain": [
       "<Figure size 432x288 with 1 Axes>"
      ]
     },
     "metadata": {
      "needs_background": "light"
     },
     "output_type": "display_data"
    }
   ],
   "source": [
    "#checking of outliers\n",
    "\n",
    "sns.boxplot(data=transa)\n",
    "plt.show()"
   ]
  },
  {
   "cell_type": "code",
   "execution_count": 10,
   "id": "e19a945c",
   "metadata": {},
   "outputs": [],
   "source": [
    "\n",
    "# Romovind outliers by Setting Tukey's Fences for both columns\n",
    "Q1_col1 = transa['LYLTY_CARD_NBR'].quantile(0.25)\n",
    "Q3_col1 = transa['LYLTY_CARD_NBR'].quantile(0.75)\n",
    "IQR_col1 = Q3_col1 - Q1_col1\n",
    "\n",
    "lower_bound_col1 = Q1_col1 - 1.5 * IQR_col1\n",
    "upper_bound_col1 = Q3_col1 + 1.5 * IQR_col1\n",
    "\n",
    "Q1_col2 = transa['TXN_ID'].quantile(0.25)\n",
    "Q3_col2 = transa['TXN_ID'].quantile(0.75)\n",
    "IQR_col2 = Q3_col2 - Q1_col2\n",
    "\n",
    "lower_bound_col2 = Q1_col2 - 1.5 * IQR_col2\n",
    "upper_bound_col2 = Q3_col2 + 1.5 * IQR_col2\n",
    "\n",
    "# Remove outliers from both columns\n",
    "data_no_outliers = transa[\n",
    "    (transa['LYLTY_CARD_NBR'] >= lower_bound_col1) & (transa['LYLTY_CARD_NBR'] <= upper_bound_col1) &\n",
    "    (transa['TXN_ID'] >= lower_bound_col2) & (transa['TXN_ID'] <= upper_bound_col2)\n",
    "]"
   ]
  },
  {
   "cell_type": "code",
   "execution_count": 11,
   "id": "de91e300",
   "metadata": {},
   "outputs": [
    {
     "data": {
      "image/png": "[encoded data removed]",
      "text/plain": [
       "<Figure size 432x288 with 1 Axes>"
      ]
     },
     "metadata": {
      "needs_background": "light"
     },
     "output_type": "display_data"
    }
   ],
   "source": [
    "sns.boxplot(data = data_no_outliers)\n",
    "plt.show()"
   ]
  },
  {
   "cell_type": "code",
   "execution_count": 12,
   "id": "e6176589",
   "metadata": {},
   "outputs": [],
   "source": [
    "new_transac = data_no_outliers"
   ]
  },
  {
   "cell_type": "code",
   "execution_count": 13,
   "id": "992364b3",
   "metadata": {},
   "outputs": [
    {
     "data": {
      "text/html": [
       "<div>\n",
       "<style scoped>\n",
       "    .dataframe tbody tr th:only-of-type {\n",
       "        vertical-align: middle;\n",
       "    }\n",
       "\n",
       "    .dataframe tbody tr th {\n",
       "        vertical-align: top;\n",
       "    }\n",
       "\n",
       "    .dataframe thead th {\n",
       "        text-align: right;\n",
       "    }\n",
       "</style>\n",
       "<table border=\"1\" class=\"dataframe\">\n",
       "  <thead>\n",
       "    <tr style=\"text-align: right;\">\n",
       "      <th></th>\n",
       "      <th>DATE</th>\n",
       "      <th>STORE_NBR</th>\n",
       "      <th>LYLTY_CARD_NBR</th>\n",
       "      <th>TXN_ID</th>\n",
       "      <th>PROD_NBR</th>\n",
       "      <th>PROD_NAME</th>\n",
       "      <th>PROD_QTY</th>\n",
       "      <th>TOT_SALES</th>\n",
       "    </tr>\n",
       "  </thead>\n",
       "  <tbody>\n",
       "    <tr>\n",
       "      <th>0</th>\n",
       "      <td>43390</td>\n",
       "      <td>1</td>\n",
       "      <td>1000</td>\n",
       "      <td>1</td>\n",
       "      <td>5</td>\n",
       "      <td>Natural Chip        Compny SeaSalt175g</td>\n",
       "      <td>2</td>\n",
       "      <td>6.0</td>\n",
       "    </tr>\n",
       "    <tr>\n",
       "      <th>1</th>\n",
       "      <td>43599</td>\n",
       "      <td>1</td>\n",
       "      <td>1307</td>\n",
       "      <td>348</td>\n",
       "      <td>66</td>\n",
       "      <td>CCs Nacho Cheese    175g</td>\n",
       "      <td>3</td>\n",
       "      <td>6.3</td>\n",
       "    </tr>\n",
       "    <tr>\n",
       "      <th>2</th>\n",
       "      <td>43605</td>\n",
       "      <td>1</td>\n",
       "      <td>1343</td>\n",
       "      <td>383</td>\n",
       "      <td>61</td>\n",
       "      <td>Smiths Crinkle Cut  Chips Chicken 170g</td>\n",
       "      <td>2</td>\n",
       "      <td>2.9</td>\n",
       "    </tr>\n",
       "    <tr>\n",
       "      <th>3</th>\n",
       "      <td>43329</td>\n",
       "      <td>2</td>\n",
       "      <td>2373</td>\n",
       "      <td>974</td>\n",
       "      <td>69</td>\n",
       "      <td>Smiths Chip Thinly  S/Cream&amp;Onion 175g</td>\n",
       "      <td>5</td>\n",
       "      <td>15.0</td>\n",
       "    </tr>\n",
       "    <tr>\n",
       "      <th>4</th>\n",
       "      <td>43330</td>\n",
       "      <td>2</td>\n",
       "      <td>2426</td>\n",
       "      <td>1038</td>\n",
       "      <td>108</td>\n",
       "      <td>Kettle Tortilla ChpsHny&amp;Jlpno Chili 150g</td>\n",
       "      <td>3</td>\n",
       "      <td>13.8</td>\n",
       "    </tr>\n",
       "  </tbody>\n",
       "</table>\n",
       "</div>"
      ],
      "text/plain": [
       "    DATE  STORE_NBR  LYLTY_CARD_NBR  TXN_ID  PROD_NBR  \\\n",
       "0  43390          1            1000       1         5   \n",
       "1  43599          1            1307     348        66   \n",
       "2  43605          1            1343     383        61   \n",
       "3  43329          2            2373     974        69   \n",
       "4  43330          2            2426    1038       108   \n",
       "\n",
       "                                  PROD_NAME  PROD_QTY  TOT_SALES  \n",
       "0    Natural Chip        Compny SeaSalt175g         2        6.0  \n",
       "1                  CCs Nacho Cheese    175g         3        6.3  \n",
       "2    Smiths Crinkle Cut  Chips Chicken 170g         2        2.9  \n",
       "3    Smiths Chip Thinly  S/Cream&Onion 175g         5       15.0  \n",
       "4  Kettle Tortilla ChpsHny&Jlpno Chili 150g         3       13.8  "
      ]
     },
     "execution_count": 13,
     "metadata": {},
     "output_type": "execute_result"
    }
   ],
   "source": [
    "new_transac.head()"
   ]
  },
  {
   "cell_type": "code",
   "execution_count": 14,
   "id": "f42ac9bb",
   "metadata": {},
   "outputs": [
    {
     "name": "stdout",
     "output_type": "stream",
     "text": [
      "NUMERICAL: ['DATE', 'LYLTY_CARD_NBR', 'PROD_NBR', 'PROD_QTY', 'STORE_NBR', 'TOT_SALES', 'TXN_ID']\n",
      "CATEGORICAL: ['PROD_NAME']\n"
     ]
    }
   ],
   "source": [
    "#Grouping categorical and numerical data\n",
    "\n",
    "col_counts = dict(new_transac.count(axis=0))\n",
    "col_types = {c: d for c, d in dict(new_transac.dtypes).items()   if col_counts[c] > 10 }\n",
    "_is_num = lambda x: x in (np.int64, float)\n",
    "# separate them\n",
    "cols_numerical = sorted([col for col, dtp in col_types.items() if _is_num(dtp)])\n",
    "cols_string = sorted([col for col, dtp in col_types.items() if not _is_num(dtp)])\n",
    "print(f\"NUMERICAL: {cols_numerical}\")\n",
    "print(f\"CATEGORICAL: {cols_string}\")"
   ]
  },
  {
   "cell_type": "code",
   "execution_count": 15,
   "id": "d6d47437",
   "metadata": {},
   "outputs": [
    {
     "data": {
      "text/html": [
       "<div>\n",
       "<style scoped>\n",
       "    .dataframe tbody tr th:only-of-type {\n",
       "        vertical-align: middle;\n",
       "    }\n",
       "\n",
       "    .dataframe tbody tr th {\n",
       "        vertical-align: top;\n",
       "    }\n",
       "\n",
       "    .dataframe thead th {\n",
       "        text-align: right;\n",
       "    }\n",
       "</style>\n",
       "<table border=\"1\" class=\"dataframe\">\n",
       "  <thead>\n",
       "    <tr style=\"text-align: right;\">\n",
       "      <th></th>\n",
       "      <th>LYLTY_CARD_NBR</th>\n",
       "      <th>LIFESTAGE</th>\n",
       "      <th>PREMIUM_CUSTOMER</th>\n",
       "    </tr>\n",
       "  </thead>\n",
       "  <tbody>\n",
       "    <tr>\n",
       "      <th>0</th>\n",
       "      <td>1000</td>\n",
       "      <td>YOUNG SINGLES/COUPLES</td>\n",
       "      <td>Premium</td>\n",
       "    </tr>\n",
       "    <tr>\n",
       "      <th>1</th>\n",
       "      <td>1002</td>\n",
       "      <td>YOUNG SINGLES/COUPLES</td>\n",
       "      <td>Mainstream</td>\n",
       "    </tr>\n",
       "    <tr>\n",
       "      <th>2</th>\n",
       "      <td>1003</td>\n",
       "      <td>YOUNG FAMILIES</td>\n",
       "      <td>Budget</td>\n",
       "    </tr>\n",
       "    <tr>\n",
       "      <th>3</th>\n",
       "      <td>1004</td>\n",
       "      <td>OLDER SINGLES/COUPLES</td>\n",
       "      <td>Mainstream</td>\n",
       "    </tr>\n",
       "    <tr>\n",
       "      <th>4</th>\n",
       "      <td>1005</td>\n",
       "      <td>MIDAGE SINGLES/COUPLES</td>\n",
       "      <td>Mainstream</td>\n",
       "    </tr>\n",
       "  </tbody>\n",
       "</table>\n",
       "</div>"
      ],
      "text/plain": [
       "   LYLTY_CARD_NBR               LIFESTAGE PREMIUM_CUSTOMER\n",
       "0            1000   YOUNG SINGLES/COUPLES          Premium\n",
       "1            1002   YOUNG SINGLES/COUPLES       Mainstream\n",
       "2            1003          YOUNG FAMILIES           Budget\n",
       "3            1004   OLDER SINGLES/COUPLES       Mainstream\n",
       "4            1005  MIDAGE SINGLES/COUPLES       Mainstream"
      ]
     },
     "execution_count": 15,
     "metadata": {},
     "output_type": "execute_result"
    }
   ],
   "source": [
    "#read purchase_behavior of customers\n",
    "\n",
    "behavior = pd.read_csv('QVI_purchase_behaviour.csv')\n",
    "\n",
    "behavior.head()"
   ]
  },
  {
   "cell_type": "code",
   "execution_count": 16,
   "id": "252978bb",
   "metadata": {},
   "outputs": [
    {
     "data": {
      "text/html": [
       "<div>\n",
       "<style scoped>\n",
       "    .dataframe tbody tr th:only-of-type {\n",
       "        vertical-align: middle;\n",
       "    }\n",
       "\n",
       "    .dataframe tbody tr th {\n",
       "        vertical-align: top;\n",
       "    }\n",
       "\n",
       "    .dataframe thead th {\n",
       "        text-align: right;\n",
       "    }\n",
       "</style>\n",
       "<table border=\"1\" class=\"dataframe\">\n",
       "  <thead>\n",
       "    <tr style=\"text-align: right;\">\n",
       "      <th></th>\n",
       "      <th>LYLTY_CARD_NBR</th>\n",
       "    </tr>\n",
       "  </thead>\n",
       "  <tbody>\n",
       "    <tr>\n",
       "      <th>count</th>\n",
       "      <td>7.263700e+04</td>\n",
       "    </tr>\n",
       "    <tr>\n",
       "      <th>mean</th>\n",
       "      <td>1.361859e+05</td>\n",
       "    </tr>\n",
       "    <tr>\n",
       "      <th>std</th>\n",
       "      <td>8.989293e+04</td>\n",
       "    </tr>\n",
       "    <tr>\n",
       "      <th>min</th>\n",
       "      <td>1.000000e+03</td>\n",
       "    </tr>\n",
       "    <tr>\n",
       "      <th>25%</th>\n",
       "      <td>6.620200e+04</td>\n",
       "    </tr>\n",
       "    <tr>\n",
       "      <th>50%</th>\n",
       "      <td>1.340400e+05</td>\n",
       "    </tr>\n",
       "    <tr>\n",
       "      <th>75%</th>\n",
       "      <td>2.033750e+05</td>\n",
       "    </tr>\n",
       "    <tr>\n",
       "      <th>max</th>\n",
       "      <td>2.373711e+06</td>\n",
       "    </tr>\n",
       "  </tbody>\n",
       "</table>\n",
       "</div>"
      ],
      "text/plain": [
       "       LYLTY_CARD_NBR\n",
       "count    7.263700e+04\n",
       "mean     1.361859e+05\n",
       "std      8.989293e+04\n",
       "min      1.000000e+03\n",
       "25%      6.620200e+04\n",
       "50%      1.340400e+05\n",
       "75%      2.033750e+05\n",
       "max      2.373711e+06"
      ]
     },
     "execution_count": 16,
     "metadata": {},
     "output_type": "execute_result"
    }
   ],
   "source": [
    "behavior.describe()"
   ]
  },
  {
   "cell_type": "code",
   "execution_count": 17,
   "id": "1cdbe9e6",
   "metadata": {},
   "outputs": [
    {
     "data": {
      "text/plain": [
       "LYLTY_CARD_NBR      72637\n",
       "LIFESTAGE           72637\n",
       "PREMIUM_CUSTOMER    72637\n",
       "dtype: int64"
      ]
     },
     "execution_count": 17,
     "metadata": {},
     "output_type": "execute_result"
    }
   ],
   "source": [
    "behavior.count()"
   ]
  },
  {
   "cell_type": "code",
   "execution_count": 18,
   "id": "a837748d",
   "metadata": {},
   "outputs": [
    {
     "name": "stdout",
     "output_type": "stream",
     "text": [
      "<class 'pandas.core.frame.DataFrame'>\n",
      "RangeIndex: 72637 entries, 0 to 72636\n",
      "Data columns (total 3 columns):\n",
      " #   Column            Non-Null Count  Dtype \n",
      "---  ------            --------------  ----- \n",
      " 0   LYLTY_CARD_NBR    72637 non-null  int64 \n",
      " 1   LIFESTAGE         72637 non-null  object\n",
      " 2   PREMIUM_CUSTOMER  72637 non-null  object\n",
      "dtypes: int64(1), object(2)\n",
      "memory usage: 1.7+ MB\n"
     ]
    }
   ],
   "source": [
    "behavior.info()"
   ]
  },
  {
   "cell_type": "code",
   "execution_count": 19,
   "id": "e344840d",
   "metadata": {},
   "outputs": [
    {
     "data": {
      "text/plain": [
       "LYLTY_CARD_NBR      0\n",
       "LIFESTAGE           0\n",
       "PREMIUM_CUSTOMER    0\n",
       "dtype: int64"
      ]
     },
     "execution_count": 19,
     "metadata": {},
     "output_type": "execute_result"
    }
   ],
   "source": [
    "#checking null values\n",
    "\n",
    "behavior.isnull().sum()"
   ]
  },
  {
   "cell_type": "code",
   "execution_count": 23,
   "id": "6f3c646f",
   "metadata": {},
   "outputs": [
    {
     "data": {
      "image/png": "[encoded data removed]",
      "text/plain": [
       "<Figure size 432x288 with 1 Axes>"
      ]
     },
     "metadata": {
      "needs_background": "light"
     },
     "output_type": "display_data"
    }
   ],
   "source": [
    "#Checking outliers\n",
    "\n",
    "sns.boxplot(data = behavior)\n",
    "plt.show()"
   ]
  },
  {
   "cell_type": "code",
   "execution_count": 27,
   "id": "caadc7d2",
   "metadata": {},
   "outputs": [],
   "source": [
    "# Set Tukey's Fences for the outlier columns to remove outliers \n",
    "\n",
    "\n",
    "Q1 = behavior['LYLTY_CARD_NBR'].quantile(0.25)\n",
    "Q3 = behavior['LYLTY_CARD_NBR'].quantile(0.75)\n",
    "IQR = Q3 - Q1\n",
    "\n",
    "lower_bound = Q1 - 1.5 * IQR\n",
    "upper_bound = Q3 + 1.5 * IQR\n",
    "\n",
    "# Remove outliers\n",
    "behavior_no_outliers = behavior[(behavior['LYLTY_CARD_NBR'] >= lower_bound) & (behavior['LYLTY_CARD_NBR'] <= upper_bound)]"
   ]
  },
  {
   "cell_type": "code",
   "execution_count": 28,
   "id": "3f2873d3",
   "metadata": {},
   "outputs": [
    {
     "data": {
      "image/png": "[encoded data removed]",
      "text/plain": [
       "<Figure size 432x288 with 1 Axes>"
      ]
     },
     "metadata": {
      "needs_background": "light"
     },
     "output_type": "display_data"
    }
   ],
   "source": [
    "#checking of no_outliers by visualization\n",
    "\n",
    "sns.boxplot(data =behavior_no_outliers)\n",
    "plt.show()"
   ]
  },
  {
   "cell_type": "code",
   "execution_count": 29,
   "id": "a94ec4d9",
   "metadata": {},
   "outputs": [],
   "source": [
    "new_behavior = behavior_no_outliers"
   ]
  },
  {
   "cell_type": "code",
   "execution_count": 30,
   "id": "e8f15a17",
   "metadata": {},
   "outputs": [
    {
     "name": "stdout",
     "output_type": "stream",
     "text": [
      "int64\n",
      "int64\n"
     ]
    }
   ],
   "source": [
    "#checking to see if the JOIN KEY column is having same data type\n",
    "\n",
    "print(new_transac['LYLTY_CARD_NBR'].dtype)\n",
    "print(new_behavior['LYLTY_CARD_NBR'].dtype)\n",
    "\n"
   ]
  },
  {
   "cell_type": "code",
   "execution_count": 31,
   "id": "1a9b6c8e",
   "metadata": {},
   "outputs": [
    {
     "data": {
      "text/html": [
       "<div>\n",
       "<style scoped>\n",
       "    .dataframe tbody tr th:only-of-type {\n",
       "        vertical-align: middle;\n",
       "    }\n",
       "\n",
       "    .dataframe tbody tr th {\n",
       "        vertical-align: top;\n",
       "    }\n",
       "\n",
       "    .dataframe thead th {\n",
       "        text-align: right;\n",
       "    }\n",
       "</style>\n",
       "<table border=\"1\" class=\"dataframe\">\n",
       "  <thead>\n",
       "    <tr style=\"text-align: right;\">\n",
       "      <th></th>\n",
       "      <th>LYLTY_CARD_NBR</th>\n",
       "      <th>LIFESTAGE</th>\n",
       "      <th>PREMIUM_CUSTOMER</th>\n",
       "      <th>DATE</th>\n",
       "      <th>STORE_NBR</th>\n",
       "      <th>TXN_ID</th>\n",
       "      <th>PROD_NBR</th>\n",
       "      <th>PROD_NAME</th>\n",
       "      <th>PROD_QTY</th>\n",
       "      <th>TOT_SALES</th>\n",
       "    </tr>\n",
       "  </thead>\n",
       "  <tbody>\n",
       "    <tr>\n",
       "      <th>0</th>\n",
       "      <td>1000</td>\n",
       "      <td>YOUNG SINGLES/COUPLES</td>\n",
       "      <td>Premium</td>\n",
       "      <td>43390</td>\n",
       "      <td>1</td>\n",
       "      <td>1</td>\n",
       "      <td>5</td>\n",
       "      <td>Natural Chip        Compny SeaSalt175g</td>\n",
       "      <td>2</td>\n",
       "      <td>6.0</td>\n",
       "    </tr>\n",
       "    <tr>\n",
       "      <th>1</th>\n",
       "      <td>1002</td>\n",
       "      <td>YOUNG SINGLES/COUPLES</td>\n",
       "      <td>Mainstream</td>\n",
       "      <td>43359</td>\n",
       "      <td>1</td>\n",
       "      <td>2</td>\n",
       "      <td>58</td>\n",
       "      <td>Red Rock Deli Chikn&amp;Garlic Aioli 150g</td>\n",
       "      <td>1</td>\n",
       "      <td>2.7</td>\n",
       "    </tr>\n",
       "    <tr>\n",
       "      <th>2</th>\n",
       "      <td>1003</td>\n",
       "      <td>YOUNG FAMILIES</td>\n",
       "      <td>Budget</td>\n",
       "      <td>43531</td>\n",
       "      <td>1</td>\n",
       "      <td>3</td>\n",
       "      <td>52</td>\n",
       "      <td>Grain Waves Sour    Cream&amp;Chives 210G</td>\n",
       "      <td>1</td>\n",
       "      <td>3.6</td>\n",
       "    </tr>\n",
       "    <tr>\n",
       "      <th>3</th>\n",
       "      <td>1003</td>\n",
       "      <td>YOUNG FAMILIES</td>\n",
       "      <td>Budget</td>\n",
       "      <td>43532</td>\n",
       "      <td>1</td>\n",
       "      <td>4</td>\n",
       "      <td>106</td>\n",
       "      <td>Natural ChipCo      Hony Soy Chckn175g</td>\n",
       "      <td>1</td>\n",
       "      <td>3.0</td>\n",
       "    </tr>\n",
       "    <tr>\n",
       "      <th>4</th>\n",
       "      <td>1004</td>\n",
       "      <td>OLDER SINGLES/COUPLES</td>\n",
       "      <td>Mainstream</td>\n",
       "      <td>43406</td>\n",
       "      <td>1</td>\n",
       "      <td>5</td>\n",
       "      <td>96</td>\n",
       "      <td>WW Original Stacked Chips 160g</td>\n",
       "      <td>1</td>\n",
       "      <td>1.9</td>\n",
       "    </tr>\n",
       "  </tbody>\n",
       "</table>\n",
       "</div>"
      ],
      "text/plain": [
       "   LYLTY_CARD_NBR              LIFESTAGE PREMIUM_CUSTOMER   DATE  STORE_NBR  \\\n",
       "0            1000  YOUNG SINGLES/COUPLES          Premium  43390          1   \n",
       "1            1002  YOUNG SINGLES/COUPLES       Mainstream  43359          1   \n",
       "2            1003         YOUNG FAMILIES           Budget  43531          1   \n",
       "3            1003         YOUNG FAMILIES           Budget  43532          1   \n",
       "4            1004  OLDER SINGLES/COUPLES       Mainstream  43406          1   \n",
       "\n",
       "   TXN_ID  PROD_NBR                               PROD_NAME  PROD_QTY  \\\n",
       "0       1         5  Natural Chip        Compny SeaSalt175g         2   \n",
       "1       2        58   Red Rock Deli Chikn&Garlic Aioli 150g         1   \n",
       "2       3        52   Grain Waves Sour    Cream&Chives 210G         1   \n",
       "3       4       106  Natural ChipCo      Hony Soy Chckn175g         1   \n",
       "4       5        96          WW Original Stacked Chips 160g         1   \n",
       "\n",
       "   TOT_SALES  \n",
       "0        6.0  \n",
       "1        2.7  \n",
       "2        3.6  \n",
       "3        3.0  \n",
       "4        1.9  "
      ]
     },
     "execution_count": 31,
     "metadata": {},
     "output_type": "execute_result"
    }
   ],
   "source": [
    "merged_df = pd.merge(new_behavior,new_transac, on='LYLTY_CARD_NBR', how='inner' )\n",
    "merged_df.head()"
   ]
  },
  {
   "cell_type": "code",
   "execution_count": 32,
   "id": "c5c47a8a",
   "metadata": {},
   "outputs": [],
   "source": [
    "#separating data and time\n",
    "\n",
    "merged_df['DATE'] = pd.to_datetime(merged_df['DATE'], format='%Y-%m-%d')\n",
    "\n",
    "# Convert the DateTimeColumn to datetime format\n",
    "merged_df['DATE'] = pd.to_datetime(merged_df['DATE'])\n",
    "\n",
    "# Split the datetime column into separate date and time columns\n",
    "merged_df['Date'] = merged_df['DATE'].dt.date\n",
    "merged_df['Time'] = merged_df['DATE'].dt.time"
   ]
  },
  {
   "cell_type": "code",
   "execution_count": 33,
   "id": "901eeae4",
   "metadata": {},
   "outputs": [
    {
     "data": {
      "text/plain": [
       "dtype('<M8[ns]')"
      ]
     },
     "execution_count": 33,
     "metadata": {},
     "output_type": "execute_result"
    }
   ],
   "source": [
    "merged_df['DATE'].dtype"
   ]
  },
  {
   "cell_type": "code",
   "execution_count": 34,
   "id": "f350965b",
   "metadata": {},
   "outputs": [
    {
     "data": {
      "text/html": [
       "<div>\n",
       "<style scoped>\n",
       "    .dataframe tbody tr th:only-of-type {\n",
       "        vertical-align: middle;\n",
       "    }\n",
       "\n",
       "    .dataframe tbody tr th {\n",
       "        vertical-align: top;\n",
       "    }\n",
       "\n",
       "    .dataframe thead th {\n",
       "        text-align: right;\n",
       "    }\n",
       "</style>\n",
       "<table border=\"1\" class=\"dataframe\">\n",
       "  <thead>\n",
       "    <tr style=\"text-align: right;\">\n",
       "      <th></th>\n",
       "      <th>LYLTY_CARD_NBR</th>\n",
       "      <th>LIFESTAGE</th>\n",
       "      <th>PREMIUM_CUSTOMER</th>\n",
       "      <th>DATE</th>\n",
       "      <th>STORE_NBR</th>\n",
       "      <th>TXN_ID</th>\n",
       "      <th>PROD_NBR</th>\n",
       "      <th>PROD_NAME</th>\n",
       "      <th>PROD_QTY</th>\n",
       "      <th>TOT_SALES</th>\n",
       "      <th>Date</th>\n",
       "      <th>Time</th>\n",
       "    </tr>\n",
       "  </thead>\n",
       "  <tbody>\n",
       "    <tr>\n",
       "      <th>0</th>\n",
       "      <td>1000</td>\n",
       "      <td>YOUNG SINGLES/COUPLES</td>\n",
       "      <td>Premium</td>\n",
       "      <td>1970-01-01 00:00:00.000043390</td>\n",
       "      <td>1</td>\n",
       "      <td>1</td>\n",
       "      <td>5</td>\n",
       "      <td>Natural Chip        Compny SeaSalt175g</td>\n",
       "      <td>2</td>\n",
       "      <td>6.0</td>\n",
       "      <td>1970-01-01</td>\n",
       "      <td>00:00:00.000043</td>\n",
       "    </tr>\n",
       "    <tr>\n",
       "      <th>1</th>\n",
       "      <td>1002</td>\n",
       "      <td>YOUNG SINGLES/COUPLES</td>\n",
       "      <td>Mainstream</td>\n",
       "      <td>1970-01-01 00:00:00.000043359</td>\n",
       "      <td>1</td>\n",
       "      <td>2</td>\n",
       "      <td>58</td>\n",
       "      <td>Red Rock Deli Chikn&amp;Garlic Aioli 150g</td>\n",
       "      <td>1</td>\n",
       "      <td>2.7</td>\n",
       "      <td>1970-01-01</td>\n",
       "      <td>00:00:00.000043</td>\n",
       "    </tr>\n",
       "    <tr>\n",
       "      <th>2</th>\n",
       "      <td>1003</td>\n",
       "      <td>YOUNG FAMILIES</td>\n",
       "      <td>Budget</td>\n",
       "      <td>1970-01-01 00:00:00.000043531</td>\n",
       "      <td>1</td>\n",
       "      <td>3</td>\n",
       "      <td>52</td>\n",
       "      <td>Grain Waves Sour    Cream&amp;Chives 210G</td>\n",
       "      <td>1</td>\n",
       "      <td>3.6</td>\n",
       "      <td>1970-01-01</td>\n",
       "      <td>00:00:00.000043</td>\n",
       "    </tr>\n",
       "    <tr>\n",
       "      <th>3</th>\n",
       "      <td>1003</td>\n",
       "      <td>YOUNG FAMILIES</td>\n",
       "      <td>Budget</td>\n",
       "      <td>1970-01-01 00:00:00.000043532</td>\n",
       "      <td>1</td>\n",
       "      <td>4</td>\n",
       "      <td>106</td>\n",
       "      <td>Natural ChipCo      Hony Soy Chckn175g</td>\n",
       "      <td>1</td>\n",
       "      <td>3.0</td>\n",
       "      <td>1970-01-01</td>\n",
       "      <td>00:00:00.000043</td>\n",
       "    </tr>\n",
       "    <tr>\n",
       "      <th>4</th>\n",
       "      <td>1004</td>\n",
       "      <td>OLDER SINGLES/COUPLES</td>\n",
       "      <td>Mainstream</td>\n",
       "      <td>1970-01-01 00:00:00.000043406</td>\n",
       "      <td>1</td>\n",
       "      <td>5</td>\n",
       "      <td>96</td>\n",
       "      <td>WW Original Stacked Chips 160g</td>\n",
       "      <td>1</td>\n",
       "      <td>1.9</td>\n",
       "      <td>1970-01-01</td>\n",
       "      <td>00:00:00.000043</td>\n",
       "    </tr>\n",
       "  </tbody>\n",
       "</table>\n",
       "</div>"
      ],
      "text/plain": [
       "   LYLTY_CARD_NBR              LIFESTAGE PREMIUM_CUSTOMER  \\\n",
       "0            1000  YOUNG SINGLES/COUPLES          Premium   \n",
       "1            1002  YOUNG SINGLES/COUPLES       Mainstream   \n",
       "2            1003         YOUNG FAMILIES           Budget   \n",
       "3            1003         YOUNG FAMILIES           Budget   \n",
       "4            1004  OLDER SINGLES/COUPLES       Mainstream   \n",
       "\n",
       "                           DATE  STORE_NBR  TXN_ID  PROD_NBR  \\\n",
       "0 1970-01-01 00:00:00.000043390          1       1         5   \n",
       "1 1970-01-01 00:00:00.000043359          1       2        58   \n",
       "2 1970-01-01 00:00:00.000043531          1       3        52   \n",
       "3 1970-01-01 00:00:00.000043532          1       4       106   \n",
       "4 1970-01-01 00:00:00.000043406          1       5        96   \n",
       "\n",
       "                                PROD_NAME  PROD_QTY  TOT_SALES        Date  \\\n",
       "0  Natural Chip        Compny SeaSalt175g         2        6.0  1970-01-01   \n",
       "1   Red Rock Deli Chikn&Garlic Aioli 150g         1        2.7  1970-01-01   \n",
       "2   Grain Waves Sour    Cream&Chives 210G         1        3.6  1970-01-01   \n",
       "3  Natural ChipCo      Hony Soy Chckn175g         1        3.0  1970-01-01   \n",
       "4          WW Original Stacked Chips 160g         1        1.9  1970-01-01   \n",
       "\n",
       "              Time  \n",
       "0  00:00:00.000043  \n",
       "1  00:00:00.000043  \n",
       "2  00:00:00.000043  \n",
       "3  00:00:00.000043  \n",
       "4  00:00:00.000043  "
      ]
     },
     "execution_count": 34,
     "metadata": {},
     "output_type": "execute_result"
    }
   ],
   "source": [
    "merged_df.head()"
   ]
  },
  {
   "cell_type": "code",
   "execution_count": 35,
   "id": "6078ed22",
   "metadata": {},
   "outputs": [],
   "source": [
    "#romoving time\n",
    "\n",
    "merged_df = merged_df.drop(['DATE','Time'], axis=True)"
   ]
  },
  {
   "cell_type": "code",
   "execution_count": 36,
   "id": "bfee71fc",
   "metadata": {},
   "outputs": [
    {
     "data": {
      "text/html": [
       "<div>\n",
       "<style scoped>\n",
       "    .dataframe tbody tr th:only-of-type {\n",
       "        vertical-align: middle;\n",
       "    }\n",
       "\n",
       "    .dataframe tbody tr th {\n",
       "        vertical-align: top;\n",
       "    }\n",
       "\n",
       "    .dataframe thead th {\n",
       "        text-align: right;\n",
       "    }\n",
       "</style>\n",
       "<table border=\"1\" class=\"dataframe\">\n",
       "  <thead>\n",
       "    <tr style=\"text-align: right;\">\n",
       "      <th></th>\n",
       "      <th>LYLTY_CARD_NBR</th>\n",
       "      <th>LIFESTAGE</th>\n",
       "      <th>PREMIUM_CUSTOMER</th>\n",
       "      <th>STORE_NBR</th>\n",
       "      <th>TXN_ID</th>\n",
       "      <th>PROD_NBR</th>\n",
       "      <th>PROD_NAME</th>\n",
       "      <th>PROD_QTY</th>\n",
       "      <th>TOT_SALES</th>\n",
       "      <th>Date</th>\n",
       "    </tr>\n",
       "  </thead>\n",
       "  <tbody>\n",
       "    <tr>\n",
       "      <th>0</th>\n",
       "      <td>1000</td>\n",
       "      <td>YSC</td>\n",
       "      <td>Premium</td>\n",
       "      <td>1</td>\n",
       "      <td>1</td>\n",
       "      <td>5</td>\n",
       "      <td>Natural Chip        Compny SeaSalt175g</td>\n",
       "      <td>2</td>\n",
       "      <td>6.0</td>\n",
       "      <td>1970-01-01</td>\n",
       "    </tr>\n",
       "    <tr>\n",
       "      <th>1</th>\n",
       "      <td>1002</td>\n",
       "      <td>YSC</td>\n",
       "      <td>Mainstream</td>\n",
       "      <td>1</td>\n",
       "      <td>2</td>\n",
       "      <td>58</td>\n",
       "      <td>Red Rock Deli Chikn&amp;Garlic Aioli 150g</td>\n",
       "      <td>1</td>\n",
       "      <td>2.7</td>\n",
       "      <td>1970-01-01</td>\n",
       "    </tr>\n",
       "    <tr>\n",
       "      <th>2</th>\n",
       "      <td>1003</td>\n",
       "      <td>YF</td>\n",
       "      <td>Budget</td>\n",
       "      <td>1</td>\n",
       "      <td>3</td>\n",
       "      <td>52</td>\n",
       "      <td>Grain Waves Sour    Cream&amp;Chives 210G</td>\n",
       "      <td>1</td>\n",
       "      <td>3.6</td>\n",
       "      <td>1970-01-01</td>\n",
       "    </tr>\n",
       "    <tr>\n",
       "      <th>3</th>\n",
       "      <td>1003</td>\n",
       "      <td>YF</td>\n",
       "      <td>Budget</td>\n",
       "      <td>1</td>\n",
       "      <td>4</td>\n",
       "      <td>106</td>\n",
       "      <td>Natural ChipCo      Hony Soy Chckn175g</td>\n",
       "      <td>1</td>\n",
       "      <td>3.0</td>\n",
       "      <td>1970-01-01</td>\n",
       "    </tr>\n",
       "    <tr>\n",
       "      <th>4</th>\n",
       "      <td>1004</td>\n",
       "      <td>OSC</td>\n",
       "      <td>Mainstream</td>\n",
       "      <td>1</td>\n",
       "      <td>5</td>\n",
       "      <td>96</td>\n",
       "      <td>WW Original Stacked Chips 160g</td>\n",
       "      <td>1</td>\n",
       "      <td>1.9</td>\n",
       "      <td>1970-01-01</td>\n",
       "    </tr>\n",
       "  </tbody>\n",
       "</table>\n",
       "</div>"
      ],
      "text/plain": [
       "   LYLTY_CARD_NBR LIFESTAGE PREMIUM_CUSTOMER  STORE_NBR  TXN_ID  PROD_NBR  \\\n",
       "0            1000       YSC          Premium          1       1         5   \n",
       "1            1002       YSC       Mainstream          1       2        58   \n",
       "2            1003        YF           Budget          1       3        52   \n",
       "3            1003        YF           Budget          1       4       106   \n",
       "4            1004       OSC       Mainstream          1       5        96   \n",
       "\n",
       "                                PROD_NAME  PROD_QTY  TOT_SALES        Date  \n",
       "0  Natural Chip        Compny SeaSalt175g         2        6.0  1970-01-01  \n",
       "1   Red Rock Deli Chikn&Garlic Aioli 150g         1        2.7  1970-01-01  \n",
       "2   Grain Waves Sour    Cream&Chives 210G         1        3.6  1970-01-01  \n",
       "3  Natural ChipCo      Hony Soy Chckn175g         1        3.0  1970-01-01  \n",
       "4          WW Original Stacked Chips 160g         1        1.9  1970-01-01  "
      ]
     },
     "execution_count": 36,
     "metadata": {},
     "output_type": "execute_result"
    }
   ],
   "source": [
    "# Reducing the len of LIFESTAGE column values for easy visualization\n",
    "replacement_dict = {'YOUNG SINGLES/COUPLES': 'YSC', 'MIDAGE SINGLES/COUPLES': 'MSC', 'OLDER SINGLES/COUPLES': 'OSC', \n",
    "                    'RETIREES': 'R', 'OLDER FAMILIES': 'OF', 'YOUNG FAMILIES': 'YF', 'NEW FAMILIES': 'NF'\n",
    "                    }\n",
    "merged_df['LIFESTAGE'] = merged_df['LIFESTAGE'].replace(replacement_dict)\n",
    "\n",
    "# Display the resulting DataFrame\n",
    "merged_df.head()"
   ]
  },
  {
   "cell_type": "code",
   "execution_count": 37,
   "id": "71e41ef6",
   "metadata": {},
   "outputs": [
    {
     "data": {
      "text/plain": [
       "1934070.3000000003"
      ]
     },
     "execution_count": 37,
     "metadata": {},
     "output_type": "execute_result"
    }
   ],
   "source": [
    "#checking total sales made\n",
    "\n",
    "merged_df['TOT_SALES'].sum()"
   ]
  },
  {
   "cell_type": "code",
   "execution_count": 38,
   "id": "67cf4f8b",
   "metadata": {},
   "outputs": [
    {
     "name": "stdout",
     "output_type": "stream",
     "text": [
      "         Date  TOT_SALES\n",
      "0  1970-01-01  1934070.3\n"
     ]
    }
   ],
   "source": [
    "#checking sales made according to dates provided\n",
    "\n",
    "\n",
    "# Group by Date and sum the sales\n",
    "sales_by_date = merged_df.groupby('Date')['TOT_SALES'].sum().reset_index()\n",
    "\n",
    "# Display the result\n",
    "print(sales_by_date)"
   ]
  },
  {
   "cell_type": "markdown",
   "id": "0f3c806c",
   "metadata": {},
   "source": [
    "I never assume all data was a single day sales"
   ]
  },
  {
   "cell_type": "code",
   "execution_count": 39,
   "id": "81206ee1",
   "metadata": {},
   "outputs": [
    {
     "name": "stdout",
     "output_type": "stream",
     "text": [
      "                                  PROD_NAME  TOT_SALES\n",
      "0                         Burger Rings 220g     6828.7\n",
      "1                  CCs Nacho Cheese    175g     5961.9\n",
      "2                         CCs Original 175g     6048.0\n",
      "3                  CCs Tasty Cheese    175g     6069.0\n",
      "4            Cheetos Chs & Bacon Balls 190g     9243.3\n",
      "..                                      ...        ...\n",
      "109  WW Sour Cream &OnionStacked Chips 160g     5323.8\n",
      "110     WW Supreme Cheese   Corn Chips 200g     5390.3\n",
      "111          Woolworths Cheese   Rings 190g     5169.6\n",
      "112          Woolworths Medium   Salsa 300g     4050.0\n",
      "113          Woolworths Mild     Salsa 300g     4234.5\n",
      "\n",
      "[114 rows x 2 columns]\n"
     ]
    }
   ],
   "source": [
    "# Group by 'PROD_NAME' and sum the 'SALES' for each product\n",
    "total_sales_per_product = merged_df.groupby('PROD_NAME')['TOT_SALES'].sum().reset_index()\n",
    "\n",
    "# Display the result\n",
    "print(total_sales_per_product)"
   ]
  },
  {
   "cell_type": "code",
   "execution_count": 40,
   "id": "c77732be",
   "metadata": {},
   "outputs": [
    {
     "data": {
      "text/plain": [
       "OSC    54463\n",
       "R      49756\n",
       "OF     48589\n",
       "YF     43586\n",
       "YSC    36372\n",
       "MSC    25105\n",
       "NF      6919\n",
       "Name: LIFESTAGE, dtype: int64"
      ]
     },
     "execution_count": 40,
     "metadata": {},
     "output_type": "execute_result"
    }
   ],
   "source": [
    "#Counting total sales with each of the LIFESTAGE\n",
    "\n",
    "\n",
    "merged_df['LIFESTAGE'].value_counts()"
   ]
  },
  {
   "cell_type": "markdown",
   "id": "6038886d",
   "metadata": {},
   "source": [
    "total number of customers according to their life stage, Older/Single Couples tends to have the larger number of customers, and \n",
    "new families had the least.\n",
    "Old single couples are targeted customers, followed by Retirees, probably the products fits in for old age people"
   ]
  },
  {
   "cell_type": "code",
   "execution_count": 41,
   "id": "faaba53b",
   "metadata": {},
   "outputs": [
    {
     "name": "stdout",
     "output_type": "stream",
     "text": [
      "  LIFESTAGE  TOT_SALES\n",
      "0       MSC  184714.60\n",
      "1        NF   50433.45\n",
      "2        OF  353710.00\n",
      "3       OSC  402316.55\n",
      "4         R  366422.30\n",
      "5        YF  316110.50\n",
      "6       YSC  260362.90\n"
     ]
    }
   ],
   "source": [
    "# Group by 'LIFESTAGE' and sum the 'SALES' for each product\n",
    "total_sales_per_LIFESTAGE = merged_df.groupby('LIFESTAGE')['TOT_SALES'].sum().reset_index()\n",
    "\n",
    "# Display the result\n",
    "print(total_sales_per_LIFESTAGE)"
   ]
  },
  {
   "cell_type": "code",
   "execution_count": 42,
   "id": "5be9c97b",
   "metadata": {},
   "outputs": [
    {
     "data": {
      "image/png": "[encoded data removed]",
      "text/plain": [
       "<Figure size 432x288 with 1 Axes>"
      ]
     },
     "metadata": {
      "needs_background": "light"
     },
     "output_type": "display_data"
    }
   ],
   "source": [
    "totals = ['TOT_SALES']\n",
    "for total in totals:\n",
    "    sns.barplot(data= total_sales_per_LIFESTAGE, x='LIFESTAGE', y=total, palette='husl').set(xlabel = 'LIFESTAGE', ylabel = total, title = f\"PREMIUM_CUSTOMER vs {total}\")\n",
    "    plt.show()"
   ]
  },
  {
   "cell_type": "markdown",
   "id": "5583ce9d",
   "metadata": {},
   "source": [
    "As shown above, Old Single Couple, Retirees,Old Families in that order made the highest purchase, products are very essential to old people "
   ]
  },
  {
   "cell_type": "code",
   "execution_count": 43,
   "id": "2fd70e80",
   "metadata": {},
   "outputs": [
    {
     "data": {
      "text/plain": [
       "<AxesSubplot:xlabel='LIFESTAGE', ylabel='count'>"
      ]
     },
     "execution_count": 43,
     "metadata": {},
     "output_type": "execute_result"
    },
    {
     "data": {
      "image/png": "[encoded data removed]",
      "text/plain": [
       "<Figure size 432x288 with 1 Axes>"
      ]
     },
     "metadata": {
      "needs_background": "light"
     },
     "output_type": "display_data"
    }
   ],
   "source": [
    "sns.countplot(data = merged_df, x='LIFESTAGE')"
   ]
  },
  {
   "cell_type": "markdown",
   "id": "9b9424a9",
   "metadata": {},
   "source": [
    "the visualization of the number of customers according to the LIFESTAGE"
   ]
  },
  {
   "cell_type": "markdown",
   "id": "04f66cca",
   "metadata": {},
   "source": [
    "This is of no shocking as old people make more sales to young people.\n",
    "Old Single Couple tend to make more sales and New Families tend to make less sales."
   ]
  },
  {
   "cell_type": "code",
   "execution_count": 44,
   "id": "41731d03",
   "metadata": {},
   "outputs": [
    {
     "data": {
      "text/html": [
       "<div>\n",
       "<style scoped>\n",
       "    .dataframe tbody tr th:only-of-type {\n",
       "        vertical-align: middle;\n",
       "    }\n",
       "\n",
       "    .dataframe tbody tr th {\n",
       "        vertical-align: top;\n",
       "    }\n",
       "\n",
       "    .dataframe thead th {\n",
       "        text-align: right;\n",
       "    }\n",
       "</style>\n",
       "<table border=\"1\" class=\"dataframe\">\n",
       "  <thead>\n",
       "    <tr style=\"text-align: right;\">\n",
       "      <th></th>\n",
       "      <th>PREMIUM_CUSTOMER</th>\n",
       "      <th>TOT_SALES</th>\n",
       "    </tr>\n",
       "  </thead>\n",
       "  <tbody>\n",
       "    <tr>\n",
       "      <th>0</th>\n",
       "      <td>Budget</td>\n",
       "      <td>7.258903</td>\n",
       "    </tr>\n",
       "    <tr>\n",
       "      <th>1</th>\n",
       "      <td>Mainstream</td>\n",
       "      <td>7.361040</td>\n",
       "    </tr>\n",
       "    <tr>\n",
       "      <th>2</th>\n",
       "      <td>Premium</td>\n",
       "      <td>7.281440</td>\n",
       "    </tr>\n",
       "  </tbody>\n",
       "</table>\n",
       "</div>"
      ],
      "text/plain": [
       "  PREMIUM_CUSTOMER  TOT_SALES\n",
       "0           Budget   7.258903\n",
       "1       Mainstream   7.361040\n",
       "2          Premium   7.281440"
      ]
     },
     "execution_count": 44,
     "metadata": {},
     "output_type": "execute_result"
    }
   ],
   "source": [
    "total_sales_per_Premium_customer = merged_df.groupby('PREMIUM_CUSTOMER').aggregate({'TOT_SALES':'mean'}).reset_index()\n",
    "total_sales_per_Premium_customer"
   ]
  },
  {
   "cell_type": "code",
   "execution_count": 45,
   "id": "ba9d893b",
   "metadata": {},
   "outputs": [
    {
     "data": {
      "image/png": "[encoded data removed]",
      "text/plain": [
       "<Figure size 432x288 with 1 Axes>"
      ]
     },
     "metadata": {
      "needs_background": "light"
     },
     "output_type": "display_data"
    }
   ],
   "source": [
    "totals = ['TOT_SALES']\n",
    "for total in totals:\n",
    "    sns.barplot(data= total_sales_per_Premium_customer, x='PREMIUM_CUSTOMER', y=total, palette='husl').set(xlabel = 'PREMIUM_CUSTOMER', ylabel = total, title = f\"PREMIUM_CUSTOMER vs {total}\")\n",
    "    plt.show()"
   ]
  },
  {
   "cell_type": "markdown",
   "id": "39dd52fb",
   "metadata": {},
   "source": [
    "if more target is made on premium customers, they can purchase more than Mainstream.\n",
    "they had less number than mainstream which appered to posses highest customer rate, yet the purchasing power isnt quite wide."
   ]
  },
  {
   "cell_type": "code",
   "execution_count": 46,
   "id": "fa140c53",
   "metadata": {},
   "outputs": [
    {
     "data": {
      "text/plain": [
       "<AxesSubplot:xlabel='PREMIUM_CUSTOMER', ylabel='count'>"
      ]
     },
     "execution_count": 46,
     "metadata": {},
     "output_type": "execute_result"
    },
    {
     "data": {
      "image/png": "[encoded data removed]",
      "text/plain": [
       "<Figure size 432x288 with 1 Axes>"
      ]
     },
     "metadata": {
      "needs_background": "light"
     },
     "output_type": "display_data"
    }
   ],
   "source": [
    "sns.countplot(data = merged_df, x='PREMIUM_CUSTOMER')"
   ]
  },
  {
   "cell_type": "markdown",
   "id": "cc34fbb7",
   "metadata": {},
   "source": [
    "Its no shocking, Mainstream provide the highest number of customers and also made the highest purchase."
   ]
  },
  {
   "cell_type": "code",
   "execution_count": 47,
   "id": "08343efa",
   "metadata": {},
   "outputs": [
    {
     "name": "stdout",
     "output_type": "stream",
     "text": [
      "                                   PROD_NAME  TOT_SALES\n",
      "11          Dorito Corn Chp     Supreme 380g    40326.0\n",
      "86    Smiths Crnkle Chip  Orgnl Big Bag 380g    36355.8\n",
      "77  Smiths Crinkle Chips Salt & Vinegar 330g    34781.4\n",
      "33    Kettle Mozzarella   Basil & Pesto 175g    34430.4\n",
      "76         Smiths Crinkle      Original 330g    34302.6\n"
     ]
    },
    {
     "data": {
      "image/png": "[encoded data removed]",
      "text/plain": [
       "<Figure size 432x288 with 1 Axes>"
      ]
     },
     "metadata": {
      "needs_background": "light"
     },
     "output_type": "display_data"
    }
   ],
   "source": [
    "# Group by 'PROD_NAME' and sum the 'SALES' for each product\n",
    "total_sales_per_product = merged_df.groupby('PROD_NAME')['TOT_SALES'].sum().reset_index()\n",
    "\n",
    "# Sort by total sales in descending order\n",
    "top_selling_products = total_sales_per_product.sort_values(by='TOT_SALES', ascending=False)\n",
    "\n",
    "# Display the top-selling products\n",
    "print(top_selling_products.head())\n",
    "\n",
    "# visualize the results\n",
    "\n",
    "sns.barplot(data=top_selling_products.head(10), x='TOT_SALES', y='PROD_NAME', palette='husl')\n",
    "plt.xlabel('Total Sales')\n",
    "plt.ylabel('Product Name')\n",
    "plt.title('Top 10 Selling Products')\n",
    "plt.show()"
   ]
  },
  {
   "cell_type": "markdown",
   "id": "81a5cf9c",
   "metadata": {},
   "source": [
    "Looking into the top 10 most sold products, I realized that 'Dorito Corn Chp     Supreme 380g' made the most sales.\n",
    "This will help decide which products to purchase more into stock, meaning, from the previos analysis on LIFESTAGE, I can boldy say these are items for the aged people"
   ]
  },
  {
   "cell_type": "code",
   "execution_count": 48,
   "id": "a94d357c",
   "metadata": {},
   "outputs": [
    {
     "name": "stdout",
     "output_type": "stream",
     "text": [
      "                                   PROD_NAME  PROD_QTY\n",
      "11          Dorito Corn Chp     Supreme 380g      6505\n",
      "33    Kettle Mozzarella   Basil & Pesto 175g      6376\n",
      "42  Kettle Tortilla ChpsHny&Jlpno Chili 150g      6309\n",
      "8             Cobs Popd Sea Salt  Chips 110g      6277\n",
      "10  Cobs Popd Swt/Chlli &Sr/Cream Chips 110g      6254\n"
     ]
    },
    {
     "data": {
      "image/png": "[encoded data removed]",
      "text/plain": [
       "<Figure size 432x288 with 1 Axes>"
      ]
     },
     "metadata": {
      "needs_background": "light"
     },
     "output_type": "display_data"
    }
   ],
   "source": [
    "# Group by 'PROD_NAME' and sum the 'QTY' for each product\n",
    "top_product_quantitity = merged_df.groupby('PROD_NAME')['PROD_QTY'].sum().reset_index()\n",
    "\n",
    "# Sort by total sales in descending order\n",
    "top_product_quantitity= top_product_quantitity.sort_values(by='PROD_QTY', ascending=False)\n",
    "\n",
    "# Display the top-selling products\n",
    "print(top_product_quantitity.head())\n",
    "\n",
    "#visualize the results\n",
    "\n",
    "sns.barplot(data=top_product_quantitity.head(10), x='PROD_QTY', y='PROD_NAME', palette='husl')\n",
    "plt.xlabel('PROD_QTY')\n",
    "plt.ylabel('PROD_NAME')\n",
    "plt.title('Top 10 Prod QTY')\n",
    "plt.show()"
   ]
  },
  {
   "cell_type": "markdown",
   "id": "a80f8bea",
   "metadata": {},
   "source": [
    "These are the top 10 products with high stock, I can confidently suggest product like 'Smiths Crnkle Chip  Orgnl Big Bag' and 'Smiths Crinkle Chips Salt & Vinegar' \n",
    "should be store more since it stands to have high sales"
   ]
  },
  {
   "cell_type": "code",
   "execution_count": 49,
   "id": "b979808b",
   "metadata": {},
   "outputs": [
    {
     "data": {
      "image/png": "[encoded data removed]",
      "text/plain": [
       "<Figure size 720x432 with 1 Axes>"
      ]
     },
     "metadata": {
      "needs_background": "light"
     },
     "output_type": "display_data"
    }
   ],
   "source": [
    "\n",
    "\n",
    "# Group by Date and Segment to get total sales for each segment on each date\n",
    "grouped_df = merged_df.groupby(['Date', 'PREMIUM_CUSTOMER']).agg({'TOT_SALES': 'sum'}).reset_index()\n",
    "\n",
    "# Pivot the table for easy plotting\n",
    "pivot_df = grouped_df.pivot(index='Date', columns='PREMIUM_CUSTOMER', values='TOT_SALES').fillna(0)\n",
    "\n",
    "# Plot the data\n",
    "pivot_df.plot(kind='line', marker='o', figsize=(10, 6))\n",
    "plt.title('Total Sales by Customer Segment Over Time')\n",
    "plt.xlabel('Date')\n",
    "plt.ylabel('TOT_SALES')\n",
    "plt.legend(title='Segment', loc='upper left')\n",
    "plt.show()"
   ]
  },
  {
   "cell_type": "code",
   "execution_count": 50,
   "id": "9c6a2075",
   "metadata": {
    "scrolled": true
   },
   "outputs": [
    {
     "data": {
      "text/html": [
       "<div>\n",
       "<style scoped>\n",
       "    .dataframe tbody tr th:only-of-type {\n",
       "        vertical-align: middle;\n",
       "    }\n",
       "\n",
       "    .dataframe tbody tr th {\n",
       "        vertical-align: top;\n",
       "    }\n",
       "\n",
       "    .dataframe thead th {\n",
       "        text-align: right;\n",
       "    }\n",
       "</style>\n",
       "<table border=\"1\" class=\"dataframe\">\n",
       "  <thead>\n",
       "    <tr style=\"text-align: right;\">\n",
       "      <th></th>\n",
       "      <th>LYLTY_CARD_NBR</th>\n",
       "      <th>STORE_NBR</th>\n",
       "      <th>TXN_ID</th>\n",
       "      <th>PROD_NBR</th>\n",
       "      <th>PROD_QTY</th>\n",
       "      <th>TOT_SALES</th>\n",
       "    </tr>\n",
       "  </thead>\n",
       "  <tbody>\n",
       "    <tr>\n",
       "      <th>LYLTY_CARD_NBR</th>\n",
       "      <td>1.000000</td>\n",
       "      <td>0.999947</td>\n",
       "      <td>0.999631</td>\n",
       "      <td>0.002334</td>\n",
       "      <td>0.005147</td>\n",
       "      <td>0.003179</td>\n",
       "    </tr>\n",
       "    <tr>\n",
       "      <th>STORE_NBR</th>\n",
       "      <td>0.999947</td>\n",
       "      <td>1.000000</td>\n",
       "      <td>0.999574</td>\n",
       "      <td>0.002331</td>\n",
       "      <td>0.005257</td>\n",
       "      <td>0.003206</td>\n",
       "    </tr>\n",
       "    <tr>\n",
       "      <th>TXN_ID</th>\n",
       "      <td>0.999631</td>\n",
       "      <td>0.999574</td>\n",
       "      <td>1.000000</td>\n",
       "      <td>0.002387</td>\n",
       "      <td>0.005395</td>\n",
       "      <td>0.003375</td>\n",
       "    </tr>\n",
       "    <tr>\n",
       "      <th>PROD_NBR</th>\n",
       "      <td>0.002334</td>\n",
       "      <td>0.002331</td>\n",
       "      <td>0.002387</td>\n",
       "      <td>1.000000</td>\n",
       "      <td>-0.004780</td>\n",
       "      <td>-0.133820</td>\n",
       "    </tr>\n",
       "    <tr>\n",
       "      <th>PROD_QTY</th>\n",
       "      <td>0.005147</td>\n",
       "      <td>0.005257</td>\n",
       "      <td>0.005395</td>\n",
       "      <td>-0.004780</td>\n",
       "      <td>1.000000</td>\n",
       "      <td>0.715320</td>\n",
       "    </tr>\n",
       "    <tr>\n",
       "      <th>TOT_SALES</th>\n",
       "      <td>0.003179</td>\n",
       "      <td>0.003206</td>\n",
       "      <td>0.003375</td>\n",
       "      <td>-0.133820</td>\n",
       "      <td>0.715320</td>\n",
       "      <td>1.000000</td>\n",
       "    </tr>\n",
       "  </tbody>\n",
       "</table>\n",
       "</div>"
      ],
      "text/plain": [
       "                LYLTY_CARD_NBR  STORE_NBR    TXN_ID  PROD_NBR  PROD_QTY  \\\n",
       "LYLTY_CARD_NBR        1.000000   0.999947  0.999631  0.002334  0.005147   \n",
       "STORE_NBR             0.999947   1.000000  0.999574  0.002331  0.005257   \n",
       "TXN_ID                0.999631   0.999574  1.000000  0.002387  0.005395   \n",
       "PROD_NBR              0.002334   0.002331  0.002387  1.000000 -0.004780   \n",
       "PROD_QTY              0.005147   0.005257  0.005395 -0.004780  1.000000   \n",
       "TOT_SALES             0.003179   0.003206  0.003375 -0.133820  0.715320   \n",
       "\n",
       "                TOT_SALES  \n",
       "LYLTY_CARD_NBR   0.003179  \n",
       "STORE_NBR        0.003206  \n",
       "TXN_ID           0.003375  \n",
       "PROD_NBR        -0.133820  \n",
       "PROD_QTY         0.715320  \n",
       "TOT_SALES        1.000000  "
      ]
     },
     "execution_count": 50,
     "metadata": {},
     "output_type": "execute_result"
    }
   ],
   "source": [
    "cor_matrix=merged_df.corr()\n",
    "cor_matrix"
   ]
  },
  {
   "cell_type": "code",
   "execution_count": 51,
   "id": "203d7e1a",
   "metadata": {},
   "outputs": [
    {
     "data": {
      "image/png": "[encoded data removed]",
      "text/plain": [
       "<Figure size 720x360 with 2 Axes>"
      ]
     },
     "metadata": {
      "needs_background": "light"
     },
     "output_type": "display_data"
    }
   ],
   "source": [
    "plt.figure(figsize=(10,5))\n",
    "sns.heatmap(cor_matrix, annot = True, cmap='coolwarm', fmt='.2f', linewidths=0.5)\n",
    "plt.title('correlation matrix')\n",
    "plt.show()"
   ]
  },
  {
   "cell_type": "code",
   "execution_count": 52,
   "id": "ab3ca6ed",
   "metadata": {},
   "outputs": [
    {
     "data": {
      "text/plain": [
       "<AxesSubplot:xlabel='PROD_QTY', ylabel='TOT_SALES'>"
      ]
     },
     "execution_count": 52,
     "metadata": {},
     "output_type": "execute_result"
    },
    {
     "data": {
      "image/png": "[encoded data removed]",
      "text/plain": [
       "<Figure size 432x288 with 1 Axes>"
      ]
     },
     "metadata": {
      "needs_background": "light"
     },
     "output_type": "display_data"
    }
   ],
   "source": [
    "#comparing Grade 1 and Grade 2\n",
    "\n",
    "sns.regplot(x=\"PROD_QTY\", y=\"TOT_SALES\", data=merged_df)"
   ]
  },
  {
   "cell_type": "code",
   "execution_count": 55,
   "id": "68270c20",
   "metadata": {},
   "outputs": [
    {
     "data": {
      "text/plain": [
       "<AxesSubplot:xlabel='PROD_QTY', ylabel='TOT_SALES'>"
      ]
     },
     "execution_count": 55,
     "metadata": {},
     "output_type": "execute_result"
    },
    {
     "data": {
      "image/png": "[encoded data removed]",
      "text/plain": [
       "<Figure size 432x288 with 1 Axes>"
      ]
     },
     "metadata": {
      "needs_background": "light"
     },
     "output_type": "display_data"
    }
   ],
   "source": [
    "sns.regplot(x=\"PROD_QTY\", y=\"TOT_SALES\", data=merged_df)"
   ]
  },
  {
   "cell_type": "code",
   "execution_count": 56,
   "id": "5b5c6a81",
   "metadata": {},
   "outputs": [
    {
     "data": {
      "text/html": [
       "<div>\n",
       "<style scoped>\n",
       "    .dataframe tbody tr th:only-of-type {\n",
       "        vertical-align: middle;\n",
       "    }\n",
       "\n",
       "    .dataframe tbody tr th {\n",
       "        vertical-align: top;\n",
       "    }\n",
       "\n",
       "    .dataframe thead th {\n",
       "        text-align: right;\n",
       "    }\n",
       "</style>\n",
       "<table border=\"1\" class=\"dataframe\">\n",
       "  <thead>\n",
       "    <tr style=\"text-align: right;\">\n",
       "      <th></th>\n",
       "      <th>LYLTY_CARD_NBR</th>\n",
       "      <th>LIFESTAGE</th>\n",
       "      <th>PREMIUM_CUSTOMER</th>\n",
       "      <th>STORE_NBR</th>\n",
       "      <th>TXN_ID</th>\n",
       "      <th>PROD_NBR</th>\n",
       "      <th>PROD_NAME</th>\n",
       "      <th>PROD_QTY</th>\n",
       "      <th>TOT_SALES</th>\n",
       "      <th>Date</th>\n",
       "    </tr>\n",
       "  </thead>\n",
       "  <tbody>\n",
       "    <tr>\n",
       "      <th>264785</th>\n",
       "      <td>272391</td>\n",
       "      <td>YSC</td>\n",
       "      <td>Mainstream</td>\n",
       "      <td>272</td>\n",
       "      <td>270205</td>\n",
       "      <td>63</td>\n",
       "      <td>Kettle 135g Swt Pot Sea Salt</td>\n",
       "      <td>2</td>\n",
       "      <td>8.4</td>\n",
       "      <td>1970-01-01</td>\n",
       "    </tr>\n",
       "    <tr>\n",
       "      <th>264786</th>\n",
       "      <td>272392</td>\n",
       "      <td>MSC</td>\n",
       "      <td>Premium</td>\n",
       "      <td>272</td>\n",
       "      <td>270206</td>\n",
       "      <td>70</td>\n",
       "      <td>Tyrrells Crisps     Lightly Salted 165g</td>\n",
       "      <td>2</td>\n",
       "      <td>8.4</td>\n",
       "      <td>1970-01-01</td>\n",
       "    </tr>\n",
       "    <tr>\n",
       "      <th>264787</th>\n",
       "      <td>272392</td>\n",
       "      <td>MSC</td>\n",
       "      <td>Premium</td>\n",
       "      <td>272</td>\n",
       "      <td>270207</td>\n",
       "      <td>75</td>\n",
       "      <td>Cobs Popd Sea Salt  Chips 110g</td>\n",
       "      <td>2</td>\n",
       "      <td>7.6</td>\n",
       "      <td>1970-01-01</td>\n",
       "    </tr>\n",
       "    <tr>\n",
       "      <th>264788</th>\n",
       "      <td>272392</td>\n",
       "      <td>MSC</td>\n",
       "      <td>Premium</td>\n",
       "      <td>272</td>\n",
       "      <td>270208</td>\n",
       "      <td>81</td>\n",
       "      <td>Pringles Original   Crisps 134g</td>\n",
       "      <td>2</td>\n",
       "      <td>7.4</td>\n",
       "      <td>1970-01-01</td>\n",
       "    </tr>\n",
       "    <tr>\n",
       "      <th>264789</th>\n",
       "      <td>272392</td>\n",
       "      <td>MSC</td>\n",
       "      <td>Premium</td>\n",
       "      <td>272</td>\n",
       "      <td>270209</td>\n",
       "      <td>78</td>\n",
       "      <td>Thins Chips Salt &amp;  Vinegar 175g</td>\n",
       "      <td>2</td>\n",
       "      <td>6.6</td>\n",
       "      <td>1970-01-01</td>\n",
       "    </tr>\n",
       "  </tbody>\n",
       "</table>\n",
       "</div>"
      ],
      "text/plain": [
       "        LYLTY_CARD_NBR LIFESTAGE PREMIUM_CUSTOMER  STORE_NBR  TXN_ID  \\\n",
       "264785          272391       YSC       Mainstream        272  270205   \n",
       "264786          272392       MSC          Premium        272  270206   \n",
       "264787          272392       MSC          Premium        272  270207   \n",
       "264788          272392       MSC          Premium        272  270208   \n",
       "264789          272392       MSC          Premium        272  270209   \n",
       "\n",
       "        PROD_NBR                                PROD_NAME  PROD_QTY  \\\n",
       "264785        63             Kettle 135g Swt Pot Sea Salt         2   \n",
       "264786        70  Tyrrells Crisps     Lightly Salted 165g         2   \n",
       "264787        75           Cobs Popd Sea Salt  Chips 110g         2   \n",
       "264788        81          Pringles Original   Crisps 134g         2   \n",
       "264789        78         Thins Chips Salt &  Vinegar 175g         2   \n",
       "\n",
       "        TOT_SALES        Date  \n",
       "264785        8.4  1970-01-01  \n",
       "264786        8.4  1970-01-01  \n",
       "264787        7.6  1970-01-01  \n",
       "264788        7.4  1970-01-01  \n",
       "264789        6.6  1970-01-01  "
      ]
     },
     "execution_count": 56,
     "metadata": {},
     "output_type": "execute_result"
    }
   ],
   "source": [
    "merged_df.tail()"
   ]
  },
  {
   "cell_type": "markdown",
   "id": "3f67785c",
   "metadata": {},
   "source": [
    "Recommendations for Category Management:\n",
    "\n",
    "1. Optimize Stock for Top-Selling Products:\n",
    "\n",
    "Allocate more stock for the top-selling products, especially 'Dorito Corn Chp Supreme 380g', 'Smiths Crnkle Chip  Orgnl Big Bag'. These items have consistently demonstrated high sales and should be prioritized in inventory management.\n",
    "\n",
    "2. Target Old Single Couples,Old Families and Retirees:\n",
    "\n",
    "Tailor marketing strategies and promotions to target Old Single Couples,Old Families and Retirees. They represent the largest customer base and have shown a preference for purchasing essential products. Consider bundling or promotions that cater specifically to their needs.\n",
    "\n",
    "3. Premium Customer Focus:\n",
    "\n",
    "Shift marketing efforts towards Premium customers. While Mainstream customers dominate in numbers, Premium customers exhibit higher purchasing power. Implement loyalty programs or exclusive offers to encourage repeat purchases from Premium customers.\n",
    "\n",
    "4.Age-Specific Product Selection:\n",
    "\n",
    "Acknowledge the age-specific preferences reflected in the data. Consider expanding the product range for items that appeal to older demographics, ensuring a diverse selection that aligns with the preferences of Old Single Couples, Old Families and Retirees.\n",
    "\n",
    "5. Monitor Purchase Trends by Life Stage:\n",
    "\n",
    "Continuously monitor and analyze purchase trends based on life stages. This ongoing analysis will help adapt strategies as customer preferences evolve over time.\n",
    "\n",
    "6. Data-Driven Decision-Making:\n",
    "\n",
    "Emphasize the importance of data-driven decision-making in category management. Regularly review sales data, customer demographics, and product performance to refine strategies and maximize profitability.\n",
    "Inventory Management for High-Turnover Products:\n",
    "\n",
    "Implement efficient inventory management practices for high-turnover products. Maintain adequate stock levels for consistently popular items like 'Smiths Crnkle Chip Orgnl Big Bag' and 'Smiths Crinkle Chips Salt & Vinegar' to meet customer demand.\n",
    "\n",
    "7. Explore Collaborations and Promotions:\n",
    "\n",
    "Explore collaborations or joint promotions with brands or products that resonate with the identified customer segments. Cross-promotions can drive additional sales and enhance the overall customer experience.\n",
    "\n",
    "8.Enhance Premium Customer Experience:\n",
    "\n",
    "Focus on enhancing the shopping experience for Premium customers. Provide personalized recommendations, exclusive discounts, or VIP access to new products to increase their engagement and loyalty.\n",
    "\n",
    "9. Strategic Marketing Campaigns:\n",
    "\n",
    "Develop targeted marketing campaigns that speak directly to the preferences and needs of Old Single Couples,Old and Retirees or in summary old age people. Use demographic insights to create compelling messaging that resonates with these customer segments.\n"
   ]
  },
  {
   "cell_type": "code",
   "execution_count": null,
   "id": "791fe0d2",
   "metadata": {},
   "outputs": [],
   "source": []
  },
  {
   "cell_type": "code",
   "execution_count": null,
   "id": "046d5aa5",
   "metadata": {},
   "outputs": [],
   "source": []
  },
  {
   "cell_type": "code",
   "execution_count": null,
   "id": "12633c20",
   "metadata": {},
   "outputs": [],
   "source": []
  }
 ],
 "metadata": {
  "kernelspec": {
   "display_name": "Python 3 (ipykernel)",
   "language": "python",
   "name": "python3"
  },
  "language_info": {
   "codemirror_mode": {
    "name": "ipython",
    "version": 3
   },
   "file_extension": ".py",
   "mimetype": "text/x-python",
   "name": "python",
   "nbconvert_exporter": "python",
   "pygments_lexer": "ipython3",
   "version": "3.9.12"
  }
 },
 "nbformat": 4,
 "nbformat_minor": 5
}
