{
 "cells": [
  {
   "cell_type": "code",
   "execution_count": 39,
   "id": "41ef52bd",
   "metadata": {},
   "outputs": [],
   "source": [
    "import pandas as pd\n",
    "import numpy as np\n",
    "import matplotlib.pyplot as plt\n",
    "import seaborn as sns\n",
    "import re\n",
    "import warnings"
   ]
  },
  {
   "cell_type": "code",
   "execution_count": 40,
   "id": "d1f4be91",
   "metadata": {},
   "outputs": [
    {
     "data": {
      "text/html": [
       "<div>\n",
       "<style scoped>\n",
       "    .dataframe tbody tr th:only-of-type {\n",
       "        vertical-align: middle;\n",
       "    }\n",
       "\n",
       "    .dataframe tbody tr th {\n",
       "        vertical-align: top;\n",
       "    }\n",
       "\n",
       "    .dataframe thead th {\n",
       "        text-align: right;\n",
       "    }\n",
       "</style>\n",
       "<table border=\"1\" class=\"dataframe\">\n",
       "  <thead>\n",
       "    <tr style=\"text-align: right;\">\n",
       "      <th></th>\n",
       "      <th>LYLTY_CARD_NBR</th>\n",
       "      <th>DATE</th>\n",
       "      <th>STORE_NBR</th>\n",
       "      <th>TXN_ID</th>\n",
       "      <th>PROD_NBR</th>\n",
       "      <th>PROD_NAME</th>\n",
       "      <th>PROD_QTY</th>\n",
       "      <th>TOT_SALES</th>\n",
       "      <th>PACK_SIZE</th>\n",
       "      <th>BRAND</th>\n",
       "      <th>LIFESTAGE_x</th>\n",
       "      <th>PREMIUM_CUSTOMER_x</th>\n",
       "      <th>LIFESTAGE_y</th>\n",
       "      <th>PREMIUM_CUSTOMER_y</th>\n",
       "    </tr>\n",
       "  </thead>\n",
       "  <tbody>\n",
       "    <tr>\n",
       "      <th>0</th>\n",
       "      <td>1000</td>\n",
       "      <td>2018-10-17</td>\n",
       "      <td>1</td>\n",
       "      <td>1</td>\n",
       "      <td>5</td>\n",
       "      <td>Natural Chip        Compny SeaSalt175g</td>\n",
       "      <td>2</td>\n",
       "      <td>6.0</td>\n",
       "      <td>175</td>\n",
       "      <td>NATURAL</td>\n",
       "      <td>YOUNG SINGLES/COUPLES</td>\n",
       "      <td>Premium</td>\n",
       "      <td>YOUNG SINGLES/COUPLES</td>\n",
       "      <td>Premium</td>\n",
       "    </tr>\n",
       "    <tr>\n",
       "      <th>1</th>\n",
       "      <td>1002</td>\n",
       "      <td>2018-09-16</td>\n",
       "      <td>1</td>\n",
       "      <td>2</td>\n",
       "      <td>58</td>\n",
       "      <td>Red Rock Deli Chikn&amp;Garlic Aioli 150g</td>\n",
       "      <td>1</td>\n",
       "      <td>2.7</td>\n",
       "      <td>150</td>\n",
       "      <td>RRD</td>\n",
       "      <td>YOUNG SINGLES/COUPLES</td>\n",
       "      <td>Mainstream</td>\n",
       "      <td>YOUNG SINGLES/COUPLES</td>\n",
       "      <td>Mainstream</td>\n",
       "    </tr>\n",
       "    <tr>\n",
       "      <th>2</th>\n",
       "      <td>1003</td>\n",
       "      <td>2019-03-07</td>\n",
       "      <td>1</td>\n",
       "      <td>3</td>\n",
       "      <td>52</td>\n",
       "      <td>Grain Waves Sour    Cream&amp;Chives 210G</td>\n",
       "      <td>1</td>\n",
       "      <td>3.6</td>\n",
       "      <td>210</td>\n",
       "      <td>GRNWVES</td>\n",
       "      <td>YOUNG FAMILIES</td>\n",
       "      <td>Budget</td>\n",
       "      <td>YOUNG FAMILIES</td>\n",
       "      <td>Budget</td>\n",
       "    </tr>\n",
       "    <tr>\n",
       "      <th>3</th>\n",
       "      <td>1003</td>\n",
       "      <td>2019-03-08</td>\n",
       "      <td>1</td>\n",
       "      <td>4</td>\n",
       "      <td>106</td>\n",
       "      <td>Natural ChipCo      Hony Soy Chckn175g</td>\n",
       "      <td>1</td>\n",
       "      <td>3.0</td>\n",
       "      <td>175</td>\n",
       "      <td>NATURAL</td>\n",
       "      <td>YOUNG FAMILIES</td>\n",
       "      <td>Budget</td>\n",
       "      <td>YOUNG FAMILIES</td>\n",
       "      <td>Budget</td>\n",
       "    </tr>\n",
       "    <tr>\n",
       "      <th>4</th>\n",
       "      <td>1004</td>\n",
       "      <td>2018-11-02</td>\n",
       "      <td>1</td>\n",
       "      <td>5</td>\n",
       "      <td>96</td>\n",
       "      <td>WW Original Stacked Chips 160g</td>\n",
       "      <td>1</td>\n",
       "      <td>1.9</td>\n",
       "      <td>160</td>\n",
       "      <td>WOOLWORTHS</td>\n",
       "      <td>OLDER SINGLES/COUPLES</td>\n",
       "      <td>Mainstream</td>\n",
       "      <td>OLDER SINGLES/COUPLES</td>\n",
       "      <td>Mainstream</td>\n",
       "    </tr>\n",
       "  </tbody>\n",
       "</table>\n",
       "</div>"
      ],
      "text/plain": [
       "   LYLTY_CARD_NBR        DATE  STORE_NBR  TXN_ID  PROD_NBR  \\\n",
       "0            1000  2018-10-17          1       1         5   \n",
       "1            1002  2018-09-16          1       2        58   \n",
       "2            1003  2019-03-07          1       3        52   \n",
       "3            1003  2019-03-08          1       4       106   \n",
       "4            1004  2018-11-02          1       5        96   \n",
       "\n",
       "                                PROD_NAME  PROD_QTY  TOT_SALES  PACK_SIZE  \\\n",
       "0  Natural Chip        Compny SeaSalt175g         2        6.0        175   \n",
       "1   Red Rock Deli Chikn&Garlic Aioli 150g         1        2.7        150   \n",
       "2   Grain Waves Sour    Cream&Chives 210G         1        3.6        210   \n",
       "3  Natural ChipCo      Hony Soy Chckn175g         1        3.0        175   \n",
       "4          WW Original Stacked Chips 160g         1        1.9        160   \n",
       "\n",
       "        BRAND            LIFESTAGE_x PREMIUM_CUSTOMER_x  \\\n",
       "0     NATURAL  YOUNG SINGLES/COUPLES            Premium   \n",
       "1         RRD  YOUNG SINGLES/COUPLES         Mainstream   \n",
       "2     GRNWVES         YOUNG FAMILIES             Budget   \n",
       "3     NATURAL         YOUNG FAMILIES             Budget   \n",
       "4  WOOLWORTHS  OLDER SINGLES/COUPLES         Mainstream   \n",
       "\n",
       "             LIFESTAGE_y PREMIUM_CUSTOMER_y  \n",
       "0  YOUNG SINGLES/COUPLES            Premium  \n",
       "1  YOUNG SINGLES/COUPLES         Mainstream  \n",
       "2         YOUNG FAMILIES             Budget  \n",
       "3         YOUNG FAMILIES             Budget  \n",
       "4  OLDER SINGLES/COUPLES         Mainstream  "
      ]
     },
     "execution_count": 40,
     "metadata": {},
     "output_type": "execute_result"
    }
   ],
   "source": [
    "transactionData= pd.read_csv('QVI_data.csv')\n",
    "\n",
    "transactionData.head()"
   ]
  },
  {
   "cell_type": "code",
   "execution_count": 41,
   "id": "436f897f",
   "metadata": {},
   "outputs": [
    {
     "name": "stdout",
     "output_type": "stream",
     "text": [
      "<class 'pandas.core.frame.DataFrame'>\n",
      "RangeIndex: 264834 entries, 0 to 264833\n",
      "Data columns (total 14 columns):\n",
      " #   Column              Non-Null Count   Dtype  \n",
      "---  ------              --------------   -----  \n",
      " 0   LYLTY_CARD_NBR      264834 non-null  int64  \n",
      " 1   DATE                264834 non-null  object \n",
      " 2   STORE_NBR           264834 non-null  int64  \n",
      " 3   TXN_ID              264834 non-null  int64  \n",
      " 4   PROD_NBR            264834 non-null  int64  \n",
      " 5   PROD_NAME           264834 non-null  object \n",
      " 6   PROD_QTY            264834 non-null  int64  \n",
      " 7   TOT_SALES           264834 non-null  float64\n",
      " 8   PACK_SIZE           264834 non-null  int64  \n",
      " 9   BRAND               264834 non-null  object \n",
      " 10  LIFESTAGE_x         264834 non-null  object \n",
      " 11  PREMIUM_CUSTOMER_x  264834 non-null  object \n",
      " 12  LIFESTAGE_y         264834 non-null  object \n",
      " 13  PREMIUM_CUSTOMER_y  264834 non-null  object \n",
      "dtypes: float64(1), int64(6), object(7)\n",
      "memory usage: 28.3+ MB\n"
     ]
    }
   ],
   "source": [
    "transactionData.info()"
   ]
  },
  {
   "cell_type": "code",
   "execution_count": 42,
   "id": "8e0e494f",
   "metadata": {},
   "outputs": [
    {
     "data": {
      "text/html": [
       "<div>\n",
       "<style scoped>\n",
       "    .dataframe tbody tr th:only-of-type {\n",
       "        vertical-align: middle;\n",
       "    }\n",
       "\n",
       "    .dataframe tbody tr th {\n",
       "        vertical-align: top;\n",
       "    }\n",
       "\n",
       "    .dataframe thead th {\n",
       "        text-align: right;\n",
       "    }\n",
       "</style>\n",
       "<table border=\"1\" class=\"dataframe\">\n",
       "  <thead>\n",
       "    <tr style=\"text-align: right;\">\n",
       "      <th></th>\n",
       "      <th>count</th>\n",
       "      <th>mean</th>\n",
       "      <th>std</th>\n",
       "      <th>min</th>\n",
       "      <th>25%</th>\n",
       "      <th>50%</th>\n",
       "      <th>75%</th>\n",
       "      <th>max</th>\n",
       "    </tr>\n",
       "  </thead>\n",
       "  <tbody>\n",
       "    <tr>\n",
       "      <th>LYLTY_CARD_NBR</th>\n",
       "      <td>264834.0</td>\n",
       "      <td>135548.793331</td>\n",
       "      <td>80579.898912</td>\n",
       "      <td>1000.0</td>\n",
       "      <td>70021.0</td>\n",
       "      <td>130357.0</td>\n",
       "      <td>203094.00</td>\n",
       "      <td>2373711.0</td>\n",
       "    </tr>\n",
       "    <tr>\n",
       "      <th>STORE_NBR</th>\n",
       "      <td>264834.0</td>\n",
       "      <td>135.079423</td>\n",
       "      <td>76.784063</td>\n",
       "      <td>1.0</td>\n",
       "      <td>70.0</td>\n",
       "      <td>130.0</td>\n",
       "      <td>203.00</td>\n",
       "      <td>272.0</td>\n",
       "    </tr>\n",
       "    <tr>\n",
       "      <th>TXN_ID</th>\n",
       "      <td>264834.0</td>\n",
       "      <td>135157.623236</td>\n",
       "      <td>78132.920436</td>\n",
       "      <td>1.0</td>\n",
       "      <td>67600.5</td>\n",
       "      <td>135136.5</td>\n",
       "      <td>202699.75</td>\n",
       "      <td>2415841.0</td>\n",
       "    </tr>\n",
       "    <tr>\n",
       "      <th>PROD_NBR</th>\n",
       "      <td>264834.0</td>\n",
       "      <td>56.583554</td>\n",
       "      <td>32.826444</td>\n",
       "      <td>1.0</td>\n",
       "      <td>28.0</td>\n",
       "      <td>56.0</td>\n",
       "      <td>85.00</td>\n",
       "      <td>114.0</td>\n",
       "    </tr>\n",
       "    <tr>\n",
       "      <th>PROD_QTY</th>\n",
       "      <td>264834.0</td>\n",
       "      <td>1.905813</td>\n",
       "      <td>0.343436</td>\n",
       "      <td>1.0</td>\n",
       "      <td>2.0</td>\n",
       "      <td>2.0</td>\n",
       "      <td>2.00</td>\n",
       "      <td>5.0</td>\n",
       "    </tr>\n",
       "    <tr>\n",
       "      <th>TOT_SALES</th>\n",
       "      <td>264834.0</td>\n",
       "      <td>7.299346</td>\n",
       "      <td>2.527241</td>\n",
       "      <td>1.5</td>\n",
       "      <td>5.4</td>\n",
       "      <td>7.4</td>\n",
       "      <td>9.20</td>\n",
       "      <td>29.5</td>\n",
       "    </tr>\n",
       "    <tr>\n",
       "      <th>PACK_SIZE</th>\n",
       "      <td>264834.0</td>\n",
       "      <td>182.425512</td>\n",
       "      <td>64.325148</td>\n",
       "      <td>70.0</td>\n",
       "      <td>150.0</td>\n",
       "      <td>170.0</td>\n",
       "      <td>175.00</td>\n",
       "      <td>380.0</td>\n",
       "    </tr>\n",
       "  </tbody>\n",
       "</table>\n",
       "</div>"
      ],
      "text/plain": [
       "                   count           mean           std     min      25%  \\\n",
       "LYLTY_CARD_NBR  264834.0  135548.793331  80579.898912  1000.0  70021.0   \n",
       "STORE_NBR       264834.0     135.079423     76.784063     1.0     70.0   \n",
       "TXN_ID          264834.0  135157.623236  78132.920436     1.0  67600.5   \n",
       "PROD_NBR        264834.0      56.583554     32.826444     1.0     28.0   \n",
       "PROD_QTY        264834.0       1.905813      0.343436     1.0      2.0   \n",
       "TOT_SALES       264834.0       7.299346      2.527241     1.5      5.4   \n",
       "PACK_SIZE       264834.0     182.425512     64.325148    70.0    150.0   \n",
       "\n",
       "                     50%        75%        max  \n",
       "LYLTY_CARD_NBR  130357.0  203094.00  2373711.0  \n",
       "STORE_NBR          130.0     203.00      272.0  \n",
       "TXN_ID          135136.5  202699.75  2415841.0  \n",
       "PROD_NBR            56.0      85.00      114.0  \n",
       "PROD_QTY             2.0       2.00        5.0  \n",
       "TOT_SALES            7.4       9.20       29.5  \n",
       "PACK_SIZE          170.0     175.00      380.0  "
      ]
     },
     "execution_count": 42,
     "metadata": {},
     "output_type": "execute_result"
    }
   ],
   "source": [
    "transactionData.describe().T"
   ]
  },
  {
   "cell_type": "code",
   "execution_count": 43,
   "id": "18d760d9",
   "metadata": {},
   "outputs": [],
   "source": [
    "#CONVERTING DATE COLUMN TO DATE FORMAT\n",
    "\n",
    "transactionData['DATE'] = pd.to_datetime(transactionData['DATE'], format = '%Y-%m-%d')"
   ]
  },
  {
   "cell_type": "code",
   "execution_count": 44,
   "id": "dbb93da8",
   "metadata": {},
   "outputs": [
    {
     "name": "stdout",
     "output_type": "stream",
     "text": [
      "<class 'pandas.core.frame.DataFrame'>\n",
      "RangeIndex: 264834 entries, 0 to 264833\n",
      "Data columns (total 14 columns):\n",
      " #   Column              Non-Null Count   Dtype         \n",
      "---  ------              --------------   -----         \n",
      " 0   LYLTY_CARD_NBR      264834 non-null  int64         \n",
      " 1   DATE                264834 non-null  datetime64[ns]\n",
      " 2   STORE_NBR           264834 non-null  int64         \n",
      " 3   TXN_ID              264834 non-null  int64         \n",
      " 4   PROD_NBR            264834 non-null  int64         \n",
      " 5   PROD_NAME           264834 non-null  object        \n",
      " 6   PROD_QTY            264834 non-null  int64         \n",
      " 7   TOT_SALES           264834 non-null  float64       \n",
      " 8   PACK_SIZE           264834 non-null  int64         \n",
      " 9   BRAND               264834 non-null  object        \n",
      " 10  LIFESTAGE_x         264834 non-null  object        \n",
      " 11  PREMIUM_CUSTOMER_x  264834 non-null  object        \n",
      " 12  LIFESTAGE_y         264834 non-null  object        \n",
      " 13  PREMIUM_CUSTOMER_y  264834 non-null  object        \n",
      "dtypes: datetime64[ns](1), float64(1), int64(6), object(6)\n",
      "memory usage: 28.3+ MB\n"
     ]
    }
   ],
   "source": [
    "transactionData.info()"
   ]
  },
  {
   "cell_type": "code",
   "execution_count": 45,
   "id": "7f6d0989",
   "metadata": {},
   "outputs": [
    {
     "data": {
      "text/plain": [
       "0           Natural Chip        Compny SeaSalt175g\n",
       "1            Red Rock Deli Chikn&Garlic Aioli 150g\n",
       "2            Grain Waves Sour    Cream&Chives 210G\n",
       "3           Natural ChipCo      Hony Soy Chckn175g\n",
       "4                   WW Original Stacked Chips 160g\n",
       "                            ...                   \n",
       "264829       Grain Waves         Sweet Chilli 210g\n",
       "264830        Kettle Tortilla ChpsFeta&Garlic 150g\n",
       "264831     Tyrrells Crisps     Lightly Salted 165g\n",
       "264832    Old El Paso Salsa   Dip Chnky Tom Ht300g\n",
       "264833    Smiths Crinkle Chips Salt & Vinegar 330g\n",
       "Name: PROD_NAME, Length: 264834, dtype: object"
      ]
     },
     "execution_count": 45,
     "metadata": {},
     "output_type": "execute_result"
    }
   ],
   "source": [
    "# Examine PROD_NAME\n",
    "\n",
    "transactionData['PROD_NAME']"
   ]
  },
  {
   "cell_type": "code",
   "execution_count": 46,
   "id": "19fa8ccc",
   "metadata": {},
   "outputs": [],
   "source": [
    "# Examine the words in PROD_NAME\n",
    "product_words = pd.Series(transactionData['PROD_NAME'].str.split().explode().unique())\n",
    "\n",
    "# Rename the column to 'words'\n",
    "product_words = product_words.rename('words')"
   ]
  },
  {
   "cell_type": "code",
   "execution_count": 47,
   "id": "b741cead",
   "metadata": {},
   "outputs": [
    {
     "name": "stdout",
     "output_type": "stream",
     "text": [
      "Empty DataFrame\n",
      "Columns: [words, N]\n",
      "Index: []\n"
     ]
    }
   ],
   "source": [
    "# Removing digits\n",
    "product_words = product_words[product_words.str.contains(r'\\d')]\n",
    "\n",
    "# Removing special characters\n",
    "product_words = product_words[product_words.str.isalpha()]\n",
    "\n",
    "# Counting the number of times a word appears\n",
    "word_counts = product_words.value_counts().reset_index()\n",
    "\n",
    "# Sorting by frequency in descending order\n",
    "word_counts = word_counts.sort_values(by=['index'], ascending=False)\n",
    "\n",
    "# Rename columns to match the R code\n",
    "word_counts.columns = ['words', 'N']\n",
    "\n",
    "# Display the result\n",
    "print(word_counts)\n"
   ]
  },
  {
   "cell_type": "code",
   "execution_count": 48,
   "id": "3a3438bc",
   "metadata": {},
   "outputs": [
    {
     "data": {
      "text/html": [
       "<div>\n",
       "<style scoped>\n",
       "    .dataframe tbody tr th:only-of-type {\n",
       "        vertical-align: middle;\n",
       "    }\n",
       "\n",
       "    .dataframe tbody tr th {\n",
       "        vertical-align: top;\n",
       "    }\n",
       "\n",
       "    .dataframe thead th {\n",
       "        text-align: right;\n",
       "    }\n",
       "</style>\n",
       "<table border=\"1\" class=\"dataframe\">\n",
       "  <thead>\n",
       "    <tr style=\"text-align: right;\">\n",
       "      <th></th>\n",
       "      <th>LYLTY_CARD_NBR</th>\n",
       "      <th>STORE_NBR</th>\n",
       "      <th>TXN_ID</th>\n",
       "      <th>PROD_NBR</th>\n",
       "      <th>PROD_QTY</th>\n",
       "      <th>TOT_SALES</th>\n",
       "      <th>PACK_SIZE</th>\n",
       "    </tr>\n",
       "  </thead>\n",
       "  <tbody>\n",
       "    <tr>\n",
       "      <th>count</th>\n",
       "      <td>2.648340e+05</td>\n",
       "      <td>264834.000000</td>\n",
       "      <td>2.648340e+05</td>\n",
       "      <td>264834.000000</td>\n",
       "      <td>264834.000000</td>\n",
       "      <td>264834.000000</td>\n",
       "      <td>264834.000000</td>\n",
       "    </tr>\n",
       "    <tr>\n",
       "      <th>mean</th>\n",
       "      <td>1.355488e+05</td>\n",
       "      <td>135.079423</td>\n",
       "      <td>1.351576e+05</td>\n",
       "      <td>56.583554</td>\n",
       "      <td>1.905813</td>\n",
       "      <td>7.299346</td>\n",
       "      <td>182.425512</td>\n",
       "    </tr>\n",
       "    <tr>\n",
       "      <th>std</th>\n",
       "      <td>8.057990e+04</td>\n",
       "      <td>76.784063</td>\n",
       "      <td>7.813292e+04</td>\n",
       "      <td>32.826444</td>\n",
       "      <td>0.343436</td>\n",
       "      <td>2.527241</td>\n",
       "      <td>64.325148</td>\n",
       "    </tr>\n",
       "    <tr>\n",
       "      <th>min</th>\n",
       "      <td>1.000000e+03</td>\n",
       "      <td>1.000000</td>\n",
       "      <td>1.000000e+00</td>\n",
       "      <td>1.000000</td>\n",
       "      <td>1.000000</td>\n",
       "      <td>1.500000</td>\n",
       "      <td>70.000000</td>\n",
       "    </tr>\n",
       "    <tr>\n",
       "      <th>25%</th>\n",
       "      <td>7.002100e+04</td>\n",
       "      <td>70.000000</td>\n",
       "      <td>6.760050e+04</td>\n",
       "      <td>28.000000</td>\n",
       "      <td>2.000000</td>\n",
       "      <td>5.400000</td>\n",
       "      <td>150.000000</td>\n",
       "    </tr>\n",
       "    <tr>\n",
       "      <th>50%</th>\n",
       "      <td>1.303570e+05</td>\n",
       "      <td>130.000000</td>\n",
       "      <td>1.351365e+05</td>\n",
       "      <td>56.000000</td>\n",
       "      <td>2.000000</td>\n",
       "      <td>7.400000</td>\n",
       "      <td>170.000000</td>\n",
       "    </tr>\n",
       "    <tr>\n",
       "      <th>75%</th>\n",
       "      <td>2.030940e+05</td>\n",
       "      <td>203.000000</td>\n",
       "      <td>2.026998e+05</td>\n",
       "      <td>85.000000</td>\n",
       "      <td>2.000000</td>\n",
       "      <td>9.200000</td>\n",
       "      <td>175.000000</td>\n",
       "    </tr>\n",
       "    <tr>\n",
       "      <th>max</th>\n",
       "      <td>2.373711e+06</td>\n",
       "      <td>272.000000</td>\n",
       "      <td>2.415841e+06</td>\n",
       "      <td>114.000000</td>\n",
       "      <td>5.000000</td>\n",
       "      <td>29.500000</td>\n",
       "      <td>380.000000</td>\n",
       "    </tr>\n",
       "  </tbody>\n",
       "</table>\n",
       "</div>"
      ],
      "text/plain": [
       "       LYLTY_CARD_NBR      STORE_NBR        TXN_ID       PROD_NBR  \\\n",
       "count    2.648340e+05  264834.000000  2.648340e+05  264834.000000   \n",
       "mean     1.355488e+05     135.079423  1.351576e+05      56.583554   \n",
       "std      8.057990e+04      76.784063  7.813292e+04      32.826444   \n",
       "min      1.000000e+03       1.000000  1.000000e+00       1.000000   \n",
       "25%      7.002100e+04      70.000000  6.760050e+04      28.000000   \n",
       "50%      1.303570e+05     130.000000  1.351365e+05      56.000000   \n",
       "75%      2.030940e+05     203.000000  2.026998e+05      85.000000   \n",
       "max      2.373711e+06     272.000000  2.415841e+06     114.000000   \n",
       "\n",
       "            PROD_QTY      TOT_SALES      PACK_SIZE  \n",
       "count  264834.000000  264834.000000  264834.000000  \n",
       "mean        1.905813       7.299346     182.425512  \n",
       "std         0.343436       2.527241      64.325148  \n",
       "min         1.000000       1.500000      70.000000  \n",
       "25%         2.000000       5.400000     150.000000  \n",
       "50%         2.000000       7.400000     170.000000  \n",
       "75%         2.000000       9.200000     175.000000  \n",
       "max         5.000000      29.500000     380.000000  "
      ]
     },
     "execution_count": 48,
     "metadata": {},
     "output_type": "execute_result"
    }
   ],
   "source": [
    "transactionData.describe()"
   ]
  },
  {
   "cell_type": "code",
   "execution_count": 49,
   "id": "3e500471",
   "metadata": {},
   "outputs": [
    {
     "data": {
      "text/plain": [
       "LYLTY_CARD_NBR        0\n",
       "DATE                  0\n",
       "STORE_NBR             0\n",
       "TXN_ID                0\n",
       "PROD_NBR              0\n",
       "PROD_NAME             0\n",
       "PROD_QTY              0\n",
       "TOT_SALES             0\n",
       "PACK_SIZE             0\n",
       "BRAND                 0\n",
       "LIFESTAGE_x           0\n",
       "PREMIUM_CUSTOMER_x    0\n",
       "LIFESTAGE_y           0\n",
       "PREMIUM_CUSTOMER_y    0\n",
       "dtype: int64"
      ]
     },
     "execution_count": 49,
     "metadata": {},
     "output_type": "execute_result"
    }
   ],
   "source": [
    "transactionData.isnull().sum()"
   ]
  },
  {
   "cell_type": "code",
   "execution_count": 50,
   "id": "2c8bc7a1",
   "metadata": {},
   "outputs": [
    {
     "name": "stdout",
     "output_type": "stream",
     "text": [
      "Empty DataFrame\n",
      "Columns: [LYLTY_CARD_NBR, DATE, STORE_NBR, TXN_ID, PROD_NBR, PROD_NAME, PROD_QTY, TOT_SALES, PACK_SIZE, BRAND, LIFESTAGE_x, PREMIUM_CUSTOMER_x, LIFESTAGE_y, PREMIUM_CUSTOMER_y]\n",
      "Index: []\n"
     ]
    }
   ],
   "source": [
    "# Filter the dataset to find the outlier\n",
    "outlier_transactions = transactionData[transactionData['PROD_QTY'] == 200]\n",
    "\n",
    "# Display the result\n",
    "print(outlier_transactions)"
   ]
  },
  {
   "cell_type": "code",
   "execution_count": 51,
   "id": "81e23f39",
   "metadata": {},
   "outputs": [
    {
     "data": {
      "text/plain": [
       "1"
      ]
     },
     "execution_count": 51,
     "metadata": {},
     "output_type": "execute_result"
    }
   ],
   "source": [
    "transactionData.duplicated().sum()"
   ]
  },
  {
   "cell_type": "code",
   "execution_count": 52,
   "id": "583532d2",
   "metadata": {},
   "outputs": [
    {
     "name": "stdout",
     "output_type": "stream",
     "text": [
      "Empty DataFrame\n",
      "Columns: [LYLTY_CARD_NBR, DATE, STORE_NBR, TXN_ID, PROD_NBR, PROD_NAME, PROD_QTY, TOT_SALES, PACK_SIZE, BRAND, LIFESTAGE_x, PREMIUM_CUSTOMER_x, LIFESTAGE_y, PREMIUM_CUSTOMER_y]\n",
      "Index: []\n"
     ]
    }
   ],
   "source": [
    "# Filter transactions for the specified LYLTY_CARD_NBR\n",
    "customer_transactions = transactionData[transactionData['LYLTY_CARD_NBR'] == 226000]\n",
    "\n",
    "# Display the result\n",
    "print(customer_transactions)"
   ]
  },
  {
   "cell_type": "code",
   "execution_count": 53,
   "id": "52b53fec",
   "metadata": {},
   "outputs": [
    {
     "name": "stdout",
     "output_type": "stream",
     "text": [
      "          DATE    N\n",
      "0   2018-07-01  724\n",
      "1   2018-07-02  711\n",
      "2   2018-07-03  722\n",
      "3   2018-07-04  714\n",
      "4   2018-07-05  712\n",
      "..         ...  ...\n",
      "359 2019-06-26  723\n",
      "360 2019-06-27  709\n",
      "361 2019-06-28  730\n",
      "362 2019-06-29  745\n",
      "363 2019-06-30  744\n",
      "\n",
      "[364 rows x 2 columns]\n"
     ]
    }
   ],
   "source": [
    "# Count the number of transactions by date\n",
    "transactions_by_date = transactionData.groupby('DATE').size().reset_index(name='N')\n",
    "\n",
    "# Display the result\n",
    "print(transactions_by_date)"
   ]
  },
  {
   "cell_type": "markdown",
   "id": "29c3fa46",
   "metadata": {},
   "source": [
    "There’s only 364 rows, meaning only 364 dates which indicates a missing date. Let’s create a sequence of\n",
    "dates from 1 Jul 2018 to 30 Jun 2019 and use this to create a chart of number of transactions over time to\n",
    "find the missing date.\n"
   ]
  },
  {
   "cell_type": "code",
   "execution_count": 54,
   "id": "8e8f9605",
   "metadata": {},
   "outputs": [
    {
     "data": {
      "image/png": "[encoded data removed]",
      "text/plain": [
       "<Figure size 720x432 with 1 Axes>"
      ]
     },
     "metadata": {
      "needs_background": "light"
     },
     "output_type": "display_data"
    }
   ],
   "source": [
    "# Create a sequence of dates\n",
    "all_dates = pd.date_range(start=\"2018-07-01\", end=\"2019-06-30\", freq='D')\n",
    "all_dates_df = pd.DataFrame({'DATE': all_dates})\n",
    "\n",
    "# Merge with the count of transactions by date\n",
    "transactions_by_day = pd.merge(all_dates_df, transactionData.groupby('DATE').size().reset_index(name='N'), how='left', on='DATE')\n",
    "\n",
    "# Fill NaN values with 0\n",
    "transactions_by_day['N'] = transactions_by_day['N'].fillna(0)\n",
    "\n",
    "# Plot transactions over time\n",
    "plt.figure(figsize=(10, 6))\n",
    "plt.plot(transactions_by_day['DATE'], transactions_by_day['N'])\n",
    "plt.title('Transactions over time')\n",
    "plt.xlabel('Day')\n",
    "plt.ylabel('Number of transactions')\n",
    "plt.xticks(rotation=90)\n",
    "plt.show()"
   ]
  },
  {
   "cell_type": "markdown",
   "id": "b725678b",
   "metadata": {},
   "source": [
    "We can see that there is an increase in purchases in December and a total decrease in late December. Let’s zoom in\n",
    "on this."
   ]
  },
  {
   "cell_type": "code",
   "execution_count": 55,
   "id": "a7a04922",
   "metadata": {},
   "outputs": [
    {
     "data": {
      "image/png": "[encoded data removed]",
      "text/plain": [
       "<Figure size 720x432 with 1 Axes>"
      ]
     },
     "metadata": {
      "needs_background": "light"
     },
     "output_type": "display_data"
    }
   ],
   "source": [
    "# Filter to December\n",
    "december_data = transactions_by_day[transactions_by_day['DATE'].dt.month == 12]\n",
    "\n",
    "# Plot transactions over time for December\n",
    "plt.figure(figsize=(10, 6))\n",
    "plt.plot(december_data['DATE'], december_data['N'])\n",
    "plt.title('Transactions over time in December')\n",
    "plt.xlabel('Day')\n",
    "plt.ylabel('Number of transactions')\n",
    "plt.xticks(rotation=90)\n",
    "plt.show()"
   ]
  },
  {
   "cell_type": "markdown",
   "id": "37fcfafe",
   "metadata": {},
   "source": [
    "We can see that the increase in sales occurs in the lead-up to Christmas and that there are zero sales on\n",
    "Christmas day itself. This is due to shops being closed on Christmas day.\n",
    "we can move on to creating other features\n",
    "such as brand of chips or pack size from PROD_NAME.\n"
   ]
  },
  {
   "cell_type": "code",
   "execution_count": 56,
   "id": "0bd17370",
   "metadata": {},
   "outputs": [
    {
     "name": "stdout",
     "output_type": "stream",
     "text": [
      "    PACK_SIZE  COUNT\n",
      "0          70   1507\n",
      "1          90   3008\n",
      "2         110  22387\n",
      "3         125   1454\n",
      "4         134  25102\n",
      "5         135   3257\n",
      "6         150  43131\n",
      "7         160   2970\n",
      "8         165  15297\n",
      "9         170  19983\n",
      "10        175  66390\n",
      "11        180   1468\n",
      "12        190   2995\n",
      "13        200   4473\n",
      "14        210   6272\n",
      "15        220   1564\n",
      "16        250   3169\n",
      "17        270   6285\n",
      "18        300  15166\n",
      "19        330  12540\n",
      "20        380   6416\n"
     ]
    }
   ],
   "source": [
    "# Extract numeric values from PROD_NAME and create a new column PACK_SIZE\n",
    "transactionData['PACK_SIZE'] = transactionData['PROD_NAME'].str.extract('(\\d+)')\n",
    "\n",
    "# Convert the PACK_SIZE column to numeric type\n",
    "transactionData['PACK_SIZE'] = pd.to_numeric(transactionData['PACK_SIZE'])\n",
    "\n",
    "# Group by PACK_SIZE and count the number of occurrences\n",
    "pack_size_counts = transactionData.groupby('PACK_SIZE').size().reset_index(name='COUNT')\n",
    "\n",
    "# Display the result\n",
    "print(pack_size_counts)"
   ]
  },
  {
   "cell_type": "markdown",
   "id": "ab2b7af7",
   "metadata": {},
   "source": [
    "The largest size is 380g and the smallest size is 70g - seems sensible!\n"
   ]
  },
  {
   "cell_type": "code",
   "execution_count": 57,
   "id": "60c7a3e8",
   "metadata": {},
   "outputs": [
    {
     "data": {
      "text/html": [
       "<div>\n",
       "<style scoped>\n",
       "    .dataframe tbody tr th:only-of-type {\n",
       "        vertical-align: middle;\n",
       "    }\n",
       "\n",
       "    .dataframe tbody tr th {\n",
       "        vertical-align: top;\n",
       "    }\n",
       "\n",
       "    .dataframe thead th {\n",
       "        text-align: right;\n",
       "    }\n",
       "</style>\n",
       "<table border=\"1\" class=\"dataframe\">\n",
       "  <thead>\n",
       "    <tr style=\"text-align: right;\">\n",
       "      <th></th>\n",
       "      <th>LYLTY_CARD_NBR</th>\n",
       "      <th>DATE</th>\n",
       "      <th>STORE_NBR</th>\n",
       "      <th>TXN_ID</th>\n",
       "      <th>PROD_NBR</th>\n",
       "      <th>PROD_NAME</th>\n",
       "      <th>PROD_QTY</th>\n",
       "      <th>TOT_SALES</th>\n",
       "      <th>PACK_SIZE</th>\n",
       "      <th>BRAND</th>\n",
       "      <th>LIFESTAGE_x</th>\n",
       "      <th>PREMIUM_CUSTOMER_x</th>\n",
       "      <th>LIFESTAGE_y</th>\n",
       "      <th>PREMIUM_CUSTOMER_y</th>\n",
       "    </tr>\n",
       "  </thead>\n",
       "  <tbody>\n",
       "    <tr>\n",
       "      <th>0</th>\n",
       "      <td>1000</td>\n",
       "      <td>2018-10-17</td>\n",
       "      <td>1</td>\n",
       "      <td>1</td>\n",
       "      <td>5</td>\n",
       "      <td>Natural Chip        Compny SeaSalt175g</td>\n",
       "      <td>2</td>\n",
       "      <td>6.0</td>\n",
       "      <td>175</td>\n",
       "      <td>NATURAL</td>\n",
       "      <td>YOUNG SINGLES/COUPLES</td>\n",
       "      <td>Premium</td>\n",
       "      <td>YOUNG SINGLES/COUPLES</td>\n",
       "      <td>Premium</td>\n",
       "    </tr>\n",
       "    <tr>\n",
       "      <th>1</th>\n",
       "      <td>1002</td>\n",
       "      <td>2018-09-16</td>\n",
       "      <td>1</td>\n",
       "      <td>2</td>\n",
       "      <td>58</td>\n",
       "      <td>Red Rock Deli Chikn&amp;Garlic Aioli 150g</td>\n",
       "      <td>1</td>\n",
       "      <td>2.7</td>\n",
       "      <td>150</td>\n",
       "      <td>RRD</td>\n",
       "      <td>YOUNG SINGLES/COUPLES</td>\n",
       "      <td>Mainstream</td>\n",
       "      <td>YOUNG SINGLES/COUPLES</td>\n",
       "      <td>Mainstream</td>\n",
       "    </tr>\n",
       "    <tr>\n",
       "      <th>2</th>\n",
       "      <td>1003</td>\n",
       "      <td>2019-03-07</td>\n",
       "      <td>1</td>\n",
       "      <td>3</td>\n",
       "      <td>52</td>\n",
       "      <td>Grain Waves Sour    Cream&amp;Chives 210G</td>\n",
       "      <td>1</td>\n",
       "      <td>3.6</td>\n",
       "      <td>210</td>\n",
       "      <td>GRNWVES</td>\n",
       "      <td>YOUNG FAMILIES</td>\n",
       "      <td>Budget</td>\n",
       "      <td>YOUNG FAMILIES</td>\n",
       "      <td>Budget</td>\n",
       "    </tr>\n",
       "    <tr>\n",
       "      <th>3</th>\n",
       "      <td>1003</td>\n",
       "      <td>2019-03-08</td>\n",
       "      <td>1</td>\n",
       "      <td>4</td>\n",
       "      <td>106</td>\n",
       "      <td>Natural ChipCo      Hony Soy Chckn175g</td>\n",
       "      <td>1</td>\n",
       "      <td>3.0</td>\n",
       "      <td>175</td>\n",
       "      <td>NATURAL</td>\n",
       "      <td>YOUNG FAMILIES</td>\n",
       "      <td>Budget</td>\n",
       "      <td>YOUNG FAMILIES</td>\n",
       "      <td>Budget</td>\n",
       "    </tr>\n",
       "    <tr>\n",
       "      <th>4</th>\n",
       "      <td>1004</td>\n",
       "      <td>2018-11-02</td>\n",
       "      <td>1</td>\n",
       "      <td>5</td>\n",
       "      <td>96</td>\n",
       "      <td>WW Original Stacked Chips 160g</td>\n",
       "      <td>1</td>\n",
       "      <td>1.9</td>\n",
       "      <td>160</td>\n",
       "      <td>WOOLWORTHS</td>\n",
       "      <td>OLDER SINGLES/COUPLES</td>\n",
       "      <td>Mainstream</td>\n",
       "      <td>OLDER SINGLES/COUPLES</td>\n",
       "      <td>Mainstream</td>\n",
       "    </tr>\n",
       "  </tbody>\n",
       "</table>\n",
       "</div>"
      ],
      "text/plain": [
       "   LYLTY_CARD_NBR       DATE  STORE_NBR  TXN_ID  PROD_NBR  \\\n",
       "0            1000 2018-10-17          1       1         5   \n",
       "1            1002 2018-09-16          1       2        58   \n",
       "2            1003 2019-03-07          1       3        52   \n",
       "3            1003 2019-03-08          1       4       106   \n",
       "4            1004 2018-11-02          1       5        96   \n",
       "\n",
       "                                PROD_NAME  PROD_QTY  TOT_SALES  PACK_SIZE  \\\n",
       "0  Natural Chip        Compny SeaSalt175g         2        6.0        175   \n",
       "1   Red Rock Deli Chikn&Garlic Aioli 150g         1        2.7        150   \n",
       "2   Grain Waves Sour    Cream&Chives 210G         1        3.6        210   \n",
       "3  Natural ChipCo      Hony Soy Chckn175g         1        3.0        175   \n",
       "4          WW Original Stacked Chips 160g         1        1.9        160   \n",
       "\n",
       "        BRAND            LIFESTAGE_x PREMIUM_CUSTOMER_x  \\\n",
       "0     NATURAL  YOUNG SINGLES/COUPLES            Premium   \n",
       "1         RRD  YOUNG SINGLES/COUPLES         Mainstream   \n",
       "2     GRNWVES         YOUNG FAMILIES             Budget   \n",
       "3     NATURAL         YOUNG FAMILIES             Budget   \n",
       "4  WOOLWORTHS  OLDER SINGLES/COUPLES         Mainstream   \n",
       "\n",
       "             LIFESTAGE_y PREMIUM_CUSTOMER_y  \n",
       "0  YOUNG SINGLES/COUPLES            Premium  \n",
       "1  YOUNG SINGLES/COUPLES         Mainstream  \n",
       "2         YOUNG FAMILIES             Budget  \n",
       "3         YOUNG FAMILIES             Budget  \n",
       "4  OLDER SINGLES/COUPLES         Mainstream  "
      ]
     },
     "execution_count": 57,
     "metadata": {},
     "output_type": "execute_result"
    }
   ],
   "source": [
    "#Let's check the output of the first few rows to see if we have indeed\n",
    "#picked out pack size.\n",
    "transactionData.head()"
   ]
  },
  {
   "cell_type": "code",
   "execution_count": 58,
   "id": "284f91be",
   "metadata": {},
   "outputs": [
    {
     "data": {
      "image/png": "[encoded data removed]",
      "text/plain": [
       "<Figure size 720x432 with 1 Axes>"
      ]
     },
     "metadata": {
      "needs_background": "light"
     },
     "output_type": "display_data"
    }
   ],
   "source": [
    "#Let's plot a histogram of PACK_SIZE since we know that it is a categorical\n",
    "#variable and not a continuous variable even though it is numeric.\n",
    "\n",
    "# Plot a histogram of PACK_SIZE\n",
    "plt.figure(figsize=(10, 6))\n",
    "plt.hist(transactionData['PACK_SIZE'], bins='auto', edgecolor='black')\n",
    "plt.xlabel('PACK_SIZE')\n",
    "plt.ylabel('Frequency')\n",
    "plt.title('Histogram of PACK_SIZE')\n",
    "plt.show()"
   ]
  },
  {
   "cell_type": "code",
   "execution_count": 59,
   "id": "2ce8fb52",
   "metadata": {},
   "outputs": [
    {
     "name": "stdout",
     "output_type": "stream",
     "text": [
      "         BRAND  Count\n",
      "0       KETTLE  41288\n",
      "1       SMITHS  28860\n",
      "2     PRINGLES  25102\n",
      "3      DORITOS  24962\n",
      "4        THINS  14075\n",
      "5          RRD  11894\n",
      "6    INFUZIONS  11057\n",
      "7           WW  10320\n",
      "8         COBS   9693\n",
      "9     TOSTITOS   9471\n",
      "10    TWISTIES   9454\n",
      "11         OLD   9324\n",
      "12    TYRRELLS   6442\n",
      "13       GRAIN   6272\n",
      "14     NATURAL   6050\n",
      "15         RED   5885\n",
      "16    CHEEZELS   4603\n",
      "17         CCS   4551\n",
      "18  WOOLWORTHS   4437\n",
      "19      DORITO   3183\n",
      "20      INFZNS   3144\n",
      "21       SMITH   2963\n",
      "22     CHEETOS   2927\n",
      "23       SNBTS   1576\n",
      "24      BURGER   1564\n",
      "25     GRNWVES   1468\n",
      "26    SUNBITES   1432\n",
      "27         NCC   1419\n",
      "28      FRENCH   1418\n"
     ]
    }
   ],
   "source": [
    "# Extracting brands from PROD_NAME\n",
    "transactionData['BRAND'] = transactionData['PROD_NAME'].str.split(' ', 1).str[0].str.upper()\n",
    "\n",
    "# Checking brands\n",
    "brand_counts = transactionData['BRAND'].value_counts().reset_index().rename(columns={'index': 'BRAND', 'BRAND': 'Count'})\n",
    "brand_counts = brand_counts.sort_values(by='Count', ascending=False)\n",
    "print(brand_counts)"
   ]
  },
  {
   "cell_type": "code",
   "execution_count": 60,
   "id": "1eb7bfd4",
   "metadata": {},
   "outputs": [
    {
     "name": "stdout",
     "output_type": "stream",
     "text": [
      "         BRAND  Count\n",
      "19      BURGER   1564\n",
      "16         CCS   4551\n",
      "18     CHEETOS   2927\n",
      "15    CHEEZELS   4603\n",
      "8         COBS   9693\n",
      "2      DORITOS  28145\n",
      "20      FRENCH   1418\n",
      "12     GRNWVES   7740\n",
      "6    INFUZIONS  14201\n",
      "0       KETTLE  41288\n",
      "13     NATURAL   7469\n",
      "11         OLD   9324\n",
      "3     PRINGLES  25102\n",
      "4          RRD  17779\n",
      "1       SMITHS  31823\n",
      "17    SUNBITES   3008\n",
      "7        THINS  14075\n",
      "9     TOSTITOS   9471\n",
      "10    TWISTIES   9454\n",
      "14    TYRRELLS   6442\n",
      "5   WOOLWORTHS  14757\n"
     ]
    }
   ],
   "source": [
    "# Clean brand names\n",
    "brand_corrections = {\n",
    "    'RED': 'RRD',\n",
    "    'SNBTS': 'SUNBITES',\n",
    "    'INFZNS': 'INFUZIONS',\n",
    "    'WW': 'WOOLWORTHS',\n",
    "    'SMITH': 'SMITHS',\n",
    "    'NCC': 'NATURAL',\n",
    "    'DORITO': 'DORITOS',\n",
    "    'GRAIN': 'GRNWVES'\n",
    "}\n",
    "\n",
    "for old_brand, new_brand in brand_corrections.items():\n",
    "    transactionData.loc[transactionData['BRAND'] == old_brand, 'BRAND'] = new_brand\n",
    "\n",
    "# Check again\n",
    "brand_counts = transactionData['BRAND'].value_counts().reset_index().rename(columns={'index': 'BRAND', 'BRAND': 'Count'})\n",
    "brand_counts = brand_counts.sort_values(by='BRAND')\n",
    "print(brand_counts)\n"
   ]
  },
  {
   "cell_type": "markdown",
   "id": "34073277",
   "metadata": {},
   "source": [
    "Examining customer data\n",
    "\n",
    "\n",
    "Let's dive in with the transaction dataset, let’s have a look at the customer dataset."
   ]
  },
  {
   "cell_type": "code",
   "execution_count": 61,
   "id": "f2553ed2",
   "metadata": {},
   "outputs": [
    {
     "data": {
      "text/html": [
       "<div>\n",
       "<style scoped>\n",
       "    .dataframe tbody tr th:only-of-type {\n",
       "        vertical-align: middle;\n",
       "    }\n",
       "\n",
       "    .dataframe tbody tr th {\n",
       "        vertical-align: top;\n",
       "    }\n",
       "\n",
       "    .dataframe thead th {\n",
       "        text-align: right;\n",
       "    }\n",
       "</style>\n",
       "<table border=\"1\" class=\"dataframe\">\n",
       "  <thead>\n",
       "    <tr style=\"text-align: right;\">\n",
       "      <th></th>\n",
       "      <th>LYLTY_CARD_NBR</th>\n",
       "      <th>LIFESTAGE</th>\n",
       "      <th>PREMIUM_CUSTOMER</th>\n",
       "    </tr>\n",
       "  </thead>\n",
       "  <tbody>\n",
       "    <tr>\n",
       "      <th>0</th>\n",
       "      <td>1000</td>\n",
       "      <td>YOUNG SINGLES/COUPLES</td>\n",
       "      <td>Premium</td>\n",
       "    </tr>\n",
       "    <tr>\n",
       "      <th>1</th>\n",
       "      <td>1002</td>\n",
       "      <td>YOUNG SINGLES/COUPLES</td>\n",
       "      <td>Mainstream</td>\n",
       "    </tr>\n",
       "    <tr>\n",
       "      <th>2</th>\n",
       "      <td>1003</td>\n",
       "      <td>YOUNG FAMILIES</td>\n",
       "      <td>Budget</td>\n",
       "    </tr>\n",
       "    <tr>\n",
       "      <th>3</th>\n",
       "      <td>1004</td>\n",
       "      <td>OLDER SINGLES/COUPLES</td>\n",
       "      <td>Mainstream</td>\n",
       "    </tr>\n",
       "    <tr>\n",
       "      <th>4</th>\n",
       "      <td>1005</td>\n",
       "      <td>MIDAGE SINGLES/COUPLES</td>\n",
       "      <td>Mainstream</td>\n",
       "    </tr>\n",
       "  </tbody>\n",
       "</table>\n",
       "</div>"
      ],
      "text/plain": [
       "   LYLTY_CARD_NBR               LIFESTAGE PREMIUM_CUSTOMER\n",
       "0            1000   YOUNG SINGLES/COUPLES          Premium\n",
       "1            1002   YOUNG SINGLES/COUPLES       Mainstream\n",
       "2            1003          YOUNG FAMILIES           Budget\n",
       "3            1004   OLDER SINGLES/COUPLES       Mainstream\n",
       "4            1005  MIDAGE SINGLES/COUPLES       Mainstream"
      ]
     },
     "execution_count": 61,
     "metadata": {},
     "output_type": "execute_result"
    }
   ],
   "source": [
    "customerData = pd.read_csv('QVI_purchase_behaviour.csv')\n",
    "\n",
    "customerData.head()"
   ]
  },
  {
   "cell_type": "code",
   "execution_count": 62,
   "id": "3924b2e8",
   "metadata": {},
   "outputs": [
    {
     "name": "stdout",
     "output_type": "stream",
     "text": [
      "<class 'pandas.core.frame.DataFrame'>\n",
      "RangeIndex: 72637 entries, 0 to 72636\n",
      "Data columns (total 3 columns):\n",
      " #   Column            Non-Null Count  Dtype \n",
      "---  ------            --------------  ----- \n",
      " 0   LYLTY_CARD_NBR    72637 non-null  int64 \n",
      " 1   LIFESTAGE         72637 non-null  object\n",
      " 2   PREMIUM_CUSTOMER  72637 non-null  object\n",
      "dtypes: int64(1), object(2)\n",
      "memory usage: 1.7+ MB\n"
     ]
    }
   ],
   "source": [
    "customerData.info()"
   ]
  },
  {
   "cell_type": "markdown",
   "id": "a157fe59",
   "metadata": {},
   "source": [
    "#Let’s have a closer look at the LIFESTAGE and PREMIUM_CUSTOMER columns."
   ]
  },
  {
   "cell_type": "code",
   "execution_count": 63,
   "id": "646dbc0d",
   "metadata": {},
   "outputs": [
    {
     "name": "stdout",
     "output_type": "stream",
     "text": [
      "                LIFESTAGE  Count\n",
      "0                RETIREES  14805\n",
      "1   OLDER SINGLES/COUPLES  14609\n",
      "2   YOUNG SINGLES/COUPLES  14441\n",
      "3          OLDER FAMILIES   9780\n",
      "4          YOUNG FAMILIES   9178\n",
      "5  MIDAGE SINGLES/COUPLES   7275\n",
      "6            NEW FAMILIES   2549\n"
     ]
    }
   ],
   "source": [
    "# Examining the values of lifestage\n",
    "\n",
    "lifestage_counts = customerData['LIFESTAGE'].value_counts().reset_index().rename(columns={'index': 'LIFESTAGE', 'LIFESTAGE': 'Count'})\n",
    "lifestage_counts = lifestage_counts.sort_values(by='Count', ascending=False)\n",
    "print(lifestage_counts)"
   ]
  },
  {
   "cell_type": "code",
   "execution_count": 64,
   "id": "2ee1a4a8",
   "metadata": {},
   "outputs": [
    {
     "name": "stdout",
     "output_type": "stream",
     "text": [
      "  PREMIUM_CUSTOMER  Count\n",
      "0       Mainstream  29245\n",
      "1           Budget  24470\n",
      "2          Premium  18922\n"
     ]
    }
   ],
   "source": [
    "# Examining the values of premium_customer\n",
    "\n",
    "premium_counts = customerData['PREMIUM_CUSTOMER'].value_counts().reset_index().rename(columns={'index': 'PREMIUM_CUSTOMER', 'PREMIUM_CUSTOMER' : 'Count'})\n",
    "premium_counts = premium_counts.sort_values(by='Count', ascending = False)\n",
    "print(premium_counts)"
   ]
  },
  {
   "cell_type": "markdown",
   "id": "17f42573",
   "metadata": {},
   "source": [
    "As there do not seem to be any issues with the customer data, we can now go ahead and join the transaction\n",
    "and customer data sets together"
   ]
  },
  {
   "cell_type": "code",
   "execution_count": 65,
   "id": "d8ed6057",
   "metadata": {},
   "outputs": [
    {
     "data": {
      "text/html": [
       "<div>\n",
       "<style scoped>\n",
       "    .dataframe tbody tr th:only-of-type {\n",
       "        vertical-align: middle;\n",
       "    }\n",
       "\n",
       "    .dataframe tbody tr th {\n",
       "        vertical-align: top;\n",
       "    }\n",
       "\n",
       "    .dataframe thead th {\n",
       "        text-align: right;\n",
       "    }\n",
       "</style>\n",
       "<table border=\"1\" class=\"dataframe\">\n",
       "  <thead>\n",
       "    <tr style=\"text-align: right;\">\n",
       "      <th></th>\n",
       "      <th>LYLTY_CARD_NBR</th>\n",
       "      <th>DATE</th>\n",
       "      <th>STORE_NBR</th>\n",
       "      <th>TXN_ID</th>\n",
       "      <th>PROD_NBR</th>\n",
       "      <th>PROD_NAME</th>\n",
       "      <th>PROD_QTY</th>\n",
       "      <th>TOT_SALES</th>\n",
       "      <th>PACK_SIZE</th>\n",
       "      <th>BRAND</th>\n",
       "      <th>LIFESTAGE_x</th>\n",
       "      <th>PREMIUM_CUSTOMER_x</th>\n",
       "      <th>LIFESTAGE_y</th>\n",
       "      <th>PREMIUM_CUSTOMER_y</th>\n",
       "      <th>LIFESTAGE</th>\n",
       "      <th>PREMIUM_CUSTOMER</th>\n",
       "    </tr>\n",
       "  </thead>\n",
       "  <tbody>\n",
       "    <tr>\n",
       "      <th>0</th>\n",
       "      <td>1000</td>\n",
       "      <td>2018-10-17</td>\n",
       "      <td>1</td>\n",
       "      <td>1</td>\n",
       "      <td>5</td>\n",
       "      <td>Natural Chip        Compny SeaSalt175g</td>\n",
       "      <td>2</td>\n",
       "      <td>6.0</td>\n",
       "      <td>175</td>\n",
       "      <td>NATURAL</td>\n",
       "      <td>YOUNG SINGLES/COUPLES</td>\n",
       "      <td>Premium</td>\n",
       "      <td>YOUNG SINGLES/COUPLES</td>\n",
       "      <td>Premium</td>\n",
       "      <td>YOUNG SINGLES/COUPLES</td>\n",
       "      <td>Premium</td>\n",
       "    </tr>\n",
       "    <tr>\n",
       "      <th>1</th>\n",
       "      <td>1002</td>\n",
       "      <td>2018-09-16</td>\n",
       "      <td>1</td>\n",
       "      <td>2</td>\n",
       "      <td>58</td>\n",
       "      <td>Red Rock Deli Chikn&amp;Garlic Aioli 150g</td>\n",
       "      <td>1</td>\n",
       "      <td>2.7</td>\n",
       "      <td>150</td>\n",
       "      <td>RRD</td>\n",
       "      <td>YOUNG SINGLES/COUPLES</td>\n",
       "      <td>Mainstream</td>\n",
       "      <td>YOUNG SINGLES/COUPLES</td>\n",
       "      <td>Mainstream</td>\n",
       "      <td>YOUNG SINGLES/COUPLES</td>\n",
       "      <td>Mainstream</td>\n",
       "    </tr>\n",
       "    <tr>\n",
       "      <th>2</th>\n",
       "      <td>1003</td>\n",
       "      <td>2019-03-07</td>\n",
       "      <td>1</td>\n",
       "      <td>3</td>\n",
       "      <td>52</td>\n",
       "      <td>Grain Waves Sour    Cream&amp;Chives 210G</td>\n",
       "      <td>1</td>\n",
       "      <td>3.6</td>\n",
       "      <td>210</td>\n",
       "      <td>GRNWVES</td>\n",
       "      <td>YOUNG FAMILIES</td>\n",
       "      <td>Budget</td>\n",
       "      <td>YOUNG FAMILIES</td>\n",
       "      <td>Budget</td>\n",
       "      <td>YOUNG FAMILIES</td>\n",
       "      <td>Budget</td>\n",
       "    </tr>\n",
       "    <tr>\n",
       "      <th>3</th>\n",
       "      <td>1003</td>\n",
       "      <td>2019-03-08</td>\n",
       "      <td>1</td>\n",
       "      <td>4</td>\n",
       "      <td>106</td>\n",
       "      <td>Natural ChipCo      Hony Soy Chckn175g</td>\n",
       "      <td>1</td>\n",
       "      <td>3.0</td>\n",
       "      <td>175</td>\n",
       "      <td>NATURAL</td>\n",
       "      <td>YOUNG FAMILIES</td>\n",
       "      <td>Budget</td>\n",
       "      <td>YOUNG FAMILIES</td>\n",
       "      <td>Budget</td>\n",
       "      <td>YOUNG FAMILIES</td>\n",
       "      <td>Budget</td>\n",
       "    </tr>\n",
       "    <tr>\n",
       "      <th>4</th>\n",
       "      <td>1004</td>\n",
       "      <td>2018-11-02</td>\n",
       "      <td>1</td>\n",
       "      <td>5</td>\n",
       "      <td>96</td>\n",
       "      <td>WW Original Stacked Chips 160g</td>\n",
       "      <td>1</td>\n",
       "      <td>1.9</td>\n",
       "      <td>160</td>\n",
       "      <td>WOOLWORTHS</td>\n",
       "      <td>OLDER SINGLES/COUPLES</td>\n",
       "      <td>Mainstream</td>\n",
       "      <td>OLDER SINGLES/COUPLES</td>\n",
       "      <td>Mainstream</td>\n",
       "      <td>OLDER SINGLES/COUPLES</td>\n",
       "      <td>Mainstream</td>\n",
       "    </tr>\n",
       "  </tbody>\n",
       "</table>\n",
       "</div>"
      ],
      "text/plain": [
       "   LYLTY_CARD_NBR       DATE  STORE_NBR  TXN_ID  PROD_NBR  \\\n",
       "0            1000 2018-10-17          1       1         5   \n",
       "1            1002 2018-09-16          1       2        58   \n",
       "2            1003 2019-03-07          1       3        52   \n",
       "3            1003 2019-03-08          1       4       106   \n",
       "4            1004 2018-11-02          1       5        96   \n",
       "\n",
       "                                PROD_NAME  PROD_QTY  TOT_SALES  PACK_SIZE  \\\n",
       "0  Natural Chip        Compny SeaSalt175g         2        6.0        175   \n",
       "1   Red Rock Deli Chikn&Garlic Aioli 150g         1        2.7        150   \n",
       "2   Grain Waves Sour    Cream&Chives 210G         1        3.6        210   \n",
       "3  Natural ChipCo      Hony Soy Chckn175g         1        3.0        175   \n",
       "4          WW Original Stacked Chips 160g         1        1.9        160   \n",
       "\n",
       "        BRAND            LIFESTAGE_x PREMIUM_CUSTOMER_x  \\\n",
       "0     NATURAL  YOUNG SINGLES/COUPLES            Premium   \n",
       "1         RRD  YOUNG SINGLES/COUPLES         Mainstream   \n",
       "2     GRNWVES         YOUNG FAMILIES             Budget   \n",
       "3     NATURAL         YOUNG FAMILIES             Budget   \n",
       "4  WOOLWORTHS  OLDER SINGLES/COUPLES         Mainstream   \n",
       "\n",
       "             LIFESTAGE_y PREMIUM_CUSTOMER_y              LIFESTAGE  \\\n",
       "0  YOUNG SINGLES/COUPLES            Premium  YOUNG SINGLES/COUPLES   \n",
       "1  YOUNG SINGLES/COUPLES         Mainstream  YOUNG SINGLES/COUPLES   \n",
       "2         YOUNG FAMILIES             Budget         YOUNG FAMILIES   \n",
       "3         YOUNG FAMILIES             Budget         YOUNG FAMILIES   \n",
       "4  OLDER SINGLES/COUPLES         Mainstream  OLDER SINGLES/COUPLES   \n",
       "\n",
       "  PREMIUM_CUSTOMER  \n",
       "0          Premium  \n",
       "1       Mainstream  \n",
       "2           Budget  \n",
       "3           Budget  \n",
       "4       Mainstream  "
      ]
     },
     "execution_count": 65,
     "metadata": {},
     "output_type": "execute_result"
    }
   ],
   "source": [
    "# Merge transaction data to customer data\n",
    "\n",
    "data = pd.merge(transactionData, customerData, how = 'left', on = 'LYLTY_CARD_NBR')\n",
    "\n",
    "data.head()"
   ]
  },
  {
   "cell_type": "code",
   "execution_count": 66,
   "id": "dca40540",
   "metadata": {},
   "outputs": [
    {
     "data": {
      "text/plain": [
       "LYLTY_CARD_NBR        0\n",
       "DATE                  0\n",
       "STORE_NBR             0\n",
       "TXN_ID                0\n",
       "PROD_NBR              0\n",
       "PROD_NAME             0\n",
       "PROD_QTY              0\n",
       "TOT_SALES             0\n",
       "PACK_SIZE             0\n",
       "BRAND                 0\n",
       "LIFESTAGE_x           0\n",
       "PREMIUM_CUSTOMER_x    0\n",
       "LIFESTAGE_y           0\n",
       "PREMIUM_CUSTOMER_y    0\n",
       "LIFESTAGE             0\n",
       "PREMIUM_CUSTOMER      0\n",
       "dtype: int64"
      ]
     },
     "execution_count": 66,
     "metadata": {},
     "output_type": "execute_result"
    }
   ],
   "source": [
    "#Let’s also check if some customers were not matched on by checking for nulls.\n",
    "\n",
    "data.isnull().sum()"
   ]
  },
  {
   "cell_type": "markdown",
   "id": "713af8e0",
   "metadata": {},
   "source": [
    "Data analysis on customer segments\n",
    "\n",
    "Now that the data is ready for analysis, we can define some metrics of interest to the client:\n",
    "    \n",
    "• Who spends the most on chips (total sales), describing customers by lifestage and how premium their\n",
    "general purchasing behaviour is\n",
    "\n",
    "• How many customers are in each segment\n",
    "\n",
    "• How many chips are bought per customer by segment\n",
    "\n",
    "• What’s the average chip price by customer segment"
   ]
  },
  {
   "cell_type": "code",
   "execution_count": 67,
   "id": "76145750",
   "metadata": {},
   "outputs": [
    {
     "name": "stderr",
     "output_type": "stream",
     "text": [
      "C:\\Users\\GREJOY\\anaconda3\\lib\\site-packages\\plotly\\express\\_core.py:1637: FutureWarning:\n",
      "\n",
      "The frame.append method is deprecated and will be removed from pandas in a future version. Use pandas.concat instead.\n",
      "\n",
      "C:\\Users\\GREJOY\\anaconda3\\lib\\site-packages\\plotly\\express\\_core.py:1637: FutureWarning:\n",
      "\n",
      "The frame.append method is deprecated and will be removed from pandas in a future version. Use pandas.concat instead.\n",
      "\n"
     ]
    },
    {
     "data": {
      "application/vnd.plotly.v1+json": {
       "config": {
        "plotlyServerURL": "https://plot.ly"
       },
       "data": [
        {
         "branchvalues": "total",
         "customdata": [
          [
           0.018371798884184335
          ],
          [
           0.011343582766674512
          ],
          [
           0.08709427530177975
          ],
          [
           0.07075098998248938
          ],
          [
           0.058531334142045345
          ],
          [
           0.07208358012844554
          ],
          [
           0.031628537360684696
          ],
          [
           0.046972813309089215
          ],
          [
           0.008801287041898698
          ],
          [
           0.05351236217193493
          ],
          [
           0.0690045858627138
          ],
          [
           0.08053170659790027
          ],
          [
           0.04799960167915514
          ],
          [
           0.08153762192109626
          ],
          [
           0.03022719807150635
          ],
          [
           0.005944343714678123
          ],
          [
           0.04172457406827839
          ],
          [
           0.06841970084552651
          ],
          [
           0.05051228199046616
          ],
          [
           0.04346637421984723
          ],
          [
           0.021541449939605245
          ],
          [
           0.0955718102647799
          ],
          [
           0.02608921352325133
          ],
          [
           0.18233121154199308
          ],
          [
           0.2081752766907297
          ],
          [
           0.18957532273041178
          ],
          [
           0.16354955602744792
          ],
          [
           0.1347076092213862
          ]
         ],
         "domain": {
          "x": [
           0,
           1
          ],
          "y": [
           0,
           1
          ]
         },
         "hovertemplate": "labels=%{label}<br>PROPORTION=%{value}<br>parent=%{parent}<br>id=%{id}<extra></extra>",
         "ids": [
          "MIDAGE SINGLES/COUPLES/Budget",
          "NEW FAMILIES/Budget",
          "OLDER FAMILIES/Budget",
          "OLDER SINGLES/COUPLES/Budget",
          "RETIREES/Budget",
          "YOUNG FAMILIES/Budget",
          "YOUNG SINGLES/COUPLES/Budget",
          "MIDAGE SINGLES/COUPLES/Mainstream",
          "NEW FAMILIES/Mainstream",
          "OLDER FAMILIES/Mainstream",
          "OLDER SINGLES/COUPLES/Mainstream",
          "RETIREES/Mainstream",
          "YOUNG FAMILIES/Mainstream",
          "YOUNG SINGLES/COUPLES/Mainstream",
          "MIDAGE SINGLES/COUPLES/Premium",
          "NEW FAMILIES/Premium",
          "OLDER FAMILIES/Premium",
          "OLDER SINGLES/COUPLES/Premium",
          "RETIREES/Premium",
          "YOUNG FAMILIES/Premium",
          "YOUNG SINGLES/COUPLES/Premium",
          "MIDAGE SINGLES/COUPLES",
          "NEW FAMILIES",
          "OLDER FAMILIES",
          "OLDER SINGLES/COUPLES",
          "RETIREES",
          "YOUNG FAMILIES",
          "YOUNG SINGLES/COUPLES"
         ],
         "labels": [
          "Budget",
          "Budget",
          "Budget",
          "Budget",
          "Budget",
          "Budget",
          "Budget",
          "Mainstream",
          "Mainstream",
          "Mainstream",
          "Mainstream",
          "Mainstream",
          "Mainstream",
          "Mainstream",
          "Premium",
          "Premium",
          "Premium",
          "Premium",
          "Premium",
          "Premium",
          "Premium",
          "MIDAGE SINGLES/COUPLES",
          "NEW FAMILIES",
          "OLDER FAMILIES",
          "OLDER SINGLES/COUPLES",
          "RETIREES",
          "YOUNG FAMILIES",
          "YOUNG SINGLES/COUPLES"
         ],
         "name": "",
         "parents": [
          "MIDAGE SINGLES/COUPLES",
          "NEW FAMILIES",
          "OLDER FAMILIES",
          "OLDER SINGLES/COUPLES",
          "RETIREES",
          "YOUNG FAMILIES",
          "YOUNG SINGLES/COUPLES",
          "MIDAGE SINGLES/COUPLES",
          "NEW FAMILIES",
          "OLDER FAMILIES",
          "OLDER SINGLES/COUPLES",
          "RETIREES",
          "YOUNG FAMILIES",
          "YOUNG SINGLES/COUPLES",
          "MIDAGE SINGLES/COUPLES",
          "NEW FAMILIES",
          "OLDER FAMILIES",
          "OLDER SINGLES/COUPLES",
          "RETIREES",
          "YOUNG FAMILIES",
          "YOUNG SINGLES/COUPLES",
          "",
          "",
          "",
          "",
          "",
          "",
          ""
         ],
         "textinfo": "label+text",
         "texttemplate": "%{label}: %{customdata[0]:.2%}",
         "type": "sunburst",
         "values": [
          0.018371798884184335,
          0.011343582766674512,
          0.08709427530177975,
          0.07075098998248938,
          0.058531334142045345,
          0.07208358012844554,
          0.031628537360684696,
          0.046972813309089215,
          0.008801287041898698,
          0.05351236217193493,
          0.0690045858627138,
          0.08053170659790027,
          0.04799960167915514,
          0.08153762192109626,
          0.03022719807150635,
          0.005944343714678123,
          0.04172457406827839,
          0.06841970084552651,
          0.05051228199046616,
          0.04346637421984723,
          0.021541449939605245,
          0.0955718102647799,
          0.02608921352325133,
          0.18233121154199308,
          0.2081752766907297,
          0.18957532273041178,
          0.16354955602744792,
          0.1347076092213862
         ]
        }
       ],
       "layout": {
        "height": 500,
        "legend": {
         "tracegroupgap": 0
        },
        "margin": {
         "b": 0,
         "l": 0,
         "r": 0,
         "t": 40
        },
        "template": {
         "data": {
          "bar": [
           {
            "error_x": {
             "color": "#2a3f5f"
            },
            "error_y": {
             "color": "#2a3f5f"
            },
            "marker": {
             "line": {
              "color": "#E5ECF6",
              "width": 0.5
             },
             "pattern": {
              "fillmode": "overlay",
              "size": 10,
              "solidity": 0.2
             }
            },
            "type": "bar"
           }
          ],
          "barpolar": [
           {
            "marker": {
             "line": {
              "color": "#E5ECF6",
              "width": 0.5
             },
             "pattern": {
              "fillmode": "overlay",
              "size": 10,
              "solidity": 0.2
             }
            },
            "type": "barpolar"
           }
          ],
          "carpet": [
           {
            "aaxis": {
             "endlinecolor": "#2a3f5f",
             "gridcolor": "white",
             "linecolor": "white",
             "minorgridcolor": "white",
             "startlinecolor": "#2a3f5f"
            },
            "baxis": {
             "endlinecolor": "#2a3f5f",
             "gridcolor": "white",
             "linecolor": "white",
             "minorgridcolor": "white",
             "startlinecolor": "#2a3f5f"
            },
            "type": "carpet"
           }
          ],
          "choropleth": [
           {
            "colorbar": {
             "outlinewidth": 0,
             "ticks": ""
            },
            "type": "choropleth"
           }
          ],
          "contour": [
           {
            "colorbar": {
             "outlinewidth": 0,
             "ticks": ""
            },
            "colorscale": [
             [
              0,
              "#0d0887"
             ],
             [
              0.1111111111111111,
              "#46039f"
             ],
             [
              0.2222222222222222,
              "#7201a8"
             ],
             [
              0.3333333333333333,
              "#9c179e"
             ],
             [
              0.4444444444444444,
              "#bd3786"
             ],
             [
              0.5555555555555556,
              "#d8576b"
             ],
             [
              0.6666666666666666,
              "#ed7953"
             ],
             [
              0.7777777777777778,
              "#fb9f3a"
             ],
             [
              0.8888888888888888,
              "#fdca26"
             ],
             [
              1,
              "#f0f921"
             ]
            ],
            "type": "contour"
           }
          ],
          "contourcarpet": [
           {
            "colorbar": {
             "outlinewidth": 0,
             "ticks": ""
            },
            "type": "contourcarpet"
           }
          ],
          "heatmap": [
           {
            "colorbar": {
             "outlinewidth": 0,
             "ticks": ""
            },
            "colorscale": [
             [
              0,
              "#0d0887"
             ],
             [
              0.1111111111111111,
              "#46039f"
             ],
             [
              0.2222222222222222,
              "#7201a8"
             ],
             [
              0.3333333333333333,
              "#9c179e"
             ],
             [
              0.4444444444444444,
              "#bd3786"
             ],
             [
              0.5555555555555556,
              "#d8576b"
             ],
             [
              0.6666666666666666,
              "#ed7953"
             ],
             [
              0.7777777777777778,
              "#fb9f3a"
             ],
             [
              0.8888888888888888,
              "#fdca26"
             ],
             [
              1,
              "#f0f921"
             ]
            ],
            "type": "heatmap"
           }
          ],
          "heatmapgl": [
           {
            "colorbar": {
             "outlinewidth": 0,
             "ticks": ""
            },
            "colorscale": [
             [
              0,
              "#0d0887"
             ],
             [
              0.1111111111111111,
              "#46039f"
             ],
             [
              0.2222222222222222,
              "#7201a8"
             ],
             [
              0.3333333333333333,
              "#9c179e"
             ],
             [
              0.4444444444444444,
              "#bd3786"
             ],
             [
              0.5555555555555556,
              "#d8576b"
             ],
             [
              0.6666666666666666,
              "#ed7953"
             ],
             [
              0.7777777777777778,
              "#fb9f3a"
             ],
             [
              0.8888888888888888,
              "#fdca26"
             ],
             [
              1,
              "#f0f921"
             ]
            ],
            "type": "heatmapgl"
           }
          ],
          "histogram": [
           {
            "marker": {
             "pattern": {
              "fillmode": "overlay",
              "size": 10,
              "solidity": 0.2
             }
            },
            "type": "histogram"
           }
          ],
          "histogram2d": [
           {
            "colorbar": {
             "outlinewidth": 0,
             "ticks": ""
            },
            "colorscale": [
             [
              0,
              "#0d0887"
             ],
             [
              0.1111111111111111,
              "#46039f"
             ],
             [
              0.2222222222222222,
              "#7201a8"
             ],
             [
              0.3333333333333333,
              "#9c179e"
             ],
             [
              0.4444444444444444,
              "#bd3786"
             ],
             [
              0.5555555555555556,
              "#d8576b"
             ],
             [
              0.6666666666666666,
              "#ed7953"
             ],
             [
              0.7777777777777778,
              "#fb9f3a"
             ],
             [
              0.8888888888888888,
              "#fdca26"
             ],
             [
              1,
              "#f0f921"
             ]
            ],
            "type": "histogram2d"
           }
          ],
          "histogram2dcontour": [
           {
            "colorbar": {
             "outlinewidth": 0,
             "ticks": ""
            },
            "colorscale": [
             [
              0,
              "#0d0887"
             ],
             [
              0.1111111111111111,
              "#46039f"
             ],
             [
              0.2222222222222222,
              "#7201a8"
             ],
             [
              0.3333333333333333,
              "#9c179e"
             ],
             [
              0.4444444444444444,
              "#bd3786"
             ],
             [
              0.5555555555555556,
              "#d8576b"
             ],
             [
              0.6666666666666666,
              "#ed7953"
             ],
             [
              0.7777777777777778,
              "#fb9f3a"
             ],
             [
              0.8888888888888888,
              "#fdca26"
             ],
             [
              1,
              "#f0f921"
             ]
            ],
            "type": "histogram2dcontour"
           }
          ],
          "mesh3d": [
           {
            "colorbar": {
             "outlinewidth": 0,
             "ticks": ""
            },
            "type": "mesh3d"
           }
          ],
          "parcoords": [
           {
            "line": {
             "colorbar": {
              "outlinewidth": 0,
              "ticks": ""
             }
            },
            "type": "parcoords"
           }
          ],
          "pie": [
           {
            "automargin": true,
            "type": "pie"
           }
          ],
          "scatter": [
           {
            "marker": {
             "colorbar": {
              "outlinewidth": 0,
              "ticks": ""
             }
            },
            "type": "scatter"
           }
          ],
          "scatter3d": [
           {
            "line": {
             "colorbar": {
              "outlinewidth": 0,
              "ticks": ""
             }
            },
            "marker": {
             "colorbar": {
              "outlinewidth": 0,
              "ticks": ""
             }
            },
            "type": "scatter3d"
           }
          ],
          "scattercarpet": [
           {
            "marker": {
             "colorbar": {
              "outlinewidth": 0,
              "ticks": ""
             }
            },
            "type": "scattercarpet"
           }
          ],
          "scattergeo": [
           {
            "marker": {
             "colorbar": {
              "outlinewidth": 0,
              "ticks": ""
             }
            },
            "type": "scattergeo"
           }
          ],
          "scattergl": [
           {
            "marker": {
             "colorbar": {
              "outlinewidth": 0,
              "ticks": ""
             }
            },
            "type": "scattergl"
           }
          ],
          "scattermapbox": [
           {
            "marker": {
             "colorbar": {
              "outlinewidth": 0,
              "ticks": ""
             }
            },
            "type": "scattermapbox"
           }
          ],
          "scatterpolar": [
           {
            "marker": {
             "colorbar": {
              "outlinewidth": 0,
              "ticks": ""
             }
            },
            "type": "scatterpolar"
           }
          ],
          "scatterpolargl": [
           {
            "marker": {
             "colorbar": {
              "outlinewidth": 0,
              "ticks": ""
             }
            },
            "type": "scatterpolargl"
           }
          ],
          "scatterternary": [
           {
            "marker": {
             "colorbar": {
              "outlinewidth": 0,
              "ticks": ""
             }
            },
            "type": "scatterternary"
           }
          ],
          "surface": [
           {
            "colorbar": {
             "outlinewidth": 0,
             "ticks": ""
            },
            "colorscale": [
             [
              0,
              "#0d0887"
             ],
             [
              0.1111111111111111,
              "#46039f"
             ],
             [
              0.2222222222222222,
              "#7201a8"
             ],
             [
              0.3333333333333333,
              "#9c179e"
             ],
             [
              0.4444444444444444,
              "#bd3786"
             ],
             [
              0.5555555555555556,
              "#d8576b"
             ],
             [
              0.6666666666666666,
              "#ed7953"
             ],
             [
              0.7777777777777778,
              "#fb9f3a"
             ],
             [
              0.8888888888888888,
              "#fdca26"
             ],
             [
              1,
              "#f0f921"
             ]
            ],
            "type": "surface"
           }
          ],
          "table": [
           {
            "cells": {
             "fill": {
              "color": "#EBF0F8"
             },
             "line": {
              "color": "white"
             }
            },
            "header": {
             "fill": {
              "color": "#C8D4E3"
             },
             "line": {
              "color": "white"
             }
            },
            "type": "table"
           }
          ]
         },
         "layout": {
          "annotationdefaults": {
           "arrowcolor": "#2a3f5f",
           "arrowhead": 0,
           "arrowwidth": 1
          },
          "autotypenumbers": "strict",
          "coloraxis": {
           "colorbar": {
            "outlinewidth": 0,
            "ticks": ""
           }
          },
          "colorscale": {
           "diverging": [
            [
             0,
             "#8e0152"
            ],
            [
             0.1,
             "#c51b7d"
            ],
            [
             0.2,
             "#de77ae"
            ],
            [
             0.3,
             "#f1b6da"
            ],
            [
             0.4,
             "#fde0ef"
            ],
            [
             0.5,
             "#f7f7f7"
            ],
            [
             0.6,
             "#e6f5d0"
            ],
            [
             0.7,
             "#b8e186"
            ],
            [
             0.8,
             "#7fbc41"
            ],
            [
             0.9,
             "#4d9221"
            ],
            [
             1,
             "#276419"
            ]
           ],
           "sequential": [
            [
             0,
             "#0d0887"
            ],
            [
             0.1111111111111111,
             "#46039f"
            ],
            [
             0.2222222222222222,
             "#7201a8"
            ],
            [
             0.3333333333333333,
             "#9c179e"
            ],
            [
             0.4444444444444444,
             "#bd3786"
            ],
            [
             0.5555555555555556,
             "#d8576b"
            ],
            [
             0.6666666666666666,
             "#ed7953"
            ],
            [
             0.7777777777777778,
             "#fb9f3a"
            ],
            [
             0.8888888888888888,
             "#fdca26"
            ],
            [
             1,
             "#f0f921"
            ]
           ],
           "sequentialminus": [
            [
             0,
             "#0d0887"
            ],
            [
             0.1111111111111111,
             "#46039f"
            ],
            [
             0.2222222222222222,
             "#7201a8"
            ],
            [
             0.3333333333333333,
             "#9c179e"
            ],
            [
             0.4444444444444444,
             "#bd3786"
            ],
            [
             0.5555555555555556,
             "#d8576b"
            ],
            [
             0.6666666666666666,
             "#ed7953"
            ],
            [
             0.7777777777777778,
             "#fb9f3a"
            ],
            [
             0.8888888888888888,
             "#fdca26"
            ],
            [
             1,
             "#f0f921"
            ]
           ]
          },
          "colorway": [
           "#636efa",
           "#EF553B",
           "#00cc96",
           "#ab63fa",
           "#FFA15A",
           "#19d3f3",
           "#FF6692",
           "#B6E880",
           "#FF97FF",
           "#FECB52"
          ],
          "font": {
           "color": "#2a3f5f"
          },
          "geo": {
           "bgcolor": "white",
           "lakecolor": "white",
           "landcolor": "#E5ECF6",
           "showlakes": true,
           "showland": true,
           "subunitcolor": "white"
          },
          "hoverlabel": {
           "align": "left"
          },
          "hovermode": "closest",
          "mapbox": {
           "style": "light"
          },
          "paper_bgcolor": "white",
          "plot_bgcolor": "#E5ECF6",
          "polar": {
           "angularaxis": {
            "gridcolor": "white",
            "linecolor": "white",
            "ticks": ""
           },
           "bgcolor": "#E5ECF6",
           "radialaxis": {
            "gridcolor": "white",
            "linecolor": "white",
            "ticks": ""
           }
          },
          "scene": {
           "xaxis": {
            "backgroundcolor": "#E5ECF6",
            "gridcolor": "white",
            "gridwidth": 2,
            "linecolor": "white",
            "showbackground": true,
            "ticks": "",
            "zerolinecolor": "white"
           },
           "yaxis": {
            "backgroundcolor": "#E5ECF6",
            "gridcolor": "white",
            "gridwidth": 2,
            "linecolor": "white",
            "showbackground": true,
            "ticks": "",
            "zerolinecolor": "white"
           },
           "zaxis": {
            "backgroundcolor": "#E5ECF6",
            "gridcolor": "white",
            "gridwidth": 2,
            "linecolor": "white",
            "showbackground": true,
            "ticks": "",
            "zerolinecolor": "white"
           }
          },
          "shapedefaults": {
           "line": {
            "color": "#2a3f5f"
           }
          },
          "ternary": {
           "aaxis": {
            "gridcolor": "white",
            "linecolor": "white",
            "ticks": ""
           },
           "baxis": {
            "gridcolor": "white",
            "linecolor": "white",
            "ticks": ""
           },
           "bgcolor": "#E5ECF6",
           "caxis": {
            "gridcolor": "white",
            "linecolor": "white",
            "ticks": ""
           }
          },
          "title": {
           "x": 0.05
          },
          "xaxis": {
           "automargin": true,
           "gridcolor": "white",
           "linecolor": "white",
           "ticks": "",
           "title": {
            "standoff": 15
           },
           "zerolinecolor": "white",
           "zerolinewidth": 2
          },
          "yaxis": {
           "automargin": true,
           "gridcolor": "white",
           "linecolor": "white",
           "ticks": "",
           "title": {
            "standoff": 15
           },
           "zerolinecolor": "white",
           "zerolinewidth": 2
          }
         }
        },
        "title": {
         "text": "Proportion of Sales by Lifestage and Premium Customer"
        },
        "width": 500
       }
      },
      "text/html": [
       "<div>                            <div id=\"ef630458-299d-494d-bb7f-7b92495f8ec3\" class=\"plotly-graph-div\" style=\"height:500px; width:500px;\"></div>            <script type=\"text/javascript\">                require([\"plotly\"], function(Plotly) {                    window.PLOTLYENV=window.PLOTLYENV || {};                                    if (document.getElementById(\"ef630458-299d-494d-bb7f-7b92495f8ec3\")) {                    Plotly.newPlot(                        \"ef630458-299d-494d-bb7f-7b92495f8ec3\",                        [{\"branchvalues\":\"total\",\"customdata\":[[0.018371798884184335],[0.011343582766674512],[0.08709427530177975],[0.07075098998248938],[0.058531334142045345],[0.07208358012844554],[0.031628537360684696],[0.046972813309089215],[0.008801287041898698],[0.05351236217193493],[0.0690045858627138],[0.08053170659790027],[0.04799960167915514],[0.08153762192109626],[0.03022719807150635],[0.005944343714678123],[0.04172457406827839],[0.06841970084552651],[0.05051228199046616],[0.04346637421984723],[0.021541449939605245],[0.0955718102647799],[0.02608921352325133],[0.18233121154199308],[0.2081752766907297],[0.18957532273041178],[0.16354955602744792],[0.1347076092213862]],\"domain\":{\"x\":[0.0,1.0],\"y\":[0.0,1.0]},\"hovertemplate\":\"labels=%{label}<br>PROPORTION=%{value}<br>parent=%{parent}<br>id=%{id}<extra></extra>\",\"ids\":[\"MIDAGE SINGLES/COUPLES/Budget\",\"NEW FAMILIES/Budget\",\"OLDER FAMILIES/Budget\",\"OLDER SINGLES/COUPLES/Budget\",\"RETIREES/Budget\",\"YOUNG FAMILIES/Budget\",\"YOUNG SINGLES/COUPLES/Budget\",\"MIDAGE SINGLES/COUPLES/Mainstream\",\"NEW FAMILIES/Mainstream\",\"OLDER FAMILIES/Mainstream\",\"OLDER SINGLES/COUPLES/Mainstream\",\"RETIREES/Mainstream\",\"YOUNG FAMILIES/Mainstream\",\"YOUNG SINGLES/COUPLES/Mainstream\",\"MIDAGE SINGLES/COUPLES/Premium\",\"NEW FAMILIES/Premium\",\"OLDER FAMILIES/Premium\",\"OLDER SINGLES/COUPLES/Premium\",\"RETIREES/Premium\",\"YOUNG FAMILIES/Premium\",\"YOUNG SINGLES/COUPLES/Premium\",\"MIDAGE SINGLES/COUPLES\",\"NEW FAMILIES\",\"OLDER FAMILIES\",\"OLDER SINGLES/COUPLES\",\"RETIREES\",\"YOUNG FAMILIES\",\"YOUNG SINGLES/COUPLES\"],\"labels\":[\"Budget\",\"Budget\",\"Budget\",\"Budget\",\"Budget\",\"Budget\",\"Budget\",\"Mainstream\",\"Mainstream\",\"Mainstream\",\"Mainstream\",\"Mainstream\",\"Mainstream\",\"Mainstream\",\"Premium\",\"Premium\",\"Premium\",\"Premium\",\"Premium\",\"Premium\",\"Premium\",\"MIDAGE SINGLES/COUPLES\",\"NEW FAMILIES\",\"OLDER FAMILIES\",\"OLDER SINGLES/COUPLES\",\"RETIREES\",\"YOUNG FAMILIES\",\"YOUNG SINGLES/COUPLES\"],\"name\":\"\",\"parents\":[\"MIDAGE SINGLES/COUPLES\",\"NEW FAMILIES\",\"OLDER FAMILIES\",\"OLDER SINGLES/COUPLES\",\"RETIREES\",\"YOUNG FAMILIES\",\"YOUNG SINGLES/COUPLES\",\"MIDAGE SINGLES/COUPLES\",\"NEW FAMILIES\",\"OLDER FAMILIES\",\"OLDER SINGLES/COUPLES\",\"RETIREES\",\"YOUNG FAMILIES\",\"YOUNG SINGLES/COUPLES\",\"MIDAGE SINGLES/COUPLES\",\"NEW FAMILIES\",\"OLDER FAMILIES\",\"OLDER SINGLES/COUPLES\",\"RETIREES\",\"YOUNG FAMILIES\",\"YOUNG SINGLES/COUPLES\",\"\",\"\",\"\",\"\",\"\",\"\",\"\"],\"values\":[0.018371798884184335,0.011343582766674512,0.08709427530177975,0.07075098998248938,0.058531334142045345,0.07208358012844554,0.031628537360684696,0.046972813309089215,0.008801287041898698,0.05351236217193493,0.0690045858627138,0.08053170659790027,0.04799960167915514,0.08153762192109626,0.03022719807150635,0.005944343714678123,0.04172457406827839,0.06841970084552651,0.05051228199046616,0.04346637421984723,0.021541449939605245,0.0955718102647799,0.02608921352325133,0.18233121154199308,0.2081752766907297,0.18957532273041178,0.16354955602744792,0.1347076092213862],\"type\":\"sunburst\",\"textinfo\":\"label+text\",\"texttemplate\":\"%{label}: %{customdata[0]:.2%}\"}],                        {\"template\":{\"data\":{\"bar\":[{\"error_x\":{\"color\":\"#2a3f5f\"},\"error_y\":{\"color\":\"#2a3f5f\"},\"marker\":{\"line\":{\"color\":\"#E5ECF6\",\"width\":0.5},\"pattern\":{\"fillmode\":\"overlay\",\"size\":10,\"solidity\":0.2}},\"type\":\"bar\"}],\"barpolar\":[{\"marker\":{\"line\":{\"color\":\"#E5ECF6\",\"width\":0.5},\"pattern\":{\"fillmode\":\"overlay\",\"size\":10,\"solidity\":0.2}},\"type\":\"barpolar\"}],\"carpet\":[{\"aaxis\":{\"endlinecolor\":\"#2a3f5f\",\"gridcolor\":\"white\",\"linecolor\":\"white\",\"minorgridcolor\":\"white\",\"startlinecolor\":\"#2a3f5f\"},\"baxis\":{\"endlinecolor\":\"#2a3f5f\",\"gridcolor\":\"white\",\"linecolor\":\"white\",\"minorgridcolor\":\"white\",\"startlinecolor\":\"#2a3f5f\"},\"type\":\"carpet\"}],\"choropleth\":[{\"colorbar\":{\"outlinewidth\":0,\"ticks\":\"\"},\"type\":\"choropleth\"}],\"contour\":[{\"colorbar\":{\"outlinewidth\":0,\"ticks\":\"\"},\"colorscale\":[[0.0,\"#0d0887\"],[0.1111111111111111,\"#46039f\"],[0.2222222222222222,\"#7201a8\"],[0.3333333333333333,\"#9c179e\"],[0.4444444444444444,\"#bd3786\"],[0.5555555555555556,\"#d8576b\"],[0.6666666666666666,\"#ed7953\"],[0.7777777777777778,\"#fb9f3a\"],[0.8888888888888888,\"#fdca26\"],[1.0,\"#f0f921\"]],\"type\":\"contour\"}],\"contourcarpet\":[{\"colorbar\":{\"outlinewidth\":0,\"ticks\":\"\"},\"type\":\"contourcarpet\"}],\"heatmap\":[{\"colorbar\":{\"outlinewidth\":0,\"ticks\":\"\"},\"colorscale\":[[0.0,\"#0d0887\"],[0.1111111111111111,\"#46039f\"],[0.2222222222222222,\"#7201a8\"],[0.3333333333333333,\"#9c179e\"],[0.4444444444444444,\"#bd3786\"],[0.5555555555555556,\"#d8576b\"],[0.6666666666666666,\"#ed7953\"],[0.7777777777777778,\"#fb9f3a\"],[0.8888888888888888,\"#fdca26\"],[1.0,\"#f0f921\"]],\"type\":\"heatmap\"}],\"heatmapgl\":[{\"colorbar\":{\"outlinewidth\":0,\"ticks\":\"\"},\"colorscale\":[[0.0,\"#0d0887\"],[0.1111111111111111,\"#46039f\"],[0.2222222222222222,\"#7201a8\"],[0.3333333333333333,\"#9c179e\"],[0.4444444444444444,\"#bd3786\"],[0.5555555555555556,\"#d8576b\"],[0.6666666666666666,\"#ed7953\"],[0.7777777777777778,\"#fb9f3a\"],[0.8888888888888888,\"#fdca26\"],[1.0,\"#f0f921\"]],\"type\":\"heatmapgl\"}],\"histogram\":[{\"marker\":{\"pattern\":{\"fillmode\":\"overlay\",\"size\":10,\"solidity\":0.2}},\"type\":\"histogram\"}],\"histogram2d\":[{\"colorbar\":{\"outlinewidth\":0,\"ticks\":\"\"},\"colorscale\":[[0.0,\"#0d0887\"],[0.1111111111111111,\"#46039f\"],[0.2222222222222222,\"#7201a8\"],[0.3333333333333333,\"#9c179e\"],[0.4444444444444444,\"#bd3786\"],[0.5555555555555556,\"#d8576b\"],[0.6666666666666666,\"#ed7953\"],[0.7777777777777778,\"#fb9f3a\"],[0.8888888888888888,\"#fdca26\"],[1.0,\"#f0f921\"]],\"type\":\"histogram2d\"}],\"histogram2dcontour\":[{\"colorbar\":{\"outlinewidth\":0,\"ticks\":\"\"},\"colorscale\":[[0.0,\"#0d0887\"],[0.1111111111111111,\"#46039f\"],[0.2222222222222222,\"#7201a8\"],[0.3333333333333333,\"#9c179e\"],[0.4444444444444444,\"#bd3786\"],[0.5555555555555556,\"#d8576b\"],[0.6666666666666666,\"#ed7953\"],[0.7777777777777778,\"#fb9f3a\"],[0.8888888888888888,\"#fdca26\"],[1.0,\"#f0f921\"]],\"type\":\"histogram2dcontour\"}],\"mesh3d\":[{\"colorbar\":{\"outlinewidth\":0,\"ticks\":\"\"},\"type\":\"mesh3d\"}],\"parcoords\":[{\"line\":{\"colorbar\":{\"outlinewidth\":0,\"ticks\":\"\"}},\"type\":\"parcoords\"}],\"pie\":[{\"automargin\":true,\"type\":\"pie\"}],\"scatter\":[{\"marker\":{\"colorbar\":{\"outlinewidth\":0,\"ticks\":\"\"}},\"type\":\"scatter\"}],\"scatter3d\":[{\"line\":{\"colorbar\":{\"outlinewidth\":0,\"ticks\":\"\"}},\"marker\":{\"colorbar\":{\"outlinewidth\":0,\"ticks\":\"\"}},\"type\":\"scatter3d\"}],\"scattercarpet\":[{\"marker\":{\"colorbar\":{\"outlinewidth\":0,\"ticks\":\"\"}},\"type\":\"scattercarpet\"}],\"scattergeo\":[{\"marker\":{\"colorbar\":{\"outlinewidth\":0,\"ticks\":\"\"}},\"type\":\"scattergeo\"}],\"scattergl\":[{\"marker\":{\"colorbar\":{\"outlinewidth\":0,\"ticks\":\"\"}},\"type\":\"scattergl\"}],\"scattermapbox\":[{\"marker\":{\"colorbar\":{\"outlinewidth\":0,\"ticks\":\"\"}},\"type\":\"scattermapbox\"}],\"scatterpolar\":[{\"marker\":{\"colorbar\":{\"outlinewidth\":0,\"ticks\":\"\"}},\"type\":\"scatterpolar\"}],\"scatterpolargl\":[{\"marker\":{\"colorbar\":{\"outlinewidth\":0,\"ticks\":\"\"}},\"type\":\"scatterpolargl\"}],\"scatterternary\":[{\"marker\":{\"colorbar\":{\"outlinewidth\":0,\"ticks\":\"\"}},\"type\":\"scatterternary\"}],\"surface\":[{\"colorbar\":{\"outlinewidth\":0,\"ticks\":\"\"},\"colorscale\":[[0.0,\"#0d0887\"],[0.1111111111111111,\"#46039f\"],[0.2222222222222222,\"#7201a8\"],[0.3333333333333333,\"#9c179e\"],[0.4444444444444444,\"#bd3786\"],[0.5555555555555556,\"#d8576b\"],[0.6666666666666666,\"#ed7953\"],[0.7777777777777778,\"#fb9f3a\"],[0.8888888888888888,\"#fdca26\"],[1.0,\"#f0f921\"]],\"type\":\"surface\"}],\"table\":[{\"cells\":{\"fill\":{\"color\":\"#EBF0F8\"},\"line\":{\"color\":\"white\"}},\"header\":{\"fill\":{\"color\":\"#C8D4E3\"},\"line\":{\"color\":\"white\"}},\"type\":\"table\"}]},\"layout\":{\"annotationdefaults\":{\"arrowcolor\":\"#2a3f5f\",\"arrowhead\":0,\"arrowwidth\":1},\"autotypenumbers\":\"strict\",\"coloraxis\":{\"colorbar\":{\"outlinewidth\":0,\"ticks\":\"\"}},\"colorscale\":{\"diverging\":[[0,\"#8e0152\"],[0.1,\"#c51b7d\"],[0.2,\"#de77ae\"],[0.3,\"#f1b6da\"],[0.4,\"#fde0ef\"],[0.5,\"#f7f7f7\"],[0.6,\"#e6f5d0\"],[0.7,\"#b8e186\"],[0.8,\"#7fbc41\"],[0.9,\"#4d9221\"],[1,\"#276419\"]],\"sequential\":[[0.0,\"#0d0887\"],[0.1111111111111111,\"#46039f\"],[0.2222222222222222,\"#7201a8\"],[0.3333333333333333,\"#9c179e\"],[0.4444444444444444,\"#bd3786\"],[0.5555555555555556,\"#d8576b\"],[0.6666666666666666,\"#ed7953\"],[0.7777777777777778,\"#fb9f3a\"],[0.8888888888888888,\"#fdca26\"],[1.0,\"#f0f921\"]],\"sequentialminus\":[[0.0,\"#0d0887\"],[0.1111111111111111,\"#46039f\"],[0.2222222222222222,\"#7201a8\"],[0.3333333333333333,\"#9c179e\"],[0.4444444444444444,\"#bd3786\"],[0.5555555555555556,\"#d8576b\"],[0.6666666666666666,\"#ed7953\"],[0.7777777777777778,\"#fb9f3a\"],[0.8888888888888888,\"#fdca26\"],[1.0,\"#f0f921\"]]},\"colorway\":[\"#636efa\",\"#EF553B\",\"#00cc96\",\"#ab63fa\",\"#FFA15A\",\"#19d3f3\",\"#FF6692\",\"#B6E880\",\"#FF97FF\",\"#FECB52\"],\"font\":{\"color\":\"#2a3f5f\"},\"geo\":{\"bgcolor\":\"white\",\"lakecolor\":\"white\",\"landcolor\":\"#E5ECF6\",\"showlakes\":true,\"showland\":true,\"subunitcolor\":\"white\"},\"hoverlabel\":{\"align\":\"left\"},\"hovermode\":\"closest\",\"mapbox\":{\"style\":\"light\"},\"paper_bgcolor\":\"white\",\"plot_bgcolor\":\"#E5ECF6\",\"polar\":{\"angularaxis\":{\"gridcolor\":\"white\",\"linecolor\":\"white\",\"ticks\":\"\"},\"bgcolor\":\"#E5ECF6\",\"radialaxis\":{\"gridcolor\":\"white\",\"linecolor\":\"white\",\"ticks\":\"\"}},\"scene\":{\"xaxis\":{\"backgroundcolor\":\"#E5ECF6\",\"gridcolor\":\"white\",\"gridwidth\":2,\"linecolor\":\"white\",\"showbackground\":true,\"ticks\":\"\",\"zerolinecolor\":\"white\"},\"yaxis\":{\"backgroundcolor\":\"#E5ECF6\",\"gridcolor\":\"white\",\"gridwidth\":2,\"linecolor\":\"white\",\"showbackground\":true,\"ticks\":\"\",\"zerolinecolor\":\"white\"},\"zaxis\":{\"backgroundcolor\":\"#E5ECF6\",\"gridcolor\":\"white\",\"gridwidth\":2,\"linecolor\":\"white\",\"showbackground\":true,\"ticks\":\"\",\"zerolinecolor\":\"white\"}},\"shapedefaults\":{\"line\":{\"color\":\"#2a3f5f\"}},\"ternary\":{\"aaxis\":{\"gridcolor\":\"white\",\"linecolor\":\"white\",\"ticks\":\"\"},\"baxis\":{\"gridcolor\":\"white\",\"linecolor\":\"white\",\"ticks\":\"\"},\"bgcolor\":\"#E5ECF6\",\"caxis\":{\"gridcolor\":\"white\",\"linecolor\":\"white\",\"ticks\":\"\"}},\"title\":{\"x\":0.05},\"xaxis\":{\"automargin\":true,\"gridcolor\":\"white\",\"linecolor\":\"white\",\"ticks\":\"\",\"title\":{\"standoff\":15},\"zerolinecolor\":\"white\",\"zerolinewidth\":2},\"yaxis\":{\"automargin\":true,\"gridcolor\":\"white\",\"linecolor\":\"white\",\"ticks\":\"\",\"title\":{\"standoff\":15},\"zerolinecolor\":\"white\",\"zerolinewidth\":2}}},\"legend\":{\"tracegroupgap\":0},\"title\":{\"text\":\"Proportion of Sales by Lifestage and Premium Customer\"},\"margin\":{\"l\":0,\"r\":0,\"b\":0,\"t\":40},\"width\":500,\"height\":500},                        {\"responsive\": true}                    ).then(function(){\n",
       "                            \n",
       "var gd = document.getElementById('ef630458-299d-494d-bb7f-7b92495f8ec3');\n",
       "var x = new MutationObserver(function (mutations, observer) {{\n",
       "        var display = window.getComputedStyle(gd).display;\n",
       "        if (!display || display === 'none') {{\n",
       "            console.log([gd, 'removed!']);\n",
       "            Plotly.purge(gd);\n",
       "            observer.disconnect();\n",
       "        }}\n",
       "}});\n",
       "\n",
       "// Listen for the removal of the full notebook cells\n",
       "var notebookContainer = gd.closest('#notebook-container');\n",
       "if (notebookContainer) {{\n",
       "    x.observe(notebookContainer, {childList: true});\n",
       "}}\n",
       "\n",
       "// Listen for the clearing of the current output cell\n",
       "var outputEl = gd.closest('.output');\n",
       "if (outputEl) {{\n",
       "    x.observe(outputEl, {childList: true});\n",
       "}}\n",
       "\n",
       "                        })                };                });            </script>        </div>"
      ]
     },
     "metadata": {},
     "output_type": "display_data"
    }
   ],
   "source": [
    "import plotly.express as px\n",
    "\n",
    "# Total sales by LIFESTAGE and PREMIUM_CUSTOMER\n",
    "sales = data.groupby(['LIFESTAGE_x', 'PREMIUM_CUSTOMER_y']).agg(SALES=('TOT_SALES', 'sum')).reset_index()\n",
    "\n",
    "# Calculate the proportion of sales\n",
    "sales['PROPORTION'] = sales['SALES'] / sales['SALES'].sum()\n",
    "\n",
    "# Create a sunburst chart\n",
    "fig = px.sunburst(sales, path=['LIFESTAGE_x', 'PREMIUM_CUSTOMER_y'], values='PROPORTION',\n",
    "                  title='Proportion of Sales by Lifestage and Premium Customer',\n",
    "                  custom_data=['PROPORTION'])\n",
    "\n",
    "# Add text labels with proportion figures\n",
    "fig.update_traces(textinfo='label+text', texttemplate='%{label}: %{customdata[0]:.2%}')\n",
    "\n",
    "# Adjust size and layout\n",
    "fig.update_layout(width=500, height=500, margin=dict(l=0, r=0, b=0, t=40))\n",
    "\n",
    "# Show the figure\n",
    "fig.show()\n"
   ]
  },
  {
   "cell_type": "markdown",
   "id": "a0d4c873",
   "metadata": {},
   "source": [
    "Sales are coming mainly from Budget - older families, Mainstream - young singles/couples, and Mainstream\n",
    "- retirees"
   ]
  },
  {
   "cell_type": "code",
   "execution_count": 68,
   "id": "6cbb0438",
   "metadata": {},
   "outputs": [
    {
     "name": "stderr",
     "output_type": "stream",
     "text": [
      "C:\\Users\\GREJOY\\anaconda3\\lib\\site-packages\\plotly\\express\\_core.py:1637: FutureWarning:\n",
      "\n",
      "The frame.append method is deprecated and will be removed from pandas in a future version. Use pandas.concat instead.\n",
      "\n",
      "C:\\Users\\GREJOY\\anaconda3\\lib\\site-packages\\plotly\\express\\_core.py:1637: FutureWarning:\n",
      "\n",
      "The frame.append method is deprecated and will be removed from pandas in a future version. Use pandas.concat instead.\n",
      "\n"
     ]
    },
    {
     "data": {
      "application/vnd.plotly.v1+json": {
       "config": {
        "plotlyServerURL": "https://plot.ly"
       },
       "data": [
        {
         "branchvalues": "total",
         "customdata": [
          [
           0.01922300995256132
          ],
          [
           0.04485678561105983
          ],
          [
           0.03119590653407734
          ],
          [
           0.011281015361627825
          ],
          [
           0.008541402983553548
          ],
          [
           0.005999138535320926
          ],
          [
           0.08669304411599413
          ],
          [
           0.05337256026389293
          ],
          [
           0.04201789519422193
          ],
          [
           0.06959931907891652
          ],
          [
           0.06815888874633598
          ],
          [
           0.06661830319347296
          ],
          [
           0.057466260055196706
          ],
          [
           0.08237960482465471
          ],
          [
           0.049544347012625764
          ],
          [
           0.07243775721339742
          ],
          [
           0.04949029303104898
          ],
          [
           0.04368544990965454
          ],
          [
           0.03481112953257331
          ],
          [
           0.07845098321872605
          ],
          [
           0.024176905631087285
          ],
          [
           0.3515115353102672
          ],
          [
           0.38525051867927207
          ],
          [
           0.26323794601046074
          ]
         ],
         "domain": {
          "x": [
           0,
           1
          ],
          "y": [
           0,
           1
          ]
         },
         "hovertemplate": "labels=%{label}<br>PROPORTION=%{value}<br>parent=%{parent}<br>id=%{id}<extra></extra>",
         "ids": [
          "Budget/MIDAGE SINGLES/COUPLES",
          "Mainstream/MIDAGE SINGLES/COUPLES",
          "Premium/MIDAGE SINGLES/COUPLES",
          "Budget/NEW FAMILIES",
          "Mainstream/NEW FAMILIES",
          "Premium/NEW FAMILIES",
          "Budget/OLDER FAMILIES",
          "Mainstream/OLDER FAMILIES",
          "Premium/OLDER FAMILIES",
          "Budget/OLDER SINGLES/COUPLES",
          "Mainstream/OLDER SINGLES/COUPLES",
          "Premium/OLDER SINGLES/COUPLES",
          "Budget/RETIREES",
          "Mainstream/RETIREES",
          "Premium/RETIREES",
          "Budget/YOUNG FAMILIES",
          "Mainstream/YOUNG FAMILIES",
          "Premium/YOUNG FAMILIES",
          "Budget/YOUNG SINGLES/COUPLES",
          "Mainstream/YOUNG SINGLES/COUPLES",
          "Premium/YOUNG SINGLES/COUPLES",
          "Budget",
          "Mainstream",
          "Premium"
         ],
         "labels": [
          "MIDAGE SINGLES/COUPLES",
          "MIDAGE SINGLES/COUPLES",
          "MIDAGE SINGLES/COUPLES",
          "NEW FAMILIES",
          "NEW FAMILIES",
          "NEW FAMILIES",
          "OLDER FAMILIES",
          "OLDER FAMILIES",
          "OLDER FAMILIES",
          "OLDER SINGLES/COUPLES",
          "OLDER SINGLES/COUPLES",
          "OLDER SINGLES/COUPLES",
          "RETIREES",
          "RETIREES",
          "RETIREES",
          "YOUNG FAMILIES",
          "YOUNG FAMILIES",
          "YOUNG FAMILIES",
          "YOUNG SINGLES/COUPLES",
          "YOUNG SINGLES/COUPLES",
          "YOUNG SINGLES/COUPLES",
          "Budget",
          "Mainstream",
          "Premium"
         ],
         "name": "",
         "parents": [
          "Budget",
          "Mainstream",
          "Premium",
          "Budget",
          "Mainstream",
          "Premium",
          "Budget",
          "Mainstream",
          "Premium",
          "Budget",
          "Mainstream",
          "Premium",
          "Budget",
          "Mainstream",
          "Premium",
          "Budget",
          "Mainstream",
          "Premium",
          "Budget",
          "Mainstream",
          "Premium",
          "",
          "",
          ""
         ],
         "textinfo": "label+text",
         "texttemplate": "%{label}: %{customdata[0]:.2%}",
         "type": "sunburst",
         "values": [
          0.01922300995256132,
          0.04485678561105983,
          0.03119590653407734,
          0.011281015361627825,
          0.008541402983553548,
          0.005999138535320926,
          0.08669304411599413,
          0.05337256026389293,
          0.04201789519422193,
          0.06959931907891652,
          0.06815888874633598,
          0.06661830319347296,
          0.057466260055196706,
          0.08237960482465471,
          0.049544347012625764,
          0.07243775721339742,
          0.04949029303104898,
          0.04368544990965454,
          0.03481112953257331,
          0.07845098321872605,
          0.024176905631087285,
          0.3515115353102672,
          0.38525051867927207,
          0.26323794601046074
         ]
        }
       ],
       "layout": {
        "height": 600,
        "legend": {
         "tracegroupgap": 0
        },
        "margin": {
         "b": 0,
         "l": 0,
         "r": 0,
         "t": 40
        },
        "template": {
         "data": {
          "bar": [
           {
            "error_x": {
             "color": "#2a3f5f"
            },
            "error_y": {
             "color": "#2a3f5f"
            },
            "marker": {
             "line": {
              "color": "#E5ECF6",
              "width": 0.5
             },
             "pattern": {
              "fillmode": "overlay",
              "size": 10,
              "solidity": 0.2
             }
            },
            "type": "bar"
           }
          ],
          "barpolar": [
           {
            "marker": {
             "line": {
              "color": "#E5ECF6",
              "width": 0.5
             },
             "pattern": {
              "fillmode": "overlay",
              "size": 10,
              "solidity": 0.2
             }
            },
            "type": "barpolar"
           }
          ],
          "carpet": [
           {
            "aaxis": {
             "endlinecolor": "#2a3f5f",
             "gridcolor": "white",
             "linecolor": "white",
             "minorgridcolor": "white",
             "startlinecolor": "#2a3f5f"
            },
            "baxis": {
             "endlinecolor": "#2a3f5f",
             "gridcolor": "white",
             "linecolor": "white",
             "minorgridcolor": "white",
             "startlinecolor": "#2a3f5f"
            },
            "type": "carpet"
           }
          ],
          "choropleth": [
           {
            "colorbar": {
             "outlinewidth": 0,
             "ticks": ""
            },
            "type": "choropleth"
           }
          ],
          "contour": [
           {
            "colorbar": {
             "outlinewidth": 0,
             "ticks": ""
            },
            "colorscale": [
             [
              0,
              "#0d0887"
             ],
             [
              0.1111111111111111,
              "#46039f"
             ],
             [
              0.2222222222222222,
              "#7201a8"
             ],
             [
              0.3333333333333333,
              "#9c179e"
             ],
             [
              0.4444444444444444,
              "#bd3786"
             ],
             [
              0.5555555555555556,
              "#d8576b"
             ],
             [
              0.6666666666666666,
              "#ed7953"
             ],
             [
              0.7777777777777778,
              "#fb9f3a"
             ],
             [
              0.8888888888888888,
              "#fdca26"
             ],
             [
              1,
              "#f0f921"
             ]
            ],
            "type": "contour"
           }
          ],
          "contourcarpet": [
           {
            "colorbar": {
             "outlinewidth": 0,
             "ticks": ""
            },
            "type": "contourcarpet"
           }
          ],
          "heatmap": [
           {
            "colorbar": {
             "outlinewidth": 0,
             "ticks": ""
            },
            "colorscale": [
             [
              0,
              "#0d0887"
             ],
             [
              0.1111111111111111,
              "#46039f"
             ],
             [
              0.2222222222222222,
              "#7201a8"
             ],
             [
              0.3333333333333333,
              "#9c179e"
             ],
             [
              0.4444444444444444,
              "#bd3786"
             ],
             [
              0.5555555555555556,
              "#d8576b"
             ],
             [
              0.6666666666666666,
              "#ed7953"
             ],
             [
              0.7777777777777778,
              "#fb9f3a"
             ],
             [
              0.8888888888888888,
              "#fdca26"
             ],
             [
              1,
              "#f0f921"
             ]
            ],
            "type": "heatmap"
           }
          ],
          "heatmapgl": [
           {
            "colorbar": {
             "outlinewidth": 0,
             "ticks": ""
            },
            "colorscale": [
             [
              0,
              "#0d0887"
             ],
             [
              0.1111111111111111,
              "#46039f"
             ],
             [
              0.2222222222222222,
              "#7201a8"
             ],
             [
              0.3333333333333333,
              "#9c179e"
             ],
             [
              0.4444444444444444,
              "#bd3786"
             ],
             [
              0.5555555555555556,
              "#d8576b"
             ],
             [
              0.6666666666666666,
              "#ed7953"
             ],
             [
              0.7777777777777778,
              "#fb9f3a"
             ],
             [
              0.8888888888888888,
              "#fdca26"
             ],
             [
              1,
              "#f0f921"
             ]
            ],
            "type": "heatmapgl"
           }
          ],
          "histogram": [
           {
            "marker": {
             "pattern": {
              "fillmode": "overlay",
              "size": 10,
              "solidity": 0.2
             }
            },
            "type": "histogram"
           }
          ],
          "histogram2d": [
           {
            "colorbar": {
             "outlinewidth": 0,
             "ticks": ""
            },
            "colorscale": [
             [
              0,
              "#0d0887"
             ],
             [
              0.1111111111111111,
              "#46039f"
             ],
             [
              0.2222222222222222,
              "#7201a8"
             ],
             [
              0.3333333333333333,
              "#9c179e"
             ],
             [
              0.4444444444444444,
              "#bd3786"
             ],
             [
              0.5555555555555556,
              "#d8576b"
             ],
             [
              0.6666666666666666,
              "#ed7953"
             ],
             [
              0.7777777777777778,
              "#fb9f3a"
             ],
             [
              0.8888888888888888,
              "#fdca26"
             ],
             [
              1,
              "#f0f921"
             ]
            ],
            "type": "histogram2d"
           }
          ],
          "histogram2dcontour": [
           {
            "colorbar": {
             "outlinewidth": 0,
             "ticks": ""
            },
            "colorscale": [
             [
              0,
              "#0d0887"
             ],
             [
              0.1111111111111111,
              "#46039f"
             ],
             [
              0.2222222222222222,
              "#7201a8"
             ],
             [
              0.3333333333333333,
              "#9c179e"
             ],
             [
              0.4444444444444444,
              "#bd3786"
             ],
             [
              0.5555555555555556,
              "#d8576b"
             ],
             [
              0.6666666666666666,
              "#ed7953"
             ],
             [
              0.7777777777777778,
              "#fb9f3a"
             ],
             [
              0.8888888888888888,
              "#fdca26"
             ],
             [
              1,
              "#f0f921"
             ]
            ],
            "type": "histogram2dcontour"
           }
          ],
          "mesh3d": [
           {
            "colorbar": {
             "outlinewidth": 0,
             "ticks": ""
            },
            "type": "mesh3d"
           }
          ],
          "parcoords": [
           {
            "line": {
             "colorbar": {
              "outlinewidth": 0,
              "ticks": ""
             }
            },
            "type": "parcoords"
           }
          ],
          "pie": [
           {
            "automargin": true,
            "type": "pie"
           }
          ],
          "scatter": [
           {
            "marker": {
             "colorbar": {
              "outlinewidth": 0,
              "ticks": ""
             }
            },
            "type": "scatter"
           }
          ],
          "scatter3d": [
           {
            "line": {
             "colorbar": {
              "outlinewidth": 0,
              "ticks": ""
             }
            },
            "marker": {
             "colorbar": {
              "outlinewidth": 0,
              "ticks": ""
             }
            },
            "type": "scatter3d"
           }
          ],
          "scattercarpet": [
           {
            "marker": {
             "colorbar": {
              "outlinewidth": 0,
              "ticks": ""
             }
            },
            "type": "scattercarpet"
           }
          ],
          "scattergeo": [
           {
            "marker": {
             "colorbar": {
              "outlinewidth": 0,
              "ticks": ""
             }
            },
            "type": "scattergeo"
           }
          ],
          "scattergl": [
           {
            "marker": {
             "colorbar": {
              "outlinewidth": 0,
              "ticks": ""
             }
            },
            "type": "scattergl"
           }
          ],
          "scattermapbox": [
           {
            "marker": {
             "colorbar": {
              "outlinewidth": 0,
              "ticks": ""
             }
            },
            "type": "scattermapbox"
           }
          ],
          "scatterpolar": [
           {
            "marker": {
             "colorbar": {
              "outlinewidth": 0,
              "ticks": ""
             }
            },
            "type": "scatterpolar"
           }
          ],
          "scatterpolargl": [
           {
            "marker": {
             "colorbar": {
              "outlinewidth": 0,
              "ticks": ""
             }
            },
            "type": "scatterpolargl"
           }
          ],
          "scatterternary": [
           {
            "marker": {
             "colorbar": {
              "outlinewidth": 0,
              "ticks": ""
             }
            },
            "type": "scatterternary"
           }
          ],
          "surface": [
           {
            "colorbar": {
             "outlinewidth": 0,
             "ticks": ""
            },
            "colorscale": [
             [
              0,
              "#0d0887"
             ],
             [
              0.1111111111111111,
              "#46039f"
             ],
             [
              0.2222222222222222,
              "#7201a8"
             ],
             [
              0.3333333333333333,
              "#9c179e"
             ],
             [
              0.4444444444444444,
              "#bd3786"
             ],
             [
              0.5555555555555556,
              "#d8576b"
             ],
             [
              0.6666666666666666,
              "#ed7953"
             ],
             [
              0.7777777777777778,
              "#fb9f3a"
             ],
             [
              0.8888888888888888,
              "#fdca26"
             ],
             [
              1,
              "#f0f921"
             ]
            ],
            "type": "surface"
           }
          ],
          "table": [
           {
            "cells": {
             "fill": {
              "color": "#EBF0F8"
             },
             "line": {
              "color": "white"
             }
            },
            "header": {
             "fill": {
              "color": "#C8D4E3"
             },
             "line": {
              "color": "white"
             }
            },
            "type": "table"
           }
          ]
         },
         "layout": {
          "annotationdefaults": {
           "arrowcolor": "#2a3f5f",
           "arrowhead": 0,
           "arrowwidth": 1
          },
          "autotypenumbers": "strict",
          "coloraxis": {
           "colorbar": {
            "outlinewidth": 0,
            "ticks": ""
           }
          },
          "colorscale": {
           "diverging": [
            [
             0,
             "#8e0152"
            ],
            [
             0.1,
             "#c51b7d"
            ],
            [
             0.2,
             "#de77ae"
            ],
            [
             0.3,
             "#f1b6da"
            ],
            [
             0.4,
             "#fde0ef"
            ],
            [
             0.5,
             "#f7f7f7"
            ],
            [
             0.6,
             "#e6f5d0"
            ],
            [
             0.7,
             "#b8e186"
            ],
            [
             0.8,
             "#7fbc41"
            ],
            [
             0.9,
             "#4d9221"
            ],
            [
             1,
             "#276419"
            ]
           ],
           "sequential": [
            [
             0,
             "#0d0887"
            ],
            [
             0.1111111111111111,
             "#46039f"
            ],
            [
             0.2222222222222222,
             "#7201a8"
            ],
            [
             0.3333333333333333,
             "#9c179e"
            ],
            [
             0.4444444444444444,
             "#bd3786"
            ],
            [
             0.5555555555555556,
             "#d8576b"
            ],
            [
             0.6666666666666666,
             "#ed7953"
            ],
            [
             0.7777777777777778,
             "#fb9f3a"
            ],
            [
             0.8888888888888888,
             "#fdca26"
            ],
            [
             1,
             "#f0f921"
            ]
           ],
           "sequentialminus": [
            [
             0,
             "#0d0887"
            ],
            [
             0.1111111111111111,
             "#46039f"
            ],
            [
             0.2222222222222222,
             "#7201a8"
            ],
            [
             0.3333333333333333,
             "#9c179e"
            ],
            [
             0.4444444444444444,
             "#bd3786"
            ],
            [
             0.5555555555555556,
             "#d8576b"
            ],
            [
             0.6666666666666666,
             "#ed7953"
            ],
            [
             0.7777777777777778,
             "#fb9f3a"
            ],
            [
             0.8888888888888888,
             "#fdca26"
            ],
            [
             1,
             "#f0f921"
            ]
           ]
          },
          "colorway": [
           "#636efa",
           "#EF553B",
           "#00cc96",
           "#ab63fa",
           "#FFA15A",
           "#19d3f3",
           "#FF6692",
           "#B6E880",
           "#FF97FF",
           "#FECB52"
          ],
          "font": {
           "color": "#2a3f5f"
          },
          "geo": {
           "bgcolor": "white",
           "lakecolor": "white",
           "landcolor": "#E5ECF6",
           "showlakes": true,
           "showland": true,
           "subunitcolor": "white"
          },
          "hoverlabel": {
           "align": "left"
          },
          "hovermode": "closest",
          "mapbox": {
           "style": "light"
          },
          "paper_bgcolor": "white",
          "plot_bgcolor": "#E5ECF6",
          "polar": {
           "angularaxis": {
            "gridcolor": "white",
            "linecolor": "white",
            "ticks": ""
           },
           "bgcolor": "#E5ECF6",
           "radialaxis": {
            "gridcolor": "white",
            "linecolor": "white",
            "ticks": ""
           }
          },
          "scene": {
           "xaxis": {
            "backgroundcolor": "#E5ECF6",
            "gridcolor": "white",
            "gridwidth": 2,
            "linecolor": "white",
            "showbackground": true,
            "ticks": "",
            "zerolinecolor": "white"
           },
           "yaxis": {
            "backgroundcolor": "#E5ECF6",
            "gridcolor": "white",
            "gridwidth": 2,
            "linecolor": "white",
            "showbackground": true,
            "ticks": "",
            "zerolinecolor": "white"
           },
           "zaxis": {
            "backgroundcolor": "#E5ECF6",
            "gridcolor": "white",
            "gridwidth": 2,
            "linecolor": "white",
            "showbackground": true,
            "ticks": "",
            "zerolinecolor": "white"
           }
          },
          "shapedefaults": {
           "line": {
            "color": "#2a3f5f"
           }
          },
          "ternary": {
           "aaxis": {
            "gridcolor": "white",
            "linecolor": "white",
            "ticks": ""
           },
           "baxis": {
            "gridcolor": "white",
            "linecolor": "white",
            "ticks": ""
           },
           "bgcolor": "#E5ECF6",
           "caxis": {
            "gridcolor": "white",
            "linecolor": "white",
            "ticks": ""
           }
          },
          "title": {
           "x": 0.05
          },
          "xaxis": {
           "automargin": true,
           "gridcolor": "white",
           "linecolor": "white",
           "ticks": "",
           "title": {
            "standoff": 15
           },
           "zerolinecolor": "white",
           "zerolinewidth": 2
          },
          "yaxis": {
           "automargin": true,
           "gridcolor": "white",
           "linecolor": "white",
           "ticks": "",
           "title": {
            "standoff": 15
           },
           "zerolinecolor": "white",
           "zerolinewidth": 2
          }
         }
        },
        "title": {
         "text": "Proportion of Customers by Lifestage and Premium Customer"
        },
        "width": 600
       }
      },
      "text/html": [
       "<div>                            <div id=\"67f573bb-a71f-4669-8dd1-f77cdded7ec7\" class=\"plotly-graph-div\" style=\"height:600px; width:600px;\"></div>            <script type=\"text/javascript\">                require([\"plotly\"], function(Plotly) {                    window.PLOTLYENV=window.PLOTLYENV || {};                                    if (document.getElementById(\"67f573bb-a71f-4669-8dd1-f77cdded7ec7\")) {                    Plotly.newPlot(                        \"67f573bb-a71f-4669-8dd1-f77cdded7ec7\",                        [{\"branchvalues\":\"total\",\"customdata\":[[0.01922300995256132],[0.04485678561105983],[0.03119590653407734],[0.011281015361627825],[0.008541402983553548],[0.005999138535320926],[0.08669304411599413],[0.05337256026389293],[0.04201789519422193],[0.06959931907891652],[0.06815888874633598],[0.06661830319347296],[0.057466260055196706],[0.08237960482465471],[0.049544347012625764],[0.07243775721339742],[0.04949029303104898],[0.04368544990965454],[0.03481112953257331],[0.07845098321872605],[0.024176905631087285],[0.3515115353102672],[0.38525051867927207],[0.26323794601046074]],\"domain\":{\"x\":[0.0,1.0],\"y\":[0.0,1.0]},\"hovertemplate\":\"labels=%{label}<br>PROPORTION=%{value}<br>parent=%{parent}<br>id=%{id}<extra></extra>\",\"ids\":[\"Budget/MIDAGE SINGLES/COUPLES\",\"Mainstream/MIDAGE SINGLES/COUPLES\",\"Premium/MIDAGE SINGLES/COUPLES\",\"Budget/NEW FAMILIES\",\"Mainstream/NEW FAMILIES\",\"Premium/NEW FAMILIES\",\"Budget/OLDER FAMILIES\",\"Mainstream/OLDER FAMILIES\",\"Premium/OLDER FAMILIES\",\"Budget/OLDER SINGLES/COUPLES\",\"Mainstream/OLDER SINGLES/COUPLES\",\"Premium/OLDER SINGLES/COUPLES\",\"Budget/RETIREES\",\"Mainstream/RETIREES\",\"Premium/RETIREES\",\"Budget/YOUNG FAMILIES\",\"Mainstream/YOUNG FAMILIES\",\"Premium/YOUNG FAMILIES\",\"Budget/YOUNG SINGLES/COUPLES\",\"Mainstream/YOUNG SINGLES/COUPLES\",\"Premium/YOUNG SINGLES/COUPLES\",\"Budget\",\"Mainstream\",\"Premium\"],\"labels\":[\"MIDAGE SINGLES/COUPLES\",\"MIDAGE SINGLES/COUPLES\",\"MIDAGE SINGLES/COUPLES\",\"NEW FAMILIES\",\"NEW FAMILIES\",\"NEW FAMILIES\",\"OLDER FAMILIES\",\"OLDER FAMILIES\",\"OLDER FAMILIES\",\"OLDER SINGLES/COUPLES\",\"OLDER SINGLES/COUPLES\",\"OLDER SINGLES/COUPLES\",\"RETIREES\",\"RETIREES\",\"RETIREES\",\"YOUNG FAMILIES\",\"YOUNG FAMILIES\",\"YOUNG FAMILIES\",\"YOUNG SINGLES/COUPLES\",\"YOUNG SINGLES/COUPLES\",\"YOUNG SINGLES/COUPLES\",\"Budget\",\"Mainstream\",\"Premium\"],\"name\":\"\",\"parents\":[\"Budget\",\"Mainstream\",\"Premium\",\"Budget\",\"Mainstream\",\"Premium\",\"Budget\",\"Mainstream\",\"Premium\",\"Budget\",\"Mainstream\",\"Premium\",\"Budget\",\"Mainstream\",\"Premium\",\"Budget\",\"Mainstream\",\"Premium\",\"Budget\",\"Mainstream\",\"Premium\",\"\",\"\",\"\"],\"values\":[0.01922300995256132,0.04485678561105983,0.03119590653407734,0.011281015361627825,0.008541402983553548,0.005999138535320926,0.08669304411599413,0.05337256026389293,0.04201789519422193,0.06959931907891652,0.06815888874633598,0.06661830319347296,0.057466260055196706,0.08237960482465471,0.049544347012625764,0.07243775721339742,0.04949029303104898,0.04368544990965454,0.03481112953257331,0.07845098321872605,0.024176905631087285,0.3515115353102672,0.38525051867927207,0.26323794601046074],\"type\":\"sunburst\",\"textinfo\":\"label+text\",\"texttemplate\":\"%{label}: %{customdata[0]:.2%}\"}],                        {\"template\":{\"data\":{\"bar\":[{\"error_x\":{\"color\":\"#2a3f5f\"},\"error_y\":{\"color\":\"#2a3f5f\"},\"marker\":{\"line\":{\"color\":\"#E5ECF6\",\"width\":0.5},\"pattern\":{\"fillmode\":\"overlay\",\"size\":10,\"solidity\":0.2}},\"type\":\"bar\"}],\"barpolar\":[{\"marker\":{\"line\":{\"color\":\"#E5ECF6\",\"width\":0.5},\"pattern\":{\"fillmode\":\"overlay\",\"size\":10,\"solidity\":0.2}},\"type\":\"barpolar\"}],\"carpet\":[{\"aaxis\":{\"endlinecolor\":\"#2a3f5f\",\"gridcolor\":\"white\",\"linecolor\":\"white\",\"minorgridcolor\":\"white\",\"startlinecolor\":\"#2a3f5f\"},\"baxis\":{\"endlinecolor\":\"#2a3f5f\",\"gridcolor\":\"white\",\"linecolor\":\"white\",\"minorgridcolor\":\"white\",\"startlinecolor\":\"#2a3f5f\"},\"type\":\"carpet\"}],\"choropleth\":[{\"colorbar\":{\"outlinewidth\":0,\"ticks\":\"\"},\"type\":\"choropleth\"}],\"contour\":[{\"colorbar\":{\"outlinewidth\":0,\"ticks\":\"\"},\"colorscale\":[[0.0,\"#0d0887\"],[0.1111111111111111,\"#46039f\"],[0.2222222222222222,\"#7201a8\"],[0.3333333333333333,\"#9c179e\"],[0.4444444444444444,\"#bd3786\"],[0.5555555555555556,\"#d8576b\"],[0.6666666666666666,\"#ed7953\"],[0.7777777777777778,\"#fb9f3a\"],[0.8888888888888888,\"#fdca26\"],[1.0,\"#f0f921\"]],\"type\":\"contour\"}],\"contourcarpet\":[{\"colorbar\":{\"outlinewidth\":0,\"ticks\":\"\"},\"type\":\"contourcarpet\"}],\"heatmap\":[{\"colorbar\":{\"outlinewidth\":0,\"ticks\":\"\"},\"colorscale\":[[0.0,\"#0d0887\"],[0.1111111111111111,\"#46039f\"],[0.2222222222222222,\"#7201a8\"],[0.3333333333333333,\"#9c179e\"],[0.4444444444444444,\"#bd3786\"],[0.5555555555555556,\"#d8576b\"],[0.6666666666666666,\"#ed7953\"],[0.7777777777777778,\"#fb9f3a\"],[0.8888888888888888,\"#fdca26\"],[1.0,\"#f0f921\"]],\"type\":\"heatmap\"}],\"heatmapgl\":[{\"colorbar\":{\"outlinewidth\":0,\"ticks\":\"\"},\"colorscale\":[[0.0,\"#0d0887\"],[0.1111111111111111,\"#46039f\"],[0.2222222222222222,\"#7201a8\"],[0.3333333333333333,\"#9c179e\"],[0.4444444444444444,\"#bd3786\"],[0.5555555555555556,\"#d8576b\"],[0.6666666666666666,\"#ed7953\"],[0.7777777777777778,\"#fb9f3a\"],[0.8888888888888888,\"#fdca26\"],[1.0,\"#f0f921\"]],\"type\":\"heatmapgl\"}],\"histogram\":[{\"marker\":{\"pattern\":{\"fillmode\":\"overlay\",\"size\":10,\"solidity\":0.2}},\"type\":\"histogram\"}],\"histogram2d\":[{\"colorbar\":{\"outlinewidth\":0,\"ticks\":\"\"},\"colorscale\":[[0.0,\"#0d0887\"],[0.1111111111111111,\"#46039f\"],[0.2222222222222222,\"#7201a8\"],[0.3333333333333333,\"#9c179e\"],[0.4444444444444444,\"#bd3786\"],[0.5555555555555556,\"#d8576b\"],[0.6666666666666666,\"#ed7953\"],[0.7777777777777778,\"#fb9f3a\"],[0.8888888888888888,\"#fdca26\"],[1.0,\"#f0f921\"]],\"type\":\"histogram2d\"}],\"histogram2dcontour\":[{\"colorbar\":{\"outlinewidth\":0,\"ticks\":\"\"},\"colorscale\":[[0.0,\"#0d0887\"],[0.1111111111111111,\"#46039f\"],[0.2222222222222222,\"#7201a8\"],[0.3333333333333333,\"#9c179e\"],[0.4444444444444444,\"#bd3786\"],[0.5555555555555556,\"#d8576b\"],[0.6666666666666666,\"#ed7953\"],[0.7777777777777778,\"#fb9f3a\"],[0.8888888888888888,\"#fdca26\"],[1.0,\"#f0f921\"]],\"type\":\"histogram2dcontour\"}],\"mesh3d\":[{\"colorbar\":{\"outlinewidth\":0,\"ticks\":\"\"},\"type\":\"mesh3d\"}],\"parcoords\":[{\"line\":{\"colorbar\":{\"outlinewidth\":0,\"ticks\":\"\"}},\"type\":\"parcoords\"}],\"pie\":[{\"automargin\":true,\"type\":\"pie\"}],\"scatter\":[{\"marker\":{\"colorbar\":{\"outlinewidth\":0,\"ticks\":\"\"}},\"type\":\"scatter\"}],\"scatter3d\":[{\"line\":{\"colorbar\":{\"outlinewidth\":0,\"ticks\":\"\"}},\"marker\":{\"colorbar\":{\"outlinewidth\":0,\"ticks\":\"\"}},\"type\":\"scatter3d\"}],\"scattercarpet\":[{\"marker\":{\"colorbar\":{\"outlinewidth\":0,\"ticks\":\"\"}},\"type\":\"scattercarpet\"}],\"scattergeo\":[{\"marker\":{\"colorbar\":{\"outlinewidth\":0,\"ticks\":\"\"}},\"type\":\"scattergeo\"}],\"scattergl\":[{\"marker\":{\"colorbar\":{\"outlinewidth\":0,\"ticks\":\"\"}},\"type\":\"scattergl\"}],\"scattermapbox\":[{\"marker\":{\"colorbar\":{\"outlinewidth\":0,\"ticks\":\"\"}},\"type\":\"scattermapbox\"}],\"scatterpolar\":[{\"marker\":{\"colorbar\":{\"outlinewidth\":0,\"ticks\":\"\"}},\"type\":\"scatterpolar\"}],\"scatterpolargl\":[{\"marker\":{\"colorbar\":{\"outlinewidth\":0,\"ticks\":\"\"}},\"type\":\"scatterpolargl\"}],\"scatterternary\":[{\"marker\":{\"colorbar\":{\"outlinewidth\":0,\"ticks\":\"\"}},\"type\":\"scatterternary\"}],\"surface\":[{\"colorbar\":{\"outlinewidth\":0,\"ticks\":\"\"},\"colorscale\":[[0.0,\"#0d0887\"],[0.1111111111111111,\"#46039f\"],[0.2222222222222222,\"#7201a8\"],[0.3333333333333333,\"#9c179e\"],[0.4444444444444444,\"#bd3786\"],[0.5555555555555556,\"#d8576b\"],[0.6666666666666666,\"#ed7953\"],[0.7777777777777778,\"#fb9f3a\"],[0.8888888888888888,\"#fdca26\"],[1.0,\"#f0f921\"]],\"type\":\"surface\"}],\"table\":[{\"cells\":{\"fill\":{\"color\":\"#EBF0F8\"},\"line\":{\"color\":\"white\"}},\"header\":{\"fill\":{\"color\":\"#C8D4E3\"},\"line\":{\"color\":\"white\"}},\"type\":\"table\"}]},\"layout\":{\"annotationdefaults\":{\"arrowcolor\":\"#2a3f5f\",\"arrowhead\":0,\"arrowwidth\":1},\"autotypenumbers\":\"strict\",\"coloraxis\":{\"colorbar\":{\"outlinewidth\":0,\"ticks\":\"\"}},\"colorscale\":{\"diverging\":[[0,\"#8e0152\"],[0.1,\"#c51b7d\"],[0.2,\"#de77ae\"],[0.3,\"#f1b6da\"],[0.4,\"#fde0ef\"],[0.5,\"#f7f7f7\"],[0.6,\"#e6f5d0\"],[0.7,\"#b8e186\"],[0.8,\"#7fbc41\"],[0.9,\"#4d9221\"],[1,\"#276419\"]],\"sequential\":[[0.0,\"#0d0887\"],[0.1111111111111111,\"#46039f\"],[0.2222222222222222,\"#7201a8\"],[0.3333333333333333,\"#9c179e\"],[0.4444444444444444,\"#bd3786\"],[0.5555555555555556,\"#d8576b\"],[0.6666666666666666,\"#ed7953\"],[0.7777777777777778,\"#fb9f3a\"],[0.8888888888888888,\"#fdca26\"],[1.0,\"#f0f921\"]],\"sequentialminus\":[[0.0,\"#0d0887\"],[0.1111111111111111,\"#46039f\"],[0.2222222222222222,\"#7201a8\"],[0.3333333333333333,\"#9c179e\"],[0.4444444444444444,\"#bd3786\"],[0.5555555555555556,\"#d8576b\"],[0.6666666666666666,\"#ed7953\"],[0.7777777777777778,\"#fb9f3a\"],[0.8888888888888888,\"#fdca26\"],[1.0,\"#f0f921\"]]},\"colorway\":[\"#636efa\",\"#EF553B\",\"#00cc96\",\"#ab63fa\",\"#FFA15A\",\"#19d3f3\",\"#FF6692\",\"#B6E880\",\"#FF97FF\",\"#FECB52\"],\"font\":{\"color\":\"#2a3f5f\"},\"geo\":{\"bgcolor\":\"white\",\"lakecolor\":\"white\",\"landcolor\":\"#E5ECF6\",\"showlakes\":true,\"showland\":true,\"subunitcolor\":\"white\"},\"hoverlabel\":{\"align\":\"left\"},\"hovermode\":\"closest\",\"mapbox\":{\"style\":\"light\"},\"paper_bgcolor\":\"white\",\"plot_bgcolor\":\"#E5ECF6\",\"polar\":{\"angularaxis\":{\"gridcolor\":\"white\",\"linecolor\":\"white\",\"ticks\":\"\"},\"bgcolor\":\"#E5ECF6\",\"radialaxis\":{\"gridcolor\":\"white\",\"linecolor\":\"white\",\"ticks\":\"\"}},\"scene\":{\"xaxis\":{\"backgroundcolor\":\"#E5ECF6\",\"gridcolor\":\"white\",\"gridwidth\":2,\"linecolor\":\"white\",\"showbackground\":true,\"ticks\":\"\",\"zerolinecolor\":\"white\"},\"yaxis\":{\"backgroundcolor\":\"#E5ECF6\",\"gridcolor\":\"white\",\"gridwidth\":2,\"linecolor\":\"white\",\"showbackground\":true,\"ticks\":\"\",\"zerolinecolor\":\"white\"},\"zaxis\":{\"backgroundcolor\":\"#E5ECF6\",\"gridcolor\":\"white\",\"gridwidth\":2,\"linecolor\":\"white\",\"showbackground\":true,\"ticks\":\"\",\"zerolinecolor\":\"white\"}},\"shapedefaults\":{\"line\":{\"color\":\"#2a3f5f\"}},\"ternary\":{\"aaxis\":{\"gridcolor\":\"white\",\"linecolor\":\"white\",\"ticks\":\"\"},\"baxis\":{\"gridcolor\":\"white\",\"linecolor\":\"white\",\"ticks\":\"\"},\"bgcolor\":\"#E5ECF6\",\"caxis\":{\"gridcolor\":\"white\",\"linecolor\":\"white\",\"ticks\":\"\"}},\"title\":{\"x\":0.05},\"xaxis\":{\"automargin\":true,\"gridcolor\":\"white\",\"linecolor\":\"white\",\"ticks\":\"\",\"title\":{\"standoff\":15},\"zerolinecolor\":\"white\",\"zerolinewidth\":2},\"yaxis\":{\"automargin\":true,\"gridcolor\":\"white\",\"linecolor\":\"white\",\"ticks\":\"\",\"title\":{\"standoff\":15},\"zerolinecolor\":\"white\",\"zerolinewidth\":2}}},\"legend\":{\"tracegroupgap\":0},\"title\":{\"text\":\"Proportion of Customers by Lifestage and Premium Customer\"},\"margin\":{\"l\":0,\"r\":0,\"b\":0,\"t\":40},\"width\":600,\"height\":600},                        {\"responsive\": true}                    ).then(function(){\n",
       "                            \n",
       "var gd = document.getElementById('67f573bb-a71f-4669-8dd1-f77cdded7ec7');\n",
       "var x = new MutationObserver(function (mutations, observer) {{\n",
       "        var display = window.getComputedStyle(gd).display;\n",
       "        if (!display || display === 'none') {{\n",
       "            console.log([gd, 'removed!']);\n",
       "            Plotly.purge(gd);\n",
       "            observer.disconnect();\n",
       "        }}\n",
       "}});\n",
       "\n",
       "// Listen for the removal of the full notebook cells\n",
       "var notebookContainer = gd.closest('#notebook-container');\n",
       "if (notebookContainer) {{\n",
       "    x.observe(notebookContainer, {childList: true});\n",
       "}}\n",
       "\n",
       "// Listen for the clearing of the current output cell\n",
       "var outputEl = gd.closest('.output');\n",
       "if (outputEl) {{\n",
       "    x.observe(outputEl, {childList: true});\n",
       "}}\n",
       "\n",
       "                        })                };                });            </script>        </div>"
      ]
     },
     "metadata": {},
     "output_type": "display_data"
    }
   ],
   "source": [
    "import plotly.express as px\n",
    "\n",
    "# Create a weighted DataFrame for customers\n",
    "customers = data.groupby(['LIFESTAGE_x', 'PREMIUM_CUSTOMER_y']).agg(CUSTOMERS=('LYLTY_CARD_NBR', 'sum')).reset_index()\n",
    "\n",
    "# Calculate the proportion of customers\n",
    "customers['PROPORTION'] = customers['CUSTOMERS'] / customers['CUSTOMERS'].sum()\n",
    "\n",
    "# Create a sunburst chart\n",
    "fig = px.sunburst(customers, path=['PREMIUM_CUSTOMER_y', 'LIFESTAGE_x'], values='PROPORTION',\n",
    "                  title='Proportion of Customers by Lifestage and Premium Customer',\n",
    "                  custom_data=['PROPORTION'])\n",
    "\n",
    "# Add text labels with proportion figures\n",
    "fig.update_traces(textinfo='label+text', texttemplate='%{label}: %{customdata[0]:.2%}')\n",
    "\n",
    "# Adjust size and layout\n",
    "fig.update_layout(width=600, height=600, margin=dict(l=0, r=0, b=0, t=40))\n",
    "\n",
    "# Show the figure\n",
    "fig.show()\n"
   ]
  },
  {
   "cell_type": "markdown",
   "id": "de330a82",
   "metadata": {},
   "source": [
    "There are more Mainstream - young singles/couples and Mainstream - retirees who buy chips. \n",
    "This contributes to there being more sales to these customer segments but this is not a major driver for the Budget\n",
    "- Older families segment."
   ]
  },
  {
   "cell_type": "code",
   "execution_count": 69,
   "id": "d9b849f2",
   "metadata": {},
   "outputs": [
    {
     "data": {
      "application/vnd.plotly.v1+json": {
       "config": {
        "plotlyServerURL": "https://plot.ly"
       },
       "data": [
        {
         "alignmentgroup": "True",
         "hovertemplate": "PREMIUM_CUSTOMER_y=Mainstream<br>LIFESTAGE_x=%{x}<br>Avg units per transaction=%{y}<extra></extra>",
         "legendgroup": "Mainstream",
         "marker": {
          "color": "#636efa",
          "pattern": {
           "shape": ""
          }
         },
         "name": "Mainstream",
         "offsetgroup": "Mainstream",
         "orientation": "v",
         "showlegend": true,
         "textposition": "auto",
         "type": "bar",
         "x": [
          "OLDER FAMILIES",
          "YOUNG FAMILIES",
          "OLDER SINGLES/COUPLES",
          "MIDAGE SINGLES/COUPLES",
          "RETIREES",
          "NEW FAMILIES",
          "YOUNG SINGLES/COUPLES"
         ],
         "xaxis": "x",
         "y": [
          9.804309431296362,
          9.180351906158357,
          7.098782961460446,
          6.796107784431138,
          6.253742861552709,
          5.0871613663133095,
          4.776458951533136
         ],
         "yaxis": "y"
        },
        {
         "alignmentgroup": "True",
         "hovertemplate": "PREMIUM_CUSTOMER_y=Budget<br>LIFESTAGE_x=%{x}<br>Avg units per transaction=%{y}<extra></extra>",
         "legendgroup": "Budget",
         "marker": {
          "color": "#EF553B",
          "pattern": {
           "shape": ""
          }
         },
         "name": "Budget",
         "offsetgroup": "Budget",
         "orientation": "v",
         "showlegend": true,
         "textposition": "auto",
         "type": "bar",
         "x": [
          "OLDER FAMILIES",
          "YOUNG FAMILIES",
          "OLDER SINGLES/COUPLES",
          "RETIREES",
          "MIDAGE SINGLES/COUPLES",
          "NEW FAMILIES",
          "YOUNG SINGLES/COUPLES"
         ],
         "xaxis": "x",
         "y": [
          9.639572192513368,
          9.23848643266119,
          7.145465611685941,
          6.458015267175573,
          6.3138297872340425,
          5.009892086330935,
          4.41148451971421
         ],
         "yaxis": "y"
        },
        {
         "alignmentgroup": "True",
         "hovertemplate": "PREMIUM_CUSTOMER_y=Premium<br>LIFESTAGE_x=%{x}<br>Avg units per transaction=%{y}<extra></extra>",
         "legendgroup": "Premium",
         "marker": {
          "color": "#00cc96",
          "pattern": {
           "shape": ""
          }
         },
         "name": "Premium",
         "offsetgroup": "Premium",
         "orientation": "v",
         "showlegend": true,
         "textposition": "auto",
         "type": "bar",
         "x": [
          "OLDER FAMILIES",
          "YOUNG FAMILIES",
          "OLDER SINGLES/COUPLES",
          "RETIREES",
          "MIDAGE SINGLES/COUPLES",
          "NEW FAMILIES",
          "YOUNG SINGLES/COUPLES"
         ],
         "xaxis": "x",
         "y": [
          9.578090629124505,
          9.209206740649403,
          7.154947368421053,
          6.426652892561983,
          6.386672151378034,
          5.02891156462585,
          4.4020979020979025
         ],
         "yaxis": "y"
        }
       ],
       "layout": {
        "barmode": "relative",
        "height": 500,
        "legend": {
         "title": {
          "text": "PREMIUM_CUSTOMER_y"
         },
         "tracegroupgap": 0
        },
        "margin": {
         "b": 0,
         "l": 0,
         "r": 0,
         "t": 40
        },
        "template": {
         "data": {
          "bar": [
           {
            "error_x": {
             "color": "#2a3f5f"
            },
            "error_y": {
             "color": "#2a3f5f"
            },
            "marker": {
             "line": {
              "color": "#E5ECF6",
              "width": 0.5
             },
             "pattern": {
              "fillmode": "overlay",
              "size": 10,
              "solidity": 0.2
             }
            },
            "type": "bar"
           }
          ],
          "barpolar": [
           {
            "marker": {
             "line": {
              "color": "#E5ECF6",
              "width": 0.5
             },
             "pattern": {
              "fillmode": "overlay",
              "size": 10,
              "solidity": 0.2
             }
            },
            "type": "barpolar"
           }
          ],
          "carpet": [
           {
            "aaxis": {
             "endlinecolor": "#2a3f5f",
             "gridcolor": "white",
             "linecolor": "white",
             "minorgridcolor": "white",
             "startlinecolor": "#2a3f5f"
            },
            "baxis": {
             "endlinecolor": "#2a3f5f",
             "gridcolor": "white",
             "linecolor": "white",
             "minorgridcolor": "white",
             "startlinecolor": "#2a3f5f"
            },
            "type": "carpet"
           }
          ],
          "choropleth": [
           {
            "colorbar": {
             "outlinewidth": 0,
             "ticks": ""
            },
            "type": "choropleth"
           }
          ],
          "contour": [
           {
            "colorbar": {
             "outlinewidth": 0,
             "ticks": ""
            },
            "colorscale": [
             [
              0,
              "#0d0887"
             ],
             [
              0.1111111111111111,
              "#46039f"
             ],
             [
              0.2222222222222222,
              "#7201a8"
             ],
             [
              0.3333333333333333,
              "#9c179e"
             ],
             [
              0.4444444444444444,
              "#bd3786"
             ],
             [
              0.5555555555555556,
              "#d8576b"
             ],
             [
              0.6666666666666666,
              "#ed7953"
             ],
             [
              0.7777777777777778,
              "#fb9f3a"
             ],
             [
              0.8888888888888888,
              "#fdca26"
             ],
             [
              1,
              "#f0f921"
             ]
            ],
            "type": "contour"
           }
          ],
          "contourcarpet": [
           {
            "colorbar": {
             "outlinewidth": 0,
             "ticks": ""
            },
            "type": "contourcarpet"
           }
          ],
          "heatmap": [
           {
            "colorbar": {
             "outlinewidth": 0,
             "ticks": ""
            },
            "colorscale": [
             [
              0,
              "#0d0887"
             ],
             [
              0.1111111111111111,
              "#46039f"
             ],
             [
              0.2222222222222222,
              "#7201a8"
             ],
             [
              0.3333333333333333,
              "#9c179e"
             ],
             [
              0.4444444444444444,
              "#bd3786"
             ],
             [
              0.5555555555555556,
              "#d8576b"
             ],
             [
              0.6666666666666666,
              "#ed7953"
             ],
             [
              0.7777777777777778,
              "#fb9f3a"
             ],
             [
              0.8888888888888888,
              "#fdca26"
             ],
             [
              1,
              "#f0f921"
             ]
            ],
            "type": "heatmap"
           }
          ],
          "heatmapgl": [
           {
            "colorbar": {
             "outlinewidth": 0,
             "ticks": ""
            },
            "colorscale": [
             [
              0,
              "#0d0887"
             ],
             [
              0.1111111111111111,
              "#46039f"
             ],
             [
              0.2222222222222222,
              "#7201a8"
             ],
             [
              0.3333333333333333,
              "#9c179e"
             ],
             [
              0.4444444444444444,
              "#bd3786"
             ],
             [
              0.5555555555555556,
              "#d8576b"
             ],
             [
              0.6666666666666666,
              "#ed7953"
             ],
             [
              0.7777777777777778,
              "#fb9f3a"
             ],
             [
              0.8888888888888888,
              "#fdca26"
             ],
             [
              1,
              "#f0f921"
             ]
            ],
            "type": "heatmapgl"
           }
          ],
          "histogram": [
           {
            "marker": {
             "pattern": {
              "fillmode": "overlay",
              "size": 10,
              "solidity": 0.2
             }
            },
            "type": "histogram"
           }
          ],
          "histogram2d": [
           {
            "colorbar": {
             "outlinewidth": 0,
             "ticks": ""
            },
            "colorscale": [
             [
              0,
              "#0d0887"
             ],
             [
              0.1111111111111111,
              "#46039f"
             ],
             [
              0.2222222222222222,
              "#7201a8"
             ],
             [
              0.3333333333333333,
              "#9c179e"
             ],
             [
              0.4444444444444444,
              "#bd3786"
             ],
             [
              0.5555555555555556,
              "#d8576b"
             ],
             [
              0.6666666666666666,
              "#ed7953"
             ],
             [
              0.7777777777777778,
              "#fb9f3a"
             ],
             [
              0.8888888888888888,
              "#fdca26"
             ],
             [
              1,
              "#f0f921"
             ]
            ],
            "type": "histogram2d"
           }
          ],
          "histogram2dcontour": [
           {
            "colorbar": {
             "outlinewidth": 0,
             "ticks": ""
            },
            "colorscale": [
             [
              0,
              "#0d0887"
             ],
             [
              0.1111111111111111,
              "#46039f"
             ],
             [
              0.2222222222222222,
              "#7201a8"
             ],
             [
              0.3333333333333333,
              "#9c179e"
             ],
             [
              0.4444444444444444,
              "#bd3786"
             ],
             [
              0.5555555555555556,
              "#d8576b"
             ],
             [
              0.6666666666666666,
              "#ed7953"
             ],
             [
              0.7777777777777778,
              "#fb9f3a"
             ],
             [
              0.8888888888888888,
              "#fdca26"
             ],
             [
              1,
              "#f0f921"
             ]
            ],
            "type": "histogram2dcontour"
           }
          ],
          "mesh3d": [
           {
            "colorbar": {
             "outlinewidth": 0,
             "ticks": ""
            },
            "type": "mesh3d"
           }
          ],
          "parcoords": [
           {
            "line": {
             "colorbar": {
              "outlinewidth": 0,
              "ticks": ""
             }
            },
            "type": "parcoords"
           }
          ],
          "pie": [
           {
            "automargin": true,
            "type": "pie"
           }
          ],
          "scatter": [
           {
            "marker": {
             "colorbar": {
              "outlinewidth": 0,
              "ticks": ""
             }
            },
            "type": "scatter"
           }
          ],
          "scatter3d": [
           {
            "line": {
             "colorbar": {
              "outlinewidth": 0,
              "ticks": ""
             }
            },
            "marker": {
             "colorbar": {
              "outlinewidth": 0,
              "ticks": ""
             }
            },
            "type": "scatter3d"
           }
          ],
          "scattercarpet": [
           {
            "marker": {
             "colorbar": {
              "outlinewidth": 0,
              "ticks": ""
             }
            },
            "type": "scattercarpet"
           }
          ],
          "scattergeo": [
           {
            "marker": {
             "colorbar": {
              "outlinewidth": 0,
              "ticks": ""
             }
            },
            "type": "scattergeo"
           }
          ],
          "scattergl": [
           {
            "marker": {
             "colorbar": {
              "outlinewidth": 0,
              "ticks": ""
             }
            },
            "type": "scattergl"
           }
          ],
          "scattermapbox": [
           {
            "marker": {
             "colorbar": {
              "outlinewidth": 0,
              "ticks": ""
             }
            },
            "type": "scattermapbox"
           }
          ],
          "scatterpolar": [
           {
            "marker": {
             "colorbar": {
              "outlinewidth": 0,
              "ticks": ""
             }
            },
            "type": "scatterpolar"
           }
          ],
          "scatterpolargl": [
           {
            "marker": {
             "colorbar": {
              "outlinewidth": 0,
              "ticks": ""
             }
            },
            "type": "scatterpolargl"
           }
          ],
          "scatterternary": [
           {
            "marker": {
             "colorbar": {
              "outlinewidth": 0,
              "ticks": ""
             }
            },
            "type": "scatterternary"
           }
          ],
          "surface": [
           {
            "colorbar": {
             "outlinewidth": 0,
             "ticks": ""
            },
            "colorscale": [
             [
              0,
              "#0d0887"
             ],
             [
              0.1111111111111111,
              "#46039f"
             ],
             [
              0.2222222222222222,
              "#7201a8"
             ],
             [
              0.3333333333333333,
              "#9c179e"
             ],
             [
              0.4444444444444444,
              "#bd3786"
             ],
             [
              0.5555555555555556,
              "#d8576b"
             ],
             [
              0.6666666666666666,
              "#ed7953"
             ],
             [
              0.7777777777777778,
              "#fb9f3a"
             ],
             [
              0.8888888888888888,
              "#fdca26"
             ],
             [
              1,
              "#f0f921"
             ]
            ],
            "type": "surface"
           }
          ],
          "table": [
           {
            "cells": {
             "fill": {
              "color": "#EBF0F8"
             },
             "line": {
              "color": "white"
             }
            },
            "header": {
             "fill": {
              "color": "#C8D4E3"
             },
             "line": {
              "color": "white"
             }
            },
            "type": "table"
           }
          ]
         },
         "layout": {
          "annotationdefaults": {
           "arrowcolor": "#2a3f5f",
           "arrowhead": 0,
           "arrowwidth": 1
          },
          "autotypenumbers": "strict",
          "coloraxis": {
           "colorbar": {
            "outlinewidth": 0,
            "ticks": ""
           }
          },
          "colorscale": {
           "diverging": [
            [
             0,
             "#8e0152"
            ],
            [
             0.1,
             "#c51b7d"
            ],
            [
             0.2,
             "#de77ae"
            ],
            [
             0.3,
             "#f1b6da"
            ],
            [
             0.4,
             "#fde0ef"
            ],
            [
             0.5,
             "#f7f7f7"
            ],
            [
             0.6,
             "#e6f5d0"
            ],
            [
             0.7,
             "#b8e186"
            ],
            [
             0.8,
             "#7fbc41"
            ],
            [
             0.9,
             "#4d9221"
            ],
            [
             1,
             "#276419"
            ]
           ],
           "sequential": [
            [
             0,
             "#0d0887"
            ],
            [
             0.1111111111111111,
             "#46039f"
            ],
            [
             0.2222222222222222,
             "#7201a8"
            ],
            [
             0.3333333333333333,
             "#9c179e"
            ],
            [
             0.4444444444444444,
             "#bd3786"
            ],
            [
             0.5555555555555556,
             "#d8576b"
            ],
            [
             0.6666666666666666,
             "#ed7953"
            ],
            [
             0.7777777777777778,
             "#fb9f3a"
            ],
            [
             0.8888888888888888,
             "#fdca26"
            ],
            [
             1,
             "#f0f921"
            ]
           ],
           "sequentialminus": [
            [
             0,
             "#0d0887"
            ],
            [
             0.1111111111111111,
             "#46039f"
            ],
            [
             0.2222222222222222,
             "#7201a8"
            ],
            [
             0.3333333333333333,
             "#9c179e"
            ],
            [
             0.4444444444444444,
             "#bd3786"
            ],
            [
             0.5555555555555556,
             "#d8576b"
            ],
            [
             0.6666666666666666,
             "#ed7953"
            ],
            [
             0.7777777777777778,
             "#fb9f3a"
            ],
            [
             0.8888888888888888,
             "#fdca26"
            ],
            [
             1,
             "#f0f921"
            ]
           ]
          },
          "colorway": [
           "#636efa",
           "#EF553B",
           "#00cc96",
           "#ab63fa",
           "#FFA15A",
           "#19d3f3",
           "#FF6692",
           "#B6E880",
           "#FF97FF",
           "#FECB52"
          ],
          "font": {
           "color": "#2a3f5f"
          },
          "geo": {
           "bgcolor": "white",
           "lakecolor": "white",
           "landcolor": "#E5ECF6",
           "showlakes": true,
           "showland": true,
           "subunitcolor": "white"
          },
          "hoverlabel": {
           "align": "left"
          },
          "hovermode": "closest",
          "mapbox": {
           "style": "light"
          },
          "paper_bgcolor": "white",
          "plot_bgcolor": "#E5ECF6",
          "polar": {
           "angularaxis": {
            "gridcolor": "white",
            "linecolor": "white",
            "ticks": ""
           },
           "bgcolor": "#E5ECF6",
           "radialaxis": {
            "gridcolor": "white",
            "linecolor": "white",
            "ticks": ""
           }
          },
          "scene": {
           "xaxis": {
            "backgroundcolor": "#E5ECF6",
            "gridcolor": "white",
            "gridwidth": 2,
            "linecolor": "white",
            "showbackground": true,
            "ticks": "",
            "zerolinecolor": "white"
           },
           "yaxis": {
            "backgroundcolor": "#E5ECF6",
            "gridcolor": "white",
            "gridwidth": 2,
            "linecolor": "white",
            "showbackground": true,
            "ticks": "",
            "zerolinecolor": "white"
           },
           "zaxis": {
            "backgroundcolor": "#E5ECF6",
            "gridcolor": "white",
            "gridwidth": 2,
            "linecolor": "white",
            "showbackground": true,
            "ticks": "",
            "zerolinecolor": "white"
           }
          },
          "shapedefaults": {
           "line": {
            "color": "#2a3f5f"
           }
          },
          "ternary": {
           "aaxis": {
            "gridcolor": "white",
            "linecolor": "white",
            "ticks": ""
           },
           "baxis": {
            "gridcolor": "white",
            "linecolor": "white",
            "ticks": ""
           },
           "bgcolor": "#E5ECF6",
           "caxis": {
            "gridcolor": "white",
            "linecolor": "white",
            "ticks": ""
           }
          },
          "title": {
           "x": 0.05
          },
          "xaxis": {
           "automargin": true,
           "gridcolor": "white",
           "linecolor": "white",
           "ticks": "",
           "title": {
            "standoff": 15
           },
           "zerolinecolor": "white",
           "zerolinewidth": 2
          },
          "yaxis": {
           "automargin": true,
           "gridcolor": "white",
           "linecolor": "white",
           "ticks": "",
           "title": {
            "standoff": 15
           },
           "zerolinecolor": "white",
           "zerolinewidth": 2
          }
         }
        },
        "title": {
         "text": "Average Units per Customer by Lifestage and Premium Customer"
        },
        "width": 800,
        "xaxis": {
         "anchor": "y",
         "categoryarray": [
          "OLDER FAMILIES",
          "OLDER FAMILIES",
          "OLDER FAMILIES",
          "YOUNG FAMILIES",
          "YOUNG FAMILIES",
          "YOUNG FAMILIES",
          "OLDER SINGLES/COUPLES",
          "OLDER SINGLES/COUPLES",
          "OLDER SINGLES/COUPLES",
          "MIDAGE SINGLES/COUPLES",
          "RETIREES",
          "RETIREES",
          "MIDAGE SINGLES/COUPLES",
          "MIDAGE SINGLES/COUPLES",
          "RETIREES",
          "NEW FAMILIES",
          "NEW FAMILIES",
          "NEW FAMILIES",
          "YOUNG SINGLES/COUPLES",
          "YOUNG SINGLES/COUPLES",
          "YOUNG SINGLES/COUPLES"
         ],
         "categoryorder": "array",
         "domain": [
          0,
          1
         ],
         "title": {
          "text": "LIFESTAGE_x"
         }
        },
        "yaxis": {
         "anchor": "x",
         "domain": [
          0,
          1
         ],
         "title": {
          "text": "Avg units per transaction"
         }
        }
       }
      },
      "text/html": [
       "<div>                            <div id=\"a1b26e88-e023-4d00-8f44-8b8bdb22a9e8\" class=\"plotly-graph-div\" style=\"height:500px; width:800px;\"></div>            <script type=\"text/javascript\">                require([\"plotly\"], function(Plotly) {                    window.PLOTLYENV=window.PLOTLYENV || {};                                    if (document.getElementById(\"a1b26e88-e023-4d00-8f44-8b8bdb22a9e8\")) {                    Plotly.newPlot(                        \"a1b26e88-e023-4d00-8f44-8b8bdb22a9e8\",                        [{\"alignmentgroup\":\"True\",\"hovertemplate\":\"PREMIUM_CUSTOMER_y=Mainstream<br>LIFESTAGE_x=%{x}<br>Avg units per transaction=%{y}<extra></extra>\",\"legendgroup\":\"Mainstream\",\"marker\":{\"color\":\"#636efa\",\"pattern\":{\"shape\":\"\"}},\"name\":\"Mainstream\",\"offsetgroup\":\"Mainstream\",\"orientation\":\"v\",\"showlegend\":true,\"textposition\":\"auto\",\"x\":[\"OLDER FAMILIES\",\"YOUNG FAMILIES\",\"OLDER SINGLES/COUPLES\",\"MIDAGE SINGLES/COUPLES\",\"RETIREES\",\"NEW FAMILIES\",\"YOUNG SINGLES/COUPLES\"],\"xaxis\":\"x\",\"y\":[9.804309431296362,9.180351906158357,7.098782961460446,6.796107784431138,6.253742861552709,5.0871613663133095,4.776458951533136],\"yaxis\":\"y\",\"type\":\"bar\"},{\"alignmentgroup\":\"True\",\"hovertemplate\":\"PREMIUM_CUSTOMER_y=Budget<br>LIFESTAGE_x=%{x}<br>Avg units per transaction=%{y}<extra></extra>\",\"legendgroup\":\"Budget\",\"marker\":{\"color\":\"#EF553B\",\"pattern\":{\"shape\":\"\"}},\"name\":\"Budget\",\"offsetgroup\":\"Budget\",\"orientation\":\"v\",\"showlegend\":true,\"textposition\":\"auto\",\"x\":[\"OLDER FAMILIES\",\"YOUNG FAMILIES\",\"OLDER SINGLES/COUPLES\",\"RETIREES\",\"MIDAGE SINGLES/COUPLES\",\"NEW FAMILIES\",\"YOUNG SINGLES/COUPLES\"],\"xaxis\":\"x\",\"y\":[9.639572192513368,9.23848643266119,7.145465611685941,6.458015267175573,6.3138297872340425,5.009892086330935,4.41148451971421],\"yaxis\":\"y\",\"type\":\"bar\"},{\"alignmentgroup\":\"True\",\"hovertemplate\":\"PREMIUM_CUSTOMER_y=Premium<br>LIFESTAGE_x=%{x}<br>Avg units per transaction=%{y}<extra></extra>\",\"legendgroup\":\"Premium\",\"marker\":{\"color\":\"#00cc96\",\"pattern\":{\"shape\":\"\"}},\"name\":\"Premium\",\"offsetgroup\":\"Premium\",\"orientation\":\"v\",\"showlegend\":true,\"textposition\":\"auto\",\"x\":[\"OLDER FAMILIES\",\"YOUNG FAMILIES\",\"OLDER SINGLES/COUPLES\",\"RETIREES\",\"MIDAGE SINGLES/COUPLES\",\"NEW FAMILIES\",\"YOUNG SINGLES/COUPLES\"],\"xaxis\":\"x\",\"y\":[9.578090629124505,9.209206740649403,7.154947368421053,6.426652892561983,6.386672151378034,5.02891156462585,4.4020979020979025],\"yaxis\":\"y\",\"type\":\"bar\"}],                        {\"template\":{\"data\":{\"bar\":[{\"error_x\":{\"color\":\"#2a3f5f\"},\"error_y\":{\"color\":\"#2a3f5f\"},\"marker\":{\"line\":{\"color\":\"#E5ECF6\",\"width\":0.5},\"pattern\":{\"fillmode\":\"overlay\",\"size\":10,\"solidity\":0.2}},\"type\":\"bar\"}],\"barpolar\":[{\"marker\":{\"line\":{\"color\":\"#E5ECF6\",\"width\":0.5},\"pattern\":{\"fillmode\":\"overlay\",\"size\":10,\"solidity\":0.2}},\"type\":\"barpolar\"}],\"carpet\":[{\"aaxis\":{\"endlinecolor\":\"#2a3f5f\",\"gridcolor\":\"white\",\"linecolor\":\"white\",\"minorgridcolor\":\"white\",\"startlinecolor\":\"#2a3f5f\"},\"baxis\":{\"endlinecolor\":\"#2a3f5f\",\"gridcolor\":\"white\",\"linecolor\":\"white\",\"minorgridcolor\":\"white\",\"startlinecolor\":\"#2a3f5f\"},\"type\":\"carpet\"}],\"choropleth\":[{\"colorbar\":{\"outlinewidth\":0,\"ticks\":\"\"},\"type\":\"choropleth\"}],\"contour\":[{\"colorbar\":{\"outlinewidth\":0,\"ticks\":\"\"},\"colorscale\":[[0.0,\"#0d0887\"],[0.1111111111111111,\"#46039f\"],[0.2222222222222222,\"#7201a8\"],[0.3333333333333333,\"#9c179e\"],[0.4444444444444444,\"#bd3786\"],[0.5555555555555556,\"#d8576b\"],[0.6666666666666666,\"#ed7953\"],[0.7777777777777778,\"#fb9f3a\"],[0.8888888888888888,\"#fdca26\"],[1.0,\"#f0f921\"]],\"type\":\"contour\"}],\"contourcarpet\":[{\"colorbar\":{\"outlinewidth\":0,\"ticks\":\"\"},\"type\":\"contourcarpet\"}],\"heatmap\":[{\"colorbar\":{\"outlinewidth\":0,\"ticks\":\"\"},\"colorscale\":[[0.0,\"#0d0887\"],[0.1111111111111111,\"#46039f\"],[0.2222222222222222,\"#7201a8\"],[0.3333333333333333,\"#9c179e\"],[0.4444444444444444,\"#bd3786\"],[0.5555555555555556,\"#d8576b\"],[0.6666666666666666,\"#ed7953\"],[0.7777777777777778,\"#fb9f3a\"],[0.8888888888888888,\"#fdca26\"],[1.0,\"#f0f921\"]],\"type\":\"heatmap\"}],\"heatmapgl\":[{\"colorbar\":{\"outlinewidth\":0,\"ticks\":\"\"},\"colorscale\":[[0.0,\"#0d0887\"],[0.1111111111111111,\"#46039f\"],[0.2222222222222222,\"#7201a8\"],[0.3333333333333333,\"#9c179e\"],[0.4444444444444444,\"#bd3786\"],[0.5555555555555556,\"#d8576b\"],[0.6666666666666666,\"#ed7953\"],[0.7777777777777778,\"#fb9f3a\"],[0.8888888888888888,\"#fdca26\"],[1.0,\"#f0f921\"]],\"type\":\"heatmapgl\"}],\"histogram\":[{\"marker\":{\"pattern\":{\"fillmode\":\"overlay\",\"size\":10,\"solidity\":0.2}},\"type\":\"histogram\"}],\"histogram2d\":[{\"colorbar\":{\"outlinewidth\":0,\"ticks\":\"\"},\"colorscale\":[[0.0,\"#0d0887\"],[0.1111111111111111,\"#46039f\"],[0.2222222222222222,\"#7201a8\"],[0.3333333333333333,\"#9c179e\"],[0.4444444444444444,\"#bd3786\"],[0.5555555555555556,\"#d8576b\"],[0.6666666666666666,\"#ed7953\"],[0.7777777777777778,\"#fb9f3a\"],[0.8888888888888888,\"#fdca26\"],[1.0,\"#f0f921\"]],\"type\":\"histogram2d\"}],\"histogram2dcontour\":[{\"colorbar\":{\"outlinewidth\":0,\"ticks\":\"\"},\"colorscale\":[[0.0,\"#0d0887\"],[0.1111111111111111,\"#46039f\"],[0.2222222222222222,\"#7201a8\"],[0.3333333333333333,\"#9c179e\"],[0.4444444444444444,\"#bd3786\"],[0.5555555555555556,\"#d8576b\"],[0.6666666666666666,\"#ed7953\"],[0.7777777777777778,\"#fb9f3a\"],[0.8888888888888888,\"#fdca26\"],[1.0,\"#f0f921\"]],\"type\":\"histogram2dcontour\"}],\"mesh3d\":[{\"colorbar\":{\"outlinewidth\":0,\"ticks\":\"\"},\"type\":\"mesh3d\"}],\"parcoords\":[{\"line\":{\"colorbar\":{\"outlinewidth\":0,\"ticks\":\"\"}},\"type\":\"parcoords\"}],\"pie\":[{\"automargin\":true,\"type\":\"pie\"}],\"scatter\":[{\"marker\":{\"colorbar\":{\"outlinewidth\":0,\"ticks\":\"\"}},\"type\":\"scatter\"}],\"scatter3d\":[{\"line\":{\"colorbar\":{\"outlinewidth\":0,\"ticks\":\"\"}},\"marker\":{\"colorbar\":{\"outlinewidth\":0,\"ticks\":\"\"}},\"type\":\"scatter3d\"}],\"scattercarpet\":[{\"marker\":{\"colorbar\":{\"outlinewidth\":0,\"ticks\":\"\"}},\"type\":\"scattercarpet\"}],\"scattergeo\":[{\"marker\":{\"colorbar\":{\"outlinewidth\":0,\"ticks\":\"\"}},\"type\":\"scattergeo\"}],\"scattergl\":[{\"marker\":{\"colorbar\":{\"outlinewidth\":0,\"ticks\":\"\"}},\"type\":\"scattergl\"}],\"scattermapbox\":[{\"marker\":{\"colorbar\":{\"outlinewidth\":0,\"ticks\":\"\"}},\"type\":\"scattermapbox\"}],\"scatterpolar\":[{\"marker\":{\"colorbar\":{\"outlinewidth\":0,\"ticks\":\"\"}},\"type\":\"scatterpolar\"}],\"scatterpolargl\":[{\"marker\":{\"colorbar\":{\"outlinewidth\":0,\"ticks\":\"\"}},\"type\":\"scatterpolargl\"}],\"scatterternary\":[{\"marker\":{\"colorbar\":{\"outlinewidth\":0,\"ticks\":\"\"}},\"type\":\"scatterternary\"}],\"surface\":[{\"colorbar\":{\"outlinewidth\":0,\"ticks\":\"\"},\"colorscale\":[[0.0,\"#0d0887\"],[0.1111111111111111,\"#46039f\"],[0.2222222222222222,\"#7201a8\"],[0.3333333333333333,\"#9c179e\"],[0.4444444444444444,\"#bd3786\"],[0.5555555555555556,\"#d8576b\"],[0.6666666666666666,\"#ed7953\"],[0.7777777777777778,\"#fb9f3a\"],[0.8888888888888888,\"#fdca26\"],[1.0,\"#f0f921\"]],\"type\":\"surface\"}],\"table\":[{\"cells\":{\"fill\":{\"color\":\"#EBF0F8\"},\"line\":{\"color\":\"white\"}},\"header\":{\"fill\":{\"color\":\"#C8D4E3\"},\"line\":{\"color\":\"white\"}},\"type\":\"table\"}]},\"layout\":{\"annotationdefaults\":{\"arrowcolor\":\"#2a3f5f\",\"arrowhead\":0,\"arrowwidth\":1},\"autotypenumbers\":\"strict\",\"coloraxis\":{\"colorbar\":{\"outlinewidth\":0,\"ticks\":\"\"}},\"colorscale\":{\"diverging\":[[0,\"#8e0152\"],[0.1,\"#c51b7d\"],[0.2,\"#de77ae\"],[0.3,\"#f1b6da\"],[0.4,\"#fde0ef\"],[0.5,\"#f7f7f7\"],[0.6,\"#e6f5d0\"],[0.7,\"#b8e186\"],[0.8,\"#7fbc41\"],[0.9,\"#4d9221\"],[1,\"#276419\"]],\"sequential\":[[0.0,\"#0d0887\"],[0.1111111111111111,\"#46039f\"],[0.2222222222222222,\"#7201a8\"],[0.3333333333333333,\"#9c179e\"],[0.4444444444444444,\"#bd3786\"],[0.5555555555555556,\"#d8576b\"],[0.6666666666666666,\"#ed7953\"],[0.7777777777777778,\"#fb9f3a\"],[0.8888888888888888,\"#fdca26\"],[1.0,\"#f0f921\"]],\"sequentialminus\":[[0.0,\"#0d0887\"],[0.1111111111111111,\"#46039f\"],[0.2222222222222222,\"#7201a8\"],[0.3333333333333333,\"#9c179e\"],[0.4444444444444444,\"#bd3786\"],[0.5555555555555556,\"#d8576b\"],[0.6666666666666666,\"#ed7953\"],[0.7777777777777778,\"#fb9f3a\"],[0.8888888888888888,\"#fdca26\"],[1.0,\"#f0f921\"]]},\"colorway\":[\"#636efa\",\"#EF553B\",\"#00cc96\",\"#ab63fa\",\"#FFA15A\",\"#19d3f3\",\"#FF6692\",\"#B6E880\",\"#FF97FF\",\"#FECB52\"],\"font\":{\"color\":\"#2a3f5f\"},\"geo\":{\"bgcolor\":\"white\",\"lakecolor\":\"white\",\"landcolor\":\"#E5ECF6\",\"showlakes\":true,\"showland\":true,\"subunitcolor\":\"white\"},\"hoverlabel\":{\"align\":\"left\"},\"hovermode\":\"closest\",\"mapbox\":{\"style\":\"light\"},\"paper_bgcolor\":\"white\",\"plot_bgcolor\":\"#E5ECF6\",\"polar\":{\"angularaxis\":{\"gridcolor\":\"white\",\"linecolor\":\"white\",\"ticks\":\"\"},\"bgcolor\":\"#E5ECF6\",\"radialaxis\":{\"gridcolor\":\"white\",\"linecolor\":\"white\",\"ticks\":\"\"}},\"scene\":{\"xaxis\":{\"backgroundcolor\":\"#E5ECF6\",\"gridcolor\":\"white\",\"gridwidth\":2,\"linecolor\":\"white\",\"showbackground\":true,\"ticks\":\"\",\"zerolinecolor\":\"white\"},\"yaxis\":{\"backgroundcolor\":\"#E5ECF6\",\"gridcolor\":\"white\",\"gridwidth\":2,\"linecolor\":\"white\",\"showbackground\":true,\"ticks\":\"\",\"zerolinecolor\":\"white\"},\"zaxis\":{\"backgroundcolor\":\"#E5ECF6\",\"gridcolor\":\"white\",\"gridwidth\":2,\"linecolor\":\"white\",\"showbackground\":true,\"ticks\":\"\",\"zerolinecolor\":\"white\"}},\"shapedefaults\":{\"line\":{\"color\":\"#2a3f5f\"}},\"ternary\":{\"aaxis\":{\"gridcolor\":\"white\",\"linecolor\":\"white\",\"ticks\":\"\"},\"baxis\":{\"gridcolor\":\"white\",\"linecolor\":\"white\",\"ticks\":\"\"},\"bgcolor\":\"#E5ECF6\",\"caxis\":{\"gridcolor\":\"white\",\"linecolor\":\"white\",\"ticks\":\"\"}},\"title\":{\"x\":0.05},\"xaxis\":{\"automargin\":true,\"gridcolor\":\"white\",\"linecolor\":\"white\",\"ticks\":\"\",\"title\":{\"standoff\":15},\"zerolinecolor\":\"white\",\"zerolinewidth\":2},\"yaxis\":{\"automargin\":true,\"gridcolor\":\"white\",\"linecolor\":\"white\",\"ticks\":\"\",\"title\":{\"standoff\":15},\"zerolinecolor\":\"white\",\"zerolinewidth\":2}}},\"xaxis\":{\"anchor\":\"y\",\"domain\":[0.0,1.0],\"title\":{\"text\":\"LIFESTAGE_x\"},\"categoryorder\":\"array\",\"categoryarray\":[\"OLDER FAMILIES\",\"OLDER FAMILIES\",\"OLDER FAMILIES\",\"YOUNG FAMILIES\",\"YOUNG FAMILIES\",\"YOUNG FAMILIES\",\"OLDER SINGLES/COUPLES\",\"OLDER SINGLES/COUPLES\",\"OLDER SINGLES/COUPLES\",\"MIDAGE SINGLES/COUPLES\",\"RETIREES\",\"RETIREES\",\"MIDAGE SINGLES/COUPLES\",\"MIDAGE SINGLES/COUPLES\",\"RETIREES\",\"NEW FAMILIES\",\"NEW FAMILIES\",\"NEW FAMILIES\",\"YOUNG SINGLES/COUPLES\",\"YOUNG SINGLES/COUPLES\",\"YOUNG SINGLES/COUPLES\"]},\"yaxis\":{\"anchor\":\"x\",\"domain\":[0.0,1.0],\"title\":{\"text\":\"Avg units per transaction\"}},\"legend\":{\"title\":{\"text\":\"PREMIUM_CUSTOMER_y\"},\"tracegroupgap\":0},\"title\":{\"text\":\"Average Units per Customer by Lifestage and Premium Customer\"},\"barmode\":\"relative\",\"margin\":{\"l\":0,\"r\":0,\"b\":0,\"t\":40},\"width\":800,\"height\":500},                        {\"responsive\": true}                    ).then(function(){\n",
       "                            \n",
       "var gd = document.getElementById('a1b26e88-e023-4d00-8f44-8b8bdb22a9e8');\n",
       "var x = new MutationObserver(function (mutations, observer) {{\n",
       "        var display = window.getComputedStyle(gd).display;\n",
       "        if (!display || display === 'none') {{\n",
       "            console.log([gd, 'removed!']);\n",
       "            Plotly.purge(gd);\n",
       "            observer.disconnect();\n",
       "        }}\n",
       "}});\n",
       "\n",
       "// Listen for the removal of the full notebook cells\n",
       "var notebookContainer = gd.closest('#notebook-container');\n",
       "if (notebookContainer) {{\n",
       "    x.observe(notebookContainer, {childList: true});\n",
       "}}\n",
       "\n",
       "// Listen for the clearing of the current output cell\n",
       "var outputEl = gd.closest('.output');\n",
       "if (outputEl) {{\n",
       "    x.observe(outputEl, {childList: true});\n",
       "}}\n",
       "\n",
       "                        })                };                });            </script>        </div>"
      ]
     },
     "metadata": {},
     "output_type": "display_data"
    }
   ],
   "source": [
    "# Calculate the average number of units per customer by LIFESTAGE and PREMIUM_CUSTOMER\n",
    "avg_units = data.groupby(['LIFESTAGE_x', 'PREMIUM_CUSTOMER_y']).agg(AVG=('PROD_QTY', 'sum')).reset_index()\n",
    "avg_units['AVG'] /= data.groupby(['LIFESTAGE_x', 'PREMIUM_CUSTOMER_y'])['LYLTY_CARD_NBR'].nunique().values\n",
    "\n",
    "# Order the DataFrame by AVG in descending order\n",
    "avg_units = avg_units.sort_values(by='AVG', ascending=False)\n",
    "\n",
    "# Create a bar plot\n",
    "fig = px.bar(avg_units, x='LIFESTAGE_x', y='AVG', color='PREMIUM_CUSTOMER_y',\n",
    "             title='Average Units per Customer by Lifestage and Premium Customer',\n",
    "             labels={'AVG': 'Avg units per transaction'},\n",
    "             category_orders={\"LIFESTAGE_x\": avg_units['LIFESTAGE_x'].tolist()})\n",
    "\n",
    "# Adjust size and layout\n",
    "fig.update_layout(width=800, height=500, margin=dict(l=0, r=0, b=0, t=40))\n",
    "\n",
    "# Show the figure\n",
    "fig.show()\n"
   ]
  },
  {
   "cell_type": "markdown",
   "id": "d6bb9fb3",
   "metadata": {},
   "source": [
    "Older families and young families in general buy more chips per customer\n",
    "Let’s also investigate the average price per unit chips bought for each customer segment as this is also a\n",
    "driver of total sales"
   ]
  },
  {
   "cell_type": "code",
   "execution_count": 70,
   "id": "91163529",
   "metadata": {},
   "outputs": [
    {
     "data": {
      "application/vnd.plotly.v1+json": {
       "config": {
        "plotlyServerURL": "https://plot.ly"
       },
       "data": [
        {
         "alignmentgroup": "True",
         "hovertemplate": "PREMIUM_CUSTOMER_y=Mainstream<br>LIFESTAGE_x=%{x}<br>Avg price per unit=%{y}<extra></extra>",
         "legendgroup": "Mainstream",
         "marker": {
          "color": "#636efa",
          "pattern": {
           "shape": ""
          }
         },
         "name": "Mainstream",
         "offsetgroup": "Mainstream",
         "orientation": "v",
         "showlegend": true,
         "textposition": "auto",
         "type": "bar",
         "x": [
          "YOUNG SINGLES/COUPLES",
          "MIDAGE SINGLES/COUPLES",
          "NEW FAMILIES",
          "RETIREES",
          "OLDER SINGLES/COUPLES",
          "OLDER FAMILIES",
          "YOUNG FAMILIES"
         ],
         "xaxis": "x",
         "y": [
          4.0800786912404226,
          4.000345830212785,
          3.93931465617041,
          3.8421701466015103,
          3.811578135268737,
          3.7269617380025943,
          3.705029148698291
         ],
         "yaxis": "y"
        },
        {
         "alignmentgroup": "True",
         "hovertemplate": "PREMIUM_CUSTOMER_y=Budget<br>LIFESTAGE_x=%{x}<br>Avg price per unit=%{y}<extra></extra>",
         "legendgroup": "Budget",
         "marker": {
          "color": "#EF553B",
          "pattern": {
           "shape": ""
          }
         },
         "name": "Budget",
         "offsetgroup": "Budget",
         "orientation": "v",
         "showlegend": true,
         "textposition": "auto",
         "type": "bar",
         "x": [
          "NEW FAMILIES",
          "RETIREES",
          "OLDER SINGLES/COUPLES",
          "YOUNG FAMILIES",
          "MIDAGE SINGLES/COUPLES",
          "OLDER FAMILIES",
          "YOUNG SINGLES/COUPLES"
         ],
         "xaxis": "x",
         "y": [
          3.936178423981332,
          3.9336601307189545,
          3.8832992617830775,
          3.754839535447711,
          3.7399747262005056,
          3.7360090979695997,
          3.6675424389658686
         ],
         "yaxis": "y"
        },
        {
         "alignmentgroup": "True",
         "hovertemplate": "PREMIUM_CUSTOMER_y=Premium<br>LIFESTAGE_x=%{x}<br>Avg price per unit=%{y}<extra></extra>",
         "legendgroup": "Premium",
         "marker": {
          "color": "#00cc96",
          "pattern": {
           "shape": ""
          }
         },
         "name": "Premium",
         "offsetgroup": "Premium",
         "orientation": "v",
         "showlegend": true,
         "textposition": "auto",
         "type": "bar",
         "x": [
          "RETIREES",
          "OLDER SINGLES/COUPLES",
          "NEW FAMILIES",
          "MIDAGE SINGLES/COUPLES",
          "YOUNG FAMILIES",
          "OLDER FAMILIES",
          "YOUNG SINGLES/COUPLES"
         ],
         "xaxis": "x",
         "y": [
          3.924049590098055,
          3.891695109751074,
          3.8860669597565103,
          3.7635353600412214,
          3.7501338927073107,
          3.704855082449129,
          3.6750595710881653
         ],
         "yaxis": "y"
        }
       ],
       "layout": {
        "barmode": "relative",
        "height": 500,
        "legend": {
         "title": {
          "text": "PREMIUM_CUSTOMER_y"
         },
         "tracegroupgap": 0
        },
        "margin": {
         "b": 0,
         "l": 0,
         "r": 0,
         "t": 40
        },
        "template": {
         "data": {
          "bar": [
           {
            "error_x": {
             "color": "#2a3f5f"
            },
            "error_y": {
             "color": "#2a3f5f"
            },
            "marker": {
             "line": {
              "color": "#E5ECF6",
              "width": 0.5
             },
             "pattern": {
              "fillmode": "overlay",
              "size": 10,
              "solidity": 0.2
             }
            },
            "type": "bar"
           }
          ],
          "barpolar": [
           {
            "marker": {
             "line": {
              "color": "#E5ECF6",
              "width": 0.5
             },
             "pattern": {
              "fillmode": "overlay",
              "size": 10,
              "solidity": 0.2
             }
            },
            "type": "barpolar"
           }
          ],
          "carpet": [
           {
            "aaxis": {
             "endlinecolor": "#2a3f5f",
             "gridcolor": "white",
             "linecolor": "white",
             "minorgridcolor": "white",
             "startlinecolor": "#2a3f5f"
            },
            "baxis": {
             "endlinecolor": "#2a3f5f",
             "gridcolor": "white",
             "linecolor": "white",
             "minorgridcolor": "white",
             "startlinecolor": "#2a3f5f"
            },
            "type": "carpet"
           }
          ],
          "choropleth": [
           {
            "colorbar": {
             "outlinewidth": 0,
             "ticks": ""
            },
            "type": "choropleth"
           }
          ],
          "contour": [
           {
            "colorbar": {
             "outlinewidth": 0,
             "ticks": ""
            },
            "colorscale": [
             [
              0,
              "#0d0887"
             ],
             [
              0.1111111111111111,
              "#46039f"
             ],
             [
              0.2222222222222222,
              "#7201a8"
             ],
             [
              0.3333333333333333,
              "#9c179e"
             ],
             [
              0.4444444444444444,
              "#bd3786"
             ],
             [
              0.5555555555555556,
              "#d8576b"
             ],
             [
              0.6666666666666666,
              "#ed7953"
             ],
             [
              0.7777777777777778,
              "#fb9f3a"
             ],
             [
              0.8888888888888888,
              "#fdca26"
             ],
             [
              1,
              "#f0f921"
             ]
            ],
            "type": "contour"
           }
          ],
          "contourcarpet": [
           {
            "colorbar": {
             "outlinewidth": 0,
             "ticks": ""
            },
            "type": "contourcarpet"
           }
          ],
          "heatmap": [
           {
            "colorbar": {
             "outlinewidth": 0,
             "ticks": ""
            },
            "colorscale": [
             [
              0,
              "#0d0887"
             ],
             [
              0.1111111111111111,
              "#46039f"
             ],
             [
              0.2222222222222222,
              "#7201a8"
             ],
             [
              0.3333333333333333,
              "#9c179e"
             ],
             [
              0.4444444444444444,
              "#bd3786"
             ],
             [
              0.5555555555555556,
              "#d8576b"
             ],
             [
              0.6666666666666666,
              "#ed7953"
             ],
             [
              0.7777777777777778,
              "#fb9f3a"
             ],
             [
              0.8888888888888888,
              "#fdca26"
             ],
             [
              1,
              "#f0f921"
             ]
            ],
            "type": "heatmap"
           }
          ],
          "heatmapgl": [
           {
            "colorbar": {
             "outlinewidth": 0,
             "ticks": ""
            },
            "colorscale": [
             [
              0,
              "#0d0887"
             ],
             [
              0.1111111111111111,
              "#46039f"
             ],
             [
              0.2222222222222222,
              "#7201a8"
             ],
             [
              0.3333333333333333,
              "#9c179e"
             ],
             [
              0.4444444444444444,
              "#bd3786"
             ],
             [
              0.5555555555555556,
              "#d8576b"
             ],
             [
              0.6666666666666666,
              "#ed7953"
             ],
             [
              0.7777777777777778,
              "#fb9f3a"
             ],
             [
              0.8888888888888888,
              "#fdca26"
             ],
             [
              1,
              "#f0f921"
             ]
            ],
            "type": "heatmapgl"
           }
          ],
          "histogram": [
           {
            "marker": {
             "pattern": {
              "fillmode": "overlay",
              "size": 10,
              "solidity": 0.2
             }
            },
            "type": "histogram"
           }
          ],
          "histogram2d": [
           {
            "colorbar": {
             "outlinewidth": 0,
             "ticks": ""
            },
            "colorscale": [
             [
              0,
              "#0d0887"
             ],
             [
              0.1111111111111111,
              "#46039f"
             ],
             [
              0.2222222222222222,
              "#7201a8"
             ],
             [
              0.3333333333333333,
              "#9c179e"
             ],
             [
              0.4444444444444444,
              "#bd3786"
             ],
             [
              0.5555555555555556,
              "#d8576b"
             ],
             [
              0.6666666666666666,
              "#ed7953"
             ],
             [
              0.7777777777777778,
              "#fb9f3a"
             ],
             [
              0.8888888888888888,
              "#fdca26"
             ],
             [
              1,
              "#f0f921"
             ]
            ],
            "type": "histogram2d"
           }
          ],
          "histogram2dcontour": [
           {
            "colorbar": {
             "outlinewidth": 0,
             "ticks": ""
            },
            "colorscale": [
             [
              0,
              "#0d0887"
             ],
             [
              0.1111111111111111,
              "#46039f"
             ],
             [
              0.2222222222222222,
              "#7201a8"
             ],
             [
              0.3333333333333333,
              "#9c179e"
             ],
             [
              0.4444444444444444,
              "#bd3786"
             ],
             [
              0.5555555555555556,
              "#d8576b"
             ],
             [
              0.6666666666666666,
              "#ed7953"
             ],
             [
              0.7777777777777778,
              "#fb9f3a"
             ],
             [
              0.8888888888888888,
              "#fdca26"
             ],
             [
              1,
              "#f0f921"
             ]
            ],
            "type": "histogram2dcontour"
           }
          ],
          "mesh3d": [
           {
            "colorbar": {
             "outlinewidth": 0,
             "ticks": ""
            },
            "type": "mesh3d"
           }
          ],
          "parcoords": [
           {
            "line": {
             "colorbar": {
              "outlinewidth": 0,
              "ticks": ""
             }
            },
            "type": "parcoords"
           }
          ],
          "pie": [
           {
            "automargin": true,
            "type": "pie"
           }
          ],
          "scatter": [
           {
            "marker": {
             "colorbar": {
              "outlinewidth": 0,
              "ticks": ""
             }
            },
            "type": "scatter"
           }
          ],
          "scatter3d": [
           {
            "line": {
             "colorbar": {
              "outlinewidth": 0,
              "ticks": ""
             }
            },
            "marker": {
             "colorbar": {
              "outlinewidth": 0,
              "ticks": ""
             }
            },
            "type": "scatter3d"
           }
          ],
          "scattercarpet": [
           {
            "marker": {
             "colorbar": {
              "outlinewidth": 0,
              "ticks": ""
             }
            },
            "type": "scattercarpet"
           }
          ],
          "scattergeo": [
           {
            "marker": {
             "colorbar": {
              "outlinewidth": 0,
              "ticks": ""
             }
            },
            "type": "scattergeo"
           }
          ],
          "scattergl": [
           {
            "marker": {
             "colorbar": {
              "outlinewidth": 0,
              "ticks": ""
             }
            },
            "type": "scattergl"
           }
          ],
          "scattermapbox": [
           {
            "marker": {
             "colorbar": {
              "outlinewidth": 0,
              "ticks": ""
             }
            },
            "type": "scattermapbox"
           }
          ],
          "scatterpolar": [
           {
            "marker": {
             "colorbar": {
              "outlinewidth": 0,
              "ticks": ""
             }
            },
            "type": "scatterpolar"
           }
          ],
          "scatterpolargl": [
           {
            "marker": {
             "colorbar": {
              "outlinewidth": 0,
              "ticks": ""
             }
            },
            "type": "scatterpolargl"
           }
          ],
          "scatterternary": [
           {
            "marker": {
             "colorbar": {
              "outlinewidth": 0,
              "ticks": ""
             }
            },
            "type": "scatterternary"
           }
          ],
          "surface": [
           {
            "colorbar": {
             "outlinewidth": 0,
             "ticks": ""
            },
            "colorscale": [
             [
              0,
              "#0d0887"
             ],
             [
              0.1111111111111111,
              "#46039f"
             ],
             [
              0.2222222222222222,
              "#7201a8"
             ],
             [
              0.3333333333333333,
              "#9c179e"
             ],
             [
              0.4444444444444444,
              "#bd3786"
             ],
             [
              0.5555555555555556,
              "#d8576b"
             ],
             [
              0.6666666666666666,
              "#ed7953"
             ],
             [
              0.7777777777777778,
              "#fb9f3a"
             ],
             [
              0.8888888888888888,
              "#fdca26"
             ],
             [
              1,
              "#f0f921"
             ]
            ],
            "type": "surface"
           }
          ],
          "table": [
           {
            "cells": {
             "fill": {
              "color": "#EBF0F8"
             },
             "line": {
              "color": "white"
             }
            },
            "header": {
             "fill": {
              "color": "#C8D4E3"
             },
             "line": {
              "color": "white"
             }
            },
            "type": "table"
           }
          ]
         },
         "layout": {
          "annotationdefaults": {
           "arrowcolor": "#2a3f5f",
           "arrowhead": 0,
           "arrowwidth": 1
          },
          "autotypenumbers": "strict",
          "coloraxis": {
           "colorbar": {
            "outlinewidth": 0,
            "ticks": ""
           }
          },
          "colorscale": {
           "diverging": [
            [
             0,
             "#8e0152"
            ],
            [
             0.1,
             "#c51b7d"
            ],
            [
             0.2,
             "#de77ae"
            ],
            [
             0.3,
             "#f1b6da"
            ],
            [
             0.4,
             "#fde0ef"
            ],
            [
             0.5,
             "#f7f7f7"
            ],
            [
             0.6,
             "#e6f5d0"
            ],
            [
             0.7,
             "#b8e186"
            ],
            [
             0.8,
             "#7fbc41"
            ],
            [
             0.9,
             "#4d9221"
            ],
            [
             1,
             "#276419"
            ]
           ],
           "sequential": [
            [
             0,
             "#0d0887"
            ],
            [
             0.1111111111111111,
             "#46039f"
            ],
            [
             0.2222222222222222,
             "#7201a8"
            ],
            [
             0.3333333333333333,
             "#9c179e"
            ],
            [
             0.4444444444444444,
             "#bd3786"
            ],
            [
             0.5555555555555556,
             "#d8576b"
            ],
            [
             0.6666666666666666,
             "#ed7953"
            ],
            [
             0.7777777777777778,
             "#fb9f3a"
            ],
            [
             0.8888888888888888,
             "#fdca26"
            ],
            [
             1,
             "#f0f921"
            ]
           ],
           "sequentialminus": [
            [
             0,
             "#0d0887"
            ],
            [
             0.1111111111111111,
             "#46039f"
            ],
            [
             0.2222222222222222,
             "#7201a8"
            ],
            [
             0.3333333333333333,
             "#9c179e"
            ],
            [
             0.4444444444444444,
             "#bd3786"
            ],
            [
             0.5555555555555556,
             "#d8576b"
            ],
            [
             0.6666666666666666,
             "#ed7953"
            ],
            [
             0.7777777777777778,
             "#fb9f3a"
            ],
            [
             0.8888888888888888,
             "#fdca26"
            ],
            [
             1,
             "#f0f921"
            ]
           ]
          },
          "colorway": [
           "#636efa",
           "#EF553B",
           "#00cc96",
           "#ab63fa",
           "#FFA15A",
           "#19d3f3",
           "#FF6692",
           "#B6E880",
           "#FF97FF",
           "#FECB52"
          ],
          "font": {
           "color": "#2a3f5f"
          },
          "geo": {
           "bgcolor": "white",
           "lakecolor": "white",
           "landcolor": "#E5ECF6",
           "showlakes": true,
           "showland": true,
           "subunitcolor": "white"
          },
          "hoverlabel": {
           "align": "left"
          },
          "hovermode": "closest",
          "mapbox": {
           "style": "light"
          },
          "paper_bgcolor": "white",
          "plot_bgcolor": "#E5ECF6",
          "polar": {
           "angularaxis": {
            "gridcolor": "white",
            "linecolor": "white",
            "ticks": ""
           },
           "bgcolor": "#E5ECF6",
           "radialaxis": {
            "gridcolor": "white",
            "linecolor": "white",
            "ticks": ""
           }
          },
          "scene": {
           "xaxis": {
            "backgroundcolor": "#E5ECF6",
            "gridcolor": "white",
            "gridwidth": 2,
            "linecolor": "white",
            "showbackground": true,
            "ticks": "",
            "zerolinecolor": "white"
           },
           "yaxis": {
            "backgroundcolor": "#E5ECF6",
            "gridcolor": "white",
            "gridwidth": 2,
            "linecolor": "white",
            "showbackground": true,
            "ticks": "",
            "zerolinecolor": "white"
           },
           "zaxis": {
            "backgroundcolor": "#E5ECF6",
            "gridcolor": "white",
            "gridwidth": 2,
            "linecolor": "white",
            "showbackground": true,
            "ticks": "",
            "zerolinecolor": "white"
           }
          },
          "shapedefaults": {
           "line": {
            "color": "#2a3f5f"
           }
          },
          "ternary": {
           "aaxis": {
            "gridcolor": "white",
            "linecolor": "white",
            "ticks": ""
           },
           "baxis": {
            "gridcolor": "white",
            "linecolor": "white",
            "ticks": ""
           },
           "bgcolor": "#E5ECF6",
           "caxis": {
            "gridcolor": "white",
            "linecolor": "white",
            "ticks": ""
           }
          },
          "title": {
           "x": 0.05
          },
          "xaxis": {
           "automargin": true,
           "gridcolor": "white",
           "linecolor": "white",
           "ticks": "",
           "title": {
            "standoff": 15
           },
           "zerolinecolor": "white",
           "zerolinewidth": 2
          },
          "yaxis": {
           "automargin": true,
           "gridcolor": "white",
           "linecolor": "white",
           "ticks": "",
           "title": {
            "standoff": 15
           },
           "zerolinecolor": "white",
           "zerolinewidth": 2
          }
         }
        },
        "title": {
         "text": "Average Price per Unit by Lifestage and Premium Customer"
        },
        "width": 800,
        "xaxis": {
         "anchor": "y",
         "categoryarray": [
          "YOUNG SINGLES/COUPLES",
          "MIDAGE SINGLES/COUPLES",
          "NEW FAMILIES",
          "NEW FAMILIES",
          "RETIREES",
          "RETIREES",
          "OLDER SINGLES/COUPLES",
          "NEW FAMILIES",
          "OLDER SINGLES/COUPLES",
          "RETIREES",
          "OLDER SINGLES/COUPLES",
          "MIDAGE SINGLES/COUPLES",
          "YOUNG FAMILIES",
          "YOUNG FAMILIES",
          "MIDAGE SINGLES/COUPLES",
          "OLDER FAMILIES",
          "OLDER FAMILIES",
          "YOUNG FAMILIES",
          "OLDER FAMILIES",
          "YOUNG SINGLES/COUPLES",
          "YOUNG SINGLES/COUPLES"
         ],
         "categoryorder": "array",
         "domain": [
          0,
          1
         ],
         "title": {
          "text": "LIFESTAGE_x"
         }
        },
        "yaxis": {
         "anchor": "x",
         "domain": [
          0,
          1
         ],
         "title": {
          "text": "Avg price per unit"
         }
        }
       }
      },
      "text/html": [
       "<div>                            <div id=\"e3250458-48e7-4d3a-b572-62470ea8cdcf\" class=\"plotly-graph-div\" style=\"height:500px; width:800px;\"></div>            <script type=\"text/javascript\">                require([\"plotly\"], function(Plotly) {                    window.PLOTLYENV=window.PLOTLYENV || {};                                    if (document.getElementById(\"e3250458-48e7-4d3a-b572-62470ea8cdcf\")) {                    Plotly.newPlot(                        \"e3250458-48e7-4d3a-b572-62470ea8cdcf\",                        [{\"alignmentgroup\":\"True\",\"hovertemplate\":\"PREMIUM_CUSTOMER_y=Mainstream<br>LIFESTAGE_x=%{x}<br>Avg price per unit=%{y}<extra></extra>\",\"legendgroup\":\"Mainstream\",\"marker\":{\"color\":\"#636efa\",\"pattern\":{\"shape\":\"\"}},\"name\":\"Mainstream\",\"offsetgroup\":\"Mainstream\",\"orientation\":\"v\",\"showlegend\":true,\"textposition\":\"auto\",\"x\":[\"YOUNG SINGLES/COUPLES\",\"MIDAGE SINGLES/COUPLES\",\"NEW FAMILIES\",\"RETIREES\",\"OLDER SINGLES/COUPLES\",\"OLDER FAMILIES\",\"YOUNG FAMILIES\"],\"xaxis\":\"x\",\"y\":[4.0800786912404226,4.000345830212785,3.93931465617041,3.8421701466015103,3.811578135268737,3.7269617380025943,3.705029148698291],\"yaxis\":\"y\",\"type\":\"bar\"},{\"alignmentgroup\":\"True\",\"hovertemplate\":\"PREMIUM_CUSTOMER_y=Budget<br>LIFESTAGE_x=%{x}<br>Avg price per unit=%{y}<extra></extra>\",\"legendgroup\":\"Budget\",\"marker\":{\"color\":\"#EF553B\",\"pattern\":{\"shape\":\"\"}},\"name\":\"Budget\",\"offsetgroup\":\"Budget\",\"orientation\":\"v\",\"showlegend\":true,\"textposition\":\"auto\",\"x\":[\"NEW FAMILIES\",\"RETIREES\",\"OLDER SINGLES/COUPLES\",\"YOUNG FAMILIES\",\"MIDAGE SINGLES/COUPLES\",\"OLDER FAMILIES\",\"YOUNG SINGLES/COUPLES\"],\"xaxis\":\"x\",\"y\":[3.936178423981332,3.9336601307189545,3.8832992617830775,3.754839535447711,3.7399747262005056,3.7360090979695997,3.6675424389658686],\"yaxis\":\"y\",\"type\":\"bar\"},{\"alignmentgroup\":\"True\",\"hovertemplate\":\"PREMIUM_CUSTOMER_y=Premium<br>LIFESTAGE_x=%{x}<br>Avg price per unit=%{y}<extra></extra>\",\"legendgroup\":\"Premium\",\"marker\":{\"color\":\"#00cc96\",\"pattern\":{\"shape\":\"\"}},\"name\":\"Premium\",\"offsetgroup\":\"Premium\",\"orientation\":\"v\",\"showlegend\":true,\"textposition\":\"auto\",\"x\":[\"RETIREES\",\"OLDER SINGLES/COUPLES\",\"NEW FAMILIES\",\"MIDAGE SINGLES/COUPLES\",\"YOUNG FAMILIES\",\"OLDER FAMILIES\",\"YOUNG SINGLES/COUPLES\"],\"xaxis\":\"x\",\"y\":[3.924049590098055,3.891695109751074,3.8860669597565103,3.7635353600412214,3.7501338927073107,3.704855082449129,3.6750595710881653],\"yaxis\":\"y\",\"type\":\"bar\"}],                        {\"template\":{\"data\":{\"bar\":[{\"error_x\":{\"color\":\"#2a3f5f\"},\"error_y\":{\"color\":\"#2a3f5f\"},\"marker\":{\"line\":{\"color\":\"#E5ECF6\",\"width\":0.5},\"pattern\":{\"fillmode\":\"overlay\",\"size\":10,\"solidity\":0.2}},\"type\":\"bar\"}],\"barpolar\":[{\"marker\":{\"line\":{\"color\":\"#E5ECF6\",\"width\":0.5},\"pattern\":{\"fillmode\":\"overlay\",\"size\":10,\"solidity\":0.2}},\"type\":\"barpolar\"}],\"carpet\":[{\"aaxis\":{\"endlinecolor\":\"#2a3f5f\",\"gridcolor\":\"white\",\"linecolor\":\"white\",\"minorgridcolor\":\"white\",\"startlinecolor\":\"#2a3f5f\"},\"baxis\":{\"endlinecolor\":\"#2a3f5f\",\"gridcolor\":\"white\",\"linecolor\":\"white\",\"minorgridcolor\":\"white\",\"startlinecolor\":\"#2a3f5f\"},\"type\":\"carpet\"}],\"choropleth\":[{\"colorbar\":{\"outlinewidth\":0,\"ticks\":\"\"},\"type\":\"choropleth\"}],\"contour\":[{\"colorbar\":{\"outlinewidth\":0,\"ticks\":\"\"},\"colorscale\":[[0.0,\"#0d0887\"],[0.1111111111111111,\"#46039f\"],[0.2222222222222222,\"#7201a8\"],[0.3333333333333333,\"#9c179e\"],[0.4444444444444444,\"#bd3786\"],[0.5555555555555556,\"#d8576b\"],[0.6666666666666666,\"#ed7953\"],[0.7777777777777778,\"#fb9f3a\"],[0.8888888888888888,\"#fdca26\"],[1.0,\"#f0f921\"]],\"type\":\"contour\"}],\"contourcarpet\":[{\"colorbar\":{\"outlinewidth\":0,\"ticks\":\"\"},\"type\":\"contourcarpet\"}],\"heatmap\":[{\"colorbar\":{\"outlinewidth\":0,\"ticks\":\"\"},\"colorscale\":[[0.0,\"#0d0887\"],[0.1111111111111111,\"#46039f\"],[0.2222222222222222,\"#7201a8\"],[0.3333333333333333,\"#9c179e\"],[0.4444444444444444,\"#bd3786\"],[0.5555555555555556,\"#d8576b\"],[0.6666666666666666,\"#ed7953\"],[0.7777777777777778,\"#fb9f3a\"],[0.8888888888888888,\"#fdca26\"],[1.0,\"#f0f921\"]],\"type\":\"heatmap\"}],\"heatmapgl\":[{\"colorbar\":{\"outlinewidth\":0,\"ticks\":\"\"},\"colorscale\":[[0.0,\"#0d0887\"],[0.1111111111111111,\"#46039f\"],[0.2222222222222222,\"#7201a8\"],[0.3333333333333333,\"#9c179e\"],[0.4444444444444444,\"#bd3786\"],[0.5555555555555556,\"#d8576b\"],[0.6666666666666666,\"#ed7953\"],[0.7777777777777778,\"#fb9f3a\"],[0.8888888888888888,\"#fdca26\"],[1.0,\"#f0f921\"]],\"type\":\"heatmapgl\"}],\"histogram\":[{\"marker\":{\"pattern\":{\"fillmode\":\"overlay\",\"size\":10,\"solidity\":0.2}},\"type\":\"histogram\"}],\"histogram2d\":[{\"colorbar\":{\"outlinewidth\":0,\"ticks\":\"\"},\"colorscale\":[[0.0,\"#0d0887\"],[0.1111111111111111,\"#46039f\"],[0.2222222222222222,\"#7201a8\"],[0.3333333333333333,\"#9c179e\"],[0.4444444444444444,\"#bd3786\"],[0.5555555555555556,\"#d8576b\"],[0.6666666666666666,\"#ed7953\"],[0.7777777777777778,\"#fb9f3a\"],[0.8888888888888888,\"#fdca26\"],[1.0,\"#f0f921\"]],\"type\":\"histogram2d\"}],\"histogram2dcontour\":[{\"colorbar\":{\"outlinewidth\":0,\"ticks\":\"\"},\"colorscale\":[[0.0,\"#0d0887\"],[0.1111111111111111,\"#46039f\"],[0.2222222222222222,\"#7201a8\"],[0.3333333333333333,\"#9c179e\"],[0.4444444444444444,\"#bd3786\"],[0.5555555555555556,\"#d8576b\"],[0.6666666666666666,\"#ed7953\"],[0.7777777777777778,\"#fb9f3a\"],[0.8888888888888888,\"#fdca26\"],[1.0,\"#f0f921\"]],\"type\":\"histogram2dcontour\"}],\"mesh3d\":[{\"colorbar\":{\"outlinewidth\":0,\"ticks\":\"\"},\"type\":\"mesh3d\"}],\"parcoords\":[{\"line\":{\"colorbar\":{\"outlinewidth\":0,\"ticks\":\"\"}},\"type\":\"parcoords\"}],\"pie\":[{\"automargin\":true,\"type\":\"pie\"}],\"scatter\":[{\"marker\":{\"colorbar\":{\"outlinewidth\":0,\"ticks\":\"\"}},\"type\":\"scatter\"}],\"scatter3d\":[{\"line\":{\"colorbar\":{\"outlinewidth\":0,\"ticks\":\"\"}},\"marker\":{\"colorbar\":{\"outlinewidth\":0,\"ticks\":\"\"}},\"type\":\"scatter3d\"}],\"scattercarpet\":[{\"marker\":{\"colorbar\":{\"outlinewidth\":0,\"ticks\":\"\"}},\"type\":\"scattercarpet\"}],\"scattergeo\":[{\"marker\":{\"colorbar\":{\"outlinewidth\":0,\"ticks\":\"\"}},\"type\":\"scattergeo\"}],\"scattergl\":[{\"marker\":{\"colorbar\":{\"outlinewidth\":0,\"ticks\":\"\"}},\"type\":\"scattergl\"}],\"scattermapbox\":[{\"marker\":{\"colorbar\":{\"outlinewidth\":0,\"ticks\":\"\"}},\"type\":\"scattermapbox\"}],\"scatterpolar\":[{\"marker\":{\"colorbar\":{\"outlinewidth\":0,\"ticks\":\"\"}},\"type\":\"scatterpolar\"}],\"scatterpolargl\":[{\"marker\":{\"colorbar\":{\"outlinewidth\":0,\"ticks\":\"\"}},\"type\":\"scatterpolargl\"}],\"scatterternary\":[{\"marker\":{\"colorbar\":{\"outlinewidth\":0,\"ticks\":\"\"}},\"type\":\"scatterternary\"}],\"surface\":[{\"colorbar\":{\"outlinewidth\":0,\"ticks\":\"\"},\"colorscale\":[[0.0,\"#0d0887\"],[0.1111111111111111,\"#46039f\"],[0.2222222222222222,\"#7201a8\"],[0.3333333333333333,\"#9c179e\"],[0.4444444444444444,\"#bd3786\"],[0.5555555555555556,\"#d8576b\"],[0.6666666666666666,\"#ed7953\"],[0.7777777777777778,\"#fb9f3a\"],[0.8888888888888888,\"#fdca26\"],[1.0,\"#f0f921\"]],\"type\":\"surface\"}],\"table\":[{\"cells\":{\"fill\":{\"color\":\"#EBF0F8\"},\"line\":{\"color\":\"white\"}},\"header\":{\"fill\":{\"color\":\"#C8D4E3\"},\"line\":{\"color\":\"white\"}},\"type\":\"table\"}]},\"layout\":{\"annotationdefaults\":{\"arrowcolor\":\"#2a3f5f\",\"arrowhead\":0,\"arrowwidth\":1},\"autotypenumbers\":\"strict\",\"coloraxis\":{\"colorbar\":{\"outlinewidth\":0,\"ticks\":\"\"}},\"colorscale\":{\"diverging\":[[0,\"#8e0152\"],[0.1,\"#c51b7d\"],[0.2,\"#de77ae\"],[0.3,\"#f1b6da\"],[0.4,\"#fde0ef\"],[0.5,\"#f7f7f7\"],[0.6,\"#e6f5d0\"],[0.7,\"#b8e186\"],[0.8,\"#7fbc41\"],[0.9,\"#4d9221\"],[1,\"#276419\"]],\"sequential\":[[0.0,\"#0d0887\"],[0.1111111111111111,\"#46039f\"],[0.2222222222222222,\"#7201a8\"],[0.3333333333333333,\"#9c179e\"],[0.4444444444444444,\"#bd3786\"],[0.5555555555555556,\"#d8576b\"],[0.6666666666666666,\"#ed7953\"],[0.7777777777777778,\"#fb9f3a\"],[0.8888888888888888,\"#fdca26\"],[1.0,\"#f0f921\"]],\"sequentialminus\":[[0.0,\"#0d0887\"],[0.1111111111111111,\"#46039f\"],[0.2222222222222222,\"#7201a8\"],[0.3333333333333333,\"#9c179e\"],[0.4444444444444444,\"#bd3786\"],[0.5555555555555556,\"#d8576b\"],[0.6666666666666666,\"#ed7953\"],[0.7777777777777778,\"#fb9f3a\"],[0.8888888888888888,\"#fdca26\"],[1.0,\"#f0f921\"]]},\"colorway\":[\"#636efa\",\"#EF553B\",\"#00cc96\",\"#ab63fa\",\"#FFA15A\",\"#19d3f3\",\"#FF6692\",\"#B6E880\",\"#FF97FF\",\"#FECB52\"],\"font\":{\"color\":\"#2a3f5f\"},\"geo\":{\"bgcolor\":\"white\",\"lakecolor\":\"white\",\"landcolor\":\"#E5ECF6\",\"showlakes\":true,\"showland\":true,\"subunitcolor\":\"white\"},\"hoverlabel\":{\"align\":\"left\"},\"hovermode\":\"closest\",\"mapbox\":{\"style\":\"light\"},\"paper_bgcolor\":\"white\",\"plot_bgcolor\":\"#E5ECF6\",\"polar\":{\"angularaxis\":{\"gridcolor\":\"white\",\"linecolor\":\"white\",\"ticks\":\"\"},\"bgcolor\":\"#E5ECF6\",\"radialaxis\":{\"gridcolor\":\"white\",\"linecolor\":\"white\",\"ticks\":\"\"}},\"scene\":{\"xaxis\":{\"backgroundcolor\":\"#E5ECF6\",\"gridcolor\":\"white\",\"gridwidth\":2,\"linecolor\":\"white\",\"showbackground\":true,\"ticks\":\"\",\"zerolinecolor\":\"white\"},\"yaxis\":{\"backgroundcolor\":\"#E5ECF6\",\"gridcolor\":\"white\",\"gridwidth\":2,\"linecolor\":\"white\",\"showbackground\":true,\"ticks\":\"\",\"zerolinecolor\":\"white\"},\"zaxis\":{\"backgroundcolor\":\"#E5ECF6\",\"gridcolor\":\"white\",\"gridwidth\":2,\"linecolor\":\"white\",\"showbackground\":true,\"ticks\":\"\",\"zerolinecolor\":\"white\"}},\"shapedefaults\":{\"line\":{\"color\":\"#2a3f5f\"}},\"ternary\":{\"aaxis\":{\"gridcolor\":\"white\",\"linecolor\":\"white\",\"ticks\":\"\"},\"baxis\":{\"gridcolor\":\"white\",\"linecolor\":\"white\",\"ticks\":\"\"},\"bgcolor\":\"#E5ECF6\",\"caxis\":{\"gridcolor\":\"white\",\"linecolor\":\"white\",\"ticks\":\"\"}},\"title\":{\"x\":0.05},\"xaxis\":{\"automargin\":true,\"gridcolor\":\"white\",\"linecolor\":\"white\",\"ticks\":\"\",\"title\":{\"standoff\":15},\"zerolinecolor\":\"white\",\"zerolinewidth\":2},\"yaxis\":{\"automargin\":true,\"gridcolor\":\"white\",\"linecolor\":\"white\",\"ticks\":\"\",\"title\":{\"standoff\":15},\"zerolinecolor\":\"white\",\"zerolinewidth\":2}}},\"xaxis\":{\"anchor\":\"y\",\"domain\":[0.0,1.0],\"title\":{\"text\":\"LIFESTAGE_x\"},\"categoryorder\":\"array\",\"categoryarray\":[\"YOUNG SINGLES/COUPLES\",\"MIDAGE SINGLES/COUPLES\",\"NEW FAMILIES\",\"NEW FAMILIES\",\"RETIREES\",\"RETIREES\",\"OLDER SINGLES/COUPLES\",\"NEW FAMILIES\",\"OLDER SINGLES/COUPLES\",\"RETIREES\",\"OLDER SINGLES/COUPLES\",\"MIDAGE SINGLES/COUPLES\",\"YOUNG FAMILIES\",\"YOUNG FAMILIES\",\"MIDAGE SINGLES/COUPLES\",\"OLDER FAMILIES\",\"OLDER FAMILIES\",\"YOUNG FAMILIES\",\"OLDER FAMILIES\",\"YOUNG SINGLES/COUPLES\",\"YOUNG SINGLES/COUPLES\"]},\"yaxis\":{\"anchor\":\"x\",\"domain\":[0.0,1.0],\"title\":{\"text\":\"Avg price per unit\"}},\"legend\":{\"title\":{\"text\":\"PREMIUM_CUSTOMER_y\"},\"tracegroupgap\":0},\"title\":{\"text\":\"Average Price per Unit by Lifestage and Premium Customer\"},\"barmode\":\"relative\",\"margin\":{\"l\":0,\"r\":0,\"b\":0,\"t\":40},\"width\":800,\"height\":500},                        {\"responsive\": true}                    ).then(function(){\n",
       "                            \n",
       "var gd = document.getElementById('e3250458-48e7-4d3a-b572-62470ea8cdcf');\n",
       "var x = new MutationObserver(function (mutations, observer) {{\n",
       "        var display = window.getComputedStyle(gd).display;\n",
       "        if (!display || display === 'none') {{\n",
       "            console.log([gd, 'removed!']);\n",
       "            Plotly.purge(gd);\n",
       "            observer.disconnect();\n",
       "        }}\n",
       "}});\n",
       "\n",
       "// Listen for the removal of the full notebook cells\n",
       "var notebookContainer = gd.closest('#notebook-container');\n",
       "if (notebookContainer) {{\n",
       "    x.observe(notebookContainer, {childList: true});\n",
       "}}\n",
       "\n",
       "// Listen for the clearing of the current output cell\n",
       "var outputEl = gd.closest('.output');\n",
       "if (outputEl) {{\n",
       "    x.observe(outputEl, {childList: true});\n",
       "}}\n",
       "\n",
       "                        })                };                });            </script>        </div>"
      ]
     },
     "metadata": {},
     "output_type": "display_data"
    }
   ],
   "source": [
    "import pandas as pd\n",
    "import plotly.express as px\n",
    "\n",
    "# Assuming 'data' is your DataFrame\n",
    "# If not, replace it with your actual DataFrame\n",
    "\n",
    "# Calculate the average price per unit by LIFESTAGE and PREMIUM_CUSTOMER\n",
    "avg_price = data.groupby(['LIFESTAGE_x', 'PREMIUM_CUSTOMER_y']).agg(AVG=('TOT_SALES', 'sum'),\n",
    "                                                                 PROD_QTY=('PROD_QTY', 'sum')).reset_index()\n",
    "avg_price['AVG'] = avg_price['AVG'] / avg_price['PROD_QTY']\n",
    "\n",
    "# Order the DataFrame by AVG in descending order\n",
    "avg_price = avg_price.sort_values(by='AVG', ascending=False)\n",
    "\n",
    "# Create a bar plot\n",
    "fig = px.bar(avg_price, x='LIFESTAGE_x', y='AVG', color='PREMIUM_CUSTOMER_y',\n",
    "             title='Average Price per Unit by Lifestage and Premium Customer',\n",
    "             labels={'AVG': 'Avg price per unit'},\n",
    "             category_orders={\"LIFESTAGE_x\": avg_price['LIFESTAGE_x'].tolist()})\n",
    "\n",
    "# Adjust size and layout\n",
    "fig.update_layout(width=800, height=500, margin=dict(l=0, r=0, b=0, t=40))\n",
    "\n",
    "# Show the figure\n",
    "fig.show()\n"
   ]
  },
  {
   "cell_type": "markdown",
   "id": "32207983",
   "metadata": {},
   "source": [
    "Mainstream midage and young singles and couples are more willing to pay more per packet of chips com\u0002pared to their budget and premium counterparts. This may be due to premium shoppers being more likely to\n",
    "buy healthy snacks and when they buy chips, this is mainly for entertainment purposes rather than their own\n",
    "consumption. This is also supported by there being fewer premium midage and young singles and couples\n",
    "buying chips compared to their mainstream counterparts.\n"
   ]
  },
  {
   "cell_type": "code",
   "execution_count": 71,
   "id": "99ea379b",
   "metadata": {},
   "outputs": [
    {
     "name": "stdout",
     "output_type": "stream",
     "text": [
      "T-Statistic: 40.83413678791155\n",
      "P-Value: 0.0\n"
     ]
    }
   ],
   "source": [
    "from scipy.stats import ttest_ind\n",
    "\n",
    "# Filter the data for the two groups\n",
    "mainstream_group = data[(data['LIFESTAGE_x'].isin(['YOUNG SINGLES/COUPLES', 'MIDAGE SINGLES/COUPLES'])) &\n",
    "                        (data['PREMIUM_CUSTOMER_y'] == 'Mainstream')].copy()\n",
    "non_mainstream_group = data[(data['LIFESTAGE_x'].isin(['YOUNG SINGLES/COUPLES', 'MIDAGE SINGLES/COUPLES'])) &\n",
    "                            (data['PREMIUM_CUSTOMER_y'] != 'Mainstream')].copy()\n",
    "\n",
    "# Calculate the price per unit for each group using .loc\n",
    "mainstream_group.loc[:, 'price'] = mainstream_group['TOT_SALES'] / mainstream_group['PROD_QTY']\n",
    "non_mainstream_group.loc[:, 'price'] = non_mainstream_group['TOT_SALES'] / non_mainstream_group['PROD_QTY']\n",
    "\n",
    "# Perform independent t-test\n",
    "t_statistic, p_value = ttest_ind(mainstream_group['price'], non_mainstream_group['price'], alternative='greater')\n",
    "\n",
    "# Print the results\n",
    "print(f'T-Statistic: {t_statistic}')\n",
    "print(f'P-Value: {p_value}')\n"
   ]
  },
  {
   "cell_type": "code",
   "execution_count": 72,
   "id": "935415ea",
   "metadata": {},
   "outputs": [
    {
     "name": "stdout",
     "output_type": "stream",
     "text": [
      "         BRAND  targetSegment  other  affinityToBrand\n",
      "19    TYRRELLS           1143  11155         0.102465\n",
      "18    TWISTIES           1673  16445         0.101733\n",
      "9       KETTLE           7172  71879         0.099779\n",
      "17    TOSTITOS           1645  16489         0.099763\n",
      "11         OLD           1607  16198         0.099210\n",
      "12    PRINGLES           4326  43693         0.099009\n",
      "5      DORITOS           4747  49069         0.096741\n",
      "4         COBS           1617  16954         0.095376\n",
      "8    INFUZIONS           2343  24776         0.094567\n",
      "16       THINS           2187  24742         0.088392\n",
      "7      GRNWVES           1185  13541         0.087512\n",
      "3     CHEEZELS            651   8096         0.080410\n",
      "14      SMITHS           3609  56730         0.063617\n",
      "6       FRENCH            143   2500         0.057200\n",
      "2      CHEETOS            291   5239         0.055545\n",
      "13         RRD           1753  31893         0.054965\n",
      "10     NATURAL            710  13396         0.053001\n",
      "1          CCS            405   8204         0.049366\n",
      "15    SUNBITES            230   5462         0.042109\n",
      "20  WOOLWORTHS           1089  26767         0.040684\n",
      "0       BURGER            106   2864         0.037011\n"
     ]
    }
   ],
   "source": [
    "# Deep dive into Mainstream, young singles/couples\n",
    "segment1 = data[(data['LIFESTAGE_x'] == 'YOUNG SINGLES/COUPLES') & (data['PREMIUM_CUSTOMER_y'] == 'Mainstream')]\n",
    "other = data[~((data['LIFESTAGE_x'] == 'YOUNG SINGLES/COUPLES') & (data['PREMIUM_CUSTOMER_y'] == 'Mainstream'))]\n",
    "\n",
    "# Brand affinity compared to the rest of the population\n",
    "quantity_segment1 = segment1['PROD_QTY'].sum()\n",
    "quantity_other = other['PROD_QTY'].sum()\n",
    "\n",
    "quantity_segment1_by_brand = segment1.groupby('BRAND').agg(targetSegment=('PROD_QTY', 'sum')).reset_index()\n",
    "quantity_other_by_brand = other.groupby('BRAND').agg(other=('PROD_QTY', 'sum')).reset_index()\n",
    "\n",
    "brand_proportions = pd.merge(quantity_segment1_by_brand, quantity_other_by_brand, on='BRAND')\n",
    "brand_proportions['affinityToBrand'] = brand_proportions['targetSegment'] / brand_proportions['other']\n",
    "\n",
    "# Sort by affinityToBrand in descending order\n",
    "brand_proportions = brand_proportions.sort_values(by='affinityToBrand', ascending=False)\n",
    "\n",
    "print(brand_proportions)\n"
   ]
  },
  {
   "cell_type": "markdown",
   "id": "fb689446",
   "metadata": {},
   "source": [
    "We can see that :\n",
    "    \n",
    "• Mainstream young singles/couples are 23% more likely to purchase Tyrrells chips compared to the\n",
    "rest of the population\n",
    "\n",
    "• Mainstream young singles/couples are 56% less likely to purchase Burger Rings compared to the rest\n",
    "of the population"
   ]
  },
  {
   "cell_type": "code",
   "execution_count": 73,
   "id": "df286052",
   "metadata": {},
   "outputs": [
    {
     "name": "stdout",
     "output_type": "stream",
     "text": [
      "    PACK_SIZE  targetSegment   other  affinityToPack\n",
      "17        270           1153   10896        0.105819\n",
      "20        380           1165   11108        0.104879\n",
      "19        330           2220   21779        0.101933\n",
      "4         134           4326   43693        0.099009\n",
      "2         110           3850   38985        0.098756\n",
      "14        210           1055   10907        0.096727\n",
      "5         135            535    5677        0.094240\n",
      "16        250            520    5549        0.093711\n",
      "9         170           2926   35162        0.083215\n",
      "18        300           2123   26690        0.079543\n",
      "10        175           9237  117230        0.078794\n",
      "6         150           5993   76181        0.078668\n",
      "8         165           2016   27035        0.074570\n",
      "12        190            271    5402        0.050167\n",
      "11        180            130    2634        0.049355\n",
      "7         160            232    5372        0.043187\n",
      "1          90            230    5462        0.042109\n",
      "3         125            109    2621        0.041587\n",
      "13        200            325    8100        0.040123\n",
      "0          70            110    2745        0.040073\n",
      "15        220            106    2864        0.037011\n"
     ]
    }
   ],
   "source": [
    "\n",
    "# Preferred pack size compared to the rest of the population\n",
    "quantity_segment1_by_pack = segment1.groupby('PACK_SIZE').agg(targetSegment=('PROD_QTY', 'sum')).reset_index()\n",
    "quantity_other_by_pack = other.groupby('PACK_SIZE').agg(other=('PROD_QTY', 'sum')).reset_index()\n",
    "\n",
    "pack_proportions = pd.merge(quantity_segment1_by_pack, quantity_other_by_pack, on='PACK_SIZE')\n",
    "pack_proportions['affinityToPack'] = pack_proportions['targetSegment'] / pack_proportions['other']\n",
    "\n",
    "# Sort by affinityToPack in descending order\n",
    "pack_proportions = pack_proportions.sort_values(by='affinityToPack', ascending=False)\n",
    "\n",
    "print(pack_proportions)\n"
   ]
  },
  {
   "cell_type": "markdown",
   "id": "bcdc61ea",
   "metadata": {},
   "source": [
    "It looks like Mainstream young singles/couples are 27% more likely to purchase a 270g pack of chips compared to the\n",
    "rest of the population but let’s dive into what brands sell this pack size."
   ]
  },
  {
   "cell_type": "code",
   "execution_count": 74,
   "id": "948a81bd",
   "metadata": {},
   "outputs": [
    {
     "name": "stdout",
     "output_type": "stream",
     "text": [
      "['Twisties Cheese     270g' 'Twisties Chicken270g']\n"
     ]
    }
   ],
   "source": [
    "# Assuming your DataFrame is named 'data'\n",
    "filtered_data = data[data['PACK_SIZE'] == 270]['PROD_NAME'].unique()\n",
    "print(filtered_data)\n"
   ]
  },
  {
   "cell_type": "markdown",
   "id": "00f213c7",
   "metadata": {},
   "source": [
    "Twisties are the only brand offering 270g packs and so this may instead be reflecting a higher likelihood of\n",
    "purchasing Twisties."
   ]
  },
  {
   "cell_type": "markdown",
   "id": "9c2de3ad",
   "metadata": {},
   "source": [
    "Conclusion\n",
    "\n",
    "Let’s recap what we’ve found!\n",
    "Sales have mainly been due to Budget - older families, Mainstream - young singles/couples, and Mainstream\n",
    "- retirees shoppers. We found that the high spend in chips for mainstream young singles/couples and re\u0002tirees is due to there being more of them than other buyers. Mainstream, midage and young singles and\n",
    "couples are also more likely to pay more per packet of chips. This is indicative of impulse buying behaviour.\n",
    "We’ve also found that Mainstream young singles and couples are 23% more likely to purchase Tyrrells chips\n",
    "compared to the rest of the population. The Category Manager may want to increase the category’s per\u0002formance by off-locating some Tyrrells and smaller packs of chips in discretionary space near segments\n",
    "where young singles and couples frequent more often to increase visibilty and impulse behaviour.\n",
    "Quantium can help the Category Manager with recommendations of where these segments are and further\n",
    "help them with measuring the impact of the changed placement. We’ll work on measuring the impact of\n",
    "trials in the next task and putting all these together in the third task"
   ]
  },
  {
   "cell_type": "code",
   "execution_count": 75,
   "id": "f260b73f",
   "metadata": {},
   "outputs": [
    {
     "data": {
      "text/html": [
       "<div>\n",
       "<style scoped>\n",
       "    .dataframe tbody tr th:only-of-type {\n",
       "        vertical-align: middle;\n",
       "    }\n",
       "\n",
       "    .dataframe tbody tr th {\n",
       "        vertical-align: top;\n",
       "    }\n",
       "\n",
       "    .dataframe thead th {\n",
       "        text-align: right;\n",
       "    }\n",
       "</style>\n",
       "<table border=\"1\" class=\"dataframe\">\n",
       "  <thead>\n",
       "    <tr style=\"text-align: right;\">\n",
       "      <th></th>\n",
       "      <th>LYLTY_CARD_NBR</th>\n",
       "      <th>DATE</th>\n",
       "      <th>STORE_NBR</th>\n",
       "      <th>TXN_ID</th>\n",
       "      <th>PROD_NBR</th>\n",
       "      <th>PROD_NAME</th>\n",
       "      <th>PROD_QTY</th>\n",
       "      <th>TOT_SALES</th>\n",
       "      <th>PACK_SIZE</th>\n",
       "      <th>BRAND</th>\n",
       "      <th>LIFESTAGE_x</th>\n",
       "      <th>PREMIUM_CUSTOMER_x</th>\n",
       "      <th>LIFESTAGE_y</th>\n",
       "      <th>PREMIUM_CUSTOMER_y</th>\n",
       "      <th>LIFESTAGE</th>\n",
       "      <th>PREMIUM_CUSTOMER</th>\n",
       "    </tr>\n",
       "  </thead>\n",
       "  <tbody>\n",
       "    <tr>\n",
       "      <th>0</th>\n",
       "      <td>1000</td>\n",
       "      <td>2018-10-17</td>\n",
       "      <td>1</td>\n",
       "      <td>1</td>\n",
       "      <td>5</td>\n",
       "      <td>Natural Chip        Compny SeaSalt175g</td>\n",
       "      <td>2</td>\n",
       "      <td>6.0</td>\n",
       "      <td>175</td>\n",
       "      <td>NATURAL</td>\n",
       "      <td>YOUNG SINGLES/COUPLES</td>\n",
       "      <td>Premium</td>\n",
       "      <td>YOUNG SINGLES/COUPLES</td>\n",
       "      <td>Premium</td>\n",
       "      <td>YOUNG SINGLES/COUPLES</td>\n",
       "      <td>Premium</td>\n",
       "    </tr>\n",
       "    <tr>\n",
       "      <th>1</th>\n",
       "      <td>1002</td>\n",
       "      <td>2018-09-16</td>\n",
       "      <td>1</td>\n",
       "      <td>2</td>\n",
       "      <td>58</td>\n",
       "      <td>Red Rock Deli Chikn&amp;Garlic Aioli 150g</td>\n",
       "      <td>1</td>\n",
       "      <td>2.7</td>\n",
       "      <td>150</td>\n",
       "      <td>RRD</td>\n",
       "      <td>YOUNG SINGLES/COUPLES</td>\n",
       "      <td>Mainstream</td>\n",
       "      <td>YOUNG SINGLES/COUPLES</td>\n",
       "      <td>Mainstream</td>\n",
       "      <td>YOUNG SINGLES/COUPLES</td>\n",
       "      <td>Mainstream</td>\n",
       "    </tr>\n",
       "    <tr>\n",
       "      <th>2</th>\n",
       "      <td>1003</td>\n",
       "      <td>2019-03-07</td>\n",
       "      <td>1</td>\n",
       "      <td>3</td>\n",
       "      <td>52</td>\n",
       "      <td>Grain Waves Sour    Cream&amp;Chives 210G</td>\n",
       "      <td>1</td>\n",
       "      <td>3.6</td>\n",
       "      <td>210</td>\n",
       "      <td>GRNWVES</td>\n",
       "      <td>YOUNG FAMILIES</td>\n",
       "      <td>Budget</td>\n",
       "      <td>YOUNG FAMILIES</td>\n",
       "      <td>Budget</td>\n",
       "      <td>YOUNG FAMILIES</td>\n",
       "      <td>Budget</td>\n",
       "    </tr>\n",
       "    <tr>\n",
       "      <th>3</th>\n",
       "      <td>1003</td>\n",
       "      <td>2019-03-08</td>\n",
       "      <td>1</td>\n",
       "      <td>4</td>\n",
       "      <td>106</td>\n",
       "      <td>Natural ChipCo      Hony Soy Chckn175g</td>\n",
       "      <td>1</td>\n",
       "      <td>3.0</td>\n",
       "      <td>175</td>\n",
       "      <td>NATURAL</td>\n",
       "      <td>YOUNG FAMILIES</td>\n",
       "      <td>Budget</td>\n",
       "      <td>YOUNG FAMILIES</td>\n",
       "      <td>Budget</td>\n",
       "      <td>YOUNG FAMILIES</td>\n",
       "      <td>Budget</td>\n",
       "    </tr>\n",
       "    <tr>\n",
       "      <th>4</th>\n",
       "      <td>1004</td>\n",
       "      <td>2018-11-02</td>\n",
       "      <td>1</td>\n",
       "      <td>5</td>\n",
       "      <td>96</td>\n",
       "      <td>WW Original Stacked Chips 160g</td>\n",
       "      <td>1</td>\n",
       "      <td>1.9</td>\n",
       "      <td>160</td>\n",
       "      <td>WOOLWORTHS</td>\n",
       "      <td>OLDER SINGLES/COUPLES</td>\n",
       "      <td>Mainstream</td>\n",
       "      <td>OLDER SINGLES/COUPLES</td>\n",
       "      <td>Mainstream</td>\n",
       "      <td>OLDER SINGLES/COUPLES</td>\n",
       "      <td>Mainstream</td>\n",
       "    </tr>\n",
       "  </tbody>\n",
       "</table>\n",
       "</div>"
      ],
      "text/plain": [
       "   LYLTY_CARD_NBR       DATE  STORE_NBR  TXN_ID  PROD_NBR  \\\n",
       "0            1000 2018-10-17          1       1         5   \n",
       "1            1002 2018-09-16          1       2        58   \n",
       "2            1003 2019-03-07          1       3        52   \n",
       "3            1003 2019-03-08          1       4       106   \n",
       "4            1004 2018-11-02          1       5        96   \n",
       "\n",
       "                                PROD_NAME  PROD_QTY  TOT_SALES  PACK_SIZE  \\\n",
       "0  Natural Chip        Compny SeaSalt175g         2        6.0        175   \n",
       "1   Red Rock Deli Chikn&Garlic Aioli 150g         1        2.7        150   \n",
       "2   Grain Waves Sour    Cream&Chives 210G         1        3.6        210   \n",
       "3  Natural ChipCo      Hony Soy Chckn175g         1        3.0        175   \n",
       "4          WW Original Stacked Chips 160g         1        1.9        160   \n",
       "\n",
       "        BRAND            LIFESTAGE_x PREMIUM_CUSTOMER_x  \\\n",
       "0     NATURAL  YOUNG SINGLES/COUPLES            Premium   \n",
       "1         RRD  YOUNG SINGLES/COUPLES         Mainstream   \n",
       "2     GRNWVES         YOUNG FAMILIES             Budget   \n",
       "3     NATURAL         YOUNG FAMILIES             Budget   \n",
       "4  WOOLWORTHS  OLDER SINGLES/COUPLES         Mainstream   \n",
       "\n",
       "             LIFESTAGE_y PREMIUM_CUSTOMER_y              LIFESTAGE  \\\n",
       "0  YOUNG SINGLES/COUPLES            Premium  YOUNG SINGLES/COUPLES   \n",
       "1  YOUNG SINGLES/COUPLES         Mainstream  YOUNG SINGLES/COUPLES   \n",
       "2         YOUNG FAMILIES             Budget         YOUNG FAMILIES   \n",
       "3         YOUNG FAMILIES             Budget         YOUNG FAMILIES   \n",
       "4  OLDER SINGLES/COUPLES         Mainstream  OLDER SINGLES/COUPLES   \n",
       "\n",
       "  PREMIUM_CUSTOMER  \n",
       "0          Premium  \n",
       "1       Mainstream  \n",
       "2           Budget  \n",
       "3           Budget  \n",
       "4       Mainstream  "
      ]
     },
     "execution_count": 75,
     "metadata": {},
     "output_type": "execute_result"
    }
   ],
   "source": [
    "data.head()"
   ]
  },
  {
   "cell_type": "code",
   "execution_count": 78,
   "id": "6176b38b",
   "metadata": {},
   "outputs": [
    {
     "name": "stdout",
     "output_type": "stream",
     "text": [
      "<bound method NDFrame.to_csv of         LYLTY_CARD_NBR       DATE  STORE_NBR  TXN_ID  PROD_NBR  \\\n",
      "0                 1000 2018-10-17          1       1         5   \n",
      "1                 1002 2018-09-16          1       2        58   \n",
      "2                 1003 2019-03-07          1       3        52   \n",
      "3                 1003 2019-03-08          1       4       106   \n",
      "4                 1004 2018-11-02          1       5        96   \n",
      "...                ...        ...        ...     ...       ...   \n",
      "264829         2370701 2018-12-08         88  240378        24   \n",
      "264830         2370751 2018-10-01         88  240394        60   \n",
      "264831         2370961 2018-10-24         88  240480        70   \n",
      "264832         2370961 2018-10-27         88  240481        65   \n",
      "264833         2373711 2018-12-14         88  241815        16   \n",
      "\n",
      "                                       PROD_NAME  PROD_QTY  TOT_SALES  \\\n",
      "0         Natural Chip        Compny SeaSalt175g         2        6.0   \n",
      "1          Red Rock Deli Chikn&Garlic Aioli 150g         1        2.7   \n",
      "2          Grain Waves Sour    Cream&Chives 210G         1        3.6   \n",
      "3         Natural ChipCo      Hony Soy Chckn175g         1        3.0   \n",
      "4                 WW Original Stacked Chips 160g         1        1.9   \n",
      "...                                          ...       ...        ...   \n",
      "264829     Grain Waves         Sweet Chilli 210g         2        7.2   \n",
      "264830      Kettle Tortilla ChpsFeta&Garlic 150g         2        9.2   \n",
      "264831   Tyrrells Crisps     Lightly Salted 165g         2        8.4   \n",
      "264832  Old El Paso Salsa   Dip Chnky Tom Ht300g         2       10.2   \n",
      "264833  Smiths Crinkle Chips Salt & Vinegar 330g         2       11.4   \n",
      "\n",
      "        PACK_SIZE       BRAND            LIFESTAGE_x PREMIUM_CUSTOMER_x  \\\n",
      "0             175     NATURAL  YOUNG SINGLES/COUPLES            Premium   \n",
      "1             150         RRD  YOUNG SINGLES/COUPLES         Mainstream   \n",
      "2             210     GRNWVES         YOUNG FAMILIES             Budget   \n",
      "3             175     NATURAL         YOUNG FAMILIES             Budget   \n",
      "4             160  WOOLWORTHS  OLDER SINGLES/COUPLES         Mainstream   \n",
      "...           ...         ...                    ...                ...   \n",
      "264829        210     GRNWVES         YOUNG FAMILIES         Mainstream   \n",
      "264830        150      KETTLE         YOUNG FAMILIES            Premium   \n",
      "264831        165    TYRRELLS         OLDER FAMILIES             Budget   \n",
      "264832        300         OLD         OLDER FAMILIES             Budget   \n",
      "264833        330      SMITHS  YOUNG SINGLES/COUPLES         Mainstream   \n",
      "\n",
      "                  LIFESTAGE_y PREMIUM_CUSTOMER_y              LIFESTAGE  \\\n",
      "0       YOUNG SINGLES/COUPLES            Premium  YOUNG SINGLES/COUPLES   \n",
      "1       YOUNG SINGLES/COUPLES         Mainstream  YOUNG SINGLES/COUPLES   \n",
      "2              YOUNG FAMILIES             Budget         YOUNG FAMILIES   \n",
      "3              YOUNG FAMILIES             Budget         YOUNG FAMILIES   \n",
      "4       OLDER SINGLES/COUPLES         Mainstream  OLDER SINGLES/COUPLES   \n",
      "...                       ...                ...                    ...   \n",
      "264829         YOUNG FAMILIES         Mainstream         YOUNG FAMILIES   \n",
      "264830         YOUNG FAMILIES            Premium         YOUNG FAMILIES   \n",
      "264831         OLDER FAMILIES             Budget         OLDER FAMILIES   \n",
      "264832         OLDER FAMILIES             Budget         OLDER FAMILIES   \n",
      "264833  YOUNG SINGLES/COUPLES         Mainstream  YOUNG SINGLES/COUPLES   \n",
      "\n",
      "       PREMIUM_CUSTOMER  \n",
      "0               Premium  \n",
      "1            Mainstream  \n",
      "2                Budget  \n",
      "3                Budget  \n",
      "4            Mainstream  \n",
      "...                 ...  \n",
      "264829       Mainstream  \n",
      "264830          Premium  \n",
      "264831           Budget  \n",
      "264832           Budget  \n",
      "264833       Mainstream  \n",
      "\n",
      "[264834 rows x 16 columns]>\n"
     ]
    }
   ],
   "source": [
    "file_path = \"C:/Users/GREJOY/PYTHON PROJECTS IN DATA ANALYSIS/QVI_data.csv\"\n",
    "data.to_csv(file_path, index=False)\n",
    "\n",
    "\n",
    "# Assuming 'cleaned_data' is your cleaned DataFrame\n",
    "data.to_csv(\"C:/Users/GREJOY/PYTHON PROJECTS IN DATA ANALYSIS/QVI_data.csv\", index=False)\n",
    "print(data.to_csv)"
   ]
  },
  {
   "cell_type": "code",
   "execution_count": null,
   "id": "9eb51b2e",
   "metadata": {},
   "outputs": [],
   "source": []
  },
  {
   "cell_type": "code",
   "execution_count": null,
   "id": "937b08ec",
   "metadata": {},
   "outputs": [],
   "source": []
  },
  {
   "cell_type": "code",
   "execution_count": null,
   "id": "333a30b7",
   "metadata": {},
   "outputs": [],
   "source": []
  }
 ],
 "metadata": {
  "kernelspec": {
   "display_name": "Python 3 (ipykernel)",
   "language": "python",
   "name": "python3"
  },
  "language_info": {
   "codemirror_mode": {
    "name": "ipython",
    "version": 3
   },
   "file_extension": ".py",
   "mimetype": "text/x-python",
   "name": "python",
   "nbconvert_exporter": "python",
   "pygments_lexer": "ipython3",
   "version": "3.9.12"
  }
 },
 "nbformat": 4,
 "nbformat_minor": 5
}
