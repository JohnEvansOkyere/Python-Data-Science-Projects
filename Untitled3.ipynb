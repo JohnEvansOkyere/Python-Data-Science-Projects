{
 "cells": [
  {
   "cell_type": "code",
   "execution_count": null,
   "id": "3d2343a3",
   "metadata": {},
   "outputs": [],
   "source": [
    "for i in df_num.columns:\n",
    "    plt.hist(df_cate[i])\n",
    "    plt.title(i)\n",
    "    plt.show()\n",
    "    \n",
    "    \n",
    "    \n",
    "sns.heatmap(df_num.corr())\n",
    "\n",
    "pd.pivot_table(df_num, index='survived', values='age','new', )\n",
    "\n",
    "\n",
    "\n",
    "#categorical \n",
    "for i in df_cate.columns:\n",
    "    plt.barplot(df_cate[i].value_counts().index, df_cate[i].value_counts()).set_title(i)\n",
    "    plt.show()\n",
    "\n",
    "    \n",
    "\n",
    "print(pd.pivot_table(data, index='survivd', columns='Pclass', values='Ticket', aggfunc='count')\n",
    "      \n",
    "print(pd.pivot_table(data, index='survived', columns='Cabin', values'Ticket', aggfunc='count'))"
   ]
  }
 ],
 "metadata": {
  "kernelspec": {
   "display_name": "Python 3 (ipykernel)",
   "language": "python",
   "name": "python3"
  },
  "language_info": {
   "codemirror_mode": {
    "name": "ipython",
    "version": 3
   },
   "file_extension": ".py",
   "mimetype": "text/x-python",
   "name": "python",
   "nbconvert_exporter": "python",
   "pygments_lexer": "ipython3",
   "version": "3.9.12"
  }
 },
 "nbformat": 4,
 "nbformat_minor": 5
}
