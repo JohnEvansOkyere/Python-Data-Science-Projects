{
 "cells": [
  {
   "cell_type": "code",
   "execution_count": null,
   "id": "9dc22fa8",
   "metadata": {},
   "outputs": [
    {
     "name": "stderr",
     "output_type": "stream",
     "text": [
      "C:\\Users\\GREJOY\\anaconda3\\lib\\site-packages\\sklearn\\utils\\validation.py:877: UserWarning: pandas.DataFrame with sparse columns found.It will be converted to a dense numpy array.\n",
      "  warnings.warn(\n"
     ]
    }
   ],
   "source": [
    "import pandas as pd\n",
    "from sklearn.linear_model import LogisticRegression\n",
    "\n",
    "# Load the training data\n",
    "df = pd.read_csv('train.csv')\n",
    "\n",
    "# Separate features (X) and target (y)\n",
    "X = df.drop(columns=['Churn'])\n",
    "y = df['Churn']\n",
    "\n",
    "# Use sparse=True to create a sparse matrix and save memory\n",
    "dummy_clf = pd.get_dummies(X, drop_first=True, sparse=True)\n",
    "\n",
    "# Initialize the Logistic Regression model\n",
    "clf = LogisticRegression(random_state=42, max_iter=1000)\n",
    "\n",
    "# Train the model using the training data\n",
    "clf.fit(dummy_clf, y)\n",
    "\n",
    "# Load the test data\n",
    "test_df = pd.read_csv('test.csv')\n",
    "\n",
    "# Preprocess the test data by dropping 'CustomerID'\n",
    "X_test = test_df.drop(columns=['CustomerID'])\n",
    "\n",
    "# One-hot encode the test data\n",
    "test_df_dummies = pd.get_dummies(X_test, drop_first=True, sparse=True)\n",
    "\n",
    "# Align the test data columns with the training data columns\n",
    "test_df_processed = test_df_dummies.reindex(columns=dummy_clf.columns, fill_value=0)\n",
    "\n",
    "# Predict probabilities for the test data\n",
    "test_predictions_proba = clf.predict_proba(test_df_processed)[:, 1]\n",
    "\n",
    "# Print predicted probabilities\n",
    "print(test_predictions_proba)\n"
   ]
  },
  {
   "cell_type": "code",
   "execution_count": 3,
   "id": "2cfe2f14",
   "metadata": {},
   "outputs": [
    {
     "name": "stderr",
     "output_type": "stream",
     "text": [
      "C:\\Users\\GREJOY\\anaconda3\\lib\\site-packages\\sklearn\\linear_model\\_logistic.py:469: ConvergenceWarning: lbfgs failed to converge (status=1):\n",
      "STOP: TOTAL NO. of ITERATIONS REACHED LIMIT.\n",
      "\n",
      "Increase the number of iterations (max_iter) or scale the data as shown in:\n",
      "    https://scikit-learn.org/stable/modules/preprocessing.html\n",
      "Please also refer to the documentation for alternative solver options:\n",
      "    https://scikit-learn.org/stable/modules/linear_model.html#logistic-regression\n",
      "  n_iter_i = _check_optimize_result(\n"
     ]
    },
    {
     "name": "stdout",
     "output_type": "stream",
     "text": [
      "[0.10957452 0.03843084 0.36481048 ... 0.09535441 0.23935112 0.01586952]\n",
      "Number of predictions: 104480\n"
     ]
    }
   ],
   "source": [
    "import pandas as pd\n",
    "from sklearn.linear_model import LogisticRegression\n",
    "from sklearn.preprocessing import LabelEncoder\n",
    "\n",
    "# Load the training data\n",
    "train_df = pd.read_csv('train.csv')\n",
    "\n",
    "# Drop 'CustomerID' and separate features (X) and target (y)\n",
    "X_train = train_df.drop(columns=['Churn', 'CustomerID'])\n",
    "y_train = train_df['Churn']\n",
    "\n",
    "# Label encode the categorical variables to save memory\n",
    "label_encoders = {}\n",
    "for col in X_train.select_dtypes(include=['object']).columns:\n",
    "    le = LabelEncoder()\n",
    "    X_train[col] = le.fit_transform(X_train[col].astype(str))\n",
    "    label_encoders[col] = le\n",
    "\n",
    "# Initialize and fit the Logistic Regression model\n",
    "clf = LogisticRegression(random_state=42, max_iter=1000)\n",
    "clf.fit(X_train, y_train)\n",
    "\n",
    "# Load the test data and preprocess it\n",
    "test_df = pd.read_csv('test.csv')\n",
    "\n",
    "# Drop 'CustomerID' and encode test data using the same label encoders\n",
    "X_test = test_df.drop(columns=['CustomerID'])\n",
    "for col in X_test.select_dtypes(include=['object']).columns:\n",
    "    X_test[col] = label_encoders[col].transform(X_test[col].astype(str))\n",
    "\n",
    "# Predict the probability for the test data\n",
    "test_predictions_proba = clf.predict_proba(X_test)[:, 1]\n",
    "\n",
    "# Print the predicted probabilities for class 1 (Churn)\n",
    "print(test_predictions_proba)\n",
    "\n",
    "# Ensure the output is 104,480 entries\n",
    "print(f\"Number of predictions: {len(test_predictions_proba)}\")\n"
   ]
  },
  {
   "cell_type": "code",
   "execution_count": 4,
   "id": "8d08beba",
   "metadata": {},
   "outputs": [
    {
     "name": "stderr",
     "output_type": "stream",
     "text": [
      "C:\\Users\\GREJOY\\anaconda3\\lib\\site-packages\\sklearn\\linear_model\\_logistic.py:469: ConvergenceWarning: lbfgs failed to converge (status=1):\n",
      "STOP: TOTAL NO. of ITERATIONS REACHED LIMIT.\n",
      "\n",
      "Increase the number of iterations (max_iter) or scale the data as shown in:\n",
      "    https://scikit-learn.org/stable/modules/preprocessing.html\n",
      "Please also refer to the documentation for alternative solver options:\n",
      "    https://scikit-learn.org/stable/modules/linear_model.html#logistic-regression\n",
      "  n_iter_i = _check_optimize_result(\n"
     ]
    },
    {
     "name": "stdout",
     "output_type": "stream",
     "text": [
      "        CustomerID  predicted_probability\n",
      "0       O1W6BHP6RM               0.109575\n",
      "1       LFR4X92X8H               0.038431\n",
      "2       QM5GBIYODA               0.364810\n",
      "3       D9RXTK2K9F               0.034647\n",
      "4       ENTCCHR1LR               0.138235\n",
      "...            ...                    ...\n",
      "104475  UTKREC613O               0.080177\n",
      "104476  MDB4E477PS               0.115909\n",
      "104477  IPDIA02ZE1               0.095354\n",
      "104478  ITLFTPRJGV               0.239351\n",
      "104479  Y204GZY6NE               0.015870\n",
      "\n",
      "[104480 rows x 2 columns]\n"
     ]
    }
   ],
   "source": [
    "import pandas as pd\n",
    "from sklearn.linear_model import LogisticRegression\n",
    "from sklearn.preprocessing import LabelEncoder\n",
    "\n",
    "# Load the training data\n",
    "train_df = pd.read_csv('train.csv')\n",
    "\n",
    "# Drop 'CustomerID' and separate features (X) and target (y)\n",
    "X_train = train_df.drop(columns=['Churn', 'CustomerID'])\n",
    "y_train = train_df['Churn']\n",
    "\n",
    "# Label encode the categorical variables in training data\n",
    "label_encoders = {}\n",
    "for col in X_train.select_dtypes(include=['object']).columns:\n",
    "    le = LabelEncoder()\n",
    "    X_train[col] = le.fit_transform(X_train[col].astype(str))\n",
    "    label_encoders[col] = le\n",
    "\n",
    "# Initialize and fit the Logistic Regression model\n",
    "clf = LogisticRegression(random_state=42, max_iter=1000)\n",
    "clf.fit(X_train, y_train)\n",
    "\n",
    "# Load the test data\n",
    "test_df = pd.read_csv('test.csv')\n",
    "\n",
    "# Drop 'CustomerID' and encode test data using the same label encoders\n",
    "X_test = test_df.drop(columns=['CustomerID'])\n",
    "for col in X_test.select_dtypes(include=['object']).columns:\n",
    "    X_test[col] = label_encoders[col].transform(X_test[col].astype(str))\n",
    "\n",
    "# Predict the probability for the test data\n",
    "predicted_probability = clf.predict_proba(X_test)[:, 1]\n",
    "\n",
    "# Combine predictions with the 'CustomerID' into a dataframe\n",
    "prediction_df = pd.DataFrame({\n",
    "    'CustomerID': test_df['CustomerID'], \n",
    "    'predicted_probability': predicted_probability\n",
    "})\n",
    "\n",
    "# Print the resulting DataFrame\n",
    "print(prediction_df)\n"
   ]
  },
  {
   "cell_type": "code",
   "execution_count": null,
   "id": "04ca74be",
   "metadata": {},
   "outputs": [],
   "source": []
  }
 ],
 "metadata": {
  "kernelspec": {
   "display_name": "Python 3 (ipykernel)",
   "language": "python",
   "name": "python3"
  },
  "language_info": {
   "codemirror_mode": {
    "name": "ipython",
    "version": 3
   },
   "file_extension": ".py",
   "mimetype": "text/x-python",
   "name": "python",
   "nbconvert_exporter": "python",
   "pygments_lexer": "ipython3",
   "version": "3.9.12"
  }
 },
 "nbformat": 4,
 "nbformat_minor": 5
}
