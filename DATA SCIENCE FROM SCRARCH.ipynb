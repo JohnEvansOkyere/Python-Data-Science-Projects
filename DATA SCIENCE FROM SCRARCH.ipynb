{
 "cells": [
  {
   "cell_type": "code",
   "execution_count": 1,
   "id": "0858a835",
   "metadata": {},
   "outputs": [
    {
     "name": "stdout",
     "output_type": "stream",
     "text": [
      "1\n",
      "2\n",
      "3\n",
      "4\n",
      "5\n"
     ]
    }
   ],
   "source": [
    "k =(1,2,3,4,5)\n",
    "for i in k:\n",
    "    \n",
    "    \n",
    "    print(i)"
   ]
  },
  {
   "cell_type": "code",
   "execution_count": 2,
   "id": "5bd158e9",
   "metadata": {},
   "outputs": [
    {
     "data": {
      "text/plain": [
       "[[1, 2, 3, 4], [4, 5, 6, 7]]"
      ]
     },
     "execution_count": 2,
     "metadata": {},
     "output_type": "execute_result"
    }
   ],
   "source": [
    "list = [\n",
    "    [1,2,3,4],\n",
    "    [4,5,6,7]\n",
    "]\n",
    "list"
   ]
  },
  {
   "cell_type": "code",
   "execution_count": 3,
   "id": "53844392",
   "metadata": {},
   "outputs": [
    {
     "name": "stdout",
     "output_type": "stream",
     "text": [
      "re.compile('[0-9]+', re.IGNORECASE)\n"
     ]
    }
   ],
   "source": [
    "import re as regex\n",
    "\n",
    "my_regex = regex.compile(\"[0-9]+\", regex.I)\n",
    "print(my_regex)"
   ]
  },
  {
   "cell_type": "code",
   "execution_count": 4,
   "id": "df55aaa8",
   "metadata": {},
   "outputs": [
    {
     "name": "stdout",
     "output_type": "stream",
     "text": [
      "<function match at 0x000001A86D80F700>\n"
     ]
    }
   ],
   "source": [
    "match =10\n",
    "from re import *\n",
    "print(match)"
   ]
  },
  {
   "cell_type": "code",
   "execution_count": 5,
   "id": "8379208c",
   "metadata": {},
   "outputs": [
    {
     "ename": "NameError",
     "evalue": "name 'x' is not defined",
     "output_type": "error",
     "traceback": [
      "\u001b[1;31m---------------------------------------------------------------------------\u001b[0m",
      "\u001b[1;31mNameError\u001b[0m                                 Traceback (most recent call last)",
      "Input \u001b[1;32mIn [5]\u001b[0m, in \u001b[0;36m<cell line: 3>\u001b[1;34m()\u001b[0m\n\u001b[0;32m      1\u001b[0m \u001b[38;5;28;01mdef\u001b[39;00m \u001b[38;5;21mdouble\u001b[39m(x):\n\u001b[0;32m      2\u001b[0m     \u001b[38;5;28;01mreturn\u001b[39;00m  x \u001b[38;5;241m*\u001b[39m \u001b[38;5;241m2\u001b[39m\n\u001b[1;32m----> 3\u001b[0m \u001b[43mx\u001b[49m\n",
      "\u001b[1;31mNameError\u001b[0m: name 'x' is not defined"
     ]
    }
   ],
   "source": [
    "def double(x):\n",
    "    return  x * 2\n",
    "x"
   ]
  },
  {
   "cell_type": "code",
   "execution_count": null,
   "id": "ad398326",
   "metadata": {},
   "outputs": [],
   "source": [
    "def my_print(message = \"My default message\"):\n",
    "    return message\n",
    "my_print('Hello')\n",
    "my_print()"
   ]
  },
  {
   "cell_type": "code",
   "execution_count": null,
   "id": "66d7e877",
   "metadata": {},
   "outputs": [],
   "source": [
    "name1 = 'Okyere'\n",
    "name2 = 'Evans'\n",
    "print(f\"{name1} {name2}\") "
   ]
  },
  {
   "cell_type": "code",
   "execution_count": null,
   "id": "0c91fd7b",
   "metadata": {},
   "outputs": [],
   "source": [
    "\n",
    "word_counts={}\n",
    "for word in document:\n",
    "    if word in word_counts:\n",
    "        \n",
    "        word_counts[word] +1\n",
    "        \n",
    "    else:\n",
    "        word_counts = 1"
   ]
  },
  {
   "cell_type": "code",
   "execution_count": null,
   "id": "7832df2c",
   "metadata": {},
   "outputs": [],
   "source": [
    "from collections import defaultdict\n",
    "\n",
    "word_counts = defaultdict(int)\n",
    "for word in document:\n",
    "    word_counts[word] += 1"
   ]
  },
  {
   "cell_type": "code",
   "execution_count": null,
   "id": "7cad7534",
   "metadata": {},
   "outputs": [],
   "source": [
    "from collections import Counter\n",
    "k =Counter([0,1,2,0])\n",
    "\n",
    "k"
   ]
  },
  {
   "cell_type": "code",
   "execution_count": null,
   "id": "9f8cedd2",
   "metadata": {},
   "outputs": [],
   "source": [
    "x = 0\n",
    "while x < 10:\n",
    "    print(f\"{x} is less than 10\")\n",
    "    x+=1\n",
    "print(x)"
   ]
  },
  {
   "cell_type": "code",
   "execution_count": null,
   "id": "ae6d6ae1",
   "metadata": {},
   "outputs": [],
   "source": [
    "for x in range(10):\n",
    "    \n",
    "    print(f\"{x} is less than 10\")\n",
    "    if x ==3:\n",
    "        continue\n",
    "    else:\n",
    "        if x == 5:\n",
    "            break\n"
   ]
  },
  {
   "cell_type": "code",
   "execution_count": null,
   "id": "929ebf6c",
   "metadata": {},
   "outputs": [],
   "source": [
    "def smallest_item(xs):\n",
    "    return min(xs)\n",
    "\n",
    "assert smallest_item([10, 20, 5, 40]) == 5\n",
    "assert smallest_item([1, 0, -1, 2]) == -1\n",
    "print(smallest_item)"
   ]
  },
  {
   "cell_type": "code",
   "execution_count": null,
   "id": "a76a12d1",
   "metadata": {},
   "outputs": [],
   "source": [
    "n =20\n",
    "\n",
    "def generate_range(n):\n",
    "    i = 0\n",
    "    for i in n:\n",
    "        return i\n",
    "        i+=1\n",
    "print(i)\n",
    "    \n"
   ]
  },
  {
   "cell_type": "code",
   "execution_count": null,
   "id": "4908497e",
   "metadata": {},
   "outputs": [],
   "source": [
    "names = [\"Alice\", \"Bob\", \"Charlie\", \"Debbie\"]\n",
    "for i,name in enumerate(names):\n",
    "        print(i)\n",
    "        print(name)"
   ]
  },
  {
   "cell_type": "code",
   "execution_count": null,
   "id": "a4816e71",
   "metadata": {},
   "outputs": [],
   "source": [
    "drugs = ['Para', 'cafalgin', 'ciro', 'nugel']\n",
    "for i,drug in enumerate(drugs):\n",
    "    print(i)\n",
    "    print(drug)"
   ]
  },
  {
   "cell_type": "code",
   "execution_count": null,
   "id": "559b13f4",
   "metadata": {},
   "outputs": [],
   "source": [
    "import random\n",
    "random.seed(10)\n",
    "\n",
    "four_uniform_randoms = [random.random() for _ in range(4)]\n",
    "\n",
    "print(four_uniform_randoms)"
   ]
  },
  {
   "cell_type": "code",
   "execution_count": null,
   "id": "ceb42a9f",
   "metadata": {},
   "outputs": [],
   "source": [
    "random.seed(10)\n",
    "\n",
    "print(random.random())"
   ]
  },
  {
   "cell_type": "code",
   "execution_count": null,
   "id": "01e20cae",
   "metadata": {},
   "outputs": [],
   "source": [
    "random.seed(10)\n",
    "print(random.random())\n",
    "print(random.random())\n",
    "print(random.random())\n",
    "print(random.random())"
   ]
  },
  {
   "cell_type": "code",
   "execution_count": null,
   "id": "550b3231",
   "metadata": {},
   "outputs": [],
   "source": [
    "random.randrange(10)\n"
   ]
  },
  {
   "cell_type": "code",
   "execution_count": null,
   "id": "9175a5ce",
   "metadata": {},
   "outputs": [],
   "source": [
    "random.randrange(3,6)"
   ]
  },
  {
   "cell_type": "code",
   "execution_count": null,
   "id": "8ad52e1c",
   "metadata": {},
   "outputs": [],
   "source": [
    "list = [1,2,3,4,5,6,7,8,9,10]\n",
    "\n",
    "random.shuffle(list)\n",
    "\n",
    "print(list)"
   ]
  },
  {
   "cell_type": "code",
   "execution_count": null,
   "id": "1f54da90",
   "metadata": {},
   "outputs": [],
   "source": [
    "lottery_numbers = range(100)\n",
    "\n",
    "winning_numbers = random.sample(lottery_numbers,6)\n",
    "print(winning_numbers)"
   ]
  },
  {
   "cell_type": "code",
   "execution_count": null,
   "id": "2fad9c27",
   "metadata": {},
   "outputs": [],
   "source": [
    "bet_numbers = range(100)\n",
    "winner = random.sample(bet_numbers,5)\n",
    "print(winner)"
   ]
  },
  {
   "cell_type": "code",
   "execution_count": null,
   "id": "2db9c377",
   "metadata": {},
   "outputs": [],
   "source": [
    "list1 = ['nam','love','sex']\n",
    "list2 = [1,2,3]\n",
    "[pair for pair in zip(list1,list2)]"
   ]
  },
  {
   "cell_type": "markdown",
   "id": "ae136df5",
   "metadata": {},
   "source": [
    "DATA VISUALIZATION"
   ]
  },
  {
   "cell_type": "code",
   "execution_count": 1,
   "id": "4ea534d0",
   "metadata": {},
   "outputs": [
    {
     "data": {
      "image/png": "[encoded data removed]",
      "text/plain": [
       "<Figure size 432x288 with 1 Axes>"
      ]
     },
     "metadata": {
      "needs_background": "light"
     },
     "output_type": "display_data"
    }
   ],
   "source": [
    "from matplotlib import pyplot as plt\n",
    "\n",
    "years = [1950, 1960, 1970, 1980, 1990, 2000, 2010]\n",
    "gdp = [300.2, 543.3, 1075.9, 2862.5, 5979.6, 10289.7, 14958.3]\n",
    "\n",
    "# create a line chart, years on x-axis, gdp on y-axis\n",
    "plt.plot(years,gdp, color = 'green',marker = 'o' ,linestyle = 'solid')\n",
    "\n",
    "plt.title('NORMINAL GDP')\n",
    "plt.ylabel('bILLIONS OF $')\n",
    "plt.xlabel('YEARS')\n",
    "\n",
    "plt.show()"
   ]
  },
  {
   "cell_type": "code",
   "execution_count": 2,
   "id": "af7b4b7f",
   "metadata": {},
   "outputs": [
    {
     "data": {
      "image/png": "[encoded data removed]",
      "text/plain": [
       "<Figure size 432x288 with 1 Axes>"
      ]
     },
     "metadata": {
      "needs_background": "light"
     },
     "output_type": "display_data"
    }
   ],
   "source": [
    "movies = [\"Annie Hall\", \"Ben-Hur\", \"Casablanca\", \"Gandhi\", \"West Side Story\"]\n",
    "num_oscars = [5, 11, 3, 8, 10]\n",
    "\n",
    "# plot bars with left x-coordinates [0, 1, 2, 3, 4], heights [num_oscars]\n",
    "plt.bar(range(len(movies)), num_oscars)\n",
    "plt.xticks(range(len(movies)), movies)\n",
    "\n",
    "# label names\n",
    "plt.title('MOVIE TITLES')\n",
    "plt.ylabel('Academy Movie Awards')\n",
    "\n",
    "plt.show()\n"
   ]
  },
  {
   "cell_type": "code",
   "execution_count": 3,
   "id": "8fb4216c",
   "metadata": {},
   "outputs": [
    {
     "data": {
      "image/png": "[encoded data removed]",
      "text/plain": [
       "<Figure size 432x288 with 1 Axes>"
      ]
     },
     "metadata": {
      "needs_background": "light"
     },
     "output_type": "display_data"
    }
   ],
   "source": [
    "from collections import Counter\n",
    "\n",
    "grades = [83, 95, 91, 87, 70, 0, 85, 82, 100, 67, 73, 77, 0]\n",
    "\n",
    "# Bucket grades by decile, but put 100 in with the 90s\n",
    "hist = Counter(min(grade // 10 * 10, 90) for grade in grades)\n",
    "\n",
    "\n",
    "plt.bar([x + 5 for x in hist.keys()],    #shift bar right by 5\n",
    "       hist.values(),                      #Give each bar each correct height\n",
    "       10,                                #Give each bar a width of 10\n",
    "       edgecolor = (0, 0, 0))             #Black edges for each bar \n",
    "\n",
    "plt.axis([-5,105, 0,5])                   #x-axis from -5 to 105, y-axis from 0 to 5\n",
    "\n",
    "plt.xticks([10 * i for i in range(11)])\n",
    "plt.xlabel('Decile')\n",
    "plt.ylabel('# of Students')\n",
    "plt.title(\"Distribution of Exam 1 Grades\")\n",
    "plt.show()"
   ]
  },
  {
   "cell_type": "code",
   "execution_count": 4,
   "id": "bf096c7a",
   "metadata": {
    "collapsed": true
   },
   "outputs": [
    {
     "data": {
      "image/png": "[encoded data removed]",
      "text/plain": [
       "<Figure size 432x288 with 1 Axes>"
      ]
     },
     "metadata": {
      "needs_background": "light"
     },
     "output_type": "display_data"
    }
   ],
   "source": [
    "mention = [500,505]\n",
    "years = [2017,2018]\n",
    "plt.bar(years, mention, 0.8)\n",
    "plt.xticks(years)\n",
    "plt.ylabel(\"# of times I heard someone say 'data science'\")\n",
    "\n",
    " #if you don't do this, matplotlib will label the x-axis 0, 1\n",
    "# and then add a +2.013e3 off in the corner (bad matplotlib!)\n",
    "\n",
    "plt.ticklabel_format(useOffset=False)\n",
    "\n",
    "plt.axis([2016.5, 2018.5, 499, 506])\n",
    "plt.title('Look at huge screen')\n",
    "\n",
    "\n",
    "plt.show()"
   ]
  },
  {
   "cell_type": "markdown",
   "id": "7257302a",
   "metadata": {},
   "source": [
    "LINE CHARTS"
   ]
  },
  {
   "cell_type": "code",
   "execution_count": 7,
   "id": "6779603c",
   "metadata": {},
   "outputs": [
    {
     "data": {
      "image/png": "[encoded data removed]",
      "text/plain": [
       "<Figure size 432x288 with 1 Axes>"
      ]
     },
     "metadata": {
      "needs_background": "light"
     },
     "output_type": "display_data"
    }
   ],
   "source": [
    "variance =  [1, 2, 4, 8, 16, 32, 64, 128, 256]\n",
    "\n",
    "bias_squared =  [256, 128, 64, 32, 16, 8, 4, 2, 1]\n",
    "\n",
    "total_error = [ x + y for x, y in zip(model, bias_squared)]\n",
    "xs = [i for i, _ in enumerate(variance)]\n",
    "\n",
    "# We can make multiple calls to plt.plot\n",
    "# to show multiple series on the same chart\n",
    "\n",
    "plt.plot(xs, variance, 'g-', label='variance')\n",
    "plt.plot(xs, bias_squared, 'r-', label = 'bias^2')\n",
    "plt.plot(xs, total_error, 'b', label = 'total_error')\n",
    "\n",
    "plt.legend(loc=9)\n",
    "plt.xlabel('model complexity')\n",
    "plt.xticks([])\n",
    "plt.title(\"The Bias-Variance Tradeoff\")\n",
    "plt.show()"
   ]
  },
  {
   "cell_type": "markdown",
   "id": "d929300a",
   "metadata": {},
   "source": [
    "SCATTERPLOT"
   ]
  },
  {
   "cell_type": "code",
   "execution_count": 7,
   "id": "b8360d93",
   "metadata": {},
   "outputs": [
    {
     "data": {
      "image/png": "[encoded data removed]",
      "text/plain": [
       "<Figure size 432x288 with 1 Axes>"
      ]
     },
     "metadata": {
      "needs_background": "light"
     },
     "output_type": "display_data"
    }
   ],
   "source": [
    "friends = [70, 65, 72, 63, 71, 64, 60, 64, 67]\n",
    "minutes = [175, 170, 205, 120, 220, 130, 105, 145, 190]\n",
    "labels  =['a', 'b', 'c', 'd', 'e', 'f', 'g', 'h', 'i']\n",
    "\n",
    "plt.scatter(friends,minutes)\n",
    "\n",
    "for label,friend,minute in zip(labels,friends,minutes):\n",
    "    plt.annotate(label,\n",
    "                xy = (friend,minute),\n",
    "                xytext = (5 ,-5),\n",
    "                textcoords = 'offset points')\n",
    "for points,test2,test1 in zip(point,test_grade2,test_grade1):\n",
    "    plt.annotate(points,\n",
    "                xy = (test_grade1,test_grade2),\n",
    "                xytext =(5, -5),\n",
    "                textcoords = 'offset points')    \n",
    "plt.title(\"Daily Minutes vs. Number of Friends\")\n",
    "plt.xlabel(\"# of friends\")\n",
    "plt.ylabel(\"daily minutes spent on the site\")\n",
    "plt.show()"
   ]
  },
  {
   "cell_type": "code",
   "execution_count": 2,
   "id": "d2786efe",
   "metadata": {},
   "outputs": [
    {
     "data": {
      "image/png": "[encoded data removed]",
      "text/plain": [
       "<Figure size 432x288 with 1 Axes>"
      ]
     },
     "metadata": {
      "needs_background": "light"
     },
     "output_type": "display_data"
    }
   ],
   "source": [
    "test_grade1 = [99, 90, 85, 97, 80]\n",
    "test_grade2 = [100, 85, 60, 90, 70]\n",
    "point = ['a','b','c','d','e']\n",
    "\n",
    "plt.scatter(test_grade1, test_grade2)\n",
    "\n",
    "\n",
    "plt.xlabel(\"Grade 1\")\n",
    "plt.ylabel(\"Grade 2\")\n",
    "plt.title('Gradings')\n",
    "plt.show()"
   ]
  },
  {
   "cell_type": "markdown",
   "id": "dc853edc",
   "metadata": {},
   "source": [
    "MATIRICES"
   ]
  },
  {
   "cell_type": "code",
   "execution_count": null,
   "id": "51125538",
   "metadata": {},
   "outputs": [],
   "source": [
    "from typing import Tuple"
   ]
  }
 ],
 "metadata": {
  "kernelspec": {
   "display_name": "Python 3 (ipykernel)",
   "language": "python",
   "name": "python3"
  },
  "language_info": {
   "codemirror_mode": {
    "name": "ipython",
    "version": 3
   },
   "file_extension": ".py",
   "mimetype": "text/x-python",
   "name": "python",
   "nbconvert_exporter": "python",
   "pygments_lexer": "ipython3",
   "version": "3.9.12"
  }
 },
 "nbformat": 4,
 "nbformat_minor": 5
}
