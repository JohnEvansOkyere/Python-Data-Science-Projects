{
 "cells": [
  {
   "cell_type": "code",
   "execution_count": 1,
   "metadata": {},
   "outputs": [
    {
     "name": "stdout",
     "output_type": "stream",
     "text": [
      "Note: you may need to restart the kernel to use updated packages.\n"
     ]
    },
    {
     "name": "stderr",
     "output_type": "stream",
     "text": [
      "ERROR: Could not find a version that satisfies the requirement state_choices (from versions: none)\n",
      "ERROR: No matching distribution found for state_choices\n"
     ]
    }
   ],
   "source": [
    "pip install state_choices"
   ]
  },
  {
   "cell_type": "code",
   "execution_count": 10,
   "metadata": {},
   "outputs": [
    {
     "ename": "ModuleNotFoundError",
     "evalue": "No module named 'state_choices'",
     "output_type": "error",
     "traceback": [
      "\u001b[1;31m---------------------------------------------------------------------------\u001b[0m",
      "\u001b[1;31mModuleNotFoundError\u001b[0m                       Traceback (most recent call last)",
      "Cell \u001b[1;32mIn[10], line 8\u001b[0m\n\u001b[0;32m      6\u001b[0m \u001b[38;5;28;01mfrom\u001b[39;00m \u001b[38;5;21;01mfaicons\u001b[39;00m \u001b[38;5;28;01mimport\u001b[39;00m icon_svg\n\u001b[0;32m      7\u001b[0m \u001b[38;5;28;01mfrom\u001b[39;00m \u001b[38;5;21;01mshinywidgets\u001b[39;00m \u001b[38;5;28;01mimport\u001b[39;00m render_plotly\n\u001b[1;32m----> 8\u001b[0m \u001b[38;5;28;01mfrom\u001b[39;00m \u001b[38;5;21;01mstate_choices\u001b[39;00m \u001b[38;5;28;01mimport\u001b[39;00m STATE_CHOICES\n\u001b[0;32m     10\u001b[0m \u001b[38;5;28;01mfrom\u001b[39;00m \u001b[38;5;21;01mshiny\u001b[39;00m \u001b[38;5;28;01mimport\u001b[39;00m reactive\n\u001b[0;32m     11\u001b[0m \u001b[38;5;28;01mfrom\u001b[39;00m \u001b[38;5;21;01mshiny\u001b[39;00m\u001b[38;5;21;01m.\u001b[39;00m\u001b[38;5;21;01mexpress\u001b[39;00m \u001b[38;5;28;01mimport\u001b[39;00m \u001b[38;5;28minput\u001b[39m, render, ui\n",
      "\u001b[1;31mModuleNotFoundError\u001b[0m: No module named 'state_choices'"
     ]
    }
   ],
   "source": [
    "from datetime import datetime\n",
    "from pathlib import Path\n",
    "\n",
    "import pandas as pd\n",
    "import plotly.express as px\n",
    "from faicons import icon_svg\n",
    "from shinywidgets import render_plotly\n",
    "from state_choices import STATE_CHOICES\n",
    "\n",
    "from shiny import reactive\n",
    "from shiny.express import input, render, ui\n"
   ]
  },
  {
   "cell_type": "code",
   "execution_count": 9,
   "metadata": {},
   "outputs": [],
   "source": [
    "#Reading the files\n",
    "\n",
    "# Assuming the CSV files are in the same directory as the notebook or script\n",
    "new_listing_path = Path(\"Metro_new_listings_uc_sfrcondo_month.csv\")\n",
    "median_listing_path = Path(\"Metro_invt_fs_uc_sfrcondo_sm_month.csv\")\n",
    "for_sale_inventory_path = Path(\"Metro_mlp_uc_sfrcondo_sm_month.csv\")\n",
    "\n",
    "new_listing_df = pd.read_csv(new_listing_path)\n",
    "median_listing_df = pd.read_csv(median_listing_path)\n",
    "for_sale_inventory_df = pd.read_csv(for_sale_inventory_path)\n",
    "\n"
   ]
  },
  {
   "cell_type": "code",
   "execution_count": 8,
   "metadata": {},
   "outputs": [
    {
     "ename": "NameError",
     "evalue": "name 'STATE_CHOICES' is not defined",
     "output_type": "error",
     "traceback": [
      "\u001b[1;31m---------------------------------------------------------------------------\u001b[0m",
      "\u001b[1;31mNameError\u001b[0m                                 Traceback (most recent call last)",
      "Cell \u001b[1;32mIn[8], line 20\u001b[0m\n\u001b[0;32m     10\u001b[0m     \u001b[38;5;28;01mreturn\u001b[39;00m df[(dates \u001b[38;5;241m>\u001b[39m\u001b[38;5;241m=\u001b[39m rng[\u001b[38;5;241m0\u001b[39m]) \u001b[38;5;241m&\u001b[39m (dates \u001b[38;5;241m<\u001b[39m\u001b[38;5;241m=\u001b[39m rng[\u001b[38;5;241m1\u001b[39m])]\n\u001b[0;32m     14\u001b[0m \u001b[38;5;66;03m#Visualization\u001b[39;00m\n\u001b[0;32m     15\u001b[0m \u001b[38;5;66;03m# for_sale_inventory_df2 = for_sale_inventory_df[\"StateName\"].fillna(\"united state\")\u001b[39;00m\n\u001b[0;32m     16\u001b[0m \u001b[38;5;66;03m# for_sale_inventory_df2 = for_sale_inventory_df[\"StateName\"].drop_duplicate()\u001b[39;00m\n\u001b[0;32m     17\u001b[0m \u001b[38;5;66;03m# for_sale_inventory_df2 = for_sale_inventory_df.sort_values().tolist()\u001b[39;00m\n\u001b[1;32m---> 20\u001b[0m ui\u001b[38;5;241m.\u001b[39minput_select(\u001b[38;5;124m\"\u001b[39m\u001b[38;5;124mstate\u001b[39m\u001b[38;5;124m\"\u001b[39m, \u001b[38;5;124m\"\u001b[39m\u001b[38;5;124mfilter by state\u001b[39m\u001b[38;5;124m\"\u001b[39m, choices\u001b[38;5;241m=\u001b[39m\u001b[43mSTATE_CHOICES\u001b[49m)\n\u001b[0;32m     23\u001b[0m \u001b[38;5;66;03m#Plotly Visualizations of Median Home Price per State\u001b[39;00m\n\u001b[0;32m     24\u001b[0m \u001b[38;5;129m@render_plotly\u001b[39m\n\u001b[0;32m     25\u001b[0m \n\u001b[0;32m     26\u001b[0m \u001b[38;5;28;01mdef\u001b[39;00m \u001b[38;5;21mlist_price_plot\u001b[39m():\n\u001b[0;32m     27\u001b[0m     \u001b[38;5;66;03m# Grouping by state name and calculating the mean for each state\u001b[39;00m\n",
      "\u001b[1;31mNameError\u001b[0m: name 'STATE_CHOICES' is not defined"
     ]
    }
   ],
   "source": [
    "#Helper functions\n",
    "#Converting to datetime\n",
    "\n",
    "def string_to_date(date_str):\n",
    "    return datetime.strptime(date_str, \"%Y-%m-%d\").date()\n",
    "\n",
    "def filter_by_date(df: pd.DataFrame, date_range: tuple):\n",
    "    rng = sorted(date_range)\n",
    "    dates = pd.to_datetime(df[\"Date\"], format=\"%Y-%m-%d\").dt.date\n",
    "    return df[(dates >= rng[0]) & (dates <= rng[1])]\n",
    "\n",
    "\n",
    "\n",
    "#Visualization\n",
    "# for_sale_inventory_df2 = for_sale_inventory_df[\"StateName\"].fillna(\"united state\")\n",
    "# for_sale_inventory_df2 = for_sale_inventory_df[\"StateName\"].drop_duplicate()\n",
    "# for_sale_inventory_df2 = for_sale_inventory_df.sort_values().tolist()\n",
    "\n",
    "\n",
    "ui.input_select(\"state\", \"filter by state\", choices=STATE_CHOICES)\n",
    "\n",
    "\n",
    "#Plotly Visualizations of Median Home Price per State\n",
    "@render_plotly\n",
    "\n",
    "def list_price_plot():\n",
    "    # Grouping by state name and calculating the mean for each state\n",
    "    price1_grouped = median_listing_df.groupby('StateName').mean(numeric_only=True)\n",
    "    \n",
    "    # Selecting the date columns\n",
    "    date_columns = median_listing_df.columns[6:]\n",
    "    \n",
    "    # Resetting index for the grouped dataframe\n",
    "    price_grouped_date = price1_grouped.reset_index()\n",
    "    \n",
    "    # Melting the dataframe for visualization\n",
    "    price_df_for_viz = price_grouped_date.melt(id_vars=[\"StateName\"], var_name=\"Date\", value_name=\"Value\")\n",
    "\n",
    "    if input.state == \"United State\":\n",
    "        df = price_df_for_viz\n",
    "    else:\n",
    "        df = price_df_for_viz[price_df_for_viz[\"StateName\"] == input.state()]\n",
    "    \n",
    "    # Creating visualization using plotly\n",
    "    fig = px.line(df, x='Date', y='Value', color=\"StateName\")\n",
    "    fig.update_xaxes(title=\"\")\n",
    "    fig.update_yaxes(title=\"\")\n",
    "    return fig\n",
    "\n",
    "@render.data_frame\n",
    "def list_price_data():\n",
    "     if input.state == \"United State\":\n",
    "        df = median_listing_df\n",
    "    else:\n",
    "        df = median_listing_df[median_listing_df[\"StateName\"] == input.state()]\n",
    "     # Grouping by state name and calculating the mean for each state\n",
    "    price1_grouped = median_listing_df.groupby('StateName').mean(numeric_only=True)\n",
    "    \n",
    "    # Selecting the date columns\n",
    "    date_columns = median_listing_df.columns[6:]\n",
    "    \n",
    "    # Resetting index for the grouped dataframe\n",
    "    price_grouped_date = price1_grouped.reset_index()\n",
    "    \n",
    "    # Melting the dataframe for visualization\n",
    "    price_df_for_viz = price_grouped_date.melt(id_vars=[\"StateName\"], var_name=\"Date\", value_name=\"Value\")\n",
    "\n",
    "\n",
    "    return render.DataGrid(df)\n",
    "\n",
    "#Plotly Visualization for home for sale per state\n",
    "\n",
    "def for_sale_plot():\n",
    "    # Grouping by state name and calculating the mean for each state\n",
    "    price2_grouped = median_listing_df.groupby('StateName').sum(numeric_only=True)\n",
    "    \n",
    "    # Selecting the date columns\n",
    "    date_columns = median_listing_df.columns[6:]\n",
    "    \n",
    "    # Resetting index for the grouped dataframe\n",
    "    price2_grouped_date = price2_grouped.reset_index()\n",
    "    \n",
    "    # Melting the dataframe for visualization\n",
    "    price2_df_for_viz = price2_grouped_date.melt(id_vars=[\"StateName\"], var_name=\"Date\", value_name=\"Value\")\n",
    "    \n",
    "    # Creating visualization using plotly\n",
    "    fig = px.line(price2_df_for_viz, x='Date', y='Value', color=\"StateName\")\n",
    "    fig.update_xaxes(title=\"\")\n",
    "    fig.update_yaxes(title=\"\")\n",
    "    return fig\n",
    "\n",
    "\n",
    "\n",
    "\n",
    "#Plotly visualization of listing per state\n",
    "\n",
    "def listings_plot():\n",
    "    # Grouping by state name and calculating the mean for each state\n",
    "    price3_grouped = new_listing_df.groupby('StateName').sum(numeric_only=True)\n",
    "    \n",
    "    # Selecting the date columns\n",
    "    date_columns = new_listing_df.columns[6:]\n",
    "    \n",
    "    # Resetting index for the grouped dataframe\n",
    "    price3_grouped_date = price3_grouped.reset_index()\n",
    "    \n",
    "    # Melting the dataframe for visualization\n",
    "    price_df_for_viz = price3_grouped_date.melt(id_vars=[\"StateName\"], var_name=\"Date\", value_name=\"Value\")\n",
    "    \n",
    "    # Creating visualization using plotly\n",
    "    fig = px.line(price_df_for_viz, x='Date', y='Value', color=\"StateName\")\n",
    "    fig.update_xaxes(title=\"\")\n",
    "    fig.update_yaxes(title=\"\")\n",
    "    return fig\n",
    "\n",
    "# Generate the plot\n",
    "#fig = list_price_plot()\n",
    "\n"
   ]
  },
  {
   "cell_type": "code",
   "execution_count": null,
   "metadata": {},
   "outputs": [],
   "source": [
    "\n",
    "\n"
   ]
  }
 ],
 "metadata": {
  "kernelspec": {
   "display_name": "Python 3 (ipykernel)",
   "language": "python",
   "name": "python3"
  },
  "language_info": {
   "codemirror_mode": {
    "name": "ipython",
    "version": 3
   },
   "file_extension": ".py",
   "mimetype": "text/x-python",
   "name": "python",
   "nbconvert_exporter": "python",
   "pygments_lexer": "ipython3",
   "version": "3.12.4"
  }
 },
 "nbformat": 4,
 "nbformat_minor": 2
}
