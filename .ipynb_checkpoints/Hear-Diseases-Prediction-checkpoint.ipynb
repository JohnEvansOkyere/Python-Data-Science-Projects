{
 "cells": [
  {
   "cell_type": "code",
   "execution_count": 1,
   "id": "cf044e29",
   "metadata": {},
   "outputs": [],
   "source": [
    "import numpy as np\n",
    "import pandas as pd\n",
    "import matplotlib.pyplot as plt\n",
    "import seaborn as sns\n",
    "\n",
    "%matplotlib inline\n",
    "import warnings"
   ]
  },
  {
   "cell_type": "code",
   "execution_count": 2,
   "id": "0a72ac58",
   "metadata": {},
   "outputs": [
    {
     "data": {
      "text/html": [
       "<div>\n",
       "<style scoped>\n",
       "    .dataframe tbody tr th:only-of-type {\n",
       "        vertical-align: middle;\n",
       "    }\n",
       "\n",
       "    .dataframe tbody tr th {\n",
       "        vertical-align: top;\n",
       "    }\n",
       "\n",
       "    .dataframe thead th {\n",
       "        text-align: right;\n",
       "    }\n",
       "</style>\n",
       "<table border=\"1\" class=\"dataframe\">\n",
       "  <thead>\n",
       "    <tr style=\"text-align: right;\">\n",
       "      <th></th>\n",
       "      <th>age</th>\n",
       "      <th>sex</th>\n",
       "      <th>cp</th>\n",
       "      <th>trestbps</th>\n",
       "      <th>chol</th>\n",
       "      <th>fbs</th>\n",
       "      <th>restecg</th>\n",
       "      <th>thalach</th>\n",
       "      <th>exang</th>\n",
       "      <th>oldpeak</th>\n",
       "      <th>slope</th>\n",
       "      <th>ca</th>\n",
       "      <th>thal</th>\n",
       "      <th>target</th>\n",
       "    </tr>\n",
       "  </thead>\n",
       "  <tbody>\n",
       "    <tr>\n",
       "      <th>0</th>\n",
       "      <td>63</td>\n",
       "      <td>1</td>\n",
       "      <td>3</td>\n",
       "      <td>145</td>\n",
       "      <td>233</td>\n",
       "      <td>1</td>\n",
       "      <td>0</td>\n",
       "      <td>150</td>\n",
       "      <td>0</td>\n",
       "      <td>2.3</td>\n",
       "      <td>0</td>\n",
       "      <td>0</td>\n",
       "      <td>1</td>\n",
       "      <td>1</td>\n",
       "    </tr>\n",
       "    <tr>\n",
       "      <th>1</th>\n",
       "      <td>37</td>\n",
       "      <td>1</td>\n",
       "      <td>2</td>\n",
       "      <td>130</td>\n",
       "      <td>250</td>\n",
       "      <td>0</td>\n",
       "      <td>1</td>\n",
       "      <td>187</td>\n",
       "      <td>0</td>\n",
       "      <td>3.5</td>\n",
       "      <td>0</td>\n",
       "      <td>0</td>\n",
       "      <td>2</td>\n",
       "      <td>1</td>\n",
       "    </tr>\n",
       "    <tr>\n",
       "      <th>2</th>\n",
       "      <td>41</td>\n",
       "      <td>0</td>\n",
       "      <td>1</td>\n",
       "      <td>130</td>\n",
       "      <td>204</td>\n",
       "      <td>0</td>\n",
       "      <td>0</td>\n",
       "      <td>172</td>\n",
       "      <td>0</td>\n",
       "      <td>1.4</td>\n",
       "      <td>2</td>\n",
       "      <td>0</td>\n",
       "      <td>2</td>\n",
       "      <td>1</td>\n",
       "    </tr>\n",
       "    <tr>\n",
       "      <th>3</th>\n",
       "      <td>56</td>\n",
       "      <td>1</td>\n",
       "      <td>1</td>\n",
       "      <td>120</td>\n",
       "      <td>236</td>\n",
       "      <td>0</td>\n",
       "      <td>1</td>\n",
       "      <td>178</td>\n",
       "      <td>0</td>\n",
       "      <td>0.8</td>\n",
       "      <td>2</td>\n",
       "      <td>0</td>\n",
       "      <td>2</td>\n",
       "      <td>1</td>\n",
       "    </tr>\n",
       "    <tr>\n",
       "      <th>4</th>\n",
       "      <td>57</td>\n",
       "      <td>0</td>\n",
       "      <td>0</td>\n",
       "      <td>120</td>\n",
       "      <td>354</td>\n",
       "      <td>0</td>\n",
       "      <td>1</td>\n",
       "      <td>163</td>\n",
       "      <td>1</td>\n",
       "      <td>0.6</td>\n",
       "      <td>2</td>\n",
       "      <td>0</td>\n",
       "      <td>2</td>\n",
       "      <td>1</td>\n",
       "    </tr>\n",
       "  </tbody>\n",
       "</table>\n",
       "</div>"
      ],
      "text/plain": [
       "   age  sex  cp  trestbps  chol  fbs  restecg  thalach  exang  oldpeak  slope  \\\n",
       "0   63    1   3       145   233    1        0      150      0      2.3      0   \n",
       "1   37    1   2       130   250    0        1      187      0      3.5      0   \n",
       "2   41    0   1       130   204    0        0      172      0      1.4      2   \n",
       "3   56    1   1       120   236    0        1      178      0      0.8      2   \n",
       "4   57    0   0       120   354    0        1      163      1      0.6      2   \n",
       "\n",
       "   ca  thal  target  \n",
       "0   0     1       1  \n",
       "1   0     2       1  \n",
       "2   0     2       1  \n",
       "3   0     2       1  \n",
       "4   0     2       1  "
      ]
     },
     "execution_count": 2,
     "metadata": {},
     "output_type": "execute_result"
    }
   ],
   "source": [
    "data = pd.read_csv('heart.csv')\n",
    "\n",
    "data.head()"
   ]
  },
  {
   "cell_type": "code",
   "execution_count": 3,
   "id": "fa2fd869",
   "metadata": {},
   "outputs": [
    {
     "data": {
      "text/html": [
       "<div>\n",
       "<style scoped>\n",
       "    .dataframe tbody tr th:only-of-type {\n",
       "        vertical-align: middle;\n",
       "    }\n",
       "\n",
       "    .dataframe tbody tr th {\n",
       "        vertical-align: top;\n",
       "    }\n",
       "\n",
       "    .dataframe thead th {\n",
       "        text-align: right;\n",
       "    }\n",
       "</style>\n",
       "<table border=\"1\" class=\"dataframe\">\n",
       "  <thead>\n",
       "    <tr style=\"text-align: right;\">\n",
       "      <th></th>\n",
       "      <th>age</th>\n",
       "      <th>sex</th>\n",
       "      <th>cp</th>\n",
       "      <th>trestbps</th>\n",
       "      <th>chol</th>\n",
       "      <th>fbs</th>\n",
       "      <th>restecg</th>\n",
       "      <th>thalach</th>\n",
       "      <th>exang</th>\n",
       "      <th>oldpeak</th>\n",
       "      <th>slope</th>\n",
       "      <th>ca</th>\n",
       "      <th>thal</th>\n",
       "      <th>target</th>\n",
       "    </tr>\n",
       "  </thead>\n",
       "  <tbody>\n",
       "    <tr>\n",
       "      <th>56</th>\n",
       "      <td>48</td>\n",
       "      <td>1</td>\n",
       "      <td>0</td>\n",
       "      <td>122</td>\n",
       "      <td>222</td>\n",
       "      <td>0</td>\n",
       "      <td>0</td>\n",
       "      <td>186</td>\n",
       "      <td>0</td>\n",
       "      <td>0.0</td>\n",
       "      <td>2</td>\n",
       "      <td>0</td>\n",
       "      <td>2</td>\n",
       "      <td>1</td>\n",
       "    </tr>\n",
       "    <tr>\n",
       "      <th>40</th>\n",
       "      <td>51</td>\n",
       "      <td>0</td>\n",
       "      <td>2</td>\n",
       "      <td>140</td>\n",
       "      <td>308</td>\n",
       "      <td>0</td>\n",
       "      <td>0</td>\n",
       "      <td>142</td>\n",
       "      <td>0</td>\n",
       "      <td>1.5</td>\n",
       "      <td>2</td>\n",
       "      <td>1</td>\n",
       "      <td>2</td>\n",
       "      <td>1</td>\n",
       "    </tr>\n",
       "    <tr>\n",
       "      <th>147</th>\n",
       "      <td>60</td>\n",
       "      <td>0</td>\n",
       "      <td>3</td>\n",
       "      <td>150</td>\n",
       "      <td>240</td>\n",
       "      <td>0</td>\n",
       "      <td>1</td>\n",
       "      <td>171</td>\n",
       "      <td>0</td>\n",
       "      <td>0.9</td>\n",
       "      <td>2</td>\n",
       "      <td>0</td>\n",
       "      <td>2</td>\n",
       "      <td>1</td>\n",
       "    </tr>\n",
       "    <tr>\n",
       "      <th>123</th>\n",
       "      <td>54</td>\n",
       "      <td>0</td>\n",
       "      <td>2</td>\n",
       "      <td>108</td>\n",
       "      <td>267</td>\n",
       "      <td>0</td>\n",
       "      <td>0</td>\n",
       "      <td>167</td>\n",
       "      <td>0</td>\n",
       "      <td>0.0</td>\n",
       "      <td>2</td>\n",
       "      <td>0</td>\n",
       "      <td>2</td>\n",
       "      <td>1</td>\n",
       "    </tr>\n",
       "    <tr>\n",
       "      <th>3</th>\n",
       "      <td>56</td>\n",
       "      <td>1</td>\n",
       "      <td>1</td>\n",
       "      <td>120</td>\n",
       "      <td>236</td>\n",
       "      <td>0</td>\n",
       "      <td>1</td>\n",
       "      <td>178</td>\n",
       "      <td>0</td>\n",
       "      <td>0.8</td>\n",
       "      <td>2</td>\n",
       "      <td>0</td>\n",
       "      <td>2</td>\n",
       "      <td>1</td>\n",
       "    </tr>\n",
       "  </tbody>\n",
       "</table>\n",
       "</div>"
      ],
      "text/plain": [
       "     age  sex  cp  trestbps  chol  fbs  restecg  thalach  exang  oldpeak  \\\n",
       "56    48    1   0       122   222    0        0      186      0      0.0   \n",
       "40    51    0   2       140   308    0        0      142      0      1.5   \n",
       "147   60    0   3       150   240    0        1      171      0      0.9   \n",
       "123   54    0   2       108   267    0        0      167      0      0.0   \n",
       "3     56    1   1       120   236    0        1      178      0      0.8   \n",
       "\n",
       "     slope  ca  thal  target  \n",
       "56       2   0     2       1  \n",
       "40       2   1     2       1  \n",
       "147      2   0     2       1  \n",
       "123      2   0     2       1  \n",
       "3        2   0     2       1  "
      ]
     },
     "execution_count": 3,
     "metadata": {},
     "output_type": "execute_result"
    }
   ],
   "source": [
    "data.sample(5)"
   ]
  },
  {
   "cell_type": "markdown",
   "id": "0cf94443",
   "metadata": {},
   "source": [
    "Understanding the column names"
   ]
  },
  {
   "cell_type": "code",
   "execution_count": 4,
   "id": "0db4b103",
   "metadata": {},
   "outputs": [
    {
     "name": "stdout",
     "output_type": "stream",
     "text": [
      "age:\t\t\tage\n",
      "sex:\t\t\t1: male, 0: female\n",
      "cp:\t\t\tchest pain type, 1: typical angina, 2: atypical angina, 3: non-anginal pain, 4: asymptomatic\n",
      "trestbps:\t\t\tresting blood pressure\n",
      "chol:\t\t\t serum cholestoral in mg/dl\n",
      "fbs:\t\t\tfasting blood sugar > 120 mg/dl\n",
      "restecg:\t\t\tresting electrocardiographic results (values 0,1,2)\n",
      "thalach:\t\t\t maximum heart rate achieved\n",
      "exang:\t\t\texercise induced angina\n",
      "oldpeak:\t\t\toldpeak = ST depression induced by exercise relative to rest\n",
      "slope:\t\t\tthe slope of the peak exercise ST segment\n",
      "ca:\t\t\tnumber of major vessels (0-3) colored by flourosopy\n",
      "thal:\t\t\tthal: 3 = normal; 6 = fixed defect; 7 = reversable defect\n"
     ]
    }
   ],
   "source": [
    "info = [\"age\",\"1: male, 0: female\",\"chest pain type, 1: typical angina, 2: atypical angina, 3: non-anginal pain, 4: asymptomatic\",\"resting blood pressure\",\" serum cholestoral in mg/dl\",\"fasting blood sugar > 120 mg/dl\",\"resting electrocardiographic results (values 0,1,2)\",\" maximum heart rate achieved\",\"exercise induced angina\",\"oldpeak = ST depression induced by exercise relative to rest\",\"the slope of the peak exercise ST segment\",\"number of major vessels (0-3) colored by flourosopy\",\"thal: 3 = normal; 6 = fixed defect; 7 = reversable defect\"]\n",
    "\n",
    "\n",
    "\n",
    "for i in range(len(info)):\n",
    "    print(data.columns[i]+\":\\t\\t\\t\"+info[i])"
   ]
  },
  {
   "cell_type": "code",
   "execution_count": 5,
   "id": "65de34ea",
   "metadata": {},
   "outputs": [
    {
     "name": "stdout",
     "output_type": "stream",
     "text": [
      "<class 'pandas.core.frame.DataFrame'>\n",
      "RangeIndex: 303 entries, 0 to 302\n",
      "Data columns (total 14 columns):\n",
      " #   Column    Non-Null Count  Dtype  \n",
      "---  ------    --------------  -----  \n",
      " 0   age       303 non-null    int64  \n",
      " 1   sex       303 non-null    int64  \n",
      " 2   cp        303 non-null    int64  \n",
      " 3   trestbps  303 non-null    int64  \n",
      " 4   chol      303 non-null    int64  \n",
      " 5   fbs       303 non-null    int64  \n",
      " 6   restecg   303 non-null    int64  \n",
      " 7   thalach   303 non-null    int64  \n",
      " 8   exang     303 non-null    int64  \n",
      " 9   oldpeak   303 non-null    float64\n",
      " 10  slope     303 non-null    int64  \n",
      " 11  ca        303 non-null    int64  \n",
      " 12  thal      303 non-null    int64  \n",
      " 13  target    303 non-null    int64  \n",
      "dtypes: float64(1), int64(13)\n",
      "memory usage: 33.3 KB\n"
     ]
    }
   ],
   "source": [
    "data.info()"
   ]
  },
  {
   "cell_type": "code",
   "execution_count": 6,
   "id": "d4628eba",
   "metadata": {},
   "outputs": [
    {
     "data": {
      "text/html": [
       "<div>\n",
       "<style scoped>\n",
       "    .dataframe tbody tr th:only-of-type {\n",
       "        vertical-align: middle;\n",
       "    }\n",
       "\n",
       "    .dataframe tbody tr th {\n",
       "        vertical-align: top;\n",
       "    }\n",
       "\n",
       "    .dataframe thead th {\n",
       "        text-align: right;\n",
       "    }\n",
       "</style>\n",
       "<table border=\"1\" class=\"dataframe\">\n",
       "  <thead>\n",
       "    <tr style=\"text-align: right;\">\n",
       "      <th></th>\n",
       "      <th>age</th>\n",
       "      <th>sex</th>\n",
       "      <th>cp</th>\n",
       "      <th>trestbps</th>\n",
       "      <th>chol</th>\n",
       "      <th>fbs</th>\n",
       "      <th>restecg</th>\n",
       "      <th>thalach</th>\n",
       "      <th>exang</th>\n",
       "      <th>oldpeak</th>\n",
       "      <th>slope</th>\n",
       "      <th>ca</th>\n",
       "      <th>thal</th>\n",
       "      <th>target</th>\n",
       "    </tr>\n",
       "  </thead>\n",
       "  <tbody>\n",
       "    <tr>\n",
       "      <th>count</th>\n",
       "      <td>303.000000</td>\n",
       "      <td>303.000000</td>\n",
       "      <td>303.000000</td>\n",
       "      <td>303.000000</td>\n",
       "      <td>303.000000</td>\n",
       "      <td>303.000000</td>\n",
       "      <td>303.000000</td>\n",
       "      <td>303.000000</td>\n",
       "      <td>303.000000</td>\n",
       "      <td>303.000000</td>\n",
       "      <td>303.000000</td>\n",
       "      <td>303.000000</td>\n",
       "      <td>303.000000</td>\n",
       "      <td>303.000000</td>\n",
       "    </tr>\n",
       "    <tr>\n",
       "      <th>mean</th>\n",
       "      <td>54.366337</td>\n",
       "      <td>0.683168</td>\n",
       "      <td>0.966997</td>\n",
       "      <td>131.623762</td>\n",
       "      <td>246.264026</td>\n",
       "      <td>0.148515</td>\n",
       "      <td>0.528053</td>\n",
       "      <td>149.646865</td>\n",
       "      <td>0.326733</td>\n",
       "      <td>1.039604</td>\n",
       "      <td>1.399340</td>\n",
       "      <td>0.729373</td>\n",
       "      <td>2.313531</td>\n",
       "      <td>0.544554</td>\n",
       "    </tr>\n",
       "    <tr>\n",
       "      <th>std</th>\n",
       "      <td>9.082101</td>\n",
       "      <td>0.466011</td>\n",
       "      <td>1.032052</td>\n",
       "      <td>17.538143</td>\n",
       "      <td>51.830751</td>\n",
       "      <td>0.356198</td>\n",
       "      <td>0.525860</td>\n",
       "      <td>22.905161</td>\n",
       "      <td>0.469794</td>\n",
       "      <td>1.161075</td>\n",
       "      <td>0.616226</td>\n",
       "      <td>1.022606</td>\n",
       "      <td>0.612277</td>\n",
       "      <td>0.498835</td>\n",
       "    </tr>\n",
       "    <tr>\n",
       "      <th>min</th>\n",
       "      <td>29.000000</td>\n",
       "      <td>0.000000</td>\n",
       "      <td>0.000000</td>\n",
       "      <td>94.000000</td>\n",
       "      <td>126.000000</td>\n",
       "      <td>0.000000</td>\n",
       "      <td>0.000000</td>\n",
       "      <td>71.000000</td>\n",
       "      <td>0.000000</td>\n",
       "      <td>0.000000</td>\n",
       "      <td>0.000000</td>\n",
       "      <td>0.000000</td>\n",
       "      <td>0.000000</td>\n",
       "      <td>0.000000</td>\n",
       "    </tr>\n",
       "    <tr>\n",
       "      <th>25%</th>\n",
       "      <td>47.500000</td>\n",
       "      <td>0.000000</td>\n",
       "      <td>0.000000</td>\n",
       "      <td>120.000000</td>\n",
       "      <td>211.000000</td>\n",
       "      <td>0.000000</td>\n",
       "      <td>0.000000</td>\n",
       "      <td>133.500000</td>\n",
       "      <td>0.000000</td>\n",
       "      <td>0.000000</td>\n",
       "      <td>1.000000</td>\n",
       "      <td>0.000000</td>\n",
       "      <td>2.000000</td>\n",
       "      <td>0.000000</td>\n",
       "    </tr>\n",
       "    <tr>\n",
       "      <th>50%</th>\n",
       "      <td>55.000000</td>\n",
       "      <td>1.000000</td>\n",
       "      <td>1.000000</td>\n",
       "      <td>130.000000</td>\n",
       "      <td>240.000000</td>\n",
       "      <td>0.000000</td>\n",
       "      <td>1.000000</td>\n",
       "      <td>153.000000</td>\n",
       "      <td>0.000000</td>\n",
       "      <td>0.800000</td>\n",
       "      <td>1.000000</td>\n",
       "      <td>0.000000</td>\n",
       "      <td>2.000000</td>\n",
       "      <td>1.000000</td>\n",
       "    </tr>\n",
       "    <tr>\n",
       "      <th>75%</th>\n",
       "      <td>61.000000</td>\n",
       "      <td>1.000000</td>\n",
       "      <td>2.000000</td>\n",
       "      <td>140.000000</td>\n",
       "      <td>274.500000</td>\n",
       "      <td>0.000000</td>\n",
       "      <td>1.000000</td>\n",
       "      <td>166.000000</td>\n",
       "      <td>1.000000</td>\n",
       "      <td>1.600000</td>\n",
       "      <td>2.000000</td>\n",
       "      <td>1.000000</td>\n",
       "      <td>3.000000</td>\n",
       "      <td>1.000000</td>\n",
       "    </tr>\n",
       "    <tr>\n",
       "      <th>max</th>\n",
       "      <td>77.000000</td>\n",
       "      <td>1.000000</td>\n",
       "      <td>3.000000</td>\n",
       "      <td>200.000000</td>\n",
       "      <td>564.000000</td>\n",
       "      <td>1.000000</td>\n",
       "      <td>2.000000</td>\n",
       "      <td>202.000000</td>\n",
       "      <td>1.000000</td>\n",
       "      <td>6.200000</td>\n",
       "      <td>2.000000</td>\n",
       "      <td>4.000000</td>\n",
       "      <td>3.000000</td>\n",
       "      <td>1.000000</td>\n",
       "    </tr>\n",
       "  </tbody>\n",
       "</table>\n",
       "</div>"
      ],
      "text/plain": [
       "              age         sex          cp    trestbps        chol         fbs  \\\n",
       "count  303.000000  303.000000  303.000000  303.000000  303.000000  303.000000   \n",
       "mean    54.366337    0.683168    0.966997  131.623762  246.264026    0.148515   \n",
       "std      9.082101    0.466011    1.032052   17.538143   51.830751    0.356198   \n",
       "min     29.000000    0.000000    0.000000   94.000000  126.000000    0.000000   \n",
       "25%     47.500000    0.000000    0.000000  120.000000  211.000000    0.000000   \n",
       "50%     55.000000    1.000000    1.000000  130.000000  240.000000    0.000000   \n",
       "75%     61.000000    1.000000    2.000000  140.000000  274.500000    0.000000   \n",
       "max     77.000000    1.000000    3.000000  200.000000  564.000000    1.000000   \n",
       "\n",
       "          restecg     thalach       exang     oldpeak       slope          ca  \\\n",
       "count  303.000000  303.000000  303.000000  303.000000  303.000000  303.000000   \n",
       "mean     0.528053  149.646865    0.326733    1.039604    1.399340    0.729373   \n",
       "std      0.525860   22.905161    0.469794    1.161075    0.616226    1.022606   \n",
       "min      0.000000   71.000000    0.000000    0.000000    0.000000    0.000000   \n",
       "25%      0.000000  133.500000    0.000000    0.000000    1.000000    0.000000   \n",
       "50%      1.000000  153.000000    0.000000    0.800000    1.000000    0.000000   \n",
       "75%      1.000000  166.000000    1.000000    1.600000    2.000000    1.000000   \n",
       "max      2.000000  202.000000    1.000000    6.200000    2.000000    4.000000   \n",
       "\n",
       "             thal      target  \n",
       "count  303.000000  303.000000  \n",
       "mean     2.313531    0.544554  \n",
       "std      0.612277    0.498835  \n",
       "min      0.000000    0.000000  \n",
       "25%      2.000000    0.000000  \n",
       "50%      2.000000    1.000000  \n",
       "75%      3.000000    1.000000  \n",
       "max      3.000000    1.000000  "
      ]
     },
     "execution_count": 6,
     "metadata": {},
     "output_type": "execute_result"
    }
   ],
   "source": [
    "data.describe()"
   ]
  },
  {
   "cell_type": "code",
   "execution_count": 7,
   "id": "53ec3d5d",
   "metadata": {},
   "outputs": [
    {
     "data": {
      "text/plain": [
       "(303, 14)"
      ]
     },
     "execution_count": 7,
     "metadata": {},
     "output_type": "execute_result"
    }
   ],
   "source": [
    "data.shape"
   ]
  },
  {
   "cell_type": "code",
   "execution_count": 8,
   "id": "bcba39b8",
   "metadata": {},
   "outputs": [
    {
     "data": {
      "text/plain": [
       "age         0\n",
       "sex         0\n",
       "cp          0\n",
       "trestbps    0\n",
       "chol        0\n",
       "fbs         0\n",
       "restecg     0\n",
       "thalach     0\n",
       "exang       0\n",
       "oldpeak     0\n",
       "slope       0\n",
       "ca          0\n",
       "thal        0\n",
       "target      0\n",
       "dtype: int64"
      ]
     },
     "execution_count": 8,
     "metadata": {},
     "output_type": "execute_result"
    }
   ],
   "source": [
    "#Checking for null values\n",
    "\n",
    "data.isnull().sum()"
   ]
  },
  {
   "cell_type": "code",
   "execution_count": 9,
   "id": "27c0f6ec",
   "metadata": {},
   "outputs": [
    {
     "data": {
      "text/plain": [
       "1"
      ]
     },
     "execution_count": 9,
     "metadata": {},
     "output_type": "execute_result"
    }
   ],
   "source": [
    "data.duplicated().sum()"
   ]
  },
  {
   "cell_type": "markdown",
   "id": "dde9e37d",
   "metadata": {},
   "source": [
    "Renaming columns for clarity"
   ]
  },
  {
   "cell_type": "code",
   "execution_count": 10,
   "id": "8e083c63",
   "metadata": {},
   "outputs": [],
   "source": [
    "data = data.rename(\n",
    "    columns = {\n",
    "    'cp':'chest_pain_type',\n",
    "    'trestbps':'resting_blood_pressure',\n",
    "    'chol':'cholestoral',\n",
    "    'fbs':'fasting_blood_sugar',\n",
    "    'restecg':'resting_electrocardiographic_results',\n",
    "    'thalach':'max_heart_rate_achieved',\n",
    "    'exang':'exercise_induced_angina',\n",
    "    'oldpeak':'st_depression',\n",
    "    'slope':'st_slope',\n",
    "    'ca':'number_of_major_vessels',\n",
    "    'thal':'thalassemia'\n",
    "})"
   ]
  },
  {
   "cell_type": "code",
   "execution_count": 11,
   "id": "20fa9c11",
   "metadata": {},
   "outputs": [
    {
     "data": {
      "text/html": [
       "<div>\n",
       "<style scoped>\n",
       "    .dataframe tbody tr th:only-of-type {\n",
       "        vertical-align: middle;\n",
       "    }\n",
       "\n",
       "    .dataframe tbody tr th {\n",
       "        vertical-align: top;\n",
       "    }\n",
       "\n",
       "    .dataframe thead th {\n",
       "        text-align: right;\n",
       "    }\n",
       "</style>\n",
       "<table border=\"1\" class=\"dataframe\">\n",
       "  <thead>\n",
       "    <tr style=\"text-align: right;\">\n",
       "      <th></th>\n",
       "      <th>age</th>\n",
       "      <th>sex</th>\n",
       "      <th>chest_pain_type</th>\n",
       "      <th>resting_blood_pressure</th>\n",
       "      <th>cholestoral</th>\n",
       "      <th>fasting_blood_sugar</th>\n",
       "      <th>resting_electrocardiographic_results</th>\n",
       "      <th>max_heart_rate_achieved</th>\n",
       "      <th>exercise_induced_angina</th>\n",
       "      <th>st_depression</th>\n",
       "      <th>st_slope</th>\n",
       "      <th>number_of_major_vessels</th>\n",
       "      <th>thalassemia</th>\n",
       "      <th>target</th>\n",
       "    </tr>\n",
       "  </thead>\n",
       "  <tbody>\n",
       "    <tr>\n",
       "      <th>0</th>\n",
       "      <td>63</td>\n",
       "      <td>1</td>\n",
       "      <td>3</td>\n",
       "      <td>145</td>\n",
       "      <td>233</td>\n",
       "      <td>1</td>\n",
       "      <td>0</td>\n",
       "      <td>150</td>\n",
       "      <td>0</td>\n",
       "      <td>2.3</td>\n",
       "      <td>0</td>\n",
       "      <td>0</td>\n",
       "      <td>1</td>\n",
       "      <td>1</td>\n",
       "    </tr>\n",
       "    <tr>\n",
       "      <th>1</th>\n",
       "      <td>37</td>\n",
       "      <td>1</td>\n",
       "      <td>2</td>\n",
       "      <td>130</td>\n",
       "      <td>250</td>\n",
       "      <td>0</td>\n",
       "      <td>1</td>\n",
       "      <td>187</td>\n",
       "      <td>0</td>\n",
       "      <td>3.5</td>\n",
       "      <td>0</td>\n",
       "      <td>0</td>\n",
       "      <td>2</td>\n",
       "      <td>1</td>\n",
       "    </tr>\n",
       "    <tr>\n",
       "      <th>2</th>\n",
       "      <td>41</td>\n",
       "      <td>0</td>\n",
       "      <td>1</td>\n",
       "      <td>130</td>\n",
       "      <td>204</td>\n",
       "      <td>0</td>\n",
       "      <td>0</td>\n",
       "      <td>172</td>\n",
       "      <td>0</td>\n",
       "      <td>1.4</td>\n",
       "      <td>2</td>\n",
       "      <td>0</td>\n",
       "      <td>2</td>\n",
       "      <td>1</td>\n",
       "    </tr>\n",
       "    <tr>\n",
       "      <th>3</th>\n",
       "      <td>56</td>\n",
       "      <td>1</td>\n",
       "      <td>1</td>\n",
       "      <td>120</td>\n",
       "      <td>236</td>\n",
       "      <td>0</td>\n",
       "      <td>1</td>\n",
       "      <td>178</td>\n",
       "      <td>0</td>\n",
       "      <td>0.8</td>\n",
       "      <td>2</td>\n",
       "      <td>0</td>\n",
       "      <td>2</td>\n",
       "      <td>1</td>\n",
       "    </tr>\n",
       "    <tr>\n",
       "      <th>4</th>\n",
       "      <td>57</td>\n",
       "      <td>0</td>\n",
       "      <td>0</td>\n",
       "      <td>120</td>\n",
       "      <td>354</td>\n",
       "      <td>0</td>\n",
       "      <td>1</td>\n",
       "      <td>163</td>\n",
       "      <td>1</td>\n",
       "      <td>0.6</td>\n",
       "      <td>2</td>\n",
       "      <td>0</td>\n",
       "      <td>2</td>\n",
       "      <td>1</td>\n",
       "    </tr>\n",
       "  </tbody>\n",
       "</table>\n",
       "</div>"
      ],
      "text/plain": [
       "   age  sex  chest_pain_type  resting_blood_pressure  cholestoral  \\\n",
       "0   63    1                3                     145          233   \n",
       "1   37    1                2                     130          250   \n",
       "2   41    0                1                     130          204   \n",
       "3   56    1                1                     120          236   \n",
       "4   57    0                0                     120          354   \n",
       "\n",
       "   fasting_blood_sugar  resting_electrocardiographic_results  \\\n",
       "0                    1                                     0   \n",
       "1                    0                                     1   \n",
       "2                    0                                     0   \n",
       "3                    0                                     1   \n",
       "4                    0                                     1   \n",
       "\n",
       "   max_heart_rate_achieved  exercise_induced_angina  st_depression  st_slope  \\\n",
       "0                      150                        0            2.3         0   \n",
       "1                      187                        0            3.5         0   \n",
       "2                      172                        0            1.4         2   \n",
       "3                      178                        0            0.8         2   \n",
       "4                      163                        1            0.6         2   \n",
       "\n",
       "   number_of_major_vessels  thalassemia  target  \n",
       "0                        0            1       1  \n",
       "1                        0            2       1  \n",
       "2                        0            2       1  \n",
       "3                        0            2       1  \n",
       "4                        0            2       1  "
      ]
     },
     "execution_count": 11,
     "metadata": {},
     "output_type": "execute_result"
    }
   ],
   "source": [
    "data.head()"
   ]
  },
  {
   "cell_type": "code",
   "execution_count": 12,
   "id": "fb63fe50",
   "metadata": {},
   "outputs": [
    {
     "data": {
      "text/plain": [
       "age                                       int64\n",
       "sex                                       int64\n",
       "chest_pain_type                           int64\n",
       "resting_blood_pressure                    int64\n",
       "cholestoral                               int64\n",
       "fasting_blood_sugar                       int64\n",
       "resting_electrocardiographic_results      int64\n",
       "max_heart_rate_achieved                   int64\n",
       "exercise_induced_angina                   int64\n",
       "st_depression                           float64\n",
       "st_slope                                  int64\n",
       "number_of_major_vessels                   int64\n",
       "thalassemia                               int64\n",
       "target                                    int64\n",
       "dtype: object"
      ]
     },
     "execution_count": 12,
     "metadata": {},
     "output_type": "execute_result"
    }
   ],
   "source": [
    "#checking datatypes\n",
    "\n",
    "data.dtypes"
   ]
  },
  {
   "cell_type": "markdown",
   "id": "c9bc74e6",
   "metadata": {},
   "source": [
    "Exploratory Data Analysis(EDA)"
   ]
  },
  {
   "cell_type": "code",
   "execution_count": 13,
   "id": "1a69f0db",
   "metadata": {},
   "outputs": [
    {
     "name": "stdout",
     "output_type": "stream",
     "text": [
      "1    165\n",
      "0    138\n",
      "Name: target, dtype: int64\n"
     ]
    }
   ],
   "source": [
    "target_values = data['target'].value_counts()\n",
    "\n",
    "print(target_values)"
   ]
  },
  {
   "cell_type": "code",
   "execution_count": 14,
   "id": "459fd877",
   "metadata": {},
   "outputs": [
    {
     "name": "stderr",
     "output_type": "stream",
     "text": [
      "C:\\Users\\GREJOY\\anaconda3\\lib\\site-packages\\seaborn\\_decorators.py:36: FutureWarning: Pass the following variable as a keyword arg: x. From version 0.12, the only valid positional argument will be `data`, and passing other arguments without an explicit keyword will result in an error or misinterpretation.\n",
      "  warnings.warn(\n"
     ]
    },
    {
     "data": {
      "text/plain": [
       "<AxesSubplot:xlabel='target', ylabel='count'>"
      ]
     },
     "execution_count": 14,
     "metadata": {},
     "output_type": "execute_result"
    },
    {
     "data": {
      "image/png": "[encoded data removed]",
      "text/plain": [
       "<Figure size 432x288 with 1 Axes>"
      ]
     },
     "metadata": {
      "needs_background": "light"
     },
     "output_type": "display_data"
    }
   ],
   "source": [
    "target_values = data['target']\n",
    "sns.countplot(target_values)"
   ]
  },
  {
   "cell_type": "code",
   "execution_count": 15,
   "id": "4c540f36",
   "metadata": {},
   "outputs": [
    {
     "name": "stdout",
     "output_type": "stream",
     "text": [
      "Percentage of patients without heart problems 0.33\n",
      "Percentage of patients with heart problems 0.33\n"
     ]
    }
   ],
   "source": [
    "#Checking the percentage of patients with heart problems\n",
    "print('Percentage of patients without heart problems ' + str(round(target_values[0]*100/303,2)))\n",
    "print('Percentage of patients with heart problems ' + str(round(target_values[1]*100/303,2)))"
   ]
  },
  {
   "cell_type": "markdown",
   "id": "714e65dd",
   "metadata": {},
   "source": [
    "The data visualization reveals that in our dataset, the number of patients diagnosed with heart disease surpasses those without it. Specifically, 165 patients have heart disease, while 138 do not. This imbalance highlights the prevalence of heart disease within the sample."
   ]
  },
  {
   "cell_type": "code",
   "execution_count": 16,
   "id": "f6784ea5",
   "metadata": {},
   "outputs": [
    {
     "data": {
      "text/plain": [
       "1    207\n",
       "0     96\n",
       "Name: sex, dtype: int64"
      ]
     },
     "execution_count": 16,
     "metadata": {},
     "output_type": "execute_result"
    }
   ],
   "source": [
    "data['sex'].value_counts()"
   ]
  },
  {
   "cell_type": "code",
   "execution_count": 17,
   "id": "2a165aaa",
   "metadata": {},
   "outputs": [
    {
     "name": "stderr",
     "output_type": "stream",
     "text": [
      "C:\\Users\\GREJOY\\anaconda3\\lib\\site-packages\\seaborn\\_decorators.py:36: FutureWarning: Pass the following variable as a keyword arg: x. From version 0.12, the only valid positional argument will be `data`, and passing other arguments without an explicit keyword will result in an error or misinterpretation.\n",
      "  warnings.warn(\n"
     ]
    },
    {
     "data": {
      "text/plain": [
       "<AxesSubplot:xlabel='sex', ylabel='count'>"
      ]
     },
     "execution_count": 17,
     "metadata": {},
     "output_type": "execute_result"
    },
    {
     "data": {
      "image/png": "[encoded data removed]",
      "text/plain": [
       "<Figure size 432x288 with 1 Axes>"
      ]
     },
     "metadata": {
      "needs_background": "light"
     },
     "output_type": "display_data"
    }
   ],
   "source": [
    "sex = data['sex']\n",
    "sns.countplot(sex)"
   ]
  },
  {
   "cell_type": "code",
   "execution_count": null,
   "id": "71a26f97",
   "metadata": {},
   "outputs": [],
   "source": []
  },
  {
   "cell_type": "code",
   "execution_count": 18,
   "id": "d783ce33",
   "metadata": {},
   "outputs": [
    {
     "name": "stdout",
     "output_type": "stream",
     "text": [
      "   sex  targeted\n",
      "0    0        72\n",
      "1    1        93\n"
     ]
    }
   ],
   "source": [
    "result = data.groupby('sex')['target'].sum().reset_index()\n",
    "result.columns = ['sex', 'targeted']\n",
    "print(result)\n"
   ]
  },
  {
   "cell_type": "code",
   "execution_count": 19,
   "id": "ae4c2e9d",
   "metadata": {},
   "outputs": [
    {
     "data": {
      "text/plain": [
       "Text(0, 0.5, 'Number of Patients Diagnosed')"
      ]
     },
     "execution_count": 19,
     "metadata": {},
     "output_type": "execute_result"
    },
    {
     "data": {
      "image/png": "[encoded data removed]",
      "text/plain": [
       "<Figure size 576x360 with 1 Axes>"
      ]
     },
     "metadata": {
      "needs_background": "light"
     },
     "output_type": "display_data"
    }
   ],
   "source": [
    "# Plotting the results\n",
    "plt.figure(figsize=(8, 5))\n",
    "sns.barplot(x='sex', y='targeted', data=result, palette='viridis')\n",
    "\n",
    "# Adding titles and labels\n",
    "plt.title('Number of Patients Diagnosed with Heart Disease by Sex')\n",
    "plt.xlabel('Sex (0: Female, 1: Male)')\n",
    "plt.ylabel('Number of Patients Diagnosed')"
   ]
  },
  {
   "cell_type": "markdown",
   "id": "16aa6e6a",
   "metadata": {},
   "source": [
    "The analysis reveals that out of 207 males diagnosed, 93 were found to have heart disease. Similarly, out of 96 females diagnosed, 72 were affected by heart disease. This indicates that a substantial proportion of both genders are affected, with a notably higher prevalence among the diagnosed females"
   ]
  },
  {
   "cell_type": "markdown",
   "id": "72669a5d",
   "metadata": {},
   "source": [
    "Grouping data into numerical and categorical data"
   ]
  },
  {
   "cell_type": "code",
   "execution_count": 20,
   "id": "67ff4abb",
   "metadata": {},
   "outputs": [],
   "source": [
    "numerical = ['age', 'cholestoral', 'resting_blood_pressure', 'max_heart_rate_achieved', 'st_depression', 'number_of_major_vessels']\n",
    "\n",
    "\n",
    "categorical = ['sex', 'fasting_blood_sugar', 'exercise_induced_angina', 'target','chest_pain_type', 'resting_electrocardiographic_results', 'st_slope', 'thalassemia']"
   ]
  },
  {
   "cell_type": "code",
   "execution_count": 21,
   "id": "5ea27455",
   "metadata": {},
   "outputs": [
    {
     "name": "stdout",
     "output_type": "stream",
     "text": [
      "Numerical columns\n",
      "['age', 'cholestoral', 'resting_blood_pressure', 'max_heart_rate_achieved', 'st_depression', 'number_of_major_vessels']\n",
      " \n",
      "Categorical columns\n",
      "['sex', 'fasting_blood_sugar', 'exercise_induced_angina', 'target', 'chest_pain_type', 'resting_electrocardiographic_results', 'st_slope', 'thalassemia']\n"
     ]
    }
   ],
   "source": [
    "print(\"Numerical columns\")\n",
    "print(numerical)\n",
    "\n",
    "print(' ')\n",
    "\n",
    "print(\"Categorical columns\")\n",
    "print(categorical)"
   ]
  },
  {
   "cell_type": "markdown",
   "id": "6faa745b",
   "metadata": {},
   "source": [
    "Distribution Frequency of the numerical values"
   ]
  },
  {
   "cell_type": "code",
   "execution_count": 22,
   "id": "547333cf",
   "metadata": {},
   "outputs": [
    {
     "data": {
      "image/png": "[encoded data removed]",
      "text/plain": [
       "<Figure size 1080x720 with 6 Axes>"
      ]
     },
     "metadata": {
      "needs_background": "light"
     },
     "output_type": "display_data"
    }
   ],
   "source": [
    "# Plot histograms for all numerical columns\n",
    "plt.figure(figsize=(15, 10))\n",
    "for i, column in enumerate(numerical):\n",
    "    plt.subplot(2, 3, i + 1)  # Adjust subplot size (rows, cols, index)\n",
    "    sns.histplot(data[column], kde=True)  # Use seaborn's histplot for histograms\n",
    "    plt.title(column)\n",
    "    plt.xlabel(column)\n",
    "    plt.ylabel('Frequency')\n",
    "\n",
    "plt.tight_layout()\n",
    "plt.show()"
   ]
  },
  {
   "cell_type": "code",
   "execution_count": null,
   "id": "d6f5af50",
   "metadata": {},
   "outputs": [],
   "source": []
  },
  {
   "cell_type": "markdown",
   "id": "7e756c47",
   "metadata": {},
   "source": [
    "Distribution of categorical values"
   ]
  },
  {
   "cell_type": "code",
   "execution_count": 23,
   "id": "f052b51e",
   "metadata": {},
   "outputs": [
    {
     "data": {
      "image/png": "[encoded data removed]",
      "text/plain": [
       "<Figure size 1080x1080 with 8 Axes>"
      ]
     },
     "metadata": {
      "needs_background": "light"
     },
     "output_type": "display_data"
    }
   ],
   "source": [
    "num_cat_cols = len(categorical)\n",
    "cols = 3\n",
    "rows = (num_cat_cols + cols - 1) // cols  # Calculate the number of rows needed\n",
    "\n",
    "# Create a figure with subplots\n",
    "plt.figure(figsize=(15, 5 * rows))\n",
    "\n",
    "# Plot each categorical column\n",
    "for i, column in enumerate(categorical):\n",
    "    plt.subplot(rows, cols, i + 1)\n",
    "    sns.countplot(x=column, data=data, palette='viridis')\n",
    "    plt.title(f'Distribution of {column}')\n",
    "    plt.xlabel(column)\n",
    "    plt.ylabel('Count')\n",
    "\n",
    "plt.tight_layout()\n",
    "plt.show()"
   ]
  },
  {
   "cell_type": "markdown",
   "id": "1dd48bc9",
   "metadata": {},
   "source": [
    "Correlation heat maps"
   ]
  },
  {
   "cell_type": "code",
   "execution_count": 24,
   "id": "4989685f",
   "metadata": {},
   "outputs": [
    {
     "data": {
      "image/png": "[encoded data removed]",
      "text/plain": [
       "<Figure size 720x576 with 2 Axes>"
      ]
     },
     "metadata": {
      "needs_background": "light"
     },
     "output_type": "display_data"
    }
   ],
   "source": [
    "corr_matrix = data.corr()\n",
    "\n",
    "plt.figure(figsize=(10,8))\n",
    "sns.heatmap(corr_matrix, annot=True, cmap='coolwarm', fmt='.2f', linewidths=0.5, linecolor='black')\n",
    "plt.title(\"Correlation heatmap\")\n",
    "plt.show()"
   ]
  },
  {
   "cell_type": "markdown",
   "id": "6eb38e26",
   "metadata": {},
   "source": [
    "### Analysis of Correlation with Heart Disease\n",
    "\n",
    "**Strong Correlations:**\n",
    "- **Chest Pain Type**: This feature shows a strong correlation with heart disease, indicating that the type of chest pain experienced by patients is a significant factor in predicting heart disease.\n",
    "- **Max Heart Rate Achieved**: Patients with varying maximum heart rates have a notable correlation with heart disease, suggesting that heart rate responses during exercise are an important predictor.\n",
    "- **ST Slope**: The slope of the peak exercise ST segment is strongly correlated with heart disease, making it a crucial variable in diagnosing the condition.\n",
    "\n",
    "**Weak Correlations:**\n",
    "- **Exercise Induced Angina**: The correlation between exercise-induced angina and heart disease is relatively low, implying that this factor alone might not be as predictive of heart disease.\n",
    "- **ST Depression**: The oldpeak value, or ST depression, shows a weaker correlation with heart disease, suggesting that this metric might not be as critical in the prediction of heart disease in this dataset."
   ]
  },
  {
   "cell_type": "markdown",
   "id": "981ea9ec",
   "metadata": {},
   "source": [
    "Train Test Split"
   ]
  },
  {
   "cell_type": "code",
   "execution_count": 25,
   "id": "f9a7179c",
   "metadata": {},
   "outputs": [
    {
     "name": "stdout",
     "output_type": "stream",
     "text": [
      "Training data shape: (242, 13)\n",
      "Testing data shape: (61, 13)\n"
     ]
    }
   ],
   "source": [
    "from sklearn.model_selection import train_test_split\n",
    "\n",
    "\n",
    "\n",
    "\n",
    "# Define your features and target variable\n",
    "X = data.drop(columns=['target'])  # Features\n",
    "y = data['target']  # Target variable\n",
    "\n",
    "# Split the data into training and testing sets\n",
    "X_train, X_test, y_train, y_test = train_test_split(X, y, test_size=0.2, random_state=42)\n",
    "\n",
    "# Print the shapes of the resulting datasets\n",
    "print(f\"Training data shape: {X_train.shape}\")\n",
    "print(f\"Testing data shape: {X_test.shape}\")\n"
   ]
  },
  {
   "cell_type": "markdown",
   "id": "2680a007",
   "metadata": {},
   "source": [
    "# Predictions"
   ]
  },
  {
   "cell_type": "markdown",
   "id": "fe35a5a3",
   "metadata": {},
   "source": [
    "## Logistic Regression"
   ]
  },
  {
   "cell_type": "code",
   "execution_count": 26,
   "id": "48543434",
   "metadata": {},
   "outputs": [
    {
     "name": "stdout",
     "output_type": "stream",
     "text": [
      " \n",
      "Testing Accuracy for Logistic Regression: 0.8360655737704918\n",
      "Testing Sensitivity for Logistic Regression: 0.8064516129032258\n",
      "Testing Specificity for Logistic Regression: 0.8666666666666667\n",
      "Testing Precision for Logistic Regression: 0.8620689655172413\n"
     ]
    },
    {
     "name": "stderr",
     "output_type": "stream",
     "text": [
      "C:\\Users\\GREJOY\\anaconda3\\lib\\site-packages\\sklearn\\linear_model\\_logistic.py:1247: FutureWarning: 'multi_class' was deprecated in version 1.5 and will be removed in 1.7. From then on, it will always use 'multinomial'. Leave it to its default value to avoid this warning.\n",
      "  warnings.warn(\n"
     ]
    },
    {
     "data": {
      "image/png": "[encoded data removed]",
      "text/plain": [
       "<Figure size 432x288 with 2 Axes>"
      ]
     },
     "metadata": {
      "needs_background": "light"
     },
     "output_type": "display_data"
    }
   ],
   "source": [
    "from sklearn.linear_model import LogisticRegression\n",
    "from sklearn.model_selection import cross_val_score, GridSearchCV\n",
    "from sklearn.preprocessing import StandardScaler\n",
    "from sklearn.metrics import accuracy_score\n",
    "\n",
    "\n",
    "\n",
    "scaler = StandardScaler()\n",
    "X_train_scaled = scaler.fit_transform(X_train)\n",
    "X_test_scaled = scaler.transform(X_test)\n",
    "\n",
    "\n",
    "Ir = LogisticRegression(C=1.0, class_weight='balanced', dual=False,\n",
    "                   fit_intercept=True, intercept_scaling=1, l1_ratio=None,\n",
    "                   max_iter=100, multi_class='auto', n_jobs=None, penalty='l2',\n",
    "                   random_state=1234, solver='lbfgs', tol=0.0001, verbose=0,\n",
    "                   warm_start=False)\n",
    "\n",
    "#fit the model\n",
    "model1 = Ir.fit(X_train_scaled, y_train)\n",
    "\n",
    "prediction1 = model1.predict(X_test_scaled)\n",
    "\n",
    "#importing confusion matrix\n",
    "from sklearn.metrics import confusion_matrix\n",
    "cm = confusion_matrix(y_test, prediction1)\n",
    "cm\n",
    "\n",
    "sns.heatmap(cm, annot=True,cmap='winter',linewidths=0.3, linecolor='black',annot_kws={\"size\": 20})\n",
    "TP=cm[0][0]\n",
    "TN=cm[1][1]\n",
    "FN=cm[1][0]\n",
    "FP=cm[0][1]\n",
    "\n",
    "print(\" \")\n",
    "print('Testing Accuracy for Logistic Regression:',(TP+TN)/(TP+TN+FN+FP))\n",
    "print('Testing Sensitivity for Logistic Regression:',(TP/(TP+FN)))\n",
    "print('Testing Specificity for Logistic Regression:',(TN/(TN+FP)))\n",
    "print('Testing Precision for Logistic Regression:',(TP/(TP+FP)))"
   ]
  },
  {
   "cell_type": "code",
   "execution_count": 27,
   "id": "b47a6abc",
   "metadata": {},
   "outputs": [
    {
     "name": "stdout",
     "output_type": "stream",
     "text": [
      "              precision    recall  f1-score   support\n",
      "\n",
      "           0       0.81      0.86      0.83        29\n",
      "           1       0.87      0.81      0.84        32\n",
      "\n",
      "    accuracy                           0.84        61\n",
      "   macro avg       0.84      0.84      0.84        61\n",
      "weighted avg       0.84      0.84      0.84        61\n",
      "\n"
     ]
    }
   ],
   "source": [
    "from sklearn.metrics import classification_report\n",
    "\n",
    "# predictions\n",
    "print(classification_report(y_test, prediction1))\n"
   ]
  },
  {
   "cell_type": "code",
   "execution_count": 28,
   "id": "45e9b912",
   "metadata": {},
   "outputs": [
    {
     "name": "stdout",
     "output_type": "stream",
     "text": [
      "The accuracy score achieved using Logistic Regression is: 84 %\n"
     ]
    }
   ],
   "source": [
    "score_lr = round(accuracy_score(y_test, prediction1)*100,2)\n",
    "\n",
    "print(\"The accuracy score achieved using Logistic Regression is: \"+str(round(score_lr))+\" %\")\n",
    "\n"
   ]
  },
  {
   "cell_type": "markdown",
   "id": "1e349631",
   "metadata": {},
   "source": [
    "## Decision Tree"
   ]
  },
  {
   "cell_type": "code",
   "execution_count": 31,
   "id": "fe4a0e2c",
   "metadata": {},
   "outputs": [
    {
     "name": "stdout",
     "output_type": "stream",
     "text": [
      "Testing Accuracy for Decision Tree: 0.819672131147541\n",
      "Testing Sensitivity for Decision Tree: 0.7647058823529411\n",
      "Testing Specificity for Decision Tree: 0.8888888888888888\n",
      "Testing Precision for Decision Tree: 0.896551724137931\n"
     ]
    },
    {
     "data": {
      "image/png": "[encoded data removed]",
      "text/plain": [
       "<Figure size 432x288 with 2 Axes>"
      ]
     },
     "metadata": {
      "needs_background": "light"
     },
     "output_type": "display_data"
    }
   ],
   "source": [
    "from sklearn.tree import DecisionTreeClassifier\n",
    "\n",
    "model = DecisionTreeClassifier(max_depth=5, criterion='entropy', random_state=42)\n",
    "\n",
    "#fitting the model\n",
    "model.fit(X_train, y_train)\n",
    "\n",
    "prediction2 = model.predict(X_test)\n",
    "\n",
    "#confusion matrix\n",
    "cm = confusion_matrix(y_test, prediction2)\n",
    "\n",
    "#visualation\n",
    "sns.heatmap(cm, annot = True, cmap = 'winter', linewidths = 0.3, linecolor = 'black', annot_kws={'size': 20})\n",
    "\n",
    "TP=cm[0][0]\n",
    "TN=cm[1][1]\n",
    "FN=cm[1][0]\n",
    "FP=cm[0][1]\n",
    "print('Testing Accuracy for Decision Tree:',(TP+TN)/(TP+TN+FN+FP))\n",
    "print('Testing Sensitivity for Decision Tree:',(TP/(TP+FN)))\n",
    "print('Testing Specificity for Decision Tree:',(TN/(TN+FP)))\n",
    "print('Testing Precision for Decision Tree:',(TP/(TP+FP)))"
   ]
  },
  {
   "cell_type": "code",
   "execution_count": 32,
   "id": "c8e038f8",
   "metadata": {},
   "outputs": [
    {
     "name": "stdout",
     "output_type": "stream",
     "text": [
      "The accuracy score achieved using Decision Tree is: 82 %\n"
     ]
    }
   ],
   "source": [
    "tree_score = round(accuracy_score(y_test, prediction2)*100, 2)\n",
    "\n",
    "print(\"The accuracy score achieved using Decision Tree is: \"+str(round(tree_score))+\" %\")\n"
   ]
  },
  {
   "cell_type": "markdown",
   "id": "a8dfd508",
   "metadata": {},
   "source": [
    "## Random Forest Classifier\n"
   ]
  },
  {
   "cell_type": "code",
   "execution_count": 33,
   "id": "e6a88560",
   "metadata": {},
   "outputs": [
    {
     "name": "stdout",
     "output_type": "stream",
     "text": [
      "86.89\n",
      "Testing Accuracy for Random Forest: 0.8688524590163934\n",
      "Testing Sensitivity for Random Forest: 0.8888888888888888\n",
      "Testing Specificity for Random Forest: 0.8529411764705882\n",
      "Testing Precision for Random Forest: 0.8275862068965517\n"
     ]
    },
    {
     "data": {
      "image/png": "[encoded data removed]",
      "text/plain": [
       "<Figure size 432x288 with 2 Axes>"
      ]
     },
     "metadata": {
      "needs_background": "light"
     },
     "output_type": "display_data"
    }
   ],
   "source": [
    "from sklearn.ensemble import RandomForestClassifier\n",
    "\n",
    "rfc = RandomForestClassifier(n_estimators=500,criterion='entropy',max_depth=8,min_samples_split=5)\n",
    "\n",
    "#fit the model\n",
    "model = rfc.fit(X_train, y_train)\n",
    "\n",
    "prediction3 = model.predict(X_test)\n",
    "\n",
    "#Confusion matrix\n",
    "cm3 = confusion_matrix(y_test, prediction3)\n",
    "\n",
    "#plot\n",
    "sns.heatmap(cm3, annot=True,cmap='winter',linewidths=0.3, linecolor='black',annot_kws={\"size\": 20})\n",
    "TP=cm3[0][0]\n",
    "TN=cm3[1][1]\n",
    "FN=cm3[1][0]\n",
    "FP=cm3[0][1]\n",
    "print(round(accuracy_score(prediction3,y_test)*100,2))\n",
    "print('Testing Accuracy for Random Forest:',(TP+TN)/(TP+TN+FN+FP))\n",
    "print('Testing Sensitivity for Random Forest:',(TP/(TP+FN)))\n",
    "print('Testing Specificity for Random Forest:',(TN/(TN+FP)))\n",
    "print('Testing Precision for Random Forest:',(TP/(TP+FP)))"
   ]
  },
  {
   "cell_type": "code",
   "execution_count": 34,
   "id": "e94438ac",
   "metadata": {},
   "outputs": [
    {
     "name": "stdout",
     "output_type": "stream",
     "text": [
      "              precision    recall  f1-score   support\n",
      "\n",
      "           0       0.89      0.83      0.86        29\n",
      "           1       0.85      0.91      0.88        32\n",
      "\n",
      "    accuracy                           0.87        61\n",
      "   macro avg       0.87      0.87      0.87        61\n",
      "weighted avg       0.87      0.87      0.87        61\n",
      "\n"
     ]
    }
   ],
   "source": [
    "print(classification_report(y_test, prediction3))\n"
   ]
  },
  {
   "cell_type": "code",
   "execution_count": 35,
   "id": "11ee2898",
   "metadata": {},
   "outputs": [
    {
     "name": "stdout",
     "output_type": "stream",
     "text": [
      "The accuracy score achieved using RadomForestRgressor is: 87%\n"
     ]
    }
   ],
   "source": [
    "score_rd = round(accuracy_score(y_test, prediction3)*100,2)\n",
    "\n",
    "print(\"The accuracy score achieved using RadomForestRgressor is: \" + str(round(score_rd)) + '%')\n"
   ]
  },
  {
   "cell_type": "markdown",
   "id": "cc3c0650",
   "metadata": {},
   "source": [
    "## Support Vestor Machine"
   ]
  },
  {
   "cell_type": "code",
   "execution_count": 37,
   "id": "5b3ee998",
   "metadata": {},
   "outputs": [],
   "source": []
  },
  {
   "cell_type": "code",
   "execution_count": 51,
   "id": "f173cd22",
   "metadata": {},
   "outputs": [
    {
     "name": "stdout",
     "output_type": "stream",
     "text": [
      "Testing Accuracy for SVM: 0.8852459016393442\n",
      "Testing Sensitivity for Support Vector Machine: 0.8666666666666667\n",
      "Testing Specificity for Support Vector Machine: 0.9032258064516129\n",
      "Testing Precision for Support Vector Machine: 0.896551724137931\n"
     ]
    },
    {
     "data": {
      "image/png": "[encoded data removed]",
      "text/plain": [
       "<Figure size 1080x576 with 2 Axes>"
      ]
     },
     "metadata": {},
     "output_type": "display_data"
    }
   ],
   "source": [
    "from sklearn.svm import SVC\n",
    "svm = SVC(C=12, kernel='linear')\n",
    "\n",
    "#fitting the model\n",
    "model4 = svm.fit(X_train, y_train)\n",
    "\n",
    "prediction4 = model4.predict(X_test)\n",
    "\n",
    "#confusion matrix\n",
    "cm4 = confusion_matrix(y_test, prediction4)\n",
    "\n",
    "#Visualization\n",
    "sns.heatmap(cm4, annot = True, cmap = 'winter', linewidths=0.3, linecolor='black', annot_kws={\"size\": 20})\n",
    "\n",
    "TP=cm4[0][0]\n",
    "TN=cm4[1][1]\n",
    "FN=cm4[1][0]\n",
    "FP=cm4[0][1]\n",
    "  \n",
    "print('Testing Accuracy for SVM:',(TP+TN)/(TP+TN+FN+FP))\n",
    "print('Testing Sensitivity for Support Vector Machine:',(TP/(TP+FN)))\n",
    "print('Testing Specificity for Support Vector Machine:',(TN/(TN+FP)))\n",
    "print('Testing Precision for Support Vector Machine:',(TP/(TP+FP)))"
   ]
  },
  {
   "cell_type": "code",
   "execution_count": 39,
   "id": "76ee37c8",
   "metadata": {},
   "outputs": [
    {
     "name": "stdout",
     "output_type": "stream",
     "text": [
      "              precision    recall  f1-score   support\n",
      "\n",
      "           0       0.87      0.90      0.88        29\n",
      "           1       0.90      0.88      0.89        32\n",
      "\n",
      "    accuracy                           0.89        61\n",
      "   macro avg       0.88      0.89      0.89        61\n",
      "weighted avg       0.89      0.89      0.89        61\n",
      "\n"
     ]
    }
   ],
   "source": [
    "print(classification_report(y_test, prediction4))"
   ]
  },
  {
   "cell_type": "code",
   "execution_count": 40,
   "id": "9a8044f4",
   "metadata": {},
   "outputs": [
    {
     "name": "stdout",
     "output_type": "stream",
     "text": [
      "The accuracy score achieved using Support Vector Machine is: 89%\n"
     ]
    }
   ],
   "source": [
    "svm_score= round(accuracy_score(y_test, prediction4)* 100, 2)\n",
    "\n",
    "print(\"The accuracy score achieved using Support Vector Machine is: \"+ str(round(svm_score)) + '%')"
   ]
  },
  {
   "cell_type": "markdown",
   "id": "b65431bd",
   "metadata": {},
   "source": [
    "## XG Boost"
   ]
  },
  {
   "cell_type": "code",
   "execution_count": 41,
   "id": "28c07eab",
   "metadata": {},
   "outputs": [
    {
     "name": "stdout",
     "output_type": "stream",
     "text": [
      "Testing Accuracy for xgb: 0.819672131147541\n",
      "Testing Sensitivity for XG Boost: 0.78125\n",
      "Testing Specificity for XG Boost: 0.8620689655172413\n",
      "Testing Precision for XG Boost: 0.8620689655172413\n"
     ]
    },
    {
     "data": {
      "image/png": "[encoded data removed]",
      "text/plain": [
       "<Figure size 432x288 with 2 Axes>"
      ]
     },
     "metadata": {
      "needs_background": "light"
     },
     "output_type": "display_data"
    }
   ],
   "source": [
    "from xgboost import XGBClassifier\n",
    "\n",
    "xgb = XGBClassifier(objective=\"binary:logistic\", random_state=42)\n",
    "\n",
    "model5 = xgb.fit(X_train, y_train)\n",
    "\n",
    "prediction5 = model5.predict(X_test)\n",
    "\n",
    "#Confusion Matrix\n",
    "cm5 = confusion_matrix(y_test, prediction5)\n",
    "\n",
    "#visualization\n",
    "sns.heatmap(cm5, annot=True, cmap='winter', linecolor='black', linewidths=0.3,annot_kws={\"size\": 20})\n",
    "\n",
    "TP=cm5[0][0]\n",
    "TN=cm5[1][1]\n",
    "FN=cm5[1][0]\n",
    "FP=cm5[0][1]\n",
    "  \n",
    "print('Testing Accuracy for xgb:',(TP+TN)/(TP+TN+FN+FP))\n",
    "print('Testing Sensitivity for XG Boost:',(TP/(TP+FN)))\n",
    "print('Testing Specificity for XG Boost:',(TN/(TN+FP)))\n",
    "print('Testing Precision for XG Boost:',(TP/(TP+FP)))"
   ]
  },
  {
   "cell_type": "code",
   "execution_count": 42,
   "id": "2300862d",
   "metadata": {},
   "outputs": [
    {
     "name": "stdout",
     "output_type": "stream",
     "text": [
      "              precision    recall  f1-score   support\n",
      "\n",
      "           0       0.78      0.86      0.82        29\n",
      "           1       0.86      0.78      0.82        32\n",
      "\n",
      "    accuracy                           0.82        61\n",
      "   macro avg       0.82      0.82      0.82        61\n",
      "weighted avg       0.82      0.82      0.82        61\n",
      "\n"
     ]
    }
   ],
   "source": [
    "print(classification_report(y_test, prediction5))"
   ]
  },
  {
   "cell_type": "code",
   "execution_count": 43,
   "id": "cfa5fec4",
   "metadata": {},
   "outputs": [
    {
     "name": "stdout",
     "output_type": "stream",
     "text": [
      "The accuracy score achieved using XGBoost is : 82%\n"
     ]
    }
   ],
   "source": [
    "score_xb = round(accuracy_score(y_test, prediction5)*100,2)\n",
    "\n",
    "print(\"The accuracy score achieved using XGBoost is : \" +str(round(score_xb)) +'%')"
   ]
  },
  {
   "cell_type": "markdown",
   "id": "b715b7f5",
   "metadata": {},
   "source": [
    "## Naive Bayes"
   ]
  },
  {
   "cell_type": "code",
   "execution_count": 44,
   "id": "527309a2",
   "metadata": {},
   "outputs": [
    {
     "name": "stdout",
     "output_type": "stream",
     "text": [
      "Testing Accuracy for nb: 0.8688524590163934\n",
      "Testing Sensitivity for Naive Bayes: 0.8387096774193549\n",
      "Testing Specificity for Naive Bayes: 0.9\n",
      "Testing Precision for Naive Bayes: 0.896551724137931\n"
     ]
    },
    {
     "data": {
      "image/png": "[encoded data removed]",
      "text/plain": [
       "<Figure size 432x288 with 2 Axes>"
      ]
     },
     "metadata": {
      "needs_background": "light"
     },
     "output_type": "display_data"
    }
   ],
   "source": [
    "from sklearn.naive_bayes import GaussianNB\n",
    "\n",
    "nb = GaussianNB()\n",
    "\n",
    "model6 = nb.fit(X_train, y_train)\n",
    "\n",
    "prediction6 = model6.predict(X_test)\n",
    "\n",
    "#Condusion Matrix\n",
    "cm6 = confusion_matrix(y_test, prediction6)\n",
    "\n",
    "#Visulalization\n",
    "sns.heatmap(cm6, annot=True, cmap='winter', linecolor='black', linewidths=0.3,annot_kws={\"size\": 20})\n",
    "\n",
    "TP=cm6[0][0]\n",
    "TN=cm6[1][1]\n",
    "FN=cm6[1][0]\n",
    "FP=cm6[0][1]\n",
    "  \n",
    "print('Testing Accuracy for nb:',(TP+TN)/(TP+TN+FN+FP))\n",
    "print('Testing Sensitivity for Naive Bayes:',(TP/(TP+FN)))\n",
    "print('Testing Specificity for Naive Bayes:',(TN/(TN+FP)))\n",
    "print('Testing Precision for Naive Bayes:',(TP/(TP+FP)))"
   ]
  },
  {
   "cell_type": "code",
   "execution_count": 45,
   "id": "5af6a38f",
   "metadata": {},
   "outputs": [
    {
     "name": "stdout",
     "output_type": "stream",
     "text": [
      "              precision    recall  f1-score   support\n",
      "\n",
      "           0       0.84      0.90      0.87        29\n",
      "           1       0.90      0.84      0.87        32\n",
      "\n",
      "    accuracy                           0.87        61\n",
      "   macro avg       0.87      0.87      0.87        61\n",
      "weighted avg       0.87      0.87      0.87        61\n",
      "\n"
     ]
    }
   ],
   "source": [
    "print(classification_report(y_test, prediction6))"
   ]
  },
  {
   "cell_type": "code",
   "execution_count": 46,
   "id": "41e00f30",
   "metadata": {},
   "outputs": [
    {
     "name": "stdout",
     "output_type": "stream",
     "text": [
      "The accuracy score achieved using Naive Bayes: 87%\n"
     ]
    }
   ],
   "source": [
    "score_nb = round(accuracy_score(y_test, prediction6)*100,2)\n",
    "\n",
    "print(\"The accuracy score achieved using Naive Bayes: \" +str(round(score_nb)) +'%')"
   ]
  },
  {
   "cell_type": "markdown",
   "id": "62db6add",
   "metadata": {},
   "source": [
    "# Output Final Score"
   ]
  },
  {
   "cell_type": "code",
   "execution_count": 52,
   "id": "bbd0c348",
   "metadata": {},
   "outputs": [
    {
     "name": "stdout",
     "output_type": "stream",
     "text": [
      "The accuracy score achieved using Logistic Regression is: 84 %\n",
      "The accuracy score achieved using Decision Tree is: 82 %\n",
      "The accuracy score achieved using Random Forest is: 87 %\n",
      "The accuracy score achieved using Support Vector Machine is: 89 %\n",
      "The accuracy score achieved using XGBoost is: 82 %\n",
      "The accuracy score achieved using Naive Bayes is: 87 %\n"
     ]
    }
   ],
   "source": [
    "scores = [score_lr, tree_score,score_rd, svm_score, score_xb, score_nb]\n",
    "algorithms = [\"Logistic Regression\",\"Decision Tree\",\"Random Forest\",\"Support Vector Machine\",\"XGBoost\" ,\"Naive Bayes\"]  \n",
    "\n",
    "for i in range(len(algorithms)):\n",
    "    print(\"The accuracy score achieved using \"+algorithms[i]+\" is: \"+str(round(scores[i]))+\" %\")\n",
    "    \n"
   ]
  },
  {
   "cell_type": "code",
   "execution_count": 53,
   "id": "0cefb373",
   "metadata": {},
   "outputs": [
    {
     "name": "stderr",
     "output_type": "stream",
     "text": [
      "C:\\Users\\GREJOY\\anaconda3\\lib\\site-packages\\seaborn\\_decorators.py:36: FutureWarning: Pass the following variables as keyword args: x, y. From version 0.12, the only valid positional argument will be `data`, and passing other arguments without an explicit keyword will result in an error or misinterpretation.\n",
      "  warnings.warn(\n"
     ]
    },
    {
     "data": {
      "text/plain": [
       "<AxesSubplot:xlabel='Algorithms', ylabel='Accuracy score'>"
      ]
     },
     "execution_count": 53,
     "metadata": {},
     "output_type": "execute_result"
    },
    {
     "data": {
      "image/png": "[encoded data removed]",
      "text/plain": [
       "<Figure size 1080x576 with 1 Axes>"
      ]
     },
     "metadata": {},
     "output_type": "display_data"
    }
   ],
   "source": [
    "sns.set(rc={'figure.figsize':(15,8)})\n",
    "plt.xlabel(\"Algorithms\")\n",
    "plt.ylabel(\"Accuracy score\")\n",
    "\n",
    "sns.barplot(algorithms,scores)"
   ]
  },
  {
   "cell_type": "markdown",
   "id": "36a35dbd",
   "metadata": {},
   "source": [
    " ## Best Model Selection\n",
    "    \n",
    " Chose Random Forest for the heart disease prediction model due to its interpretability, robustness against overfitting, and ease of use.\n",
    " While SVM provided slightly higher accuracy (89% vs. 87%), Random Forest offers more reliable generalization to new data,\n",
    " better handling of noisy and imbalanced datasets, and allows for easier analysis of feature importance.\n",
    " These factors make it more suitable for a medical application where explainability and stability are crucial.\n"
   ]
  },
  {
   "cell_type": "code",
   "execution_count": null,
   "id": "acca353c",
   "metadata": {},
   "outputs": [],
   "source": [
    "#saving the best model\n",
    "\n",
    "import joblib\n",
    "\n",
    "# Assuming `model` is your trained model\n",
    "joblib.dump(m, 'trained_model.pkl')\n"
   ]
  },
  {
   "cell_type": "code",
   "execution_count": null,
   "id": "02b305b4",
   "metadata": {},
   "outputs": [],
   "source": [
    "# Reset the input function in case it has been redefined\n",
    "\n",
    "# Now define and call the prediction function\n",
    "def predict_heart_disease():\n",
    "    # Collecting input from the user\n",
    "    age = int(input(\"Enter age: \"))\n",
    "    sex = int(input(\"Enter sex (1 = male, 0 = female): \"))\n",
    "    chest_pain_type = int(input(\"Enter chest pain type 1: typical angina, 2: atypical angina, 3: non-anginal pain, 4: asymptomaI want to implement the code in an application, provide step by step way of creating an application to execute the above code: \"))\n",
    "    resting_blood_pressure = int(input(\"Enter resting blood pressure: \"))\n",
    "    cholestoral = int(input(\"Enter cholesterol level: \"))\n",
    "    fasting_blood_sugar = int(input(\"Enter fasting blood sugar (1 = true, 0 = false): \"))\n",
    "    resting_electrocardiographic_results = int(input(\"Enter resting electrocardiographic results (0-2): \"))\n",
    "    max_heart_rate_achieved = int(input(\"Enter max heart rate achieved: \"))\n",
    "    exercise_induced_angina = int(input(\"Enter exercise-induced angina (1 = yes, 0 = no): \"))\n",
    "    st_depression = float(input(\"Enter ST depression: \"))\n",
    "    st_slope = int(input(\"Enter ST slope (1-3): \"))\n",
    "    number_of_major_vessels = int(input(\"Enter number of major vessels (0-3): \"))\n",
    "    thalassemia = int(input(\"Enter thalassemia (1-3): \"))\n",
    "\n",
    "    # Creating a numpy array for the input\n",
    "    user_input = np.array([[age, sex, chest_pain_type, resting_blood_pressure, cholestoral,\n",
    "                            fasting_blood_sugar, resting_electrocardiographic_results,\n",
    "                            max_heart_rate_achieved, exercise_induced_angina, st_depression,\n",
    "                            st_slope, number_of_major_vessels, thalassemia]])\n",
    "\n",
    "    # Predicting using the trained model\n",
    "    prediction = m.predict(user_input)\n",
    "\n",
    "    # Displaying the result\n",
    "    if prediction[0] == 1:\n",
    "        print(\"The model predicts that the patient has heart disease.\")\n",
    "    else:\n",
    "        print(\"The model predicts that the patient does not have heart disease.\")\n",
    "\n",
    "# Call the function to start the prediction\n",
    "predict_heart_disease()\n"
   ]
  },
  {
   "cell_type": "markdown",
   "id": "ea1165f4",
   "metadata": {},
   "source": [
    "## Conclusion\n",
    "\n",
    "Finally, we can conclude that real-time predictors will be essential in the healthcare sector nowadays. From this project, we will be able to predict real-time heart disease using the patient’s data from the model using the Decision Tree Algorithm, thereby making accurate heart disease prediction using machine learning."
   ]
  },
  {
   "cell_type": "code",
   "execution_count": null,
   "id": "6c47840e",
   "metadata": {},
   "outputs": [],
   "source": []
  },
  {
   "cell_type": "code",
   "execution_count": null,
   "id": "ba9739c7",
   "metadata": {},
   "outputs": [],
   "source": []
  }
 ],
 "metadata": {
  "kernelspec": {
   "display_name": "Python 3 (ipykernel)",
   "language": "python",
   "name": "python3"
  },
  "language_info": {
   "codemirror_mode": {
    "name": "ipython",
    "version": 3
   },
   "file_extension": ".py",
   "mimetype": "text/x-python",
   "name": "python",
   "nbconvert_exporter": "python",
   "pygments_lexer": "ipython3",
   "version": "3.9.12"
  }
 },
 "nbformat": 4,
 "nbformat_minor": 5
}
