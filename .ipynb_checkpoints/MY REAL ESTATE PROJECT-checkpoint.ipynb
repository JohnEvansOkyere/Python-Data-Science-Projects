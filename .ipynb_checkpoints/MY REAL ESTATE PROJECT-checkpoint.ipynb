{
 "cells": [
  {
   "cell_type": "code",
   "execution_count": 1,
   "id": "6e399c66",
   "metadata": {},
   "outputs": [],
   "source": [
    "import pandas as pd\n",
    "import numpy as np\n",
    "import matplotlib.pyplot as plt\n",
    "import seaborn as sns"
   ]
  },
  {
   "cell_type": "code",
   "execution_count": 3,
   "id": "f2b945b5",
   "metadata": {},
   "outputs": [
    {
     "data": {
      "text/html": [
       "<div>\n",
       "<style scoped>\n",
       "    .dataframe tbody tr th:only-of-type {\n",
       "        vertical-align: middle;\n",
       "    }\n",
       "\n",
       "    .dataframe tbody tr th {\n",
       "        vertical-align: top;\n",
       "    }\n",
       "\n",
       "    .dataframe thead th {\n",
       "        text-align: right;\n",
       "    }\n",
       "</style>\n",
       "<table border=\"1\" class=\"dataframe\">\n",
       "  <thead>\n",
       "    <tr style=\"text-align: right;\">\n",
       "      <th></th>\n",
       "      <th>Transaction date</th>\n",
       "      <th>House age</th>\n",
       "      <th>Distance to the nearest MRT station</th>\n",
       "      <th>Number of convenience stores</th>\n",
       "      <th>Latitude</th>\n",
       "      <th>Longitude</th>\n",
       "      <th>House price of unit area</th>\n",
       "    </tr>\n",
       "  </thead>\n",
       "  <tbody>\n",
       "    <tr>\n",
       "      <th>0</th>\n",
       "      <td>2012-09-02 16:42:30.519336</td>\n",
       "      <td>13.3</td>\n",
       "      <td>4082.0150</td>\n",
       "      <td>8</td>\n",
       "      <td>25.007059</td>\n",
       "      <td>121.561694</td>\n",
       "      <td>6.488673</td>\n",
       "    </tr>\n",
       "    <tr>\n",
       "      <th>1</th>\n",
       "      <td>2012-09-04 22:52:29.919544</td>\n",
       "      <td>35.5</td>\n",
       "      <td>274.0144</td>\n",
       "      <td>2</td>\n",
       "      <td>25.012148</td>\n",
       "      <td>121.546990</td>\n",
       "      <td>24.970725</td>\n",
       "    </tr>\n",
       "    <tr>\n",
       "      <th>2</th>\n",
       "      <td>2012-09-05 01:10:52.349449</td>\n",
       "      <td>1.1</td>\n",
       "      <td>1978.6710</td>\n",
       "      <td>10</td>\n",
       "      <td>25.003850</td>\n",
       "      <td>121.528336</td>\n",
       "      <td>26.694267</td>\n",
       "    </tr>\n",
       "    <tr>\n",
       "      <th>3</th>\n",
       "      <td>2012-09-05 13:26:01.189083</td>\n",
       "      <td>22.2</td>\n",
       "      <td>1055.0670</td>\n",
       "      <td>5</td>\n",
       "      <td>24.962887</td>\n",
       "      <td>121.482178</td>\n",
       "      <td>38.091638</td>\n",
       "    </tr>\n",
       "    <tr>\n",
       "      <th>4</th>\n",
       "      <td>2012-09-06 08:29:47.910523</td>\n",
       "      <td>8.5</td>\n",
       "      <td>967.4000</td>\n",
       "      <td>6</td>\n",
       "      <td>25.011037</td>\n",
       "      <td>121.479946</td>\n",
       "      <td>21.654710</td>\n",
       "    </tr>\n",
       "  </tbody>\n",
       "</table>\n",
       "</div>"
      ],
      "text/plain": [
       "             Transaction date  House age  Distance to the nearest MRT station  \\\n",
       "0  2012-09-02 16:42:30.519336       13.3                            4082.0150   \n",
       "1  2012-09-04 22:52:29.919544       35.5                             274.0144   \n",
       "2  2012-09-05 01:10:52.349449        1.1                            1978.6710   \n",
       "3  2012-09-05 13:26:01.189083       22.2                            1055.0670   \n",
       "4  2012-09-06 08:29:47.910523        8.5                             967.4000   \n",
       "\n",
       "   Number of convenience stores   Latitude   Longitude  \\\n",
       "0                             8  25.007059  121.561694   \n",
       "1                             2  25.012148  121.546990   \n",
       "2                            10  25.003850  121.528336   \n",
       "3                             5  24.962887  121.482178   \n",
       "4                             6  25.011037  121.479946   \n",
       "\n",
       "   House price of unit area  \n",
       "0                  6.488673  \n",
       "1                 24.970725  \n",
       "2                 26.694267  \n",
       "3                 38.091638  \n",
       "4                 21.654710  "
      ]
     },
     "execution_count": 3,
     "metadata": {},
     "output_type": "execute_result"
    }
   ],
   "source": [
    "estate = pd.read_csv(\"Real_Estate.csv\")\n",
    "estate.head()"
   ]
  },
  {
   "cell_type": "code",
   "execution_count": 5,
   "id": "86db4947",
   "metadata": {},
   "outputs": [
    {
     "name": "stdout",
     "output_type": "stream",
     "text": [
      "<class 'pandas.core.frame.DataFrame'>\n",
      "RangeIndex: 414 entries, 0 to 413\n",
      "Data columns (total 7 columns):\n",
      " #   Column                               Non-Null Count  Dtype  \n",
      "---  ------                               --------------  -----  \n",
      " 0   Transaction date                     414 non-null    object \n",
      " 1   House age                            414 non-null    float64\n",
      " 2   Distance to the nearest MRT station  414 non-null    float64\n",
      " 3   Number of convenience stores         414 non-null    int64  \n",
      " 4   Latitude                             414 non-null    float64\n",
      " 5   Longitude                            414 non-null    float64\n",
      " 6   House price of unit area             414 non-null    float64\n",
      "dtypes: float64(5), int64(1), object(1)\n",
      "memory usage: 22.8+ KB\n"
     ]
    }
   ],
   "source": [
    "estate.info()"
   ]
  },
  {
   "cell_type": "code",
   "execution_count": 9,
   "id": "cd87e81c",
   "metadata": {},
   "outputs": [
    {
     "data": {
      "text/html": [
       "<div>\n",
       "<style scoped>\n",
       "    .dataframe tbody tr th:only-of-type {\n",
       "        vertical-align: middle;\n",
       "    }\n",
       "\n",
       "    .dataframe tbody tr th {\n",
       "        vertical-align: top;\n",
       "    }\n",
       "\n",
       "    .dataframe thead th {\n",
       "        text-align: right;\n",
       "    }\n",
       "</style>\n",
       "<table border=\"1\" class=\"dataframe\">\n",
       "  <thead>\n",
       "    <tr style=\"text-align: right;\">\n",
       "      <th></th>\n",
       "      <th>count</th>\n",
       "      <th>mean</th>\n",
       "      <th>std</th>\n",
       "      <th>min</th>\n",
       "      <th>25%</th>\n",
       "      <th>50%</th>\n",
       "      <th>75%</th>\n",
       "      <th>max</th>\n",
       "    </tr>\n",
       "  </thead>\n",
       "  <tbody>\n",
       "    <tr>\n",
       "      <th>House age</th>\n",
       "      <td>414.0</td>\n",
       "      <td>18.405072</td>\n",
       "      <td>11.757670</td>\n",
       "      <td>0.000000</td>\n",
       "      <td>9.900000</td>\n",
       "      <td>16.450000</td>\n",
       "      <td>30.375000</td>\n",
       "      <td>42.700000</td>\n",
       "    </tr>\n",
       "    <tr>\n",
       "      <th>Distance to the nearest MRT station</th>\n",
       "      <td>414.0</td>\n",
       "      <td>1064.468233</td>\n",
       "      <td>1196.749385</td>\n",
       "      <td>23.382840</td>\n",
       "      <td>289.324800</td>\n",
       "      <td>506.114400</td>\n",
       "      <td>1454.279000</td>\n",
       "      <td>6306.153000</td>\n",
       "    </tr>\n",
       "    <tr>\n",
       "      <th>Number of convenience stores</th>\n",
       "      <td>414.0</td>\n",
       "      <td>4.265700</td>\n",
       "      <td>2.880498</td>\n",
       "      <td>0.000000</td>\n",
       "      <td>2.000000</td>\n",
       "      <td>5.000000</td>\n",
       "      <td>6.750000</td>\n",
       "      <td>10.000000</td>\n",
       "    </tr>\n",
       "    <tr>\n",
       "      <th>Latitude</th>\n",
       "      <td>414.0</td>\n",
       "      <td>24.973605</td>\n",
       "      <td>0.024178</td>\n",
       "      <td>24.932075</td>\n",
       "      <td>24.952422</td>\n",
       "      <td>24.974353</td>\n",
       "      <td>24.994947</td>\n",
       "      <td>25.014578</td>\n",
       "    </tr>\n",
       "    <tr>\n",
       "      <th>Longitude</th>\n",
       "      <td>414.0</td>\n",
       "      <td>121.520268</td>\n",
       "      <td>0.026989</td>\n",
       "      <td>121.473888</td>\n",
       "      <td>121.496866</td>\n",
       "      <td>121.520912</td>\n",
       "      <td>121.544676</td>\n",
       "      <td>121.565321</td>\n",
       "    </tr>\n",
       "    <tr>\n",
       "      <th>House price of unit area</th>\n",
       "      <td>414.0</td>\n",
       "      <td>29.102149</td>\n",
       "      <td>15.750935</td>\n",
       "      <td>0.000000</td>\n",
       "      <td>18.422493</td>\n",
       "      <td>30.394070</td>\n",
       "      <td>40.615184</td>\n",
       "      <td>65.571716</td>\n",
       "    </tr>\n",
       "  </tbody>\n",
       "</table>\n",
       "</div>"
      ],
      "text/plain": [
       "                                     count         mean          std  \\\n",
       "House age                            414.0    18.405072    11.757670   \n",
       "Distance to the nearest MRT station  414.0  1064.468233  1196.749385   \n",
       "Number of convenience stores         414.0     4.265700     2.880498   \n",
       "Latitude                             414.0    24.973605     0.024178   \n",
       "Longitude                            414.0   121.520268     0.026989   \n",
       "House price of unit area             414.0    29.102149    15.750935   \n",
       "\n",
       "                                            min         25%         50%  \\\n",
       "House age                              0.000000    9.900000   16.450000   \n",
       "Distance to the nearest MRT station   23.382840  289.324800  506.114400   \n",
       "Number of convenience stores           0.000000    2.000000    5.000000   \n",
       "Latitude                              24.932075   24.952422   24.974353   \n",
       "Longitude                            121.473888  121.496866  121.520912   \n",
       "House price of unit area               0.000000   18.422493   30.394070   \n",
       "\n",
       "                                             75%          max  \n",
       "House age                              30.375000    42.700000  \n",
       "Distance to the nearest MRT station  1454.279000  6306.153000  \n",
       "Number of convenience stores            6.750000    10.000000  \n",
       "Latitude                               24.994947    25.014578  \n",
       "Longitude                             121.544676   121.565321  \n",
       "House price of unit area               40.615184    65.571716  "
      ]
     },
     "execution_count": 9,
     "metadata": {},
     "output_type": "execute_result"
    }
   ],
   "source": [
    "estate.describe().T"
   ]
  },
  {
   "cell_type": "code",
   "execution_count": 11,
   "id": "da6248e8",
   "metadata": {},
   "outputs": [
    {
     "data": {
      "text/plain": [
       "Transaction date                       414\n",
       "House age                              414\n",
       "Distance to the nearest MRT station    414\n",
       "Number of convenience stores           414\n",
       "Latitude                               414\n",
       "Longitude                              414\n",
       "House price of unit area               414\n",
       "dtype: int64"
      ]
     },
     "execution_count": 11,
     "metadata": {},
     "output_type": "execute_result"
    }
   ],
   "source": [
    "estate.count()"
   ]
  },
  {
   "cell_type": "code",
   "execution_count": 13,
   "id": "11bd7c29",
   "metadata": {},
   "outputs": [
    {
     "data": {
      "text/plain": [
       "Transaction date                       0\n",
       "House age                              0\n",
       "Distance to the nearest MRT station    0\n",
       "Number of convenience stores           0\n",
       "Latitude                               0\n",
       "Longitude                              0\n",
       "House price of unit area               0\n",
       "dtype: int64"
      ]
     },
     "execution_count": 13,
     "metadata": {},
     "output_type": "execute_result"
    }
   ],
   "source": [
    "estate.isnull().sum()"
   ]
  },
  {
   "cell_type": "code",
   "execution_count": null,
   "id": "ec6fe826",
   "metadata": {},
   "outputs": [],
   "source": [
    "#showing all numerical variables with histogram\n",
    "\n",
    "#the aesthetic style for the plot\n",
    "sns.set_style(\"whitegrid\")\n",
    "\n",
    "num_cols = estate.select_dtypes(include=[np.number])"
   ]
  }
 ],
 "metadata": {
  "kernelspec": {
   "display_name": "Python 3 (ipykernel)",
   "language": "python",
   "name": "python3"
  },
  "language_info": {
   "codemirror_mode": {
    "name": "ipython",
    "version": 3
   },
   "file_extension": ".py",
   "mimetype": "text/x-python",
   "name": "python",
   "nbconvert_exporter": "python",
   "pygments_lexer": "ipython3",
   "version": "3.9.12"
  }
 },
 "nbformat": 4,
 "nbformat_minor": 5
}
