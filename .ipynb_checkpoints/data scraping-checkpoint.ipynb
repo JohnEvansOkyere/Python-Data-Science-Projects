{
 "cells": [
  {
   "cell_type": "code",
   "execution_count": 12,
   "id": "5c0b68d5",
   "metadata": {},
   "outputs": [],
   "source": [
    "from bs4 import BeautifulSoup\n",
    "import requests\n",
    "import pandas as pd"
   ]
  },
  {
   "cell_type": "code",
   "execution_count": 16,
   "id": "be3ce605",
   "metadata": {},
   "outputs": [],
   "source": [
    "URL= \"https://www.amazon.com/deal/292b9704/?_encoding=UTF8&_encoding=UTF8&showVariations=true&ref_=dlx_gate_dd_dcl_tlt_292b9704_dt_pd_hp_d_atf_unk&pd_rd_w=IfQqF&content-id=amzn1.sym.71a3aa33-6478-4bef-92f0-b32d06566f5a&pf_rd_p=71a3aa33-6478-4bef-92f0-b32d06566f5a&pf_rd_r=P3YTBTHWSE7GYVFRSW31&pd_rd_wg=Nba7Q&pd_rd_r=de3dfcac-d590-4512-8ed1-109c640a9db6\""
   ]
  },
  {
   "cell_type": "code",
   "execution_count": 17,
   "id": "253e7451",
   "metadata": {},
   "outputs": [],
   "source": [
    "#headers for request\n",
    "\n",
    "HEADERS = ({'user_agent': 'https://explore.whatismybrowser.com/useragents/parse/?analyse-my-user-agent=yes', 'Accept-Language': 'en-US, en;0.5',} )"
   ]
  },
  {
   "cell_type": "code",
   "execution_count": 21,
   "id": "2fa8e559",
   "metadata": {},
   "outputs": [],
   "source": [
    "#http request\n",
    "\n",
    "webpage = requests.get(URL, headers = HEADERS)"
   ]
  },
  {
   "cell_type": "code",
   "execution_count": 23,
   "id": "6f300cb4",
   "metadata": {},
   "outputs": [
    {
     "data": {
      "text/plain": [
       "bytes"
      ]
     },
     "execution_count": 23,
     "metadata": {},
     "output_type": "execute_result"
    }
   ],
   "source": [
    "type(webpage.content)"
   ]
  },
  {
   "cell_type": "code",
   "execution_count": 24,
   "id": "6a197eea",
   "metadata": {},
   "outputs": [],
   "source": [
    "soup = BeautifulSoup(webpage.content, \"html.parser\")"
   ]
  },
  {
   "cell_type": "code",
   "execution_count": null,
   "id": "998d8426",
   "metadata": {},
   "outputs": [],
   "source": []
  }
 ],
 "metadata": {
  "kernelspec": {
   "display_name": "Python 3 (ipykernel)",
   "language": "python",
   "name": "python3"
  },
  "language_info": {
   "codemirror_mode": {
    "name": "ipython",
    "version": 3
   },
   "file_extension": ".py",
   "mimetype": "text/x-python",
   "name": "python",
   "nbconvert_exporter": "python",
   "pygments_lexer": "ipython3",
   "version": "3.9.12"
  }
 },
 "nbformat": 4,
 "nbformat_minor": 5
}
