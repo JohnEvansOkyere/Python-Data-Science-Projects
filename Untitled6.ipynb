{
 "cells": [
  {
   "cell_type": "code",
   "execution_count": 3,
   "id": "7cc010d6",
   "metadata": {},
   "outputs": [
    {
     "data": {
      "text/html": [
       "<div>\n",
       "<style scoped>\n",
       "    .dataframe tbody tr th:only-of-type {\n",
       "        vertical-align: middle;\n",
       "    }\n",
       "\n",
       "    .dataframe tbody tr th {\n",
       "        vertical-align: top;\n",
       "    }\n",
       "\n",
       "    .dataframe thead th {\n",
       "        text-align: right;\n",
       "    }\n",
       "</style>\n",
       "<table border=\"1\" class=\"dataframe\">\n",
       "  <thead>\n",
       "    <tr style=\"text-align: right;\">\n",
       "      <th></th>\n",
       "      <th>Names</th>\n",
       "      <th>Storage</th>\n",
       "      <th>Prices</th>\n",
       "      <th>Conditions</th>\n",
       "      <th>Cities</th>\n",
       "      <th>Areas</th>\n",
       "    </tr>\n",
       "  </thead>\n",
       "  <tbody>\n",
       "    <tr>\n",
       "      <th>1914</th>\n",
       "      <td>New Lenovo ThinkCentre M910 SFF 8GB Intel Core I3</td>\n",
       "      <td>SSD</td>\n",
       "      <td>1000</td>\n",
       "      <td>Brand New</td>\n",
       "      <td>Ashanti</td>\n",
       "      <td>Kumasi Metropolitan</td>\n",
       "    </tr>\n",
       "    <tr>\n",
       "      <th>1915</th>\n",
       "      <td>Desktop Computer Dell OptiPlex 790 4GB Intel C...</td>\n",
       "      <td>SSD</td>\n",
       "      <td>950</td>\n",
       "      <td>Used</td>\n",
       "      <td>Greater Accra</td>\n",
       "      <td>Lapaz</td>\n",
       "    </tr>\n",
       "    <tr>\n",
       "      <th>1916</th>\n",
       "      <td>Marvel Airslim // 70 Samsung Crystal UHD Smart...</td>\n",
       "      <td>4k</td>\n",
       "      <td>8999</td>\n",
       "      <td>Brand New</td>\n",
       "      <td>Greater Accra</td>\n",
       "      <td>Adjiriganor</td>\n",
       "    </tr>\n",
       "    <tr>\n",
       "      <th>1917</th>\n",
       "      <td>Laptop HP EliteBook 840 G5 16GB Intel Core I5</td>\n",
       "      <td>SSD</td>\n",
       "      <td>4000</td>\n",
       "      <td>Used</td>\n",
       "      <td>Greater Accra</td>\n",
       "      <td>Tema Metropolitan</td>\n",
       "    </tr>\n",
       "    <tr>\n",
       "      <th>1918</th>\n",
       "      <td>Samsung Laptop Charger</td>\n",
       "      <td>19v,</td>\n",
       "      <td>55</td>\n",
       "      <td>Brand New</td>\n",
       "      <td>Greater Accra</td>\n",
       "      <td>Circle</td>\n",
       "    </tr>\n",
       "  </tbody>\n",
       "</table>\n",
       "</div>"
      ],
      "text/plain": [
       "                                                  Names Storage  Prices  \\\n",
       "1914  New Lenovo ThinkCentre M910 SFF 8GB Intel Core I3     SSD    1000   \n",
       "1915  Desktop Computer Dell OptiPlex 790 4GB Intel C...     SSD     950   \n",
       "1916  Marvel Airslim // 70 Samsung Crystal UHD Smart...      4k    8999   \n",
       "1917      Laptop HP EliteBook 840 G5 16GB Intel Core I5     SSD    4000   \n",
       "1918                             Samsung Laptop Charger    19v,      55   \n",
       "\n",
       "     Conditions         Cities                Areas  \n",
       "1914  Brand New        Ashanti  Kumasi Metropolitan  \n",
       "1915       Used  Greater Accra                Lapaz  \n",
       "1916  Brand New  Greater Accra          Adjiriganor  \n",
       "1917       Used  Greater Accra    Tema Metropolitan  \n",
       "1918  Brand New  Greater Accra               Circle  "
      ]
     },
     "execution_count": 3,
     "metadata": {},
     "output_type": "execute_result"
    }
   ],
   "source": [
    "import pandas as pd\n",
    "\n",
    "data = pd.read_csv(\"laptop_listings.csv\")\n",
    "\n",
    "data.tail()"
   ]
  },
  {
   "cell_type": "code",
   "execution_count": null,
   "id": "d818cc66",
   "metadata": {},
   "outputs": [],
   "source": []
  }
 ],
 "metadata": {
  "kernelspec": {
   "display_name": "Python 3 (ipykernel)",
   "language": "python",
   "name": "python3"
  },
  "language_info": {
   "codemirror_mode": {
    "name": "ipython",
    "version": 3
   },
   "file_extension": ".py",
   "mimetype": "text/x-python",
   "name": "python",
   "nbconvert_exporter": "python",
   "pygments_lexer": "ipython3",
   "version": "3.9.12"
  }
 },
 "nbformat": 4,
 "nbformat_minor": 5
}
