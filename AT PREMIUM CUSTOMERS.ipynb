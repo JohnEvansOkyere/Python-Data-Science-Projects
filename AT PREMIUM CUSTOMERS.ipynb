{
 "cells": [
  {
   "cell_type": "code",
   "execution_count": 5,
   "id": "3d1b9a52",
   "metadata": {},
   "outputs": [
    {
     "name": "stdout",
     "output_type": "stream",
     "text": [
      "Requirement already satisfied: pandas in c:\\users\\grejoy\\anaconda3\\lib\\site-packages (2.2.2)\n",
      "Collecting pandas\n",
      "  Downloading pandas-2.2.3-cp39-cp39-win_amd64.whl.metadata (19 kB)\n",
      "Requirement already satisfied: numpy>=1.22.4 in c:\\users\\grejoy\\anaconda3\\lib\\site-packages (from pandas) (1.22.4)\n",
      "Requirement already satisfied: python-dateutil>=2.8.2 in c:\\users\\grejoy\\anaconda3\\lib\\site-packages (from pandas) (2.8.2)\n",
      "Requirement already satisfied: pytz>=2020.1 in c:\\users\\grejoy\\anaconda3\\lib\\site-packages (from pandas) (2021.3)\n",
      "Requirement already satisfied: tzdata>=2022.7 in c:\\users\\grejoy\\anaconda3\\lib\\site-packages (from pandas) (2024.1)\n",
      "Requirement already satisfied: six>=1.5 in c:\\users\\grejoy\\anaconda3\\lib\\site-packages (from python-dateutil>=2.8.2->pandas) (1.16.0)\n",
      "Downloading pandas-2.2.3-cp39-cp39-win_amd64.whl (11.6 MB)\n",
      "   ---------------------------------------- 11.6/11.6 MB 7.5 MB/s eta 0:00:00\n",
      "Installing collected packages: pandas\n",
      "  Attempting uninstall: pandas\n",
      "    Found existing installation: pandas 2.2.2\n",
      "    Uninstalling pandas-2.2.2:\n",
      "      Successfully uninstalled pandas-2.2.2\n",
      "Successfully installed pandas-2.2.3\n"
     ]
    },
    {
     "name": "stderr",
     "output_type": "stream",
     "text": [
      "  WARNING: Failed to remove contents in a temporary directory 'C:\\Users\\GREJOY\\anaconda3\\Lib\\site-packages\\~-ndas.libs'.\n",
      "  You can safely remove it manually.\n",
      "  WARNING: Failed to remove contents in a temporary directory 'C:\\Users\\GREJOY\\anaconda3\\Lib\\site-packages\\~-ndas'.\n",
      "  You can safely remove it manually.\n",
      "ERROR: pip's dependency resolver does not currently take into account all the packages that are installed. This behaviour is the source of the following dependency conflicts.\n",
      "streamlit 1.38.0 requires watchdog<5,>=2.1.5; platform_system != \"Darwin\", but you have watchdog 5.0.2 which is incompatible.\n",
      "\n",
      "[notice] A new release of pip is available: 24.2 -> 24.3.1\n",
      "[notice] To update, run: python.exe -m pip install --upgrade pip\n"
     ]
    }
   ],
   "source": [
    "!pip install --upgrade pandas"
   ]
  },
  {
   "cell_type": "code",
   "execution_count": 6,
   "id": "8114dac4",
   "metadata": {},
   "outputs": [],
   "source": [
    "import pandas as pd\n",
    "import numpy as np"
   ]
  },
  {
   "cell_type": "code",
   "execution_count": 36,
   "id": "74432352",
   "metadata": {},
   "outputs": [
    {
     "name": "stdout",
     "output_type": "stream",
     "text": [
      "Common Contacts:\n",
      "            phone               Full_Name\n",
      "0    233577959595      Eustace Akyeampong\n",
      "1    233577398752               nana osei\n",
      "2    233266222119      Benjamin Baah-Djan\n",
      "3    233276105842             Benny Randy\n",
      "4    233270653429  Kinnie Asiamah-Johnson\n",
      "..            ...                     ...\n",
      "318  233575690285             Gina Yeboah\n",
      "319  233261648848               Ama Quist\n",
      "320  233560117064            Joanita Adum\n",
      "321  233571977765             Rachel Osae\n",
      "322  233269347529           Jennifer Karl\n",
      "\n",
      "[323 rows x 2 columns]\n"
     ]
    }
   ],
   "source": [
    "import pandas as pd\n",
    "\n",
    "\n",
    "#September \n",
    "\n",
    "# Load data\n",
    "tigo = pd.read_csv('SEPTEMBER_LIST.csv')\n",
    "shaq = pd.read_csv('SEPTEMBER_SHAQ.csv') \n",
    "\n",
    "# Removing the + \n",
    "tigo['phone'] = tigo['phone'].str.lstrip('+')\n",
    "\n",
    "# Converting to string\n",
    "tigo['phone'] = tigo['phone'].astype(str)\n",
    "shaq['phone'] = shaq['phone'].astype(str)\n",
    "\n",
    "# Find common contacts\n",
    "common_contacts = pd.merge(tigo, shaq, on='phone')\n",
    "\n",
    "# Display or save the results\n",
    "print(\"Common Contacts:\")\n",
    "print(common_contacts)\n",
    "\n",
    "#  save the results to a new CSV file\n",
    "# common_contacts.to_csv('September_contacts.csv', index=False)\n"
   ]
  },
  {
   "cell_type": "code",
   "execution_count": 20,
   "id": "003ef6ec",
   "metadata": {},
   "outputs": [],
   "source": []
  },
  {
   "cell_type": "code",
   "execution_count": 43,
   "id": "74a58e80",
   "metadata": {},
   "outputs": [],
   "source": [
    "#July\n",
    "\n",
    "j_shaq = pd.read_csv('July_SHAQ.csv')\n",
    "j_tigo = pd.read_csv('JULY_TIGO.csv')\n",
    "\n",
    "j_shaq['phone'] = j_shaq['phone'].astype(str)\n",
    "j_tigo['phone'] = j_tigo['phone'].astype(str)\n",
    "\n",
    "\n",
    "\n",
    "j_cont = pd.merge(j_shaq, j_tigo, on='phone')\n",
    "\n",
    "j_cont\n",
    "j_cont.to_csv('july_FULL_contacts.csv' ,index = False )"
   ]
  },
  {
   "cell_type": "code",
   "execution_count": 35,
   "id": "671c5c74",
   "metadata": {},
   "outputs": [],
   "source": [
    "#August\n",
    "\n",
    "a_shaq = pd.read_csv('Aug_SHAQ.csv')\n",
    "a_tigo = pd.read_csv('aug_tigo.csv')\n",
    "\n",
    "a_shaq['phone'] = a_shaq['phone'].astype(str)\n",
    "a_tigo['phone'] = a_tigo['phone'].astype(str)\n",
    "\n",
    "\n",
    "\n",
    "a_cont = pd.merge(a_shaq, a_tigo, on='phone')\n",
    "\n",
    "a_cont\n",
    "a_cont.to_csv('august_contacts.csv', index = False )\n",
    "\n",
    "\n"
   ]
  },
  {
   "cell_type": "code",
   "execution_count": null,
   "id": "4ddbc53f",
   "metadata": {},
   "outputs": [],
   "source": []
  }
 ],
 "metadata": {
  "kernelspec": {
   "display_name": "Python 3 (ipykernel)",
   "language": "python",
   "name": "python3"
  },
  "language_info": {
   "codemirror_mode": {
    "name": "ipython",
    "version": 3
   },
   "file_extension": ".py",
   "mimetype": "text/x-python",
   "name": "python",
   "nbconvert_exporter": "python",
   "pygments_lexer": "ipython3",
   "version": "3.9.12"
  }
 },
 "nbformat": 4,
 "nbformat_minor": 5
}
